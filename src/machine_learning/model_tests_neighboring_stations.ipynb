{
 "cells": [
  {
   "attachments": {},
   "cell_type": "markdown",
   "metadata": {},
   "source": [
    "### Model training runs for testing models trained with two neighboring stations\n",
    "\n",
    "The results can be found [here](https://app.neptune.ai/o/data-mining-team2/org/model-tests/runs/details?viewId=995f0563-1e7a-4513-b399-85c5addd3334)\n"
   ]
  },
  {
   "cell_type": "code",
   "execution_count": 1,
   "metadata": {},
   "outputs": [],
   "source": [
    "import tensorflow as tf\n",
    "\n",
    "\n",
    "import neptune\n",
    "from neptune.integrations.tensorflow_keras import NeptuneCallback\n",
    "\n",
    "import os\n",
    "\n",
    "import numpy as np\n",
    "import pandas as pd\n",
    "from window_generator import WindowGenerator\n",
    "\n",
    "from run_automation_utils import Params, init_model\n",
    "\n",
    "from typing import Dict\n"
   ]
  },
  {
   "cell_type": "code",
   "execution_count": 2,
   "metadata": {},
   "outputs": [],
   "source": [
    "def prep_window_generator(station_id, second_station_id=None):\n",
    "    df = pd.read_feather(f\"../../data/pollution/processed/interpolated/pm10/{station_id}.feather\")\n",
    "    df.set_index(\"timestamp\", inplace=True)\n",
    "\n",
    "    if second_station_id is not None:\n",
    "        df2 = pd.read_feather(f\"../../data/pollution/processed/interpolated/pm10/{second_station_id}.feather\")\n",
    "        df2.set_index(\"timestamp\", inplace=True)\n",
    "        df = pd.concat([df, df2])\n",
    "\n",
    "    timestamp_s = df.index.map(pd.Timestamp.timestamp)\n",
    "\n",
    "    day = 24 * 60 * 60\n",
    "    year = (365.2425) * day\n",
    "\n",
    "    df[\"Day sin\"] = np.sin(timestamp_s * (2 * np.pi / day))\n",
    "    df[\"Day cos\"] = np.cos(timestamp_s * (2 * np.pi / day))\n",
    "    df[\"Year sin\"] = np.sin(timestamp_s * (2 * np.pi / year))\n",
    "    df[\"Year cos\"] = np.cos(timestamp_s * (2 * np.pi / year))\n",
    "    df.reset_index(inplace=True)\n",
    "\n",
    "    # Convert to radians.\n",
    "    wd_rad = df.pop(\"winddirection_10m\") * np.pi / 180\n",
    "    df[\"winddirection_10m_sin\"] = np.sin(wd_rad)\n",
    "    df[\"winddirection_10m_cos\"] = np.cos(wd_rad)\n",
    "\n",
    "    return WindowGenerator(input_width=24 * 7, label_width=24, df=df.copy(), label_columns=[\"pm10\"])\n"
   ]
  },
  {
   "cell_type": "code",
   "execution_count": 3,
   "metadata": {},
   "outputs": [],
   "source": [
    "window_generator_530 = prep_window_generator(530)\n",
    "window_generator_538 = prep_window_generator(538)\n",
    "window_generator_530_538 = prep_window_generator(530, 538)\n"
   ]
  },
  {
   "cell_type": "code",
   "execution_count": 4,
   "metadata": {},
   "outputs": [],
   "source": [
    "run_params: Dict[str, Params] = {}\n",
    "run_params[\"station_530_with_lambda\"] = Params(window_generator_530, lstm_layer_count=2, lstm_sizes=[64, 64])\n",
    "run_params[\"station_538_with_lambda\"] = Params(window_generator_538, lstm_layer_count=2, lstm_sizes=[64, 64])\n",
    "run_params[\"station_530_and_538_with_lambda\"] = Params(\n",
    "    window_generator_530_538, lstm_layer_count=2, lstm_sizes=[64, 64]\n",
    ")\n"
   ]
  },
  {
   "cell_type": "code",
   "execution_count": 5,
   "metadata": {},
   "outputs": [],
   "source": [
    "import logging\n",
    "\n",
    "logger = logging.getLogger(\"run_logger\")\n",
    "fileHandler = logging.FileHandler(\"run.logs.txt\")\n",
    "logger.addHandler(fileHandler)\n"
   ]
  },
  {
   "cell_type": "code",
   "execution_count": 6,
   "metadata": {},
   "outputs": [
    {
     "name": "stderr",
     "output_type": "stream",
     "text": [
      "e:\\FHBielefeld\\Master\\DataMining\\feinstaubprojekt-polen\\.env\\lib\\site-packages\\neptune\\common\\warnings.py:62: NeptuneWarning: To avoid unintended consumption of logging hours during interactive sessions, the following monitoring options are disabled unless set to 'True' when initializing the run: 'capture_stdout', 'capture_stderr', and 'capture_hardware_metrics'.\n",
      "  warnings.warn(\n"
     ]
    },
    {
     "name": "stdout",
     "output_type": "stream",
     "text": [
      "https://app.neptune.ai/data-mining-team2/model-tests/e/MOD-11\n",
      "Epoch 1/50\n"
     ]
    },
    {
     "name": "stderr",
     "output_type": "stream",
     "text": [
      "e:\\FHBielefeld\\Master\\DataMining\\feinstaubprojekt-polen\\.env\\lib\\site-packages\\neptune\\common\\warnings.py:62: NeptuneUnsupportedType: You're attempting to log a type that is not directly supported by Neptune (<class 'window_generator.WindowGenerator'>).\n",
      "        Convert the value to a supported type, such as a string or float, or use stringify_unsupported(obj)\n",
      "        for dictionaries or collections that contain unsupported values.\n",
      "        For more, see https://docs.neptune.ai/help/value_of_unsupported_type\n",
      "  warnings.warn(\n"
     ]
    },
    {
     "name": "stdout",
     "output_type": "stream",
     "text": [
      "707/707 [==============================] - 12s 11ms/step - loss: 504.2591 - mean_absolute_error: 14.6754 - val_loss: 413.0365 - val_mean_absolute_error: 13.4832\n",
      "Epoch 2/50\n",
      "707/707 [==============================] - 7s 10ms/step - loss: 415.9999 - mean_absolute_error: 13.1960 - val_loss: 407.2528 - val_mean_absolute_error: 13.3157\n",
      "Epoch 3/50\n",
      "707/707 [==============================] - 7s 10ms/step - loss: 415.6514 - mean_absolute_error: 13.1733 - val_loss: 401.9151 - val_mean_absolute_error: 13.0482\n",
      "Epoch 4/50\n",
      "707/707 [==============================] - 7s 10ms/step - loss: 409.0658 - mean_absolute_error: 13.0411 - val_loss: 401.8313 - val_mean_absolute_error: 13.3793\n",
      "Epoch 5/50\n",
      "707/707 [==============================] - 7s 10ms/step - loss: 403.4806 - mean_absolute_error: 12.9401 - val_loss: 395.5782 - val_mean_absolute_error: 13.0913\n",
      "Epoch 6/50\n",
      "707/707 [==============================] - 7s 10ms/step - loss: 398.3820 - mean_absolute_error: 12.8355 - val_loss: 385.7459 - val_mean_absolute_error: 12.8716\n",
      "Epoch 7/50\n",
      "707/707 [==============================] - 7s 10ms/step - loss: 391.2190 - mean_absolute_error: 12.6959 - val_loss: 382.1130 - val_mean_absolute_error: 12.6425\n",
      "Epoch 8/50\n",
      "707/707 [==============================] - 7s 10ms/step - loss: 383.0024 - mean_absolute_error: 12.5477 - val_loss: 384.6624 - val_mean_absolute_error: 12.8623\n",
      "Epoch 9/50\n",
      "707/707 [==============================] - 7s 10ms/step - loss: 379.4087 - mean_absolute_error: 12.4803 - val_loss: 383.3677 - val_mean_absolute_error: 12.9643\n",
      "Epoch 10/50\n",
      "707/707 [==============================] - 7s 10ms/step - loss: 372.8923 - mean_absolute_error: 12.3753 - val_loss: 385.3873 - val_mean_absolute_error: 13.2053\n",
      "Epoch 11/50\n",
      "707/707 [==============================] - 7s 10ms/step - loss: 366.7043 - mean_absolute_error: 12.2714 - val_loss: 371.3008 - val_mean_absolute_error: 12.3603\n",
      "Epoch 12/50\n",
      "707/707 [==============================] - 7s 10ms/step - loss: 361.7993 - mean_absolute_error: 12.1809 - val_loss: 371.0907 - val_mean_absolute_error: 12.3819\n",
      "Epoch 13/50\n",
      "707/707 [==============================] - 7s 10ms/step - loss: 356.0541 - mean_absolute_error: 12.0953 - val_loss: 363.8064 - val_mean_absolute_error: 12.1671\n",
      "Epoch 14/50\n",
      "707/707 [==============================] - 8s 12ms/step - loss: 350.9102 - mean_absolute_error: 11.9964 - val_loss: 361.2855 - val_mean_absolute_error: 12.3732\n",
      "Epoch 15/50\n",
      "707/707 [==============================] - 8s 11ms/step - loss: 344.8936 - mean_absolute_error: 11.8920 - val_loss: 355.6543 - val_mean_absolute_error: 12.4157\n",
      "Epoch 16/50\n",
      "707/707 [==============================] - 9s 13ms/step - loss: 341.1425 - mean_absolute_error: 11.8299 - val_loss: 386.4405 - val_mean_absolute_error: 13.1910\n",
      "Epoch 17/50\n",
      "707/707 [==============================] - 7s 10ms/step - loss: 334.5497 - mean_absolute_error: 11.7129 - val_loss: 352.4990 - val_mean_absolute_error: 12.2882\n",
      "Epoch 18/50\n",
      "707/707 [==============================] - 7s 10ms/step - loss: 328.9178 - mean_absolute_error: 11.6088 - val_loss: 354.5119 - val_mean_absolute_error: 12.3814\n",
      "Epoch 19/50\n",
      "707/707 [==============================] - 7s 10ms/step - loss: 324.9480 - mean_absolute_error: 11.5421 - val_loss: 343.1896 - val_mean_absolute_error: 11.8277\n",
      "Epoch 20/50\n",
      "707/707 [==============================] - 7s 10ms/step - loss: 317.3259 - mean_absolute_error: 11.4059 - val_loss: 337.6459 - val_mean_absolute_error: 11.8221\n",
      "Epoch 21/50\n",
      "707/707 [==============================] - 7s 10ms/step - loss: 311.1530 - mean_absolute_error: 11.2993 - val_loss: 336.8673 - val_mean_absolute_error: 11.7653\n",
      "Epoch 22/50\n",
      "707/707 [==============================] - 7s 10ms/step - loss: 307.2475 - mean_absolute_error: 11.2203 - val_loss: 344.3818 - val_mean_absolute_error: 11.8482\n",
      "Epoch 23/50\n",
      "707/707 [==============================] - 8s 11ms/step - loss: 302.1665 - mean_absolute_error: 11.1201 - val_loss: 334.5173 - val_mean_absolute_error: 11.5218\n",
      "Epoch 24/50\n",
      "707/707 [==============================] - 7s 11ms/step - loss: 296.4345 - mean_absolute_error: 11.0114 - val_loss: 347.9420 - val_mean_absolute_error: 11.8163\n",
      "Epoch 25/50\n",
      "707/707 [==============================] - 8s 11ms/step - loss: 294.6424 - mean_absolute_error: 10.9744 - val_loss: 337.6206 - val_mean_absolute_error: 11.6923\n",
      "Epoch 26/50\n",
      "707/707 [==============================] - 7s 10ms/step - loss: 285.7448 - mean_absolute_error: 10.8056 - val_loss: 339.4504 - val_mean_absolute_error: 11.7381\n",
      "Epoch 27/50\n",
      "707/707 [==============================] - 7s 10ms/step - loss: 278.7175 - mean_absolute_error: 10.6735 - val_loss: 321.1603 - val_mean_absolute_error: 11.4747\n",
      "Epoch 28/50\n",
      "707/707 [==============================] - 7s 10ms/step - loss: 268.6830 - mean_absolute_error: 10.4815 - val_loss: 308.1522 - val_mean_absolute_error: 11.2475\n",
      "Epoch 29/50\n",
      "707/707 [==============================] - 8s 11ms/step - loss: 266.0422 - mean_absolute_error: 10.4143 - val_loss: 307.9632 - val_mean_absolute_error: 11.1106\n",
      "Epoch 30/50\n",
      "707/707 [==============================] - 7s 11ms/step - loss: 261.8129 - mean_absolute_error: 10.3165 - val_loss: 306.0194 - val_mean_absolute_error: 11.2073\n",
      "Epoch 31/50\n",
      "707/707 [==============================] - 7s 10ms/step - loss: 255.0775 - mean_absolute_error: 10.1966 - val_loss: 323.1512 - val_mean_absolute_error: 11.3102\n",
      "Epoch 32/50\n",
      "707/707 [==============================] - 7s 10ms/step - loss: 250.3241 - mean_absolute_error: 10.0896 - val_loss: 332.0468 - val_mean_absolute_error: 11.5958\n",
      "Epoch 33/50\n",
      "707/707 [==============================] - 7s 10ms/step - loss: 243.7223 - mean_absolute_error: 9.9614 - val_loss: 345.1301 - val_mean_absolute_error: 11.5315\n",
      "Epoch 34/50\n",
      "707/707 [==============================] - 7s 10ms/step - loss: 249.3960 - mean_absolute_error: 10.0542 - val_loss: 308.7464 - val_mean_absolute_error: 11.0940\n",
      "Epoch 35/50\n",
      "707/707 [==============================] - 7s 10ms/step - loss: 236.9170 - mean_absolute_error: 9.8134 - val_loss: 292.5391 - val_mean_absolute_error: 11.0986\n",
      "Epoch 36/50\n",
      "707/707 [==============================] - 7s 10ms/step - loss: 234.7156 - mean_absolute_error: 9.7568 - val_loss: 299.6829 - val_mean_absolute_error: 11.0157\n",
      "Epoch 37/50\n",
      "707/707 [==============================] - 7s 10ms/step - loss: 231.6338 - mean_absolute_error: 9.6819 - val_loss: 298.6945 - val_mean_absolute_error: 10.9820\n",
      "Epoch 38/50\n",
      "707/707 [==============================] - 8s 11ms/step - loss: 229.0060 - mean_absolute_error: 9.6218 - val_loss: 284.6549 - val_mean_absolute_error: 10.8589\n",
      "Epoch 39/50\n",
      "707/707 [==============================] - 7s 10ms/step - loss: 225.6749 - mean_absolute_error: 9.5558 - val_loss: 276.0457 - val_mean_absolute_error: 10.7620\n",
      "Epoch 40/50\n",
      "707/707 [==============================] - 7s 10ms/step - loss: 224.5141 - mean_absolute_error: 9.5187 - val_loss: 281.2955 - val_mean_absolute_error: 10.7528\n",
      "Epoch 41/50\n",
      "707/707 [==============================] - 7s 10ms/step - loss: 222.1475 - mean_absolute_error: 9.4602 - val_loss: 300.5103 - val_mean_absolute_error: 11.1605\n",
      "Epoch 42/50\n",
      "707/707 [==============================] - 7s 10ms/step - loss: 218.8970 - mean_absolute_error: 9.3735 - val_loss: 283.1635 - val_mean_absolute_error: 10.7790\n",
      "Epoch 43/50\n",
      "707/707 [==============================] - 7s 10ms/step - loss: 215.2554 - mean_absolute_error: 9.3037 - val_loss: 274.1917 - val_mean_absolute_error: 10.5980\n",
      "Epoch 44/50\n",
      "707/707 [==============================] - 7s 10ms/step - loss: 212.6181 - mean_absolute_error: 9.2377 - val_loss: 277.8690 - val_mean_absolute_error: 10.7576\n",
      "Epoch 45/50\n",
      "707/707 [==============================] - 7s 10ms/step - loss: 210.3269 - mean_absolute_error: 9.2009 - val_loss: 270.5088 - val_mean_absolute_error: 10.4445\n",
      "Epoch 46/50\n",
      "707/707 [==============================] - 7s 10ms/step - loss: 205.9949 - mean_absolute_error: 9.1030 - val_loss: 269.6631 - val_mean_absolute_error: 10.5068\n",
      "Epoch 47/50\n",
      "707/707 [==============================] - 7s 10ms/step - loss: 202.8161 - mean_absolute_error: 9.0167 - val_loss: 277.1912 - val_mean_absolute_error: 10.7065\n",
      "Epoch 48/50\n",
      "707/707 [==============================] - 7s 10ms/step - loss: 207.3664 - mean_absolute_error: 9.1200 - val_loss: 275.7170 - val_mean_absolute_error: 10.6371\n",
      "Epoch 49/50\n",
      "707/707 [==============================] - 7s 10ms/step - loss: 201.6338 - mean_absolute_error: 8.9932 - val_loss: 270.3959 - val_mean_absolute_error: 10.4727\n",
      "Epoch 50/50\n",
      "707/707 [==============================] - 7s 10ms/step - loss: 200.0242 - mean_absolute_error: 8.9466 - val_loss: 262.1064 - val_mean_absolute_error: 10.3389\n"
     ]
    },
    {
     "name": "stderr",
     "output_type": "stream",
     "text": [
      "WARNING:absl:Found untraced functions such as _jit_compiled_convolution_op, _jit_compiled_convolution_op, _jit_compiled_convolution_op, lstm_cell_layer_call_fn, lstm_cell_layer_call_and_return_conditional_losses while saving (showing 5 of 7). These functions will not be directly callable after loading.\n"
     ]
    },
    {
     "name": "stdout",
     "output_type": "stream",
     "text": [
      "INFO:tensorflow:Assets written to: ../models/cnn_lstm_7days_history_1days_pred_50_epochs_2lstm-layer_64,64_dropout-0-4_3\\assets\n"
     ]
    },
    {
     "name": "stderr",
     "output_type": "stream",
     "text": [
      "INFO:tensorflow:Assets written to: ../models/cnn_lstm_7days_history_1days_pred_50_epochs_2lstm-layer_64,64_dropout-0-4_3\\assets\n"
     ]
    },
    {
     "name": "stdout",
     "output_type": "stream",
     "text": [
      "Epoch 1/50\n",
      "707/707 [==============================] - 7s 10ms/step - loss: 198.0040 - mean_absolute_error: 8.9158 - val_loss: 263.3414 - val_mean_absolute_error: 10.4391\n",
      "Epoch 2/50\n",
      "707/707 [==============================] - 7s 10ms/step - loss: 195.2106 - mean_absolute_error: 8.8596 - val_loss: 262.6725 - val_mean_absolute_error: 10.3989\n",
      "Epoch 3/50\n",
      "707/707 [==============================] - 7s 10ms/step - loss: 190.5342 - mean_absolute_error: 8.7482 - val_loss: 269.1113 - val_mean_absolute_error: 10.4856\n",
      "Epoch 4/50\n",
      "707/707 [==============================] - 7s 10ms/step - loss: 190.3563 - mean_absolute_error: 8.7447 - val_loss: 264.7382 - val_mean_absolute_error: 10.3682\n",
      "Epoch 5/50\n",
      "707/707 [==============================] - 7s 10ms/step - loss: 193.2057 - mean_absolute_error: 8.8083 - val_loss: 259.5343 - val_mean_absolute_error: 10.3285\n",
      "Epoch 6/50\n",
      "707/707 [==============================] - 7s 10ms/step - loss: 188.2024 - mean_absolute_error: 8.6723 - val_loss: 262.9591 - val_mean_absolute_error: 10.3846\n",
      "Epoch 7/50\n",
      "707/707 [==============================] - 7s 10ms/step - loss: 188.0730 - mean_absolute_error: 8.6692 - val_loss: 265.5826 - val_mean_absolute_error: 10.4464\n",
      "Epoch 8/50\n",
      "707/707 [==============================] - 7s 10ms/step - loss: 185.2451 - mean_absolute_error: 8.6173 - val_loss: 257.9354 - val_mean_absolute_error: 10.2988\n",
      "Epoch 9/50\n",
      "707/707 [==============================] - 7s 10ms/step - loss: 183.5756 - mean_absolute_error: 8.5629 - val_loss: 267.9314 - val_mean_absolute_error: 10.4039\n",
      "Epoch 10/50\n",
      "707/707 [==============================] - 7s 11ms/step - loss: 183.0461 - mean_absolute_error: 8.5412 - val_loss: 257.0682 - val_mean_absolute_error: 10.2319\n",
      "Epoch 11/50\n",
      "707/707 [==============================] - 7s 11ms/step - loss: 181.3668 - mean_absolute_error: 8.5071 - val_loss: 260.8011 - val_mean_absolute_error: 10.3139\n",
      "Epoch 12/50\n",
      "707/707 [==============================] - 7s 11ms/step - loss: 181.7536 - mean_absolute_error: 8.5168 - val_loss: 261.3089 - val_mean_absolute_error: 10.3477\n",
      "Epoch 13/50\n",
      "707/707 [==============================] - 7s 11ms/step - loss: 177.6346 - mean_absolute_error: 8.4183 - val_loss: 249.6757 - val_mean_absolute_error: 10.1038\n",
      "Epoch 14/50\n",
      "707/707 [==============================] - 7s 11ms/step - loss: 174.6445 - mean_absolute_error: 8.3457 - val_loss: 249.1894 - val_mean_absolute_error: 10.0937\n",
      "Epoch 15/50\n",
      "707/707 [==============================] - 7s 10ms/step - loss: 174.3490 - mean_absolute_error: 8.3366 - val_loss: 254.0936 - val_mean_absolute_error: 10.2702\n",
      "Epoch 16/50\n",
      "707/707 [==============================] - 7s 10ms/step - loss: 173.6844 - mean_absolute_error: 8.3343 - val_loss: 261.3246 - val_mean_absolute_error: 10.5298\n",
      "Epoch 17/50\n",
      "707/707 [==============================] - 8s 11ms/step - loss: 172.7916 - mean_absolute_error: 8.3122 - val_loss: 250.5362 - val_mean_absolute_error: 10.1164\n",
      "Epoch 18/50\n",
      "707/707 [==============================] - 8s 11ms/step - loss: 171.0158 - mean_absolute_error: 8.2606 - val_loss: 258.0439 - val_mean_absolute_error: 10.3772\n",
      "Epoch 19/50\n",
      "707/707 [==============================] - 7s 11ms/step - loss: 170.2471 - mean_absolute_error: 8.2563 - val_loss: 250.8982 - val_mean_absolute_error: 10.0992\n",
      "Epoch 20/50\n",
      "707/707 [==============================] - 7s 10ms/step - loss: 168.9565 - mean_absolute_error: 8.2238 - val_loss: 255.7962 - val_mean_absolute_error: 10.3247\n",
      "Epoch 21/50\n",
      "707/707 [==============================] - 7s 10ms/step - loss: 166.7338 - mean_absolute_error: 8.1620 - val_loss: 243.1076 - val_mean_absolute_error: 9.9676\n",
      "Epoch 22/50\n",
      "707/707 [==============================] - 7s 10ms/step - loss: 164.9864 - mean_absolute_error: 8.1191 - val_loss: 244.0563 - val_mean_absolute_error: 10.0467\n",
      "Epoch 23/50\n",
      "707/707 [==============================] - 7s 10ms/step - loss: 166.7248 - mean_absolute_error: 8.1666 - val_loss: 252.2977 - val_mean_absolute_error: 10.2034\n",
      "Epoch 24/50\n",
      "707/707 [==============================] - 7s 10ms/step - loss: 167.7147 - mean_absolute_error: 8.2091 - val_loss: 244.1346 - val_mean_absolute_error: 10.0569\n",
      "Epoch 25/50\n",
      "707/707 [==============================] - 7s 11ms/step - loss: 161.6285 - mean_absolute_error: 8.0371 - val_loss: 245.7217 - val_mean_absolute_error: 10.0943\n",
      "Epoch 26/50\n",
      "707/707 [==============================] - 7s 10ms/step - loss: 159.5571 - mean_absolute_error: 7.9832 - val_loss: 246.0656 - val_mean_absolute_error: 10.1106\n",
      "Epoch 27/50\n",
      "707/707 [==============================] - 8s 11ms/step - loss: 157.6493 - mean_absolute_error: 7.9371 - val_loss: 247.0405 - val_mean_absolute_error: 10.1319\n",
      "Epoch 28/50\n",
      "707/707 [==============================] - 7s 11ms/step - loss: 156.5840 - mean_absolute_error: 7.9153 - val_loss: 250.3440 - val_mean_absolute_error: 10.2048\n",
      "Epoch 29/50\n",
      "707/707 [==============================] - 7s 11ms/step - loss: 156.8605 - mean_absolute_error: 7.9200 - val_loss: 244.3886 - val_mean_absolute_error: 10.0430\n",
      "Epoch 30/50\n",
      "707/707 [==============================] - 7s 10ms/step - loss: 158.2429 - mean_absolute_error: 7.9611 - val_loss: 243.7404 - val_mean_absolute_error: 10.0412\n",
      "Epoch 31/50\n",
      "707/707 [==============================] - 7s 10ms/step - loss: 160.0833 - mean_absolute_error: 7.9916 - val_loss: 246.6672 - val_mean_absolute_error: 10.0857\n",
      "Epoch 32/50\n",
      "707/707 [==============================] - 8s 11ms/step - loss: 155.0294 - mean_absolute_error: 7.8711 - val_loss: 242.0399 - val_mean_absolute_error: 10.0037\n",
      "Epoch 33/50\n",
      "707/707 [==============================] - 7s 11ms/step - loss: 152.1237 - mean_absolute_error: 7.7987 - val_loss: 243.5213 - val_mean_absolute_error: 10.0748\n",
      "Epoch 34/50\n",
      "707/707 [==============================] - 7s 11ms/step - loss: 152.1480 - mean_absolute_error: 7.7920 - val_loss: 236.1571 - val_mean_absolute_error: 9.9160\n",
      "Epoch 35/50\n",
      "707/707 [==============================] - 7s 11ms/step - loss: 149.5763 - mean_absolute_error: 7.7325 - val_loss: 255.5929 - val_mean_absolute_error: 10.3823\n",
      "Epoch 36/50\n",
      "707/707 [==============================] - 7s 10ms/step - loss: 154.2613 - mean_absolute_error: 7.8530 - val_loss: 244.1852 - val_mean_absolute_error: 10.0206\n",
      "Epoch 37/50\n",
      "707/707 [==============================] - 7s 10ms/step - loss: 154.8337 - mean_absolute_error: 7.8595 - val_loss: 236.4909 - val_mean_absolute_error: 9.9409\n",
      "Epoch 38/50\n",
      "707/707 [==============================] - 7s 10ms/step - loss: 146.4966 - mean_absolute_error: 7.6427 - val_loss: 236.9801 - val_mean_absolute_error: 9.8964\n",
      "Epoch 39/50\n",
      "707/707 [==============================] - 7s 10ms/step - loss: 145.1460 - mean_absolute_error: 7.6059 - val_loss: 232.6445 - val_mean_absolute_error: 9.8045\n",
      "Epoch 40/50\n",
      "707/707 [==============================] - 7s 10ms/step - loss: 144.9076 - mean_absolute_error: 7.6102 - val_loss: 236.4050 - val_mean_absolute_error: 9.9333\n",
      "Epoch 41/50\n",
      "707/707 [==============================] - 7s 10ms/step - loss: 144.1378 - mean_absolute_error: 7.5860 - val_loss: 237.5038 - val_mean_absolute_error: 9.9468\n",
      "Epoch 42/50\n",
      "707/707 [==============================] - 7s 10ms/step - loss: 146.1615 - mean_absolute_error: 7.6433 - val_loss: 243.3138 - val_mean_absolute_error: 9.9636\n",
      "Epoch 43/50\n",
      "707/707 [==============================] - 7s 10ms/step - loss: 144.0785 - mean_absolute_error: 7.5931 - val_loss: 241.0647 - val_mean_absolute_error: 10.0460\n",
      "Epoch 44/50\n",
      "707/707 [==============================] - 7s 11ms/step - loss: 140.5549 - mean_absolute_error: 7.4934 - val_loss: 240.3661 - val_mean_absolute_error: 9.9227\n",
      "Epoch 45/50\n",
      "707/707 [==============================] - 7s 10ms/step - loss: 142.7245 - mean_absolute_error: 7.5558 - val_loss: 244.0826 - val_mean_absolute_error: 10.0582\n",
      "Epoch 46/50\n",
      "707/707 [==============================] - 7s 10ms/step - loss: 146.7934 - mean_absolute_error: 7.6737 - val_loss: 232.7716 - val_mean_absolute_error: 9.8448\n",
      "Epoch 47/50\n",
      "707/707 [==============================] - 7s 10ms/step - loss: 140.6745 - mean_absolute_error: 7.5010 - val_loss: 252.3228 - val_mean_absolute_error: 10.2069\n",
      "Epoch 48/50\n",
      "707/707 [==============================] - 7s 10ms/step - loss: 141.2486 - mean_absolute_error: 7.5198 - val_loss: 237.6290 - val_mean_absolute_error: 9.9720\n",
      "Epoch 49/50\n",
      "707/707 [==============================] - 7s 10ms/step - loss: 139.3744 - mean_absolute_error: 7.4737 - val_loss: 229.9917 - val_mean_absolute_error: 9.7814\n",
      "Epoch 50/50\n",
      "707/707 [==============================] - 7s 10ms/step - loss: 137.2742 - mean_absolute_error: 7.3948 - val_loss: 232.3569 - val_mean_absolute_error: 9.7768\n"
     ]
    },
    {
     "name": "stderr",
     "output_type": "stream",
     "text": [
      "WARNING:absl:Found untraced functions such as _jit_compiled_convolution_op, _jit_compiled_convolution_op, _jit_compiled_convolution_op, lstm_cell_layer_call_fn, lstm_cell_layer_call_and_return_conditional_losses while saving (showing 5 of 7). These functions will not be directly callable after loading.\n"
     ]
    },
    {
     "name": "stdout",
     "output_type": "stream",
     "text": [
      "INFO:tensorflow:Assets written to: ../models/cnn_lstm_7days_history_1days_pred_100_epochs_2lstm-layer_64,64_dropout-0-4_3\\assets\n"
     ]
    },
    {
     "name": "stderr",
     "output_type": "stream",
     "text": [
      "INFO:tensorflow:Assets written to: ../models/cnn_lstm_7days_history_1days_pred_100_epochs_2lstm-layer_64,64_dropout-0-4_3\\assets\n"
     ]
    },
    {
     "name": "stdout",
     "output_type": "stream",
     "text": [
      "Epoch 1/50\n",
      "707/707 [==============================] - 7s 10ms/step - loss: 138.2765 - mean_absolute_error: 7.4295 - val_loss: 238.9715 - val_mean_absolute_error: 9.9621\n",
      "Epoch 2/50\n",
      "707/707 [==============================] - 7s 10ms/step - loss: 139.1632 - mean_absolute_error: 7.4632 - val_loss: 240.3521 - val_mean_absolute_error: 10.0645\n",
      "Epoch 3/50\n",
      "707/707 [==============================] - 7s 10ms/step - loss: 135.9931 - mean_absolute_error: 7.3649 - val_loss: 234.2692 - val_mean_absolute_error: 9.9000\n",
      "Epoch 4/50\n",
      "707/707 [==============================] - 7s 10ms/step - loss: 134.9742 - mean_absolute_error: 7.3372 - val_loss: 233.3488 - val_mean_absolute_error: 9.8819\n",
      "Epoch 5/50\n",
      "707/707 [==============================] - 7s 10ms/step - loss: 135.5120 - mean_absolute_error: 7.3515 - val_loss: 231.4554 - val_mean_absolute_error: 9.7970\n",
      "Epoch 6/50\n",
      "707/707 [==============================] - 7s 10ms/step - loss: 134.4457 - mean_absolute_error: 7.3224 - val_loss: 239.3194 - val_mean_absolute_error: 9.9399\n",
      "Epoch 7/50\n",
      "707/707 [==============================] - 7s 10ms/step - loss: 137.6463 - mean_absolute_error: 7.4404 - val_loss: 247.1917 - val_mean_absolute_error: 10.1822\n",
      "Epoch 8/50\n",
      "707/707 [==============================] - 7s 10ms/step - loss: 133.5561 - mean_absolute_error: 7.3092 - val_loss: 231.3022 - val_mean_absolute_error: 9.8159\n",
      "Epoch 9/50\n",
      "707/707 [==============================] - 7s 10ms/step - loss: 131.6624 - mean_absolute_error: 7.2378 - val_loss: 234.7326 - val_mean_absolute_error: 9.8597\n",
      "Epoch 10/50\n",
      "707/707 [==============================] - 7s 10ms/step - loss: 134.4323 - mean_absolute_error: 7.3235 - val_loss: 232.7897 - val_mean_absolute_error: 9.7958\n",
      "Epoch 11/50\n",
      "707/707 [==============================] - 7s 10ms/step - loss: 131.2187 - mean_absolute_error: 7.2357 - val_loss: 232.6494 - val_mean_absolute_error: 9.8654\n",
      "Epoch 12/50\n",
      "707/707 [==============================] - 7s 10ms/step - loss: 130.2968 - mean_absolute_error: 7.2164 - val_loss: 241.4168 - val_mean_absolute_error: 10.0211\n",
      "Epoch 13/50\n",
      "707/707 [==============================] - 7s 10ms/step - loss: 129.1588 - mean_absolute_error: 7.1743 - val_loss: 244.5012 - val_mean_absolute_error: 9.9847\n",
      "Epoch 14/50\n",
      "707/707 [==============================] - 7s 10ms/step - loss: 131.1057 - mean_absolute_error: 7.2504 - val_loss: 239.2747 - val_mean_absolute_error: 10.0053\n",
      "Epoch 15/50\n",
      "707/707 [==============================] - 7s 10ms/step - loss: 129.5691 - mean_absolute_error: 7.1886 - val_loss: 230.0337 - val_mean_absolute_error: 9.7449\n",
      "Epoch 16/50\n",
      "707/707 [==============================] - 7s 10ms/step - loss: 128.5488 - mean_absolute_error: 7.1548 - val_loss: 227.0924 - val_mean_absolute_error: 9.7074\n",
      "Epoch 17/50\n",
      "707/707 [==============================] - 7s 10ms/step - loss: 129.7998 - mean_absolute_error: 7.1956 - val_loss: 236.2343 - val_mean_absolute_error: 9.9050\n",
      "Epoch 18/50\n",
      "707/707 [==============================] - 7s 10ms/step - loss: 128.6560 - mean_absolute_error: 7.1629 - val_loss: 234.8113 - val_mean_absolute_error: 9.8703\n",
      "Epoch 19/50\n",
      "707/707 [==============================] - 7s 10ms/step - loss: 126.3440 - mean_absolute_error: 7.0965 - val_loss: 228.5738 - val_mean_absolute_error: 9.7493\n",
      "Epoch 20/50\n",
      "707/707 [==============================] - 7s 10ms/step - loss: 125.3157 - mean_absolute_error: 7.0589 - val_loss: 231.7440 - val_mean_absolute_error: 9.8192\n",
      "Epoch 21/50\n",
      "707/707 [==============================] - 7s 10ms/step - loss: 125.4106 - mean_absolute_error: 7.0627 - val_loss: 234.0274 - val_mean_absolute_error: 9.7770\n",
      "Epoch 22/50\n",
      "707/707 [==============================] - 7s 10ms/step - loss: 126.2490 - mean_absolute_error: 7.0941 - val_loss: 234.2237 - val_mean_absolute_error: 9.8186\n",
      "Epoch 23/50\n",
      "707/707 [==============================] - 7s 10ms/step - loss: 125.4568 - mean_absolute_error: 7.0720 - val_loss: 229.3679 - val_mean_absolute_error: 9.7421\n",
      "Epoch 24/50\n",
      "707/707 [==============================] - 7s 10ms/step - loss: 124.6048 - mean_absolute_error: 7.0438 - val_loss: 232.2272 - val_mean_absolute_error: 9.7857\n",
      "Epoch 25/50\n",
      "707/707 [==============================] - 7s 10ms/step - loss: 124.6988 - mean_absolute_error: 7.0491 - val_loss: 226.3974 - val_mean_absolute_error: 9.6839\n",
      "Epoch 26/50\n",
      "707/707 [==============================] - 7s 10ms/step - loss: 123.0320 - mean_absolute_error: 6.9907 - val_loss: 232.3312 - val_mean_absolute_error: 9.7767\n",
      "Epoch 27/50\n",
      "707/707 [==============================] - 7s 10ms/step - loss: 123.2642 - mean_absolute_error: 6.9984 - val_loss: 236.3955 - val_mean_absolute_error: 9.9099\n",
      "Epoch 28/50\n",
      "707/707 [==============================] - 7s 10ms/step - loss: 123.4336 - mean_absolute_error: 7.0158 - val_loss: 236.8220 - val_mean_absolute_error: 9.8239\n",
      "Epoch 29/50\n",
      "707/707 [==============================] - 7s 10ms/step - loss: 135.9150 - mean_absolute_error: 7.3825 - val_loss: 232.9426 - val_mean_absolute_error: 9.8764\n",
      "Epoch 30/50\n",
      "707/707 [==============================] - 7s 10ms/step - loss: 124.1360 - mean_absolute_error: 7.0193 - val_loss: 227.9743 - val_mean_absolute_error: 9.7423\n",
      "Epoch 31/50\n",
      "707/707 [==============================] - 7s 10ms/step - loss: 120.8940 - mean_absolute_error: 6.9313 - val_loss: 229.6125 - val_mean_absolute_error: 9.7582\n",
      "Epoch 32/50\n",
      "707/707 [==============================] - 7s 10ms/step - loss: 119.2103 - mean_absolute_error: 6.8719 - val_loss: 236.2793 - val_mean_absolute_error: 9.8658\n",
      "Epoch 33/50\n",
      "707/707 [==============================] - 7s 10ms/step - loss: 118.2299 - mean_absolute_error: 6.8455 - val_loss: 226.9516 - val_mean_absolute_error: 9.6535\n",
      "Epoch 34/50\n",
      "707/707 [==============================] - 7s 10ms/step - loss: 121.2452 - mean_absolute_error: 6.9573 - val_loss: 232.8808 - val_mean_absolute_error: 9.8073\n",
      "Epoch 35/50\n",
      "707/707 [==============================] - 7s 10ms/step - loss: 120.5800 - mean_absolute_error: 6.9229 - val_loss: 236.8417 - val_mean_absolute_error: 9.9043\n",
      "Epoch 36/50\n",
      "707/707 [==============================] - 7s 10ms/step - loss: 118.7402 - mean_absolute_error: 6.8620 - val_loss: 230.2540 - val_mean_absolute_error: 9.7593\n",
      "Epoch 37/50\n",
      "707/707 [==============================] - 7s 10ms/step - loss: 118.8653 - mean_absolute_error: 6.8807 - val_loss: 232.1467 - val_mean_absolute_error: 9.7655\n",
      "Epoch 38/50\n",
      "707/707 [==============================] - 7s 10ms/step - loss: 117.6774 - mean_absolute_error: 6.8370 - val_loss: 229.1487 - val_mean_absolute_error: 9.7555\n",
      "Epoch 39/50\n",
      "707/707 [==============================] - 7s 10ms/step - loss: 119.7993 - mean_absolute_error: 6.9190 - val_loss: 226.7418 - val_mean_absolute_error: 9.6987\n",
      "Epoch 40/50\n",
      "707/707 [==============================] - 7s 10ms/step - loss: 118.3707 - mean_absolute_error: 6.8685 - val_loss: 227.3112 - val_mean_absolute_error: 9.6605\n",
      "Epoch 41/50\n",
      "707/707 [==============================] - 7s 10ms/step - loss: 116.9089 - mean_absolute_error: 6.8219 - val_loss: 228.4697 - val_mean_absolute_error: 9.7114\n",
      "Epoch 42/50\n",
      "707/707 [==============================] - 7s 10ms/step - loss: 118.3881 - mean_absolute_error: 6.8674 - val_loss: 233.1253 - val_mean_absolute_error: 9.7853\n",
      "Epoch 43/50\n",
      "707/707 [==============================] - 7s 10ms/step - loss: 117.1387 - mean_absolute_error: 6.8299 - val_loss: 227.8139 - val_mean_absolute_error: 9.6764\n",
      "Epoch 44/50\n",
      "707/707 [==============================] - 7s 10ms/step - loss: 121.2582 - mean_absolute_error: 6.9307 - val_loss: 230.7916 - val_mean_absolute_error: 9.7414\n",
      "Epoch 45/50\n",
      "707/707 [==============================] - 7s 10ms/step - loss: 119.2090 - mean_absolute_error: 6.8858 - val_loss: 225.2153 - val_mean_absolute_error: 9.5761\n",
      "Epoch 46/50\n",
      "707/707 [==============================] - 7s 10ms/step - loss: 113.6895 - mean_absolute_error: 6.7121 - val_loss: 222.3972 - val_mean_absolute_error: 9.5841\n",
      "Epoch 47/50\n",
      "707/707 [==============================] - 7s 10ms/step - loss: 114.8392 - mean_absolute_error: 6.7508 - val_loss: 228.9463 - val_mean_absolute_error: 9.7047\n",
      "Epoch 48/50\n",
      "707/707 [==============================] - 7s 10ms/step - loss: 113.3293 - mean_absolute_error: 6.7112 - val_loss: 229.7559 - val_mean_absolute_error: 9.6818\n",
      "Epoch 49/50\n",
      "707/707 [==============================] - 7s 10ms/step - loss: 115.2036 - mean_absolute_error: 6.7749 - val_loss: 229.5923 - val_mean_absolute_error: 9.7018\n",
      "Epoch 50/50\n",
      "707/707 [==============================] - 7s 10ms/step - loss: 114.9348 - mean_absolute_error: 6.7683 - val_loss: 225.9438 - val_mean_absolute_error: 9.6591\n"
     ]
    },
    {
     "name": "stderr",
     "output_type": "stream",
     "text": [
      "WARNING:absl:Found untraced functions such as _jit_compiled_convolution_op, _jit_compiled_convolution_op, _jit_compiled_convolution_op, lstm_cell_layer_call_fn, lstm_cell_layer_call_and_return_conditional_losses while saving (showing 5 of 7). These functions will not be directly callable after loading.\n"
     ]
    },
    {
     "name": "stdout",
     "output_type": "stream",
     "text": [
      "INFO:tensorflow:Assets written to: ../models/cnn_lstm_7days_history_1days_pred_150_epochs_2lstm-layer_64,64_dropout-0-4_3\\assets\n"
     ]
    },
    {
     "name": "stderr",
     "output_type": "stream",
     "text": [
      "INFO:tensorflow:Assets written to: ../models/cnn_lstm_7days_history_1days_pred_150_epochs_2lstm-layer_64,64_dropout-0-4_3\\assets\n"
     ]
    },
    {
     "name": "stdout",
     "output_type": "stream",
     "text": [
      "Epoch 1/50\n",
      "707/707 [==============================] - 7s 10ms/step - loss: 116.8773 - mean_absolute_error: 6.8298 - val_loss: 229.0743 - val_mean_absolute_error: 9.7069\n",
      "Epoch 2/50\n",
      "707/707 [==============================] - 7s 10ms/step - loss: 114.4021 - mean_absolute_error: 6.7504 - val_loss: 224.6980 - val_mean_absolute_error: 9.5945\n",
      "Epoch 3/50\n",
      "707/707 [==============================] - 7s 10ms/step - loss: 112.7129 - mean_absolute_error: 6.6887 - val_loss: 226.2704 - val_mean_absolute_error: 9.6636\n",
      "Epoch 4/50\n",
      "707/707 [==============================] - 7s 10ms/step - loss: 115.0637 - mean_absolute_error: 6.7693 - val_loss: 226.5506 - val_mean_absolute_error: 9.6508\n",
      "Epoch 5/50\n",
      "707/707 [==============================] - 7s 10ms/step - loss: 112.9689 - mean_absolute_error: 6.7049 - val_loss: 237.2861 - val_mean_absolute_error: 9.8625\n",
      "Epoch 6/50\n",
      "707/707 [==============================] - 7s 10ms/step - loss: 112.7337 - mean_absolute_error: 6.6845 - val_loss: 237.7683 - val_mean_absolute_error: 9.8889\n",
      "Epoch 7/50\n",
      "707/707 [==============================] - 7s 10ms/step - loss: 113.2182 - mean_absolute_error: 6.7088 - val_loss: 229.9171 - val_mean_absolute_error: 9.6263\n",
      "Epoch 8/50\n",
      "707/707 [==============================] - 7s 10ms/step - loss: 111.1553 - mean_absolute_error: 6.6441 - val_loss: 231.5606 - val_mean_absolute_error: 9.7379\n",
      "Epoch 9/50\n",
      "707/707 [==============================] - 7s 10ms/step - loss: 110.6190 - mean_absolute_error: 6.6343 - val_loss: 225.4778 - val_mean_absolute_error: 9.6518\n",
      "Epoch 10/50\n",
      "707/707 [==============================] - 7s 10ms/step - loss: 111.0590 - mean_absolute_error: 6.6465 - val_loss: 226.2224 - val_mean_absolute_error: 9.6354\n",
      "Epoch 11/50\n",
      "707/707 [==============================] - 7s 10ms/step - loss: 110.5515 - mean_absolute_error: 6.6260 - val_loss: 236.1305 - val_mean_absolute_error: 9.8508\n",
      "Epoch 12/50\n",
      "707/707 [==============================] - 7s 10ms/step - loss: 110.0335 - mean_absolute_error: 6.6096 - val_loss: 226.0546 - val_mean_absolute_error: 9.6080\n",
      "Epoch 13/50\n",
      "707/707 [==============================] - 7s 10ms/step - loss: 111.2622 - mean_absolute_error: 6.6516 - val_loss: 230.3349 - val_mean_absolute_error: 9.7379\n",
      "Epoch 14/50\n",
      "707/707 [==============================] - 7s 10ms/step - loss: 114.6232 - mean_absolute_error: 6.7812 - val_loss: 224.2519 - val_mean_absolute_error: 9.5812\n",
      "Epoch 15/50\n",
      "707/707 [==============================] - 7s 10ms/step - loss: 109.3375 - mean_absolute_error: 6.5951 - val_loss: 228.7245 - val_mean_absolute_error: 9.6935\n",
      "Epoch 16/50\n",
      "707/707 [==============================] - 7s 10ms/step - loss: 107.9686 - mean_absolute_error: 6.5538 - val_loss: 231.3317 - val_mean_absolute_error: 9.7364\n",
      "Epoch 17/50\n",
      "707/707 [==============================] - 7s 10ms/step - loss: 108.6838 - mean_absolute_error: 6.5799 - val_loss: 228.2904 - val_mean_absolute_error: 9.5796\n",
      "Epoch 18/50\n",
      "707/707 [==============================] - 7s 10ms/step - loss: 109.6478 - mean_absolute_error: 6.6074 - val_loss: 234.1295 - val_mean_absolute_error: 9.7278\n",
      "Epoch 19/50\n",
      "707/707 [==============================] - 7s 10ms/step - loss: 109.7408 - mean_absolute_error: 6.6138 - val_loss: 227.5967 - val_mean_absolute_error: 9.6722\n",
      "Epoch 20/50\n",
      "707/707 [==============================] - 7s 10ms/step - loss: 108.0381 - mean_absolute_error: 6.5483 - val_loss: 232.2598 - val_mean_absolute_error: 9.7681\n",
      "Epoch 21/50\n",
      "707/707 [==============================] - 7s 10ms/step - loss: 107.3945 - mean_absolute_error: 6.5423 - val_loss: 226.5750 - val_mean_absolute_error: 9.5669\n",
      "Epoch 22/50\n",
      "707/707 [==============================] - 7s 10ms/step - loss: 108.3035 - mean_absolute_error: 6.5720 - val_loss: 230.3151 - val_mean_absolute_error: 9.7480\n",
      "Epoch 23/50\n",
      "707/707 [==============================] - 7s 10ms/step - loss: 106.6117 - mean_absolute_error: 6.5119 - val_loss: 224.0307 - val_mean_absolute_error: 9.5819\n",
      "Epoch 24/50\n",
      "707/707 [==============================] - 7s 10ms/step - loss: 108.0955 - mean_absolute_error: 6.5557 - val_loss: 228.4869 - val_mean_absolute_error: 9.7032\n",
      "Epoch 25/50\n",
      "707/707 [==============================] - 7s 10ms/step - loss: 107.5397 - mean_absolute_error: 6.5462 - val_loss: 223.7748 - val_mean_absolute_error: 9.5769\n",
      "Epoch 26/50\n",
      "707/707 [==============================] - 7s 10ms/step - loss: 107.4826 - mean_absolute_error: 6.5470 - val_loss: 228.5598 - val_mean_absolute_error: 9.7129\n",
      "Epoch 27/50\n",
      "707/707 [==============================] - 7s 10ms/step - loss: 106.8699 - mean_absolute_error: 6.5309 - val_loss: 227.1664 - val_mean_absolute_error: 9.6299\n",
      "Epoch 28/50\n",
      "707/707 [==============================] - 7s 10ms/step - loss: 106.3816 - mean_absolute_error: 6.5028 - val_loss: 225.6425 - val_mean_absolute_error: 9.6496\n",
      "Epoch 29/50\n",
      "707/707 [==============================] - 7s 10ms/step - loss: 107.5360 - mean_absolute_error: 6.5362 - val_loss: 229.3372 - val_mean_absolute_error: 9.6009\n",
      "Epoch 30/50\n",
      "707/707 [==============================] - 7s 10ms/step - loss: 106.3901 - mean_absolute_error: 6.5181 - val_loss: 226.7473 - val_mean_absolute_error: 9.5731\n",
      "Epoch 31/50\n",
      "707/707 [==============================] - 7s 10ms/step - loss: 104.8907 - mean_absolute_error: 6.4726 - val_loss: 225.3027 - val_mean_absolute_error: 9.5981\n",
      "Epoch 32/50\n",
      "707/707 [==============================] - 7s 10ms/step - loss: 104.6822 - mean_absolute_error: 6.4490 - val_loss: 226.8557 - val_mean_absolute_error: 9.6062\n",
      "Epoch 33/50\n",
      "707/707 [==============================] - 7s 10ms/step - loss: 104.4423 - mean_absolute_error: 6.4481 - val_loss: 227.6861 - val_mean_absolute_error: 9.6673\n",
      "Epoch 34/50\n",
      "707/707 [==============================] - 7s 10ms/step - loss: 104.8191 - mean_absolute_error: 6.4731 - val_loss: 230.0717 - val_mean_absolute_error: 9.6704\n",
      "Epoch 35/50\n",
      "707/707 [==============================] - 7s 10ms/step - loss: 105.2461 - mean_absolute_error: 6.4747 - val_loss: 227.5023 - val_mean_absolute_error: 9.6174\n",
      "Epoch 36/50\n",
      "707/707 [==============================] - 7s 10ms/step - loss: 104.9806 - mean_absolute_error: 6.4644 - val_loss: 228.9395 - val_mean_absolute_error: 9.6256\n",
      "Epoch 37/50\n",
      "707/707 [==============================] - 7s 10ms/step - loss: 103.6624 - mean_absolute_error: 6.4252 - val_loss: 231.6278 - val_mean_absolute_error: 9.7200\n",
      "Epoch 38/50\n",
      "707/707 [==============================] - 7s 10ms/step - loss: 106.3747 - mean_absolute_error: 6.5296 - val_loss: 230.1572 - val_mean_absolute_error: 9.7384\n",
      "Epoch 39/50\n",
      "707/707 [==============================] - 7s 10ms/step - loss: 107.5483 - mean_absolute_error: 6.5598 - val_loss: 228.5502 - val_mean_absolute_error: 9.6307\n",
      "Epoch 40/50\n",
      "707/707 [==============================] - 7s 10ms/step - loss: 103.2833 - mean_absolute_error: 6.4163 - val_loss: 225.1535 - val_mean_absolute_error: 9.5647\n",
      "Epoch 41/50\n",
      "707/707 [==============================] - 7s 10ms/step - loss: 104.9742 - mean_absolute_error: 6.4591 - val_loss: 226.9326 - val_mean_absolute_error: 9.6067\n",
      "Epoch 42/50\n",
      "707/707 [==============================] - 7s 10ms/step - loss: 102.9266 - mean_absolute_error: 6.4087 - val_loss: 232.8066 - val_mean_absolute_error: 9.8071\n",
      "Epoch 43/50\n",
      "707/707 [==============================] - 7s 10ms/step - loss: 102.6808 - mean_absolute_error: 6.3894 - val_loss: 221.7675 - val_mean_absolute_error: 9.5195\n",
      "Epoch 44/50\n",
      "707/707 [==============================] - 7s 10ms/step - loss: 103.4789 - mean_absolute_error: 6.4280 - val_loss: 223.7684 - val_mean_absolute_error: 9.5684\n",
      "Epoch 45/50\n",
      "707/707 [==============================] - 7s 10ms/step - loss: 102.5569 - mean_absolute_error: 6.3903 - val_loss: 230.6221 - val_mean_absolute_error: 9.6690\n",
      "Epoch 46/50\n",
      "707/707 [==============================] - 7s 10ms/step - loss: 102.3266 - mean_absolute_error: 6.3958 - val_loss: 220.6259 - val_mean_absolute_error: 9.4746\n",
      "Epoch 47/50\n",
      "707/707 [==============================] - 7s 10ms/step - loss: 100.8446 - mean_absolute_error: 6.3342 - val_loss: 219.1683 - val_mean_absolute_error: 9.4709\n",
      "Epoch 48/50\n",
      "707/707 [==============================] - 7s 10ms/step - loss: 101.4133 - mean_absolute_error: 6.3600 - val_loss: 229.7093 - val_mean_absolute_error: 9.6885\n",
      "Epoch 49/50\n",
      "707/707 [==============================] - 7s 10ms/step - loss: 101.5823 - mean_absolute_error: 6.3701 - val_loss: 225.5613 - val_mean_absolute_error: 9.6275\n",
      "Epoch 50/50\n",
      "707/707 [==============================] - 7s 10ms/step - loss: 102.6847 - mean_absolute_error: 6.4118 - val_loss: 223.4538 - val_mean_absolute_error: 9.5834\n"
     ]
    },
    {
     "name": "stderr",
     "output_type": "stream",
     "text": [
      "WARNING:absl:Found untraced functions such as _jit_compiled_convolution_op, _jit_compiled_convolution_op, _jit_compiled_convolution_op, lstm_cell_layer_call_fn, lstm_cell_layer_call_and_return_conditional_losses while saving (showing 5 of 7). These functions will not be directly callable after loading.\n"
     ]
    },
    {
     "name": "stdout",
     "output_type": "stream",
     "text": [
      "INFO:tensorflow:Assets written to: ../models/cnn_lstm_7days_history_1days_pred_200_epochs_2lstm-layer_64,64_dropout-0-4_3\\assets\n"
     ]
    },
    {
     "name": "stderr",
     "output_type": "stream",
     "text": [
      "INFO:tensorflow:Assets written to: ../models/cnn_lstm_7days_history_1days_pred_200_epochs_2lstm-layer_64,64_dropout-0-4_3\\assets\n"
     ]
    },
    {
     "name": "stdout",
     "output_type": "stream",
     "text": [
      "Shutting down background jobs, please wait a moment...\n",
      "Done!\n",
      "Waiting for the remaining 1 operations to synchronize with Neptune. Do not kill this process.\n",
      "All 1 operations synced, thanks for waiting!\n",
      "Explore the metadata in the Neptune app:\n",
      "https://app.neptune.ai/data-mining-team2/model-tests/e/MOD-11/metadata\n"
     ]
    },
    {
     "name": "stderr",
     "output_type": "stream",
     "text": [
      "ERROR:run_logger:Finished run: station_530_with_lambda\n",
      "ERROR:run_logger:Start run: station_538_with_lambda\n"
     ]
    },
    {
     "name": "stdout",
     "output_type": "stream",
     "text": [
      "https://app.neptune.ai/data-mining-team2/model-tests/e/MOD-12\n",
      "Epoch 1/50\n",
      "682/682 [==============================] - 11s 11ms/step - loss: 164.7707 - mean_absolute_error: 8.9382 - val_loss: 127.5924 - val_mean_absolute_error: 7.9545\n",
      "Epoch 2/50\n",
      "682/682 [==============================] - 6s 10ms/step - loss: 129.7980 - mean_absolute_error: 8.0300 - val_loss: 139.4516 - val_mean_absolute_error: 8.3507\n",
      "Epoch 3/50\n",
      "682/682 [==============================] - 6s 10ms/step - loss: 127.0555 - mean_absolute_error: 7.9415 - val_loss: 126.6360 - val_mean_absolute_error: 8.1382\n",
      "Epoch 4/50\n",
      "682/682 [==============================] - 7s 10ms/step - loss: 124.2316 - mean_absolute_error: 7.8625 - val_loss: 117.7769 - val_mean_absolute_error: 7.6788\n",
      "Epoch 5/50\n",
      "682/682 [==============================] - 7s 10ms/step - loss: 121.8038 - mean_absolute_error: 7.7684 - val_loss: 122.1827 - val_mean_absolute_error: 7.8200\n",
      "Epoch 6/50\n",
      "682/682 [==============================] - 7s 10ms/step - loss: 118.4667 - mean_absolute_error: 7.6775 - val_loss: 126.6790 - val_mean_absolute_error: 8.0154\n",
      "Epoch 7/50\n",
      "682/682 [==============================] - 7s 10ms/step - loss: 115.4872 - mean_absolute_error: 7.5679 - val_loss: 114.7085 - val_mean_absolute_error: 7.5501\n",
      "Epoch 8/50\n",
      "682/682 [==============================] - 7s 10ms/step - loss: 112.5814 - mean_absolute_error: 7.4593 - val_loss: 108.1587 - val_mean_absolute_error: 7.3634\n",
      "Epoch 9/50\n",
      "682/682 [==============================] - 7s 10ms/step - loss: 109.7717 - mean_absolute_error: 7.3833 - val_loss: 110.4109 - val_mean_absolute_error: 7.4494\n",
      "Epoch 10/50\n",
      "682/682 [==============================] - 7s 10ms/step - loss: 107.2745 - mean_absolute_error: 7.3157 - val_loss: 116.1615 - val_mean_absolute_error: 7.6350\n",
      "Epoch 11/50\n",
      "682/682 [==============================] - 7s 10ms/step - loss: 104.8378 - mean_absolute_error: 7.2473 - val_loss: 109.5872 - val_mean_absolute_error: 7.4094\n",
      "Epoch 12/50\n",
      "682/682 [==============================] - 7s 10ms/step - loss: 101.6799 - mean_absolute_error: 7.1625 - val_loss: 119.9640 - val_mean_absolute_error: 7.6124\n",
      "Epoch 13/50\n",
      "682/682 [==============================] - 7s 10ms/step - loss: 98.0356 - mean_absolute_error: 7.0525 - val_loss: 117.1052 - val_mean_absolute_error: 7.5517\n",
      "Epoch 14/50\n",
      "682/682 [==============================] - 7s 10ms/step - loss: 94.8463 - mean_absolute_error: 6.9668 - val_loss: 98.3950 - val_mean_absolute_error: 7.0658\n",
      "Epoch 15/50\n",
      "682/682 [==============================] - 7s 10ms/step - loss: 92.8756 - mean_absolute_error: 6.9002 - val_loss: 111.1468 - val_mean_absolute_error: 7.3792\n",
      "Epoch 16/50\n",
      "682/682 [==============================] - 7s 10ms/step - loss: 90.2830 - mean_absolute_error: 6.8062 - val_loss: 112.4706 - val_mean_absolute_error: 7.5058\n",
      "Epoch 17/50\n",
      "682/682 [==============================] - 7s 10ms/step - loss: 87.7778 - mean_absolute_error: 6.7382 - val_loss: 106.6246 - val_mean_absolute_error: 7.3266\n",
      "Epoch 18/50\n",
      "682/682 [==============================] - 7s 10ms/step - loss: 84.5004 - mean_absolute_error: 6.6284 - val_loss: 107.3729 - val_mean_absolute_error: 7.3115\n",
      "Epoch 19/50\n",
      "682/682 [==============================] - 7s 10ms/step - loss: 83.8138 - mean_absolute_error: 6.6004 - val_loss: 105.8550 - val_mean_absolute_error: 7.3060\n",
      "Epoch 20/50\n",
      "682/682 [==============================] - 7s 10ms/step - loss: 80.7873 - mean_absolute_error: 6.4913 - val_loss: 93.0990 - val_mean_absolute_error: 6.9588\n",
      "Epoch 21/50\n",
      "682/682 [==============================] - 7s 10ms/step - loss: 78.4616 - mean_absolute_error: 6.4026 - val_loss: 90.7129 - val_mean_absolute_error: 6.7596\n",
      "Epoch 22/50\n",
      "682/682 [==============================] - 7s 10ms/step - loss: 75.3282 - mean_absolute_error: 6.2668 - val_loss: 97.4444 - val_mean_absolute_error: 6.9425\n",
      "Epoch 23/50\n",
      "682/682 [==============================] - 7s 10ms/step - loss: 71.8449 - mean_absolute_error: 6.1402 - val_loss: 92.5256 - val_mean_absolute_error: 6.8722\n",
      "Epoch 24/50\n",
      "682/682 [==============================] - 7s 10ms/step - loss: 71.8506 - mean_absolute_error: 6.1205 - val_loss: 93.5917 - val_mean_absolute_error: 6.8624\n",
      "Epoch 25/50\n",
      "682/682 [==============================] - 7s 10ms/step - loss: 68.6260 - mean_absolute_error: 6.0065 - val_loss: 87.8435 - val_mean_absolute_error: 6.7005\n",
      "Epoch 26/50\n",
      "682/682 [==============================] - 7s 10ms/step - loss: 67.7971 - mean_absolute_error: 5.9644 - val_loss: 91.3976 - val_mean_absolute_error: 6.7124\n",
      "Epoch 27/50\n",
      "682/682 [==============================] - 7s 10ms/step - loss: 65.0409 - mean_absolute_error: 5.8603 - val_loss: 86.2182 - val_mean_absolute_error: 6.6191\n",
      "Epoch 28/50\n",
      "682/682 [==============================] - 7s 10ms/step - loss: 63.8064 - mean_absolute_error: 5.8013 - val_loss: 84.5552 - val_mean_absolute_error: 6.5191\n",
      "Epoch 29/50\n",
      "682/682 [==============================] - 7s 10ms/step - loss: 61.4822 - mean_absolute_error: 5.7175 - val_loss: 85.5086 - val_mean_absolute_error: 6.5232\n",
      "Epoch 30/50\n",
      "682/682 [==============================] - 7s 10ms/step - loss: 59.7690 - mean_absolute_error: 5.6434 - val_loss: 82.3657 - val_mean_absolute_error: 6.4426\n",
      "Epoch 31/50\n",
      "682/682 [==============================] - 7s 10ms/step - loss: 59.6592 - mean_absolute_error: 5.6294 - val_loss: 78.3142 - val_mean_absolute_error: 6.3479\n",
      "Epoch 32/50\n",
      "682/682 [==============================] - 7s 10ms/step - loss: 59.7479 - mean_absolute_error: 5.6076 - val_loss: 74.2563 - val_mean_absolute_error: 6.1501\n",
      "Epoch 33/50\n",
      "682/682 [==============================] - 7s 10ms/step - loss: 56.6554 - mean_absolute_error: 5.4927 - val_loss: 72.6284 - val_mean_absolute_error: 6.1297\n",
      "Epoch 34/50\n",
      "682/682 [==============================] - 7s 10ms/step - loss: 55.2355 - mean_absolute_error: 5.4293 - val_loss: 85.4975 - val_mean_absolute_error: 6.5509\n",
      "Epoch 35/50\n",
      "682/682 [==============================] - 7s 10ms/step - loss: 54.7198 - mean_absolute_error: 5.4025 - val_loss: 75.8953 - val_mean_absolute_error: 6.1939\n",
      "Epoch 36/50\n",
      "682/682 [==============================] - 7s 10ms/step - loss: 53.0767 - mean_absolute_error: 5.3284 - val_loss: 70.3994 - val_mean_absolute_error: 6.0258\n",
      "Epoch 37/50\n",
      "682/682 [==============================] - 7s 10ms/step - loss: 53.1512 - mean_absolute_error: 5.3221 - val_loss: 73.8947 - val_mean_absolute_error: 6.1460\n",
      "Epoch 38/50\n",
      "682/682 [==============================] - 7s 10ms/step - loss: 51.4836 - mean_absolute_error: 5.2428 - val_loss: 70.9475 - val_mean_absolute_error: 6.0598\n",
      "Epoch 39/50\n",
      "682/682 [==============================] - 7s 10ms/step - loss: 50.8455 - mean_absolute_error: 5.2102 - val_loss: 65.6059 - val_mean_absolute_error: 5.7841\n",
      "Epoch 40/50\n",
      "682/682 [==============================] - 7s 10ms/step - loss: 50.9823 - mean_absolute_error: 5.2071 - val_loss: 71.3675 - val_mean_absolute_error: 6.0689\n",
      "Epoch 41/50\n",
      "682/682 [==============================] - 7s 10ms/step - loss: 48.9802 - mean_absolute_error: 5.1205 - val_loss: 67.4321 - val_mean_absolute_error: 5.8755\n",
      "Epoch 42/50\n",
      "682/682 [==============================] - 7s 10ms/step - loss: 48.2922 - mean_absolute_error: 5.0867 - val_loss: 66.4376 - val_mean_absolute_error: 5.8256\n",
      "Epoch 43/50\n",
      "682/682 [==============================] - 7s 10ms/step - loss: 47.8659 - mean_absolute_error: 5.0619 - val_loss: 65.8002 - val_mean_absolute_error: 5.7836\n",
      "Epoch 44/50\n",
      "682/682 [==============================] - 7s 10ms/step - loss: 46.8675 - mean_absolute_error: 5.0124 - val_loss: 71.1802 - val_mean_absolute_error: 5.9946\n",
      "Epoch 45/50\n",
      "682/682 [==============================] - 7s 10ms/step - loss: 45.8134 - mean_absolute_error: 4.9602 - val_loss: 70.3068 - val_mean_absolute_error: 6.0170\n",
      "Epoch 46/50\n",
      "682/682 [==============================] - 7s 10ms/step - loss: 46.3495 - mean_absolute_error: 4.9815 - val_loss: 66.4057 - val_mean_absolute_error: 5.8680\n",
      "Epoch 47/50\n",
      "682/682 [==============================] - 7s 10ms/step - loss: 44.9992 - mean_absolute_error: 4.9126 - val_loss: 74.5419 - val_mean_absolute_error: 6.1437\n",
      "Epoch 48/50\n",
      "682/682 [==============================] - 7s 10ms/step - loss: 44.7958 - mean_absolute_error: 4.9041 - val_loss: 66.1600 - val_mean_absolute_error: 5.7703\n",
      "Epoch 49/50\n",
      "682/682 [==============================] - 7s 10ms/step - loss: 44.2224 - mean_absolute_error: 4.8736 - val_loss: 66.4057 - val_mean_absolute_error: 5.7810\n",
      "Epoch 50/50\n",
      "682/682 [==============================] - 7s 10ms/step - loss: 43.4538 - mean_absolute_error: 4.8366 - val_loss: 69.6159 - val_mean_absolute_error: 5.9291\n"
     ]
    },
    {
     "name": "stderr",
     "output_type": "stream",
     "text": [
      "WARNING:absl:Found untraced functions such as _jit_compiled_convolution_op, _jit_compiled_convolution_op, _jit_compiled_convolution_op, lstm_cell_2_layer_call_fn, lstm_cell_2_layer_call_and_return_conditional_losses while saving (showing 5 of 7). These functions will not be directly callable after loading.\n"
     ]
    },
    {
     "name": "stdout",
     "output_type": "stream",
     "text": [
      "INFO:tensorflow:Assets written to: ../models/cnn_lstm_7days_history_1days_pred_50_epochs_2lstm-layer_64,64_dropout-0-4_4\\assets\n"
     ]
    },
    {
     "name": "stderr",
     "output_type": "stream",
     "text": [
      "INFO:tensorflow:Assets written to: ../models/cnn_lstm_7days_history_1days_pred_50_epochs_2lstm-layer_64,64_dropout-0-4_4\\assets\n"
     ]
    },
    {
     "name": "stdout",
     "output_type": "stream",
     "text": [
      "Epoch 1/50\n",
      "682/682 [==============================] - 13s 19ms/step - loss: 42.0961 - mean_absolute_error: 4.7626 - val_loss: 66.5746 - val_mean_absolute_error: 5.8079\n",
      "Epoch 2/50\n",
      "682/682 [==============================] - 12s 18ms/step - loss: 42.6854 - mean_absolute_error: 4.7874 - val_loss: 61.9299 - val_mean_absolute_error: 5.6123\n",
      "Epoch 3/50\n",
      "682/682 [==============================] - 12s 18ms/step - loss: 42.0404 - mean_absolute_error: 4.7519 - val_loss: 63.7756 - val_mean_absolute_error: 5.6998\n",
      "Epoch 4/50\n",
      "682/682 [==============================] - 12s 18ms/step - loss: 41.7502 - mean_absolute_error: 4.7387 - val_loss: 65.9723 - val_mean_absolute_error: 5.7801\n",
      "Epoch 5/50\n",
      "682/682 [==============================] - 12s 18ms/step - loss: 41.3074 - mean_absolute_error: 4.7035 - val_loss: 63.1244 - val_mean_absolute_error: 5.6747\n",
      "Epoch 6/50\n",
      "682/682 [==============================] - 12s 18ms/step - loss: 40.7882 - mean_absolute_error: 4.6874 - val_loss: 64.3157 - val_mean_absolute_error: 5.7250\n",
      "Epoch 7/50\n",
      "682/682 [==============================] - 12s 18ms/step - loss: 40.0314 - mean_absolute_error: 4.6446 - val_loss: 62.4493 - val_mean_absolute_error: 5.6355\n",
      "Epoch 8/50\n",
      "682/682 [==============================] - 12s 18ms/step - loss: 40.2328 - mean_absolute_error: 4.6494 - val_loss: 69.5309 - val_mean_absolute_error: 5.9660\n",
      "Epoch 9/50\n",
      "682/682 [==============================] - 12s 18ms/step - loss: 39.3806 - mean_absolute_error: 4.6004 - val_loss: 58.8562 - val_mean_absolute_error: 5.4867\n",
      "Epoch 10/50\n",
      "682/682 [==============================] - 12s 18ms/step - loss: 38.3623 - mean_absolute_error: 4.5454 - val_loss: 61.5612 - val_mean_absolute_error: 5.5849\n",
      "Epoch 11/50\n",
      "682/682 [==============================] - 12s 18ms/step - loss: 38.5783 - mean_absolute_error: 4.5564 - val_loss: 67.0014 - val_mean_absolute_error: 5.8156\n",
      "Epoch 12/50\n",
      "682/682 [==============================] - 12s 18ms/step - loss: 38.0779 - mean_absolute_error: 4.5279 - val_loss: 60.2199 - val_mean_absolute_error: 5.4989\n",
      "Epoch 13/50\n",
      "682/682 [==============================] - 12s 18ms/step - loss: 37.7714 - mean_absolute_error: 4.5060 - val_loss: 60.7130 - val_mean_absolute_error: 5.5516\n",
      "Epoch 14/50\n",
      "682/682 [==============================] - 13s 18ms/step - loss: 37.3185 - mean_absolute_error: 4.4777 - val_loss: 62.1034 - val_mean_absolute_error: 5.6036\n",
      "Epoch 15/50\n",
      "682/682 [==============================] - 12s 18ms/step - loss: 36.9157 - mean_absolute_error: 4.4553 - val_loss: 63.7344 - val_mean_absolute_error: 5.6540\n",
      "Epoch 16/50\n",
      "682/682 [==============================] - 12s 18ms/step - loss: 37.3983 - mean_absolute_error: 4.4760 - val_loss: 68.4054 - val_mean_absolute_error: 5.8891\n",
      "Epoch 17/50\n",
      "682/682 [==============================] - 12s 18ms/step - loss: 36.4203 - mean_absolute_error: 4.4183 - val_loss: 60.7557 - val_mean_absolute_error: 5.5639\n",
      "Epoch 18/50\n",
      "682/682 [==============================] - 13s 19ms/step - loss: 36.6881 - mean_absolute_error: 4.4409 - val_loss: 60.2659 - val_mean_absolute_error: 5.4762\n",
      "Epoch 19/50\n",
      "682/682 [==============================] - 12s 18ms/step - loss: 37.8192 - mean_absolute_error: 4.4915 - val_loss: 59.2951 - val_mean_absolute_error: 5.4598\n",
      "Epoch 20/50\n",
      "682/682 [==============================] - 12s 18ms/step - loss: 36.0629 - mean_absolute_error: 4.4029 - val_loss: 63.6540 - val_mean_absolute_error: 5.6642\n",
      "Epoch 21/50\n",
      "682/682 [==============================] - 12s 18ms/step - loss: 35.1141 - mean_absolute_error: 4.3387 - val_loss: 61.3038 - val_mean_absolute_error: 5.5544\n",
      "Epoch 22/50\n",
      "682/682 [==============================] - 13s 18ms/step - loss: 34.5742 - mean_absolute_error: 4.3072 - val_loss: 60.1791 - val_mean_absolute_error: 5.5082\n",
      "Epoch 23/50\n",
      "682/682 [==============================] - 13s 18ms/step - loss: 34.3960 - mean_absolute_error: 4.2953 - val_loss: 63.8582 - val_mean_absolute_error: 5.6894\n",
      "Epoch 24/50\n",
      "682/682 [==============================] - 12s 18ms/step - loss: 34.4621 - mean_absolute_error: 4.3046 - val_loss: 59.9377 - val_mean_absolute_error: 5.4831\n",
      "Epoch 25/50\n",
      "682/682 [==============================] - 12s 18ms/step - loss: 34.1177 - mean_absolute_error: 4.2733 - val_loss: 57.6873 - val_mean_absolute_error: 5.3986\n",
      "Epoch 26/50\n",
      "682/682 [==============================] - 12s 18ms/step - loss: 34.7660 - mean_absolute_error: 4.3161 - val_loss: 57.5087 - val_mean_absolute_error: 5.3839\n",
      "Epoch 27/50\n",
      "682/682 [==============================] - 12s 18ms/step - loss: 33.9552 - mean_absolute_error: 4.2658 - val_loss: 58.2377 - val_mean_absolute_error: 5.4554\n",
      "Epoch 28/50\n",
      "682/682 [==============================] - 12s 18ms/step - loss: 33.3328 - mean_absolute_error: 4.2282 - val_loss: 57.1282 - val_mean_absolute_error: 5.3919\n",
      "Epoch 29/50\n",
      "682/682 [==============================] - 12s 18ms/step - loss: 33.9766 - mean_absolute_error: 4.2617 - val_loss: 59.8634 - val_mean_absolute_error: 5.5397\n",
      "Epoch 30/50\n",
      "682/682 [==============================] - 12s 18ms/step - loss: 34.2215 - mean_absolute_error: 4.2579 - val_loss: 57.5147 - val_mean_absolute_error: 5.3876\n",
      "Epoch 31/50\n",
      "682/682 [==============================] - 12s 18ms/step - loss: 32.8598 - mean_absolute_error: 4.1919 - val_loss: 58.8225 - val_mean_absolute_error: 5.4723\n",
      "Epoch 32/50\n",
      "682/682 [==============================] - 12s 18ms/step - loss: 32.4195 - mean_absolute_error: 4.1669 - val_loss: 60.2151 - val_mean_absolute_error: 5.5213\n",
      "Epoch 33/50\n",
      "682/682 [==============================] - 12s 18ms/step - loss: 32.5903 - mean_absolute_error: 4.1729 - val_loss: 57.5072 - val_mean_absolute_error: 5.3651\n",
      "Epoch 34/50\n",
      "682/682 [==============================] - 12s 18ms/step - loss: 32.5155 - mean_absolute_error: 4.1630 - val_loss: 64.6895 - val_mean_absolute_error: 5.6945\n",
      "Epoch 35/50\n",
      "682/682 [==============================] - 12s 18ms/step - loss: 32.0353 - mean_absolute_error: 4.1362 - val_loss: 55.6713 - val_mean_absolute_error: 5.2945\n",
      "Epoch 36/50\n",
      "682/682 [==============================] - 12s 18ms/step - loss: 31.9313 - mean_absolute_error: 4.1291 - val_loss: 59.6167 - val_mean_absolute_error: 5.4748\n",
      "Epoch 37/50\n",
      "682/682 [==============================] - 12s 18ms/step - loss: 32.3091 - mean_absolute_error: 4.1501 - val_loss: 62.0442 - val_mean_absolute_error: 5.5818\n",
      "Epoch 38/50\n",
      "682/682 [==============================] - 12s 18ms/step - loss: 31.7222 - mean_absolute_error: 4.1159 - val_loss: 58.1516 - val_mean_absolute_error: 5.3925\n",
      "Epoch 39/50\n",
      "682/682 [==============================] - 12s 18ms/step - loss: 31.4566 - mean_absolute_error: 4.0960 - val_loss: 57.2265 - val_mean_absolute_error: 5.3670\n",
      "Epoch 40/50\n",
      "682/682 [==============================] - 12s 18ms/step - loss: 31.2274 - mean_absolute_error: 4.0816 - val_loss: 61.9160 - val_mean_absolute_error: 5.5745\n",
      "Epoch 41/50\n",
      "682/682 [==============================] - 12s 18ms/step - loss: 31.1428 - mean_absolute_error: 4.0760 - val_loss: 58.7283 - val_mean_absolute_error: 5.4360\n",
      "Epoch 42/50\n",
      "682/682 [==============================] - 12s 18ms/step - loss: 31.9860 - mean_absolute_error: 4.1225 - val_loss: 56.0580 - val_mean_absolute_error: 5.2895\n",
      "Epoch 43/50\n",
      "682/682 [==============================] - 12s 18ms/step - loss: 30.1963 - mean_absolute_error: 4.0170 - val_loss: 60.5127 - val_mean_absolute_error: 5.5106\n",
      "Epoch 44/50\n",
      "682/682 [==============================] - 12s 18ms/step - loss: 30.1255 - mean_absolute_error: 4.0053 - val_loss: 56.1698 - val_mean_absolute_error: 5.3401\n",
      "Epoch 45/50\n",
      "682/682 [==============================] - 12s 18ms/step - loss: 30.5581 - mean_absolute_error: 4.0365 - val_loss: 61.1900 - val_mean_absolute_error: 5.5286\n",
      "Epoch 46/50\n",
      "682/682 [==============================] - 12s 18ms/step - loss: 29.9087 - mean_absolute_error: 3.9977 - val_loss: 58.8238 - val_mean_absolute_error: 5.4616\n",
      "Epoch 47/50\n",
      "682/682 [==============================] - 12s 18ms/step - loss: 29.5358 - mean_absolute_error: 3.9723 - val_loss: 57.7167 - val_mean_absolute_error: 5.3965\n",
      "Epoch 48/50\n",
      "682/682 [==============================] - 12s 18ms/step - loss: 30.2698 - mean_absolute_error: 4.0138 - val_loss: 62.5212 - val_mean_absolute_error: 5.6042\n",
      "Epoch 49/50\n",
      "682/682 [==============================] - 12s 18ms/step - loss: 30.5434 - mean_absolute_error: 4.0281 - val_loss: 57.1966 - val_mean_absolute_error: 5.3594\n",
      "Epoch 50/50\n",
      "682/682 [==============================] - 12s 18ms/step - loss: 29.1283 - mean_absolute_error: 3.9412 - val_loss: 56.1886 - val_mean_absolute_error: 5.3340\n"
     ]
    },
    {
     "name": "stderr",
     "output_type": "stream",
     "text": [
      "WARNING:absl:Found untraced functions such as _jit_compiled_convolution_op, _jit_compiled_convolution_op, _jit_compiled_convolution_op, lstm_cell_2_layer_call_fn, lstm_cell_2_layer_call_and_return_conditional_losses while saving (showing 5 of 7). These functions will not be directly callable after loading.\n"
     ]
    },
    {
     "name": "stdout",
     "output_type": "stream",
     "text": [
      "INFO:tensorflow:Assets written to: ../models/cnn_lstm_7days_history_1days_pred_100_epochs_2lstm-layer_64,64_dropout-0-4_4\\assets\n"
     ]
    },
    {
     "name": "stderr",
     "output_type": "stream",
     "text": [
      "INFO:tensorflow:Assets written to: ../models/cnn_lstm_7days_history_1days_pred_100_epochs_2lstm-layer_64,64_dropout-0-4_4\\assets\n"
     ]
    },
    {
     "name": "stdout",
     "output_type": "stream",
     "text": [
      "Epoch 1/50\n",
      "682/682 [==============================] - 11s 16ms/step - loss: 29.1360 - mean_absolute_error: 3.9429 - val_loss: 56.9437 - val_mean_absolute_error: 5.3822\n",
      "Epoch 2/50\n",
      "682/682 [==============================] - 11s 16ms/step - loss: 28.9077 - mean_absolute_error: 3.9267 - val_loss: 57.9257 - val_mean_absolute_error: 5.4332\n",
      "Epoch 3/50\n",
      "682/682 [==============================] - 11s 16ms/step - loss: 28.9788 - mean_absolute_error: 3.9266 - val_loss: 59.6489 - val_mean_absolute_error: 5.5226\n",
      "Epoch 4/50\n",
      "682/682 [==============================] - 11s 16ms/step - loss: 28.8861 - mean_absolute_error: 3.9246 - val_loss: 57.4870 - val_mean_absolute_error: 5.4050\n",
      "Epoch 5/50\n",
      "682/682 [==============================] - 11s 16ms/step - loss: 28.8311 - mean_absolute_error: 3.9181 - val_loss: 59.3919 - val_mean_absolute_error: 5.4483\n",
      "Epoch 6/50\n",
      "682/682 [==============================] - 11s 16ms/step - loss: 29.0413 - mean_absolute_error: 3.9331 - val_loss: 56.5110 - val_mean_absolute_error: 5.3132\n",
      "Epoch 7/50\n",
      "682/682 [==============================] - 11s 16ms/step - loss: 28.4290 - mean_absolute_error: 3.8901 - val_loss: 61.8708 - val_mean_absolute_error: 5.5554\n",
      "Epoch 8/50\n",
      "682/682 [==============================] - 11s 16ms/step - loss: 30.0328 - mean_absolute_error: 3.9870 - val_loss: 59.3298 - val_mean_absolute_error: 5.4468\n",
      "Epoch 9/50\n",
      "682/682 [==============================] - 11s 16ms/step - loss: 29.1544 - mean_absolute_error: 3.9344 - val_loss: 62.0364 - val_mean_absolute_error: 5.5822\n",
      "Epoch 10/50\n",
      "682/682 [==============================] - 11s 16ms/step - loss: 27.9863 - mean_absolute_error: 3.8548 - val_loss: 59.0815 - val_mean_absolute_error: 5.4416\n",
      "Epoch 11/50\n",
      "682/682 [==============================] - 11s 16ms/step - loss: 27.4198 - mean_absolute_error: 3.8197 - val_loss: 58.8417 - val_mean_absolute_error: 5.4509\n",
      "Epoch 12/50\n",
      "682/682 [==============================] - 11s 16ms/step - loss: 27.4022 - mean_absolute_error: 3.8198 - val_loss: 60.0385 - val_mean_absolute_error: 5.4997\n",
      "Epoch 13/50\n",
      "682/682 [==============================] - 11s 16ms/step - loss: 27.6588 - mean_absolute_error: 3.8360 - val_loss: 58.0173 - val_mean_absolute_error: 5.4051\n",
      "Epoch 14/50\n",
      "682/682 [==============================] - 11s 16ms/step - loss: 27.7143 - mean_absolute_error: 3.8387 - val_loss: 57.1659 - val_mean_absolute_error: 5.3703\n",
      "Epoch 15/50\n",
      "682/682 [==============================] - 11s 16ms/step - loss: 27.4737 - mean_absolute_error: 3.8237 - val_loss: 61.8991 - val_mean_absolute_error: 5.5557\n",
      "Epoch 16/50\n",
      "682/682 [==============================] - 11s 16ms/step - loss: 27.1905 - mean_absolute_error: 3.8034 - val_loss: 62.5524 - val_mean_absolute_error: 5.6131\n",
      "Epoch 17/50\n",
      "682/682 [==============================] - 11s 16ms/step - loss: 27.0245 - mean_absolute_error: 3.7935 - val_loss: 55.8887 - val_mean_absolute_error: 5.2663\n",
      "Epoch 18/50\n",
      "682/682 [==============================] - 11s 16ms/step - loss: 26.8514 - mean_absolute_error: 3.7805 - val_loss: 58.0530 - val_mean_absolute_error: 5.3603\n",
      "Epoch 19/50\n",
      "682/682 [==============================] - 11s 15ms/step - loss: 27.9776 - mean_absolute_error: 3.8577 - val_loss: 64.9283 - val_mean_absolute_error: 5.7100\n",
      "Epoch 20/50\n",
      "682/682 [==============================] - 11s 15ms/step - loss: 27.2064 - mean_absolute_error: 3.7915 - val_loss: 58.2995 - val_mean_absolute_error: 5.3794\n",
      "Epoch 21/50\n",
      "682/682 [==============================] - 11s 16ms/step - loss: 26.5877 - mean_absolute_error: 3.7567 - val_loss: 59.8060 - val_mean_absolute_error: 5.4691\n",
      "Epoch 22/50\n",
      "682/682 [==============================] - 11s 16ms/step - loss: 26.6165 - mean_absolute_error: 3.7638 - val_loss: 60.2134 - val_mean_absolute_error: 5.5273\n",
      "Epoch 23/50\n",
      "682/682 [==============================] - 11s 16ms/step - loss: 26.6500 - mean_absolute_error: 3.7678 - val_loss: 61.0030 - val_mean_absolute_error: 5.5246\n",
      "Epoch 24/50\n",
      "682/682 [==============================] - 11s 16ms/step - loss: 26.1148 - mean_absolute_error: 3.7273 - val_loss: 58.1916 - val_mean_absolute_error: 5.4193\n",
      "Epoch 25/50\n",
      "682/682 [==============================] - 11s 16ms/step - loss: 26.5910 - mean_absolute_error: 3.7575 - val_loss: 63.9483 - val_mean_absolute_error: 5.6599\n",
      "Epoch 26/50\n",
      "682/682 [==============================] - 11s 16ms/step - loss: 27.0273 - mean_absolute_error: 3.7861 - val_loss: 57.4818 - val_mean_absolute_error: 5.3827\n",
      "Epoch 27/50\n",
      "682/682 [==============================] - 11s 16ms/step - loss: 26.4244 - mean_absolute_error: 3.7383 - val_loss: 62.2639 - val_mean_absolute_error: 5.5979\n",
      "Epoch 28/50\n",
      "682/682 [==============================] - 11s 15ms/step - loss: 27.0126 - mean_absolute_error: 3.7603 - val_loss: 59.6038 - val_mean_absolute_error: 5.4472\n",
      "Epoch 29/50\n",
      "682/682 [==============================] - 11s 16ms/step - loss: 26.3609 - mean_absolute_error: 3.7284 - val_loss: 58.3982 - val_mean_absolute_error: 5.4146\n",
      "Epoch 30/50\n",
      "682/682 [==============================] - 11s 16ms/step - loss: 25.4070 - mean_absolute_error: 3.6700 - val_loss: 57.9608 - val_mean_absolute_error: 5.4191\n",
      "Epoch 31/50\n",
      "682/682 [==============================] - 11s 16ms/step - loss: 25.9629 - mean_absolute_error: 3.7092 - val_loss: 60.1932 - val_mean_absolute_error: 5.4794\n",
      "Epoch 32/50\n",
      "682/682 [==============================] - 11s 16ms/step - loss: 25.8695 - mean_absolute_error: 3.6914 - val_loss: 58.8239 - val_mean_absolute_error: 5.4396\n",
      "Epoch 33/50\n",
      "682/682 [==============================] - 11s 16ms/step - loss: 25.5851 - mean_absolute_error: 3.6802 - val_loss: 59.4294 - val_mean_absolute_error: 5.4350\n",
      "Epoch 34/50\n",
      "682/682 [==============================] - 11s 16ms/step - loss: 25.4621 - mean_absolute_error: 3.6725 - val_loss: 63.6878 - val_mean_absolute_error: 5.6118\n",
      "Epoch 35/50\n",
      "682/682 [==============================] - 11s 16ms/step - loss: 25.3578 - mean_absolute_error: 3.6647 - val_loss: 56.9344 - val_mean_absolute_error: 5.3032\n",
      "Epoch 36/50\n",
      "682/682 [==============================] - 11s 16ms/step - loss: 25.5235 - mean_absolute_error: 3.6773 - val_loss: 59.7468 - val_mean_absolute_error: 5.4569\n",
      "Epoch 37/50\n",
      "682/682 [==============================] - 11s 16ms/step - loss: 24.9450 - mean_absolute_error: 3.6364 - val_loss: 62.1348 - val_mean_absolute_error: 5.5533\n",
      "Epoch 38/50\n",
      "682/682 [==============================] - 11s 16ms/step - loss: 25.4462 - mean_absolute_error: 3.6643 - val_loss: 63.1853 - val_mean_absolute_error: 5.6162\n",
      "Epoch 39/50\n",
      "682/682 [==============================] - 11s 16ms/step - loss: 25.3257 - mean_absolute_error: 3.6539 - val_loss: 59.4651 - val_mean_absolute_error: 5.4329\n",
      "Epoch 40/50\n",
      "682/682 [==============================] - 11s 16ms/step - loss: 24.8156 - mean_absolute_error: 3.6249 - val_loss: 56.5496 - val_mean_absolute_error: 5.3401\n",
      "Epoch 41/50\n",
      "682/682 [==============================] - 11s 16ms/step - loss: 25.0641 - mean_absolute_error: 3.6446 - val_loss: 63.9635 - val_mean_absolute_error: 5.6371\n",
      "Epoch 42/50\n",
      "682/682 [==============================] - 11s 16ms/step - loss: 24.8438 - mean_absolute_error: 3.6273 - val_loss: 58.1596 - val_mean_absolute_error: 5.3846\n",
      "Epoch 43/50\n",
      "682/682 [==============================] - 11s 16ms/step - loss: 24.5299 - mean_absolute_error: 3.6039 - val_loss: 57.1571 - val_mean_absolute_error: 5.3539\n",
      "Epoch 44/50\n",
      "682/682 [==============================] - 11s 16ms/step - loss: 24.4055 - mean_absolute_error: 3.5928 - val_loss: 62.0012 - val_mean_absolute_error: 5.5395\n",
      "Epoch 45/50\n",
      "682/682 [==============================] - 11s 16ms/step - loss: 24.3814 - mean_absolute_error: 3.5929 - val_loss: 62.0501 - val_mean_absolute_error: 5.5491\n",
      "Epoch 46/50\n",
      "682/682 [==============================] - 11s 16ms/step - loss: 24.7416 - mean_absolute_error: 3.6201 - val_loss: 59.6053 - val_mean_absolute_error: 5.4645\n",
      "Epoch 47/50\n",
      "682/682 [==============================] - 11s 16ms/step - loss: 24.1589 - mean_absolute_error: 3.5777 - val_loss: 55.9853 - val_mean_absolute_error: 5.2730\n",
      "Epoch 48/50\n",
      "682/682 [==============================] - 11s 16ms/step - loss: 23.9332 - mean_absolute_error: 3.5610 - val_loss: 56.0688 - val_mean_absolute_error: 5.2966\n",
      "Epoch 49/50\n",
      "682/682 [==============================] - 11s 16ms/step - loss: 24.1512 - mean_absolute_error: 3.5743 - val_loss: 60.2894 - val_mean_absolute_error: 5.4754\n",
      "Epoch 50/50\n",
      "682/682 [==============================] - 11s 16ms/step - loss: 23.7956 - mean_absolute_error: 3.5475 - val_loss: 57.6463 - val_mean_absolute_error: 5.3852\n"
     ]
    },
    {
     "name": "stderr",
     "output_type": "stream",
     "text": [
      "WARNING:absl:Found untraced functions such as _jit_compiled_convolution_op, _jit_compiled_convolution_op, _jit_compiled_convolution_op, lstm_cell_2_layer_call_fn, lstm_cell_2_layer_call_and_return_conditional_losses while saving (showing 5 of 7). These functions will not be directly callable after loading.\n"
     ]
    },
    {
     "name": "stdout",
     "output_type": "stream",
     "text": [
      "INFO:tensorflow:Assets written to: ../models/cnn_lstm_7days_history_1days_pred_150_epochs_2lstm-layer_64,64_dropout-0-4_4\\assets\n"
     ]
    },
    {
     "name": "stderr",
     "output_type": "stream",
     "text": [
      "INFO:tensorflow:Assets written to: ../models/cnn_lstm_7days_history_1days_pred_150_epochs_2lstm-layer_64,64_dropout-0-4_4\\assets\n"
     ]
    },
    {
     "name": "stdout",
     "output_type": "stream",
     "text": [
      "Epoch 1/50\n",
      "682/682 [==============================] - 9s 14ms/step - loss: 24.1807 - mean_absolute_error: 3.5795 - val_loss: 56.0954 - val_mean_absolute_error: 5.2930\n",
      "Epoch 2/50\n",
      "682/682 [==============================] - 9s 14ms/step - loss: 24.5896 - mean_absolute_error: 3.6013 - val_loss: 54.6655 - val_mean_absolute_error: 5.2400\n",
      "Epoch 3/50\n",
      "682/682 [==============================] - 9s 14ms/step - loss: 24.3635 - mean_absolute_error: 3.5832 - val_loss: 57.2222 - val_mean_absolute_error: 5.3218\n",
      "Epoch 4/50\n",
      "682/682 [==============================] - 9s 14ms/step - loss: 23.5026 - mean_absolute_error: 3.5218 - val_loss: 55.6444 - val_mean_absolute_error: 5.2783\n",
      "Epoch 5/50\n",
      "682/682 [==============================] - 9s 14ms/step - loss: 23.5750 - mean_absolute_error: 3.5263 - val_loss: 60.8449 - val_mean_absolute_error: 5.4741\n",
      "Epoch 6/50\n",
      "682/682 [==============================] - 9s 14ms/step - loss: 23.3496 - mean_absolute_error: 3.5187 - val_loss: 53.6154 - val_mean_absolute_error: 5.1771\n",
      "Epoch 7/50\n",
      "682/682 [==============================] - 9s 14ms/step - loss: 23.9480 - mean_absolute_error: 3.5505 - val_loss: 53.7883 - val_mean_absolute_error: 5.1406\n",
      "Epoch 8/50\n",
      "682/682 [==============================] - 9s 13ms/step - loss: 23.2442 - mean_absolute_error: 3.5023 - val_loss: 57.0653 - val_mean_absolute_error: 5.3237\n",
      "Epoch 9/50\n",
      "682/682 [==============================] - 9s 14ms/step - loss: 23.3026 - mean_absolute_error: 3.5078 - val_loss: 55.0655 - val_mean_absolute_error: 5.2503\n",
      "Epoch 10/50\n",
      "682/682 [==============================] - 9s 13ms/step - loss: 23.1653 - mean_absolute_error: 3.4948 - val_loss: 57.4623 - val_mean_absolute_error: 5.3223\n",
      "Epoch 11/50\n",
      "682/682 [==============================] - 9s 13ms/step - loss: 22.9506 - mean_absolute_error: 3.4804 - val_loss: 54.0589 - val_mean_absolute_error: 5.2133\n",
      "Epoch 12/50\n",
      "682/682 [==============================] - 9s 14ms/step - loss: 23.3797 - mean_absolute_error: 3.5176 - val_loss: 56.9091 - val_mean_absolute_error: 5.3136\n",
      "Epoch 13/50\n",
      "682/682 [==============================] - 9s 14ms/step - loss: 23.5643 - mean_absolute_error: 3.5275 - val_loss: 54.8063 - val_mean_absolute_error: 5.2542\n",
      "Epoch 14/50\n",
      "682/682 [==============================] - 9s 14ms/step - loss: 22.9360 - mean_absolute_error: 3.4809 - val_loss: 56.0231 - val_mean_absolute_error: 5.2762\n",
      "Epoch 15/50\n",
      "682/682 [==============================] - 9s 14ms/step - loss: 23.0579 - mean_absolute_error: 3.4870 - val_loss: 54.9061 - val_mean_absolute_error: 5.2293\n",
      "Epoch 16/50\n",
      "682/682 [==============================] - 9s 13ms/step - loss: 22.8613 - mean_absolute_error: 3.4746 - val_loss: 54.7328 - val_mean_absolute_error: 5.2146\n",
      "Epoch 17/50\n",
      "682/682 [==============================] - 9s 14ms/step - loss: 22.5436 - mean_absolute_error: 3.4500 - val_loss: 52.7773 - val_mean_absolute_error: 5.1241\n",
      "Epoch 18/50\n",
      "682/682 [==============================] - 9s 14ms/step - loss: 23.1449 - mean_absolute_error: 3.4901 - val_loss: 51.1105 - val_mean_absolute_error: 5.0583\n",
      "Epoch 19/50\n",
      "682/682 [==============================] - 9s 14ms/step - loss: 22.6172 - mean_absolute_error: 3.4541 - val_loss: 55.1585 - val_mean_absolute_error: 5.2703\n",
      "Epoch 20/50\n",
      "682/682 [==============================] - 9s 14ms/step - loss: 22.3753 - mean_absolute_error: 3.4379 - val_loss: 51.9104 - val_mean_absolute_error: 5.0773\n",
      "Epoch 21/50\n",
      "682/682 [==============================] - 9s 14ms/step - loss: 22.4194 - mean_absolute_error: 3.4377 - val_loss: 51.3943 - val_mean_absolute_error: 5.0528\n",
      "Epoch 22/50\n",
      "682/682 [==============================] - 9s 14ms/step - loss: 22.2886 - mean_absolute_error: 3.4277 - val_loss: 53.4973 - val_mean_absolute_error: 5.1176\n",
      "Epoch 23/50\n",
      "682/682 [==============================] - 9s 14ms/step - loss: 22.5369 - mean_absolute_error: 3.4438 - val_loss: 52.8063 - val_mean_absolute_error: 5.1026\n",
      "Epoch 24/50\n",
      "682/682 [==============================] - 9s 14ms/step - loss: 22.6961 - mean_absolute_error: 3.4628 - val_loss: 54.1130 - val_mean_absolute_error: 5.1486\n",
      "Epoch 25/50\n",
      "682/682 [==============================] - 9s 14ms/step - loss: 22.0022 - mean_absolute_error: 3.4058 - val_loss: 53.6065 - val_mean_absolute_error: 5.1610\n",
      "Epoch 26/50\n",
      "682/682 [==============================] - 9s 14ms/step - loss: 22.4236 - mean_absolute_error: 3.4332 - val_loss: 52.4015 - val_mean_absolute_error: 5.0931\n",
      "Epoch 27/50\n",
      "682/682 [==============================] - 9s 14ms/step - loss: 22.2395 - mean_absolute_error: 3.4190 - val_loss: 52.8290 - val_mean_absolute_error: 5.1286\n",
      "Epoch 28/50\n",
      "682/682 [==============================] - 9s 14ms/step - loss: 22.2054 - mean_absolute_error: 3.4133 - val_loss: 54.6009 - val_mean_absolute_error: 5.1696\n",
      "Epoch 29/50\n",
      "682/682 [==============================] - 9s 14ms/step - loss: 21.9518 - mean_absolute_error: 3.3983 - val_loss: 53.1920 - val_mean_absolute_error: 5.0990\n",
      "Epoch 30/50\n",
      "682/682 [==============================] - 9s 14ms/step - loss: 21.7860 - mean_absolute_error: 3.3926 - val_loss: 52.5643 - val_mean_absolute_error: 5.0891\n",
      "Epoch 31/50\n",
      "682/682 [==============================] - 9s 14ms/step - loss: 22.1510 - mean_absolute_error: 3.4158 - val_loss: 52.3597 - val_mean_absolute_error: 5.0923\n",
      "Epoch 32/50\n",
      "682/682 [==============================] - 9s 14ms/step - loss: 22.3126 - mean_absolute_error: 3.4287 - val_loss: 52.9090 - val_mean_absolute_error: 5.0787\n",
      "Epoch 33/50\n",
      "682/682 [==============================] - 9s 14ms/step - loss: 21.8075 - mean_absolute_error: 3.3842 - val_loss: 53.1241 - val_mean_absolute_error: 5.1052\n",
      "Epoch 34/50\n",
      "682/682 [==============================] - 9s 14ms/step - loss: 21.3770 - mean_absolute_error: 3.3532 - val_loss: 53.3209 - val_mean_absolute_error: 5.1074\n",
      "Epoch 35/50\n",
      "682/682 [==============================] - 9s 14ms/step - loss: 22.2524 - mean_absolute_error: 3.4262 - val_loss: 55.3273 - val_mean_absolute_error: 5.2301\n",
      "Epoch 36/50\n",
      "682/682 [==============================] - 9s 14ms/step - loss: 21.8493 - mean_absolute_error: 3.3918 - val_loss: 51.1112 - val_mean_absolute_error: 5.0410\n",
      "Epoch 37/50\n",
      "682/682 [==============================] - 9s 14ms/step - loss: 21.4972 - mean_absolute_error: 3.3663 - val_loss: 51.4926 - val_mean_absolute_error: 5.0480\n",
      "Epoch 38/50\n",
      "682/682 [==============================] - 9s 14ms/step - loss: 21.4334 - mean_absolute_error: 3.3527 - val_loss: 52.6322 - val_mean_absolute_error: 5.0975\n",
      "Epoch 39/50\n",
      "682/682 [==============================] - 9s 14ms/step - loss: 21.2271 - mean_absolute_error: 3.3446 - val_loss: 52.0456 - val_mean_absolute_error: 5.0591\n",
      "Epoch 40/50\n",
      "682/682 [==============================] - 9s 14ms/step - loss: 21.1712 - mean_absolute_error: 3.3386 - val_loss: 51.6403 - val_mean_absolute_error: 5.0634\n",
      "Epoch 41/50\n",
      "682/682 [==============================] - 9s 14ms/step - loss: 21.3970 - mean_absolute_error: 3.3584 - val_loss: 56.0447 - val_mean_absolute_error: 5.2681\n",
      "Epoch 42/50\n",
      "682/682 [==============================] - 9s 14ms/step - loss: 22.0764 - mean_absolute_error: 3.4051 - val_loss: 52.8793 - val_mean_absolute_error: 5.1350\n",
      "Epoch 43/50\n",
      "682/682 [==============================] - 9s 14ms/step - loss: 21.3569 - mean_absolute_error: 3.3496 - val_loss: 51.9572 - val_mean_absolute_error: 5.0804\n",
      "Epoch 44/50\n",
      "682/682 [==============================] - 9s 14ms/step - loss: 21.2665 - mean_absolute_error: 3.3387 - val_loss: 53.5502 - val_mean_absolute_error: 5.1648\n",
      "Epoch 45/50\n",
      "682/682 [==============================] - 9s 14ms/step - loss: 21.1269 - mean_absolute_error: 3.3330 - val_loss: 50.9036 - val_mean_absolute_error: 5.0081\n",
      "Epoch 46/50\n",
      "682/682 [==============================] - 9s 14ms/step - loss: 21.1329 - mean_absolute_error: 3.3346 - val_loss: 51.4755 - val_mean_absolute_error: 5.0662\n",
      "Epoch 47/50\n",
      "682/682 [==============================] - 9s 14ms/step - loss: 20.8071 - mean_absolute_error: 3.3086 - val_loss: 53.1774 - val_mean_absolute_error: 5.1464\n",
      "Epoch 48/50\n",
      "682/682 [==============================] - 9s 14ms/step - loss: 21.0499 - mean_absolute_error: 3.3301 - val_loss: 50.7719 - val_mean_absolute_error: 5.0210\n",
      "Epoch 49/50\n",
      "682/682 [==============================] - 9s 14ms/step - loss: 21.4578 - mean_absolute_error: 3.3608 - val_loss: 52.8150 - val_mean_absolute_error: 5.0900\n",
      "Epoch 50/50\n",
      "682/682 [==============================] - 9s 14ms/step - loss: 20.7636 - mean_absolute_error: 3.3034 - val_loss: 51.6748 - val_mean_absolute_error: 5.0455\n"
     ]
    },
    {
     "name": "stderr",
     "output_type": "stream",
     "text": [
      "WARNING:absl:Found untraced functions such as _jit_compiled_convolution_op, _jit_compiled_convolution_op, _jit_compiled_convolution_op, lstm_cell_2_layer_call_fn, lstm_cell_2_layer_call_and_return_conditional_losses while saving (showing 5 of 7). These functions will not be directly callable after loading.\n"
     ]
    },
    {
     "name": "stdout",
     "output_type": "stream",
     "text": [
      "INFO:tensorflow:Assets written to: ../models/cnn_lstm_7days_history_1days_pred_200_epochs_2lstm-layer_64,64_dropout-0-4_4\\assets\n"
     ]
    },
    {
     "name": "stderr",
     "output_type": "stream",
     "text": [
      "INFO:tensorflow:Assets written to: ../models/cnn_lstm_7days_history_1days_pred_200_epochs_2lstm-layer_64,64_dropout-0-4_4\\assets\n"
     ]
    },
    {
     "name": "stdout",
     "output_type": "stream",
     "text": [
      "Shutting down background jobs, please wait a moment...\n",
      "Done!\n",
      "Waiting for the remaining 1 operations to synchronize with Neptune. Do not kill this process.\n",
      "All 1 operations synced, thanks for waiting!\n",
      "Explore the metadata in the Neptune app:\n",
      "https://app.neptune.ai/data-mining-team2/model-tests/e/MOD-12/metadata\n"
     ]
    },
    {
     "name": "stderr",
     "output_type": "stream",
     "text": [
      "ERROR:run_logger:Finished run: station_538_with_lambda\n",
      "ERROR:run_logger:Start run: station_530_and_538_with_lambda\n"
     ]
    },
    {
     "name": "stdout",
     "output_type": "stream",
     "text": [
      "https://app.neptune.ai/data-mining-team2/model-tests/e/MOD-13\n",
      "Epoch 1/50\n",
      "1389/1389 [==============================] - 25s 15ms/step - loss: 388.5752 - mean_absolute_error: 12.3280 - val_loss: 348.4860 - val_mean_absolute_error: 11.7229\n",
      "Epoch 2/50\n",
      "1389/1389 [==============================] - 20s 14ms/step - loss: 351.8225 - mean_absolute_error: 11.6292 - val_loss: 356.2151 - val_mean_absolute_error: 11.9925\n",
      "Epoch 3/50\n",
      "1389/1389 [==============================] - 20s 14ms/step - loss: 348.7561 - mean_absolute_error: 11.5557 - val_loss: 340.8647 - val_mean_absolute_error: 11.6656\n",
      "Epoch 4/50\n",
      "1389/1389 [==============================] - 20s 14ms/step - loss: 340.7701 - mean_absolute_error: 11.4023 - val_loss: 331.9737 - val_mean_absolute_error: 11.4368\n",
      "Epoch 5/50\n",
      "1389/1389 [==============================] - 20s 14ms/step - loss: 338.5620 - mean_absolute_error: 11.3357 - val_loss: 343.0171 - val_mean_absolute_error: 11.5850\n",
      "Epoch 6/50\n",
      "1389/1389 [==============================] - 20s 14ms/step - loss: 333.5342 - mean_absolute_error: 11.2624 - val_loss: 332.5537 - val_mean_absolute_error: 11.3388\n",
      "Epoch 7/50\n",
      "1389/1389 [==============================] - 20s 14ms/step - loss: 330.7014 - mean_absolute_error: 11.2182 - val_loss: 321.5569 - val_mean_absolute_error: 11.1653\n",
      "Epoch 8/50\n",
      "1389/1389 [==============================] - 20s 14ms/step - loss: 325.7082 - mean_absolute_error: 11.1031 - val_loss: 319.9204 - val_mean_absolute_error: 11.0929\n",
      "Epoch 9/50\n",
      "1389/1389 [==============================] - 20s 14ms/step - loss: 324.8278 - mean_absolute_error: 11.0833 - val_loss: 328.6491 - val_mean_absolute_error: 11.4135\n",
      "Epoch 10/50\n",
      "1389/1389 [==============================] - 19s 14ms/step - loss: 323.9110 - mean_absolute_error: 11.0413 - val_loss: 326.8296 - val_mean_absolute_error: 11.2919\n",
      "Epoch 11/50\n",
      "1389/1389 [==============================] - 19s 14ms/step - loss: 326.7258 - mean_absolute_error: 11.0763 - val_loss: 320.7685 - val_mean_absolute_error: 11.3310\n",
      "Epoch 12/50\n",
      "1389/1389 [==============================] - 20s 14ms/step - loss: 317.6579 - mean_absolute_error: 10.9407 - val_loss: 312.8639 - val_mean_absolute_error: 11.0163\n",
      "Epoch 13/50\n",
      "1389/1389 [==============================] - 20s 14ms/step - loss: 314.1633 - mean_absolute_error: 10.8723 - val_loss: 315.6132 - val_mean_absolute_error: 10.9486\n",
      "Epoch 14/50\n",
      "1389/1389 [==============================] - 20s 14ms/step - loss: 312.0811 - mean_absolute_error: 10.8262 - val_loss: 313.6370 - val_mean_absolute_error: 10.9099\n",
      "Epoch 15/50\n",
      "1389/1389 [==============================] - 20s 14ms/step - loss: 307.6090 - mean_absolute_error: 10.7611 - val_loss: 313.2464 - val_mean_absolute_error: 11.0136\n",
      "Epoch 16/50\n",
      "1389/1389 [==============================] - 20s 14ms/step - loss: 307.1735 - mean_absolute_error: 10.7336 - val_loss: 307.8520 - val_mean_absolute_error: 10.8593\n",
      "Epoch 17/50\n",
      "1389/1389 [==============================] - 20s 14ms/step - loss: 303.6506 - mean_absolute_error: 10.6771 - val_loss: 306.1299 - val_mean_absolute_error: 10.8779\n",
      "Epoch 18/50\n",
      "1389/1389 [==============================] - 20s 14ms/step - loss: 299.7656 - mean_absolute_error: 10.6308 - val_loss: 302.9005 - val_mean_absolute_error: 10.7444\n",
      "Epoch 19/50\n",
      "1389/1389 [==============================] - 20s 14ms/step - loss: 296.5721 - mean_absolute_error: 10.5584 - val_loss: 303.8923 - val_mean_absolute_error: 10.8699\n",
      "Epoch 20/50\n",
      "1389/1389 [==============================] - 20s 14ms/step - loss: 294.5683 - mean_absolute_error: 10.5365 - val_loss: 317.9392 - val_mean_absolute_error: 10.9160\n",
      "Epoch 21/50\n",
      "1389/1389 [==============================] - 20s 14ms/step - loss: 290.9333 - mean_absolute_error: 10.4736 - val_loss: 288.3659 - val_mean_absolute_error: 10.4805\n",
      "Epoch 22/50\n",
      "1389/1389 [==============================] - 20s 14ms/step - loss: 285.1250 - mean_absolute_error: 10.3791 - val_loss: 290.3713 - val_mean_absolute_error: 10.4856\n",
      "Epoch 23/50\n",
      "1389/1389 [==============================] - 20s 14ms/step - loss: 280.8735 - mean_absolute_error: 10.3025 - val_loss: 295.6629 - val_mean_absolute_error: 10.8138\n",
      "Epoch 24/50\n",
      "1389/1389 [==============================] - 20s 14ms/step - loss: 274.7895 - mean_absolute_error: 10.2182 - val_loss: 287.3497 - val_mean_absolute_error: 10.5988\n",
      "Epoch 25/50\n",
      "1389/1389 [==============================] - 20s 14ms/step - loss: 271.1778 - mean_absolute_error: 10.1527 - val_loss: 327.7884 - val_mean_absolute_error: 11.3049\n",
      "Epoch 26/50\n",
      "1389/1389 [==============================] - 20s 14ms/step - loss: 268.0326 - mean_absolute_error: 10.1207 - val_loss: 288.2551 - val_mean_absolute_error: 10.5715\n",
      "Epoch 27/50\n",
      "1389/1389 [==============================] - 20s 14ms/step - loss: 265.0545 - mean_absolute_error: 10.0616 - val_loss: 275.1453 - val_mean_absolute_error: 10.4112\n",
      "Epoch 28/50\n",
      "1389/1389 [==============================] - 20s 14ms/step - loss: 258.8432 - mean_absolute_error: 9.9881 - val_loss: 271.8529 - val_mean_absolute_error: 10.2765\n",
      "Epoch 29/50\n",
      "1389/1389 [==============================] - 20s 14ms/step - loss: 256.3352 - mean_absolute_error: 9.9008 - val_loss: 279.0763 - val_mean_absolute_error: 10.3815\n",
      "Epoch 30/50\n",
      "1389/1389 [==============================] - 20s 14ms/step - loss: 250.5478 - mean_absolute_error: 9.8350 - val_loss: 295.6592 - val_mean_absolute_error: 10.5857\n",
      "Epoch 31/50\n",
      "1389/1389 [==============================] - 20s 14ms/step - loss: 246.3179 - mean_absolute_error: 9.7687 - val_loss: 281.8773 - val_mean_absolute_error: 10.3763\n",
      "Epoch 32/50\n",
      "1389/1389 [==============================] - 20s 14ms/step - loss: 244.2875 - mean_absolute_error: 9.7078 - val_loss: 277.6052 - val_mean_absolute_error: 10.3380\n",
      "Epoch 33/50\n",
      "1389/1389 [==============================] - 20s 14ms/step - loss: 242.4226 - mean_absolute_error: 9.6777 - val_loss: 311.2394 - val_mean_absolute_error: 10.9297\n",
      "Epoch 34/50\n",
      "1389/1389 [==============================] - 20s 14ms/step - loss: 234.2235 - mean_absolute_error: 9.5618 - val_loss: 261.6263 - val_mean_absolute_error: 10.1058\n",
      "Epoch 35/50\n",
      "1389/1389 [==============================] - 20s 14ms/step - loss: 233.6661 - mean_absolute_error: 9.5354 - val_loss: 291.0271 - val_mean_absolute_error: 10.4702\n",
      "Epoch 36/50\n",
      "1389/1389 [==============================] - 20s 14ms/step - loss: 232.4008 - mean_absolute_error: 9.4991 - val_loss: 270.7134 - val_mean_absolute_error: 10.0551\n",
      "Epoch 37/50\n",
      "1389/1389 [==============================] - 20s 14ms/step - loss: 229.6478 - mean_absolute_error: 9.4520 - val_loss: 266.0225 - val_mean_absolute_error: 9.9614\n",
      "Epoch 38/50\n",
      "1389/1389 [==============================] - 20s 14ms/step - loss: 225.8686 - mean_absolute_error: 9.3948 - val_loss: 280.8664 - val_mean_absolute_error: 10.2460\n",
      "Epoch 39/50\n",
      "1389/1389 [==============================] - 20s 14ms/step - loss: 228.8758 - mean_absolute_error: 9.4012 - val_loss: 255.9649 - val_mean_absolute_error: 9.9198\n",
      "Epoch 40/50\n",
      "1389/1389 [==============================] - 20s 14ms/step - loss: 217.5356 - mean_absolute_error: 9.2281 - val_loss: 264.5586 - val_mean_absolute_error: 10.1637\n",
      "Epoch 41/50\n",
      "1389/1389 [==============================] - 20s 14ms/step - loss: 213.8786 - mean_absolute_error: 9.1676 - val_loss: 261.7581 - val_mean_absolute_error: 10.0720\n",
      "Epoch 42/50\n",
      "1389/1389 [==============================] - 20s 14ms/step - loss: 211.7246 - mean_absolute_error: 9.1365 - val_loss: 277.7426 - val_mean_absolute_error: 10.3633\n",
      "Epoch 43/50\n",
      "1389/1389 [==============================] - 20s 14ms/step - loss: 210.8739 - mean_absolute_error: 9.1052 - val_loss: 251.7116 - val_mean_absolute_error: 10.0000\n",
      "Epoch 44/50\n",
      "1389/1389 [==============================] - 20s 14ms/step - loss: 207.7629 - mean_absolute_error: 9.0409 - val_loss: 262.0009 - val_mean_absolute_error: 10.0614\n",
      "Epoch 45/50\n",
      "1389/1389 [==============================] - 20s 14ms/step - loss: 206.6509 - mean_absolute_error: 9.0099 - val_loss: 270.0762 - val_mean_absolute_error: 10.0896\n",
      "Epoch 46/50\n",
      "1389/1389 [==============================] - 20s 14ms/step - loss: 203.6780 - mean_absolute_error: 8.9547 - val_loss: 255.8705 - val_mean_absolute_error: 9.8795\n",
      "Epoch 47/50\n",
      "1389/1389 [==============================] - 20s 14ms/step - loss: 205.4237 - mean_absolute_error: 8.9857 - val_loss: 260.9919 - val_mean_absolute_error: 10.0158\n",
      "Epoch 48/50\n",
      "1389/1389 [==============================] - 20s 14ms/step - loss: 200.4406 - mean_absolute_error: 8.8784 - val_loss: 243.2902 - val_mean_absolute_error: 9.7372\n",
      "Epoch 49/50\n",
      "1389/1389 [==============================] - 20s 14ms/step - loss: 198.8500 - mean_absolute_error: 8.8291 - val_loss: 250.9707 - val_mean_absolute_error: 9.8235\n",
      "Epoch 50/50\n",
      "1389/1389 [==============================] - 19s 14ms/step - loss: 192.5727 - mean_absolute_error: 8.7336 - val_loss: 239.9967 - val_mean_absolute_error: 9.7245\n"
     ]
    },
    {
     "name": "stderr",
     "output_type": "stream",
     "text": [
      "WARNING:absl:Found untraced functions such as _jit_compiled_convolution_op, _jit_compiled_convolution_op, _jit_compiled_convolution_op, lstm_cell_4_layer_call_fn, lstm_cell_4_layer_call_and_return_conditional_losses while saving (showing 5 of 7). These functions will not be directly callable after loading.\n"
     ]
    },
    {
     "name": "stdout",
     "output_type": "stream",
     "text": [
      "INFO:tensorflow:Assets written to: ../models/cnn_lstm_7days_history_1days_pred_50_epochs_2lstm-layer_64,64_dropout-0-4_5\\assets\n"
     ]
    },
    {
     "name": "stderr",
     "output_type": "stream",
     "text": [
      "INFO:tensorflow:Assets written to: ../models/cnn_lstm_7days_history_1days_pred_50_epochs_2lstm-layer_64,64_dropout-0-4_5\\assets\n"
     ]
    },
    {
     "name": "stdout",
     "output_type": "stream",
     "text": [
      "Epoch 1/50\n",
      "1389/1389 [==============================] - 18s 13ms/step - loss: 192.1950 - mean_absolute_error: 8.7250 - val_loss: 246.7044 - val_mean_absolute_error: 9.9112\n",
      "Epoch 2/50\n",
      "1389/1389 [==============================] - 17s 13ms/step - loss: 199.7461 - mean_absolute_error: 8.8384 - val_loss: 244.0030 - val_mean_absolute_error: 9.6840\n",
      "Epoch 3/50\n",
      "1389/1389 [==============================] - 19s 13ms/step - loss: 187.6468 - mean_absolute_error: 8.6129 - val_loss: 246.5546 - val_mean_absolute_error: 9.7610\n",
      "Epoch 4/50\n",
      "1389/1389 [==============================] - 19s 13ms/step - loss: 184.4771 - mean_absolute_error: 8.5711 - val_loss: 255.9459 - val_mean_absolute_error: 10.0974\n",
      "Epoch 5/50\n",
      "1389/1389 [==============================] - 19s 13ms/step - loss: 185.4866 - mean_absolute_error: 8.5876 - val_loss: 246.6631 - val_mean_absolute_error: 9.9160\n",
      "Epoch 6/50\n",
      "1389/1389 [==============================] - 19s 14ms/step - loss: 186.1207 - mean_absolute_error: 8.6010 - val_loss: 260.9909 - val_mean_absolute_error: 9.8214\n",
      "Epoch 7/50\n",
      "1389/1389 [==============================] - 19s 14ms/step - loss: 186.4937 - mean_absolute_error: 8.5704 - val_loss: 253.7787 - val_mean_absolute_error: 9.7789\n",
      "Epoch 8/50\n",
      "1389/1389 [==============================] - 19s 14ms/step - loss: 180.9236 - mean_absolute_error: 8.4815 - val_loss: 244.1209 - val_mean_absolute_error: 9.7199\n",
      "Epoch 9/50\n",
      "1389/1389 [==============================] - 19s 14ms/step - loss: 177.7905 - mean_absolute_error: 8.4243 - val_loss: 248.2883 - val_mean_absolute_error: 9.7549\n",
      "Epoch 10/50\n",
      "1389/1389 [==============================] - 19s 14ms/step - loss: 176.0364 - mean_absolute_error: 8.3819 - val_loss: 243.1461 - val_mean_absolute_error: 9.6841\n",
      "Epoch 11/50\n",
      "1389/1389 [==============================] - 19s 14ms/step - loss: 174.2974 - mean_absolute_error: 8.3493 - val_loss: 265.8408 - val_mean_absolute_error: 9.9693\n",
      "Epoch 12/50\n",
      "1389/1389 [==============================] - 19s 14ms/step - loss: 173.1739 - mean_absolute_error: 8.3298 - val_loss: 242.0914 - val_mean_absolute_error: 9.7498\n",
      "Epoch 13/50\n",
      "1389/1389 [==============================] - 19s 14ms/step - loss: 172.0373 - mean_absolute_error: 8.3076 - val_loss: 238.8783 - val_mean_absolute_error: 9.5713\n",
      "Epoch 14/50\n",
      "1389/1389 [==============================] - 19s 14ms/step - loss: 175.4782 - mean_absolute_error: 8.3481 - val_loss: 233.9739 - val_mean_absolute_error: 9.5875\n",
      "Epoch 15/50\n",
      "1389/1389 [==============================] - 19s 14ms/step - loss: 168.3280 - mean_absolute_error: 8.2139 - val_loss: 240.8032 - val_mean_absolute_error: 9.5977\n",
      "Epoch 16/50\n",
      "1389/1389 [==============================] - 19s 14ms/step - loss: 167.4218 - mean_absolute_error: 8.1981 - val_loss: 254.0906 - val_mean_absolute_error: 9.9922\n",
      "Epoch 17/50\n",
      "1389/1389 [==============================] - 19s 14ms/step - loss: 167.3406 - mean_absolute_error: 8.2083 - val_loss: 241.7007 - val_mean_absolute_error: 9.5569\n",
      "Epoch 18/50\n",
      "1389/1389 [==============================] - 19s 14ms/step - loss: 164.2761 - mean_absolute_error: 8.1371 - val_loss: 243.8055 - val_mean_absolute_error: 9.7426\n",
      "Epoch 19/50\n",
      "1389/1389 [==============================] - 19s 14ms/step - loss: 167.8801 - mean_absolute_error: 8.2011 - val_loss: 233.7141 - val_mean_absolute_error: 9.4475\n",
      "Epoch 20/50\n",
      "1389/1389 [==============================] - 19s 14ms/step - loss: 162.7860 - mean_absolute_error: 8.0899 - val_loss: 231.8705 - val_mean_absolute_error: 9.4207\n",
      "Epoch 21/50\n",
      "1389/1389 [==============================] - 19s 14ms/step - loss: 159.3065 - mean_absolute_error: 8.0242 - val_loss: 240.4408 - val_mean_absolute_error: 9.6281\n",
      "Epoch 22/50\n",
      "1389/1389 [==============================] - 19s 14ms/step - loss: 162.3994 - mean_absolute_error: 8.0734 - val_loss: 238.8999 - val_mean_absolute_error: 9.5821\n",
      "Epoch 23/50\n",
      "1389/1389 [==============================] - 19s 14ms/step - loss: 161.3034 - mean_absolute_error: 8.0567 - val_loss: 227.6900 - val_mean_absolute_error: 9.4356\n",
      "Epoch 24/50\n",
      "1389/1389 [==============================] - 19s 14ms/step - loss: 160.3743 - mean_absolute_error: 8.0315 - val_loss: 230.1895 - val_mean_absolute_error: 9.3997\n",
      "Epoch 25/50\n",
      "1389/1389 [==============================] - 19s 14ms/step - loss: 155.0117 - mean_absolute_error: 7.9070 - val_loss: 227.0221 - val_mean_absolute_error: 9.3304\n",
      "Epoch 26/50\n",
      "1389/1389 [==============================] - 19s 14ms/step - loss: 154.3702 - mean_absolute_error: 7.9045 - val_loss: 235.2780 - val_mean_absolute_error: 9.5174\n",
      "Epoch 27/50\n",
      "1389/1389 [==============================] - 19s 14ms/step - loss: 156.0310 - mean_absolute_error: 7.9536 - val_loss: 234.3130 - val_mean_absolute_error: 9.4812\n",
      "Epoch 28/50\n",
      "1389/1389 [==============================] - 19s 14ms/step - loss: 152.9949 - mean_absolute_error: 7.8709 - val_loss: 229.5036 - val_mean_absolute_error: 9.4602\n",
      "Epoch 29/50\n",
      "1389/1389 [==============================] - 19s 14ms/step - loss: 153.0809 - mean_absolute_error: 7.8799 - val_loss: 241.5584 - val_mean_absolute_error: 9.6027\n",
      "Epoch 30/50\n",
      "1389/1389 [==============================] - 20s 14ms/step - loss: 154.6339 - mean_absolute_error: 7.8933 - val_loss: 246.0213 - val_mean_absolute_error: 9.5978\n",
      "Epoch 31/50\n",
      "1389/1389 [==============================] - 20s 14ms/step - loss: 148.9630 - mean_absolute_error: 7.7786 - val_loss: 230.3490 - val_mean_absolute_error: 9.3118\n",
      "Epoch 32/50\n",
      "1389/1389 [==============================] - 20s 14ms/step - loss: 149.6980 - mean_absolute_error: 7.7938 - val_loss: 242.7784 - val_mean_absolute_error: 9.5359\n",
      "Epoch 33/50\n",
      "1389/1389 [==============================] - 20s 14ms/step - loss: 150.2745 - mean_absolute_error: 7.8076 - val_loss: 232.0144 - val_mean_absolute_error: 9.4090\n",
      "Epoch 34/50\n",
      "1389/1389 [==============================] - 20s 14ms/step - loss: 150.4642 - mean_absolute_error: 7.8073 - val_loss: 228.6367 - val_mean_absolute_error: 9.4157\n",
      "Epoch 35/50\n",
      "1389/1389 [==============================] - 20s 15ms/step - loss: 147.0328 - mean_absolute_error: 7.7198 - val_loss: 229.9195 - val_mean_absolute_error: 9.4465\n",
      "Epoch 36/50\n",
      "1389/1389 [==============================] - 20s 14ms/step - loss: 146.4925 - mean_absolute_error: 7.7176 - val_loss: 225.6363 - val_mean_absolute_error: 9.3720\n",
      "Epoch 37/50\n",
      "1389/1389 [==============================] - 20s 14ms/step - loss: 144.4324 - mean_absolute_error: 7.6675 - val_loss: 225.0131 - val_mean_absolute_error: 9.2397\n",
      "Epoch 38/50\n",
      "1389/1389 [==============================] - 20s 14ms/step - loss: 143.5162 - mean_absolute_error: 7.6443 - val_loss: 233.3502 - val_mean_absolute_error: 9.4777\n",
      "Epoch 39/50\n",
      "1389/1389 [==============================] - 20s 14ms/step - loss: 145.1074 - mean_absolute_error: 7.6709 - val_loss: 221.7577 - val_mean_absolute_error: 9.1936\n",
      "Epoch 40/50\n",
      "1389/1389 [==============================] - 20s 14ms/step - loss: 141.9247 - mean_absolute_error: 7.6094 - val_loss: 230.2023 - val_mean_absolute_error: 9.3471\n",
      "Epoch 41/50\n",
      "1389/1389 [==============================] - 20s 14ms/step - loss: 144.2478 - mean_absolute_error: 7.6618 - val_loss: 232.5883 - val_mean_absolute_error: 9.4072\n",
      "Epoch 42/50\n",
      "1389/1389 [==============================] - 20s 14ms/step - loss: 144.2409 - mean_absolute_error: 7.6441 - val_loss: 259.2214 - val_mean_absolute_error: 9.8141\n",
      "Epoch 43/50\n",
      "1389/1389 [==============================] - 20s 14ms/step - loss: 142.2508 - mean_absolute_error: 7.6118 - val_loss: 222.0662 - val_mean_absolute_error: 9.3176\n",
      "Epoch 44/50\n",
      "1389/1389 [==============================] - 20s 14ms/step - loss: 136.8497 - mean_absolute_error: 7.4801 - val_loss: 223.5222 - val_mean_absolute_error: 9.4261\n",
      "Epoch 45/50\n",
      "1389/1389 [==============================] - 20s 14ms/step - loss: 139.0039 - mean_absolute_error: 7.5312 - val_loss: 220.9517 - val_mean_absolute_error: 9.2430\n",
      "Epoch 46/50\n",
      "1389/1389 [==============================] - 20s 14ms/step - loss: 139.3204 - mean_absolute_error: 7.5408 - val_loss: 227.5239 - val_mean_absolute_error: 9.3818\n",
      "Epoch 47/50\n",
      "1389/1389 [==============================] - 20s 14ms/step - loss: 148.8466 - mean_absolute_error: 7.7137 - val_loss: 221.2129 - val_mean_absolute_error: 9.1952\n",
      "Epoch 48/50\n",
      "1389/1389 [==============================] - 20s 14ms/step - loss: 139.4273 - mean_absolute_error: 7.5078 - val_loss: 225.9062 - val_mean_absolute_error: 9.2652\n",
      "Epoch 49/50\n",
      "1389/1389 [==============================] - 20s 14ms/step - loss: 134.5527 - mean_absolute_error: 7.4195 - val_loss: 218.5376 - val_mean_absolute_error: 9.1812\n",
      "Epoch 50/50\n",
      "1389/1389 [==============================] - 20s 14ms/step - loss: 135.8929 - mean_absolute_error: 7.4617 - val_loss: 241.5931 - val_mean_absolute_error: 9.5387\n"
     ]
    },
    {
     "name": "stderr",
     "output_type": "stream",
     "text": [
      "WARNING:absl:Found untraced functions such as _jit_compiled_convolution_op, _jit_compiled_convolution_op, _jit_compiled_convolution_op, lstm_cell_4_layer_call_fn, lstm_cell_4_layer_call_and_return_conditional_losses while saving (showing 5 of 7). These functions will not be directly callable after loading.\n"
     ]
    },
    {
     "name": "stdout",
     "output_type": "stream",
     "text": [
      "INFO:tensorflow:Assets written to: ../models/cnn_lstm_7days_history_1days_pred_100_epochs_2lstm-layer_64,64_dropout-0-4_5\\assets\n"
     ]
    },
    {
     "name": "stderr",
     "output_type": "stream",
     "text": [
      "INFO:tensorflow:Assets written to: ../models/cnn_lstm_7days_history_1days_pred_100_epochs_2lstm-layer_64,64_dropout-0-4_5\\assets\n"
     ]
    },
    {
     "name": "stdout",
     "output_type": "stream",
     "text": [
      "Epoch 1/50\n",
      "1389/1389 [==============================] - 26s 19ms/step - loss: 135.6231 - mean_absolute_error: 7.4440 - val_loss: 231.9168 - val_mean_absolute_error: 9.3093\n",
      "Epoch 2/50\n",
      "1389/1389 [==============================] - 26s 18ms/step - loss: 134.7791 - mean_absolute_error: 7.4217 - val_loss: 245.6869 - val_mean_absolute_error: 9.6359\n",
      "Epoch 3/50\n",
      "1389/1389 [==============================] - 26s 18ms/step - loss: 137.2795 - mean_absolute_error: 7.4793 - val_loss: 227.2046 - val_mean_absolute_error: 9.2198\n",
      "Epoch 4/50\n",
      "1389/1389 [==============================] - 26s 18ms/step - loss: 132.1828 - mean_absolute_error: 7.3461 - val_loss: 233.6583 - val_mean_absolute_error: 9.3730\n",
      "Epoch 5/50\n",
      "1389/1389 [==============================] - 26s 19ms/step - loss: 133.8720 - mean_absolute_error: 7.3945 - val_loss: 232.9525 - val_mean_absolute_error: 9.3669\n",
      "Epoch 6/50\n",
      "1389/1389 [==============================] - 26s 19ms/step - loss: 136.1289 - mean_absolute_error: 7.4638 - val_loss: 220.1159 - val_mean_absolute_error: 9.2239\n",
      "Epoch 7/50\n",
      "1389/1389 [==============================] - 26s 19ms/step - loss: 137.4680 - mean_absolute_error: 7.4711 - val_loss: 216.3751 - val_mean_absolute_error: 9.1733\n",
      "Epoch 8/50\n",
      "1389/1389 [==============================] - 26s 19ms/step - loss: 133.2034 - mean_absolute_error: 7.3665 - val_loss: 224.9307 - val_mean_absolute_error: 9.3831\n",
      "Epoch 9/50\n",
      "1389/1389 [==============================] - 26s 19ms/step - loss: 128.9447 - mean_absolute_error: 7.2688 - val_loss: 223.1294 - val_mean_absolute_error: 9.3815\n",
      "Epoch 10/50\n",
      "1389/1389 [==============================] - 26s 19ms/step - loss: 129.0025 - mean_absolute_error: 7.2737 - val_loss: 227.1784 - val_mean_absolute_error: 9.3295\n",
      "Epoch 11/50\n",
      "1389/1389 [==============================] - 26s 19ms/step - loss: 128.6703 - mean_absolute_error: 7.2659 - val_loss: 224.0742 - val_mean_absolute_error: 9.3366\n",
      "Epoch 12/50\n",
      "1389/1389 [==============================] - 26s 19ms/step - loss: 130.1734 - mean_absolute_error: 7.3060 - val_loss: 223.8907 - val_mean_absolute_error: 9.2357\n",
      "Epoch 13/50\n",
      "1389/1389 [==============================] - 26s 19ms/step - loss: 131.1828 - mean_absolute_error: 7.3202 - val_loss: 218.2493 - val_mean_absolute_error: 9.2238\n",
      "Epoch 14/50\n",
      "1389/1389 [==============================] - 26s 19ms/step - loss: 128.1679 - mean_absolute_error: 7.2542 - val_loss: 228.9178 - val_mean_absolute_error: 9.3299\n",
      "Epoch 15/50\n",
      "1389/1389 [==============================] - 26s 19ms/step - loss: 127.4756 - mean_absolute_error: 7.2395 - val_loss: 215.6229 - val_mean_absolute_error: 9.1598\n",
      "Epoch 16/50\n",
      "1389/1389 [==============================] - 26s 19ms/step - loss: 127.3558 - mean_absolute_error: 7.2264 - val_loss: 223.2108 - val_mean_absolute_error: 9.1859\n",
      "Epoch 17/50\n",
      "1389/1389 [==============================] - 26s 19ms/step - loss: 126.0682 - mean_absolute_error: 7.1973 - val_loss: 216.0789 - val_mean_absolute_error: 9.1641\n",
      "Epoch 18/50\n",
      "1389/1389 [==============================] - 25s 18ms/step - loss: 133.1110 - mean_absolute_error: 7.3501 - val_loss: 221.2166 - val_mean_absolute_error: 9.1810\n",
      "Epoch 19/50\n",
      "1389/1389 [==============================] - 25s 18ms/step - loss: 125.0865 - mean_absolute_error: 7.1545 - val_loss: 224.2151 - val_mean_absolute_error: 9.2880\n",
      "Epoch 20/50\n",
      "1389/1389 [==============================] - 25s 18ms/step - loss: 124.5379 - mean_absolute_error: 7.1467 - val_loss: 216.2574 - val_mean_absolute_error: 9.1384\n",
      "Epoch 21/50\n",
      "1389/1389 [==============================] - 25s 18ms/step - loss: 134.6235 - mean_absolute_error: 7.3573 - val_loss: 232.6469 - val_mean_absolute_error: 9.2419\n",
      "Epoch 22/50\n",
      "1389/1389 [==============================] - 25s 18ms/step - loss: 129.4623 - mean_absolute_error: 7.2533 - val_loss: 228.3031 - val_mean_absolute_error: 9.3184\n",
      "Epoch 23/50\n",
      "1389/1389 [==============================] - 26s 18ms/step - loss: 125.0322 - mean_absolute_error: 7.1621 - val_loss: 222.2265 - val_mean_absolute_error: 9.1082\n",
      "Epoch 24/50\n",
      "1389/1389 [==============================] - 26s 18ms/step - loss: 123.8743 - mean_absolute_error: 7.1191 - val_loss: 227.2851 - val_mean_absolute_error: 9.1442\n",
      "Epoch 25/50\n",
      "1389/1389 [==============================] - 25s 18ms/step - loss: 122.4186 - mean_absolute_error: 7.0882 - val_loss: 237.4563 - val_mean_absolute_error: 9.3926\n",
      "Epoch 26/50\n",
      "1389/1389 [==============================] - 25s 18ms/step - loss: 125.5733 - mean_absolute_error: 7.1857 - val_loss: 221.5459 - val_mean_absolute_error: 9.1098\n",
      "Epoch 27/50\n",
      "1389/1389 [==============================] - 26s 18ms/step - loss: 121.6775 - mean_absolute_error: 7.0824 - val_loss: 228.0119 - val_mean_absolute_error: 9.2491\n",
      "Epoch 28/50\n",
      "1389/1389 [==============================] - 26s 18ms/step - loss: 128.5201 - mean_absolute_error: 7.2583 - val_loss: 237.4728 - val_mean_absolute_error: 9.5183\n",
      "Epoch 29/50\n",
      "1389/1389 [==============================] - 26s 18ms/step - loss: 125.3418 - mean_absolute_error: 7.1681 - val_loss: 215.8448 - val_mean_absolute_error: 9.0779\n",
      "Epoch 30/50\n",
      "1389/1389 [==============================] - 26s 18ms/step - loss: 119.3713 - mean_absolute_error: 7.0143 - val_loss: 220.7583 - val_mean_absolute_error: 9.1567\n",
      "Epoch 31/50\n",
      "1389/1389 [==============================] - 25s 18ms/step - loss: 119.7863 - mean_absolute_error: 7.0281 - val_loss: 217.2301 - val_mean_absolute_error: 9.0919\n",
      "Epoch 32/50\n",
      "1389/1389 [==============================] - 26s 18ms/step - loss: 122.8985 - mean_absolute_error: 7.1207 - val_loss: 215.7309 - val_mean_absolute_error: 9.1276\n",
      "Epoch 33/50\n",
      "1389/1389 [==============================] - 26s 18ms/step - loss: 120.0234 - mean_absolute_error: 7.0332 - val_loss: 216.7196 - val_mean_absolute_error: 9.0743\n",
      "Epoch 34/50\n",
      "1389/1389 [==============================] - 26s 18ms/step - loss: 120.5590 - mean_absolute_error: 7.0548 - val_loss: 220.6546 - val_mean_absolute_error: 9.1719\n",
      "Epoch 35/50\n",
      "1389/1389 [==============================] - 25s 18ms/step - loss: 122.3663 - mean_absolute_error: 7.0999 - val_loss: 225.3305 - val_mean_absolute_error: 9.2357\n",
      "Epoch 36/50\n",
      "1389/1389 [==============================] - 26s 18ms/step - loss: 119.4993 - mean_absolute_error: 7.0272 - val_loss: 220.9489 - val_mean_absolute_error: 9.1357\n",
      "Epoch 37/50\n",
      "1389/1389 [==============================] - 26s 18ms/step - loss: 118.8828 - mean_absolute_error: 7.0051 - val_loss: 230.9310 - val_mean_absolute_error: 9.2072\n",
      "Epoch 38/50\n",
      "1389/1389 [==============================] - 26s 18ms/step - loss: 118.3037 - mean_absolute_error: 6.9952 - val_loss: 222.3493 - val_mean_absolute_error: 9.1200\n",
      "Epoch 39/50\n",
      "1389/1389 [==============================] - 26s 18ms/step - loss: 116.4621 - mean_absolute_error: 6.9510 - val_loss: 222.0405 - val_mean_absolute_error: 9.2097\n",
      "Epoch 40/50\n",
      "1389/1389 [==============================] - 25s 18ms/step - loss: 117.1059 - mean_absolute_error: 6.9653 - val_loss: 223.5970 - val_mean_absolute_error: 9.3324\n",
      "Epoch 41/50\n",
      "1389/1389 [==============================] - 26s 18ms/step - loss: 118.0958 - mean_absolute_error: 7.0097 - val_loss: 219.6922 - val_mean_absolute_error: 9.2359\n",
      "Epoch 42/50\n",
      "1389/1389 [==============================] - 25s 18ms/step - loss: 116.0343 - mean_absolute_error: 6.9471 - val_loss: 215.9870 - val_mean_absolute_error: 9.1282\n",
      "Epoch 43/50\n",
      "1389/1389 [==============================] - 26s 18ms/step - loss: 116.9142 - mean_absolute_error: 6.9645 - val_loss: 220.2968 - val_mean_absolute_error: 9.1864\n",
      "Epoch 44/50\n",
      "1389/1389 [==============================] - 26s 18ms/step - loss: 124.9218 - mean_absolute_error: 7.1705 - val_loss: 219.0567 - val_mean_absolute_error: 9.2028\n",
      "Epoch 45/50\n",
      "1389/1389 [==============================] - 26s 19ms/step - loss: 116.8081 - mean_absolute_error: 6.9571 - val_loss: 218.3297 - val_mean_absolute_error: 9.2159\n",
      "Epoch 46/50\n",
      "1389/1389 [==============================] - 26s 19ms/step - loss: 112.9392 - mean_absolute_error: 6.8520 - val_loss: 214.3495 - val_mean_absolute_error: 9.0662\n",
      "Epoch 47/50\n",
      "1389/1389 [==============================] - 26s 19ms/step - loss: 114.3148 - mean_absolute_error: 6.8959 - val_loss: 216.7561 - val_mean_absolute_error: 9.2209\n",
      "Epoch 48/50\n",
      "1389/1389 [==============================] - 26s 19ms/step - loss: 114.3590 - mean_absolute_error: 6.8935 - val_loss: 221.2116 - val_mean_absolute_error: 9.1815\n",
      "Epoch 49/50\n",
      "1389/1389 [==============================] - 26s 18ms/step - loss: 122.1207 - mean_absolute_error: 7.0618 - val_loss: 219.1601 - val_mean_absolute_error: 9.2146\n",
      "Epoch 50/50\n",
      "1389/1389 [==============================] - 26s 19ms/step - loss: 118.5209 - mean_absolute_error: 7.0020 - val_loss: 215.0631 - val_mean_absolute_error: 9.1127\n"
     ]
    },
    {
     "name": "stderr",
     "output_type": "stream",
     "text": [
      "WARNING:absl:Found untraced functions such as _jit_compiled_convolution_op, _jit_compiled_convolution_op, _jit_compiled_convolution_op, lstm_cell_4_layer_call_fn, lstm_cell_4_layer_call_and_return_conditional_losses while saving (showing 5 of 7). These functions will not be directly callable after loading.\n"
     ]
    },
    {
     "name": "stdout",
     "output_type": "stream",
     "text": [
      "INFO:tensorflow:Assets written to: ../models/cnn_lstm_7days_history_1days_pred_150_epochs_2lstm-layer_64,64_dropout-0-4_5\\assets\n"
     ]
    },
    {
     "name": "stderr",
     "output_type": "stream",
     "text": [
      "INFO:tensorflow:Assets written to: ../models/cnn_lstm_7days_history_1days_pred_150_epochs_2lstm-layer_64,64_dropout-0-4_5\\assets\n"
     ]
    },
    {
     "name": "stdout",
     "output_type": "stream",
     "text": [
      "Epoch 1/50\n",
      "1389/1389 [==============================] - 27s 19ms/step - loss: 110.5382 - mean_absolute_error: 6.7859 - val_loss: 215.0183 - val_mean_absolute_error: 9.1398\n",
      "Epoch 2/50\n",
      "1389/1389 [==============================] - 26s 19ms/step - loss: 112.4576 - mean_absolute_error: 6.8589 - val_loss: 218.2057 - val_mean_absolute_error: 9.1522\n",
      "Epoch 3/50\n",
      "1389/1389 [==============================] - 27s 19ms/step - loss: 113.6685 - mean_absolute_error: 6.8921 - val_loss: 215.2026 - val_mean_absolute_error: 9.1138\n",
      "Epoch 4/50\n",
      "1389/1389 [==============================] - 27s 19ms/step - loss: 115.9340 - mean_absolute_error: 6.9455 - val_loss: 211.8120 - val_mean_absolute_error: 9.0762\n",
      "Epoch 5/50\n",
      "1389/1389 [==============================] - 27s 19ms/step - loss: 111.6021 - mean_absolute_error: 6.8288 - val_loss: 215.9768 - val_mean_absolute_error: 9.1194\n",
      "Epoch 6/50\n",
      "1389/1389 [==============================] - 27s 19ms/step - loss: 111.1125 - mean_absolute_error: 6.8123 - val_loss: 213.7837 - val_mean_absolute_error: 9.1001\n",
      "Epoch 7/50\n",
      "1389/1389 [==============================] - 27s 19ms/step - loss: 114.6871 - mean_absolute_error: 6.9251 - val_loss: 219.5315 - val_mean_absolute_error: 9.1552\n",
      "Epoch 8/50\n",
      "1389/1389 [==============================] - 27s 19ms/step - loss: 113.5477 - mean_absolute_error: 6.8875 - val_loss: 214.5437 - val_mean_absolute_error: 9.0825\n",
      "Epoch 9/50\n",
      "1389/1389 [==============================] - 33s 24ms/step - loss: 111.3815 - mean_absolute_error: 6.8275 - val_loss: 218.6690 - val_mean_absolute_error: 9.1550\n",
      "Epoch 10/50\n",
      "1389/1389 [==============================] - 31s 22ms/step - loss: 115.6451 - mean_absolute_error: 6.9256 - val_loss: 226.4025 - val_mean_absolute_error: 9.3372\n",
      "Epoch 11/50\n",
      "1389/1389 [==============================] - 29s 21ms/step - loss: 109.3834 - mean_absolute_error: 6.7645 - val_loss: 219.7778 - val_mean_absolute_error: 9.1658\n",
      "Epoch 12/50\n",
      "1389/1389 [==============================] - 28s 20ms/step - loss: 108.0079 - mean_absolute_error: 6.7289 - val_loss: 217.0605 - val_mean_absolute_error: 9.1212\n",
      "Epoch 13/50\n",
      "1389/1389 [==============================] - 28s 20ms/step - loss: 109.1385 - mean_absolute_error: 6.7667 - val_loss: 223.9816 - val_mean_absolute_error: 9.2560\n",
      "Epoch 14/50\n",
      "1389/1389 [==============================] - 28s 20ms/step - loss: 111.8416 - mean_absolute_error: 6.8439 - val_loss: 225.0975 - val_mean_absolute_error: 9.3303\n",
      "Epoch 15/50\n",
      "1389/1389 [==============================] - 28s 20ms/step - loss: 115.2945 - mean_absolute_error: 6.9658 - val_loss: 212.5016 - val_mean_absolute_error: 9.0977\n",
      "Epoch 16/50\n",
      "1389/1389 [==============================] - 28s 20ms/step - loss: 111.3913 - mean_absolute_error: 6.8266 - val_loss: 217.0917 - val_mean_absolute_error: 9.1224\n",
      "Epoch 17/50\n",
      "1389/1389 [==============================] - 28s 20ms/step - loss: 108.2763 - mean_absolute_error: 6.7408 - val_loss: 217.4195 - val_mean_absolute_error: 9.1169\n",
      "Epoch 18/50\n",
      "1389/1389 [==============================] - 28s 20ms/step - loss: 108.3985 - mean_absolute_error: 6.7462 - val_loss: 217.6569 - val_mean_absolute_error: 9.0959\n",
      "Epoch 19/50\n",
      "1389/1389 [==============================] - 28s 20ms/step - loss: 106.8823 - mean_absolute_error: 6.7030 - val_loss: 218.2007 - val_mean_absolute_error: 9.0653\n",
      "Epoch 20/50\n",
      "1389/1389 [==============================] - 28s 20ms/step - loss: 107.7374 - mean_absolute_error: 6.7360 - val_loss: 220.3507 - val_mean_absolute_error: 9.2069\n",
      "Epoch 21/50\n",
      "1389/1389 [==============================] - 28s 20ms/step - loss: 110.7021 - mean_absolute_error: 6.8156 - val_loss: 224.5393 - val_mean_absolute_error: 9.2517\n",
      "Epoch 22/50\n",
      "1389/1389 [==============================] - 28s 20ms/step - loss: 110.5357 - mean_absolute_error: 6.8061 - val_loss: 218.5206 - val_mean_absolute_error: 9.1436\n",
      "Epoch 23/50\n",
      "1389/1389 [==============================] - 28s 20ms/step - loss: 105.9702 - mean_absolute_error: 6.6669 - val_loss: 219.6707 - val_mean_absolute_error: 9.1473\n",
      "Epoch 24/50\n",
      "1389/1389 [==============================] - 28s 20ms/step - loss: 107.1002 - mean_absolute_error: 6.7112 - val_loss: 217.7751 - val_mean_absolute_error: 9.1102\n",
      "Epoch 25/50\n",
      "1389/1389 [==============================] - 28s 20ms/step - loss: 106.7151 - mean_absolute_error: 6.6870 - val_loss: 216.5329 - val_mean_absolute_error: 9.0677\n",
      "Epoch 26/50\n",
      "1389/1389 [==============================] - 28s 20ms/step - loss: 105.8610 - mean_absolute_error: 6.6795 - val_loss: 217.4693 - val_mean_absolute_error: 9.1346\n",
      "Epoch 27/50\n",
      "1389/1389 [==============================] - 28s 20ms/step - loss: 105.6276 - mean_absolute_error: 6.6718 - val_loss: 218.1390 - val_mean_absolute_error: 9.1334\n",
      "Epoch 28/50\n",
      "1389/1389 [==============================] - 28s 20ms/step - loss: 110.3549 - mean_absolute_error: 6.7942 - val_loss: 221.1512 - val_mean_absolute_error: 9.1928\n",
      "Epoch 29/50\n",
      "1389/1389 [==============================] - 28s 20ms/step - loss: 106.1639 - mean_absolute_error: 6.6807 - val_loss: 222.0480 - val_mean_absolute_error: 9.1775\n",
      "Epoch 30/50\n",
      "1389/1389 [==============================] - 28s 20ms/step - loss: 103.2437 - mean_absolute_error: 6.6045 - val_loss: 218.5523 - val_mean_absolute_error: 9.1864\n",
      "Epoch 31/50\n",
      "1389/1389 [==============================] - 28s 20ms/step - loss: 108.9087 - mean_absolute_error: 6.7946 - val_loss: 218.9182 - val_mean_absolute_error: 9.1459\n",
      "Epoch 32/50\n",
      "1389/1389 [==============================] - 28s 20ms/step - loss: 105.1897 - mean_absolute_error: 6.6609 - val_loss: 232.9596 - val_mean_absolute_error: 9.2197\n",
      "Epoch 33/50\n",
      "1389/1389 [==============================] - 28s 20ms/step - loss: 103.7998 - mean_absolute_error: 6.6322 - val_loss: 217.0506 - val_mean_absolute_error: 9.0834\n",
      "Epoch 34/50\n",
      "1389/1389 [==============================] - 28s 20ms/step - loss: 104.9278 - mean_absolute_error: 6.6586 - val_loss: 222.6184 - val_mean_absolute_error: 9.2090\n",
      "Epoch 35/50\n",
      "1389/1389 [==============================] - 28s 20ms/step - loss: 104.2780 - mean_absolute_error: 6.6411 - val_loss: 222.4646 - val_mean_absolute_error: 9.1005\n",
      "Epoch 36/50\n",
      "1389/1389 [==============================] - 28s 20ms/step - loss: 104.8590 - mean_absolute_error: 6.6679 - val_loss: 220.3319 - val_mean_absolute_error: 9.2033\n",
      "Epoch 37/50\n",
      "1389/1389 [==============================] - 28s 20ms/step - loss: 104.0476 - mean_absolute_error: 6.6243 - val_loss: 218.2153 - val_mean_absolute_error: 9.1736\n",
      "Epoch 38/50\n",
      "1389/1389 [==============================] - 28s 20ms/step - loss: 105.8217 - mean_absolute_error: 6.6533 - val_loss: 216.9381 - val_mean_absolute_error: 9.1198\n",
      "Epoch 39/50\n",
      "1389/1389 [==============================] - 28s 20ms/step - loss: 102.5626 - mean_absolute_error: 6.5869 - val_loss: 215.0862 - val_mean_absolute_error: 9.1394\n",
      "Epoch 40/50\n",
      "1389/1389 [==============================] - 28s 20ms/step - loss: 101.4468 - mean_absolute_error: 6.5600 - val_loss: 220.8791 - val_mean_absolute_error: 9.1429\n",
      "Epoch 41/50\n",
      "1389/1389 [==============================] - 28s 20ms/step - loss: 103.6780 - mean_absolute_error: 6.6258 - val_loss: 224.4565 - val_mean_absolute_error: 9.2325\n",
      "Epoch 42/50\n",
      "1389/1389 [==============================] - 28s 20ms/step - loss: 103.4586 - mean_absolute_error: 6.6175 - val_loss: 220.9966 - val_mean_absolute_error: 9.1509\n",
      "Epoch 43/50\n",
      "1389/1389 [==============================] - 28s 20ms/step - loss: 101.2594 - mean_absolute_error: 6.5515 - val_loss: 221.8787 - val_mean_absolute_error: 9.1454\n",
      "Epoch 44/50\n",
      "1389/1389 [==============================] - 28s 20ms/step - loss: 105.8668 - mean_absolute_error: 6.6642 - val_loss: 221.3225 - val_mean_absolute_error: 9.0890\n",
      "Epoch 45/50\n",
      "1389/1389 [==============================] - 28s 20ms/step - loss: 103.7891 - mean_absolute_error: 6.6043 - val_loss: 219.1413 - val_mean_absolute_error: 9.1576\n",
      "Epoch 46/50\n",
      "1389/1389 [==============================] - 28s 20ms/step - loss: 102.0216 - mean_absolute_error: 6.5685 - val_loss: 219.3915 - val_mean_absolute_error: 9.1165\n",
      "Epoch 47/50\n",
      "1389/1389 [==============================] - 28s 20ms/step - loss: 100.3254 - mean_absolute_error: 6.5327 - val_loss: 227.7640 - val_mean_absolute_error: 9.2888\n",
      "Epoch 48/50\n",
      "1389/1389 [==============================] - 28s 20ms/step - loss: 100.7417 - mean_absolute_error: 6.5417 - val_loss: 220.0445 - val_mean_absolute_error: 9.1135\n",
      "Epoch 49/50\n",
      "1389/1389 [==============================] - 28s 20ms/step - loss: 100.4739 - mean_absolute_error: 6.5323 - val_loss: 220.1331 - val_mean_absolute_error: 9.1641\n",
      "Epoch 50/50\n",
      "1389/1389 [==============================] - 28s 20ms/step - loss: 99.4206 - mean_absolute_error: 6.5067 - val_loss: 223.6277 - val_mean_absolute_error: 9.1783\n"
     ]
    },
    {
     "name": "stderr",
     "output_type": "stream",
     "text": [
      "WARNING:absl:Found untraced functions such as _jit_compiled_convolution_op, _jit_compiled_convolution_op, _jit_compiled_convolution_op, lstm_cell_4_layer_call_fn, lstm_cell_4_layer_call_and_return_conditional_losses while saving (showing 5 of 7). These functions will not be directly callable after loading.\n"
     ]
    },
    {
     "name": "stdout",
     "output_type": "stream",
     "text": [
      "INFO:tensorflow:Assets written to: ../models/cnn_lstm_7days_history_1days_pred_200_epochs_2lstm-layer_64,64_dropout-0-4_5\\assets\n"
     ]
    },
    {
     "name": "stderr",
     "output_type": "stream",
     "text": [
      "INFO:tensorflow:Assets written to: ../models/cnn_lstm_7days_history_1days_pred_200_epochs_2lstm-layer_64,64_dropout-0-4_5\\assets\n"
     ]
    },
    {
     "name": "stdout",
     "output_type": "stream",
     "text": [
      "Shutting down background jobs, please wait a moment...\n",
      "Done!\n",
      "Waiting for the remaining 1 operations to synchronize with Neptune. Do not kill this process.\n",
      "All 1 operations synced, thanks for waiting!\n",
      "Explore the metadata in the Neptune app:\n",
      "https://app.neptune.ai/data-mining-team2/model-tests/e/MOD-13/metadata\n"
     ]
    },
    {
     "name": "stderr",
     "output_type": "stream",
     "text": [
      "ERROR:run_logger:Finished run: station_530_and_538_with_lambda\n"
     ]
    }
   ],
   "source": [
    "for run_id, params in run_params.items():\n",
    "    logger.error(\"Start run: \" + run_id)\n",
    "    model = init_model(params)\n",
    "\n",
    "    loss = tf.keras.losses.MeanSquaredError()\n",
    "    if params.loss_function == \"huber\":\n",
    "        loss = tf.keras.losses.huber\n",
    "    model.compile(loss=loss, optimizer=\"Adam\", metrics=[tf.keras.metrics.MeanAbsoluteError()])\n",
    "\n",
    "    name = params.to_name(100)\n",
    "    temp_name = name\n",
    "    append_index = 0\n",
    "    while os.path.exists(\"../models/\" + temp_name):\n",
    "        append_index += 1\n",
    "        temp_name = name + \"_\" + str(append_index)\n",
    "    if append_index != 0:\n",
    "        name += \"_\" + str(append_index)\n",
    "\n",
    "    run = neptune.init_run(\n",
    "        project=\"data-mining-team2/model-tests\",\n",
    "        api_token=\"eyJhcGlfYWRkcmVzcyI6Imh0dHBzOi8vYXBwLm5lcHR1bmUuYWkiLCJhcGlfdXJsIjoiaHR0cHM6Ly9hcHAubmVwdHVuZS5haSIsImFwaV9rZXkiOiI4Mzg2ZWZmYi05YzRlLTQ3ODYtOWE1NC1mNDM4OTM1ZjNlOTkifQ==\",\n",
    "        custom_run_id=run_id,\n",
    "        name=name,\n",
    "        source_files=[\"./model_tests_neighboring_stations.ipynb\"],\n",
    "    )\n",
    "\n",
    "    run[\"parameters\"] = params.to_dict()\n",
    "\n",
    "    neptune_cbk = NeptuneCallback(run=run, base_namespace=\"training\")\n",
    "\n",
    "    try:\n",
    "        for epoch_count_factor in range(1, 5):\n",
    "            epoch_count = 50 * epoch_count_factor\n",
    "            history = model.fit(\n",
    "                params.window_generator.train,\n",
    "                epochs=50,\n",
    "                validation_data=params.window_generator.val,\n",
    "                # callbacks=[neptune_cbk],                                                  # commented out so any further runs aren't tracked from neptune\n",
    "            )\n",
    "\n",
    "            eval_metrics = model.evaluate(params.window_generator.test, verbose=0)\n",
    "            for j, metric in enumerate(eval_metrics):\n",
    "                run[f\"eval/epoch_{epoch_count}/{model.metrics_names[j]}\"] = metric\n",
    "\n",
    "            name = params.to_name(epoch_count)\n",
    "            temp_name = name\n",
    "            append_index = 0\n",
    "            while os.path.exists(\"../models/\" + temp_name):\n",
    "                append_index += 1\n",
    "                temp_name = name + \"_\" + str(append_index)\n",
    "            if append_index != 0:\n",
    "                name += \"_\" + str(append_index)\n",
    "\n",
    "            model.save(\"../models/\" + name, include_optimizer=False)\n",
    "\n",
    "            run[\"model_names/\" + str(epoch_count) + \"epochs\"] = name\n",
    "    except Exception as e:\n",
    "        logger.error(e)\n",
    "\n",
    "        pass\n",
    "    run.stop()\n",
    "    logger.error(\"Finished run: \" + run_id)\n"
   ]
  },
  {
   "attachments": {},
   "cell_type": "markdown",
   "metadata": {},
   "source": [
    "#### Load the models and plot the same windows from every window generator with prediction from every model\n"
   ]
  },
  {
   "cell_type": "code",
   "execution_count": 14,
   "metadata": {},
   "outputs": [
    {
     "name": "stdout",
     "output_type": "stream",
     "text": [
      "WARNING:tensorflow:No training configuration found in save file, so the model was *not* compiled. Compile it manually.\n",
      "WARNING:tensorflow:No training configuration found in save file, so the model was *not* compiled. Compile it manually.\n",
      "WARNING:tensorflow:No training configuration found in save file, so the model was *not* compiled. Compile it manually.\n"
     ]
    }
   ],
   "source": [
    "model_double = tf.keras.models.load_model(\n",
    "    \"../models/cnn_lstm_7days_history_1days_pred_200_epochs_2lstm-layer_64,64_dropout-0-4_5\"\n",
    ")\n",
    "model_530 = tf.keras.models.load_model(\n",
    "    \"../models/cnn_lstm_7days_history_1days_pred_200_epochs_2lstm-layer_64,64_dropout-0-4_3\"\n",
    ")\n",
    "model_538 = tf.keras.models.load_model(\n",
    "    \"../models/cnn_lstm_7days_history_1days_pred_200_epochs_2lstm-layer_64,64_dropout-0-4_4\"\n",
    ")\n"
   ]
  },
  {
   "cell_type": "code",
   "execution_count": 5,
   "metadata": {},
   "outputs": [],
   "source": [
    "window_generator_530 = prep_window_generator(530)\n",
    "window_generator_538 = prep_window_generator(538)\n"
   ]
  },
  {
   "cell_type": "code",
   "execution_count": 40,
   "metadata": {},
   "outputs": [
    {
     "data": {
      "application/vnd.plotly.v1+json": {
       "config": {
        "plotlyServerURL": "https://plot.ly"
       },
       "data": [
        {
         "marker": {
          "color": "blue"
         },
         "name": "Inputs",
         "type": "scatter",
         "x": [
          0,
          1,
          2,
          3,
          4,
          5,
          6,
          7,
          8,
          9,
          10,
          11,
          12,
          13,
          14,
          15,
          16,
          17,
          18,
          19,
          20,
          21,
          22,
          23,
          24,
          25,
          26,
          27,
          28,
          29,
          30,
          31,
          32,
          33,
          34,
          35,
          36,
          37,
          38,
          39,
          40,
          41,
          42,
          43,
          44,
          45,
          46,
          47,
          48,
          49,
          50,
          51,
          52,
          53,
          54,
          55,
          56,
          57,
          58,
          59,
          60,
          61,
          62,
          63,
          64,
          65,
          66,
          67,
          68,
          69,
          70,
          71,
          72,
          73,
          74,
          75,
          76,
          77,
          78,
          79,
          80,
          81,
          82,
          83,
          84,
          85,
          86,
          87,
          88,
          89,
          90,
          91,
          92,
          93,
          94,
          95,
          96,
          97,
          98,
          99,
          100,
          101,
          102,
          103,
          104,
          105,
          106,
          107,
          108,
          109,
          110,
          111,
          112,
          113,
          114,
          115,
          116,
          117,
          118,
          119,
          120,
          121,
          122,
          123,
          124,
          125,
          126,
          127,
          128,
          129,
          130,
          131,
          132,
          133,
          134,
          135,
          136,
          137,
          138,
          139,
          140,
          141,
          142,
          143,
          144,
          145,
          146,
          147,
          148,
          149,
          150,
          151,
          152,
          153,
          154,
          155,
          156,
          157,
          158,
          159,
          160,
          161,
          162,
          163,
          164,
          165,
          166,
          167
         ],
         "xaxis": "x",
         "y": [
          27.2,
          24,
          26.8,
          32.6,
          35,
          33.9,
          38,
          41.4,
          39.7,
          39.1,
          46,
          48.8,
          46.6,
          55.5,
          73,
          51.7,
          54.1,
          52.5,
          32.4,
          28.3,
          29.3,
          27.9,
          35.5,
          42.4,
          47.3,
          51,
          62.3,
          83.2,
          94.5,
          114.1,
          141,
          151.5,
          67.2,
          53.8,
          39.9,
          36.6,
          35.3,
          34.8,
          26.7,
          24.5,
          24.7,
          23.7,
          26.2,
          34.3,
          47.7,
          67.8,
          82.3,
          75.3,
          129.1,
          155,
          164.8,
          122.6,
          152.4,
          171.2,
          155.3,
          185,
          202.4,
          203.2,
          199.9,
          164.6,
          61.1,
          41.4,
          37.4,
          25.8,
          30.1,
          39,
          47,
          55.3,
          69.7,
          93.2,
          92.1,
          92.6,
          93.3,
          68.8,
          55.8,
          43.9,
          34.3,
          35.2,
          33,
          31.4,
          35.1,
          37.8,
          44.3,
          37.5,
          38,
          42.2,
          49.1,
          34.7,
          32.3,
          33.9,
          40.7,
          73.9,
          66.3,
          48.4,
          55.8,
          57.4,
          47.4,
          43.3,
          41.7,
          45.4,
          39.8,
          43.4,
          40.3,
          43.2,
          40.5,
          35.2,
          48.5,
          50.7,
          36.6,
          37,
          38.3,
          36.5,
          37.7,
          37.4,
          38.7,
          39.1,
          41.3,
          44.9,
          45.1,
          51,
          47,
          43.1,
          45.3,
          42.3,
          46.3,
          53.8,
          43.2,
          42.6,
          47.9,
          49.9,
          39.2,
          42.8,
          40.5,
          44.4,
          46.7,
          38.4,
          38.7,
          59.3,
          54,
          41.2,
          41.5,
          42.9,
          41.8,
          41.7,
          43.8,
          44.1,
          47.5,
          44.8,
          50.3,
          51.8,
          42.5,
          36.4,
          36.1,
          42.9,
          34.4,
          22.6,
          22.4,
          22.4,
          18.6,
          13.7,
          16.9,
          16,
          22.1,
          26.8,
          26.7,
          20.6,
          26.4,
          31.1
         ],
         "yaxis": "y"
        },
        {
         "marker": {
          "color": "#2ca02c"
         },
         "mode": "markers",
         "name": "Labels",
         "type": "scatter",
         "x": [
          168,
          169,
          170,
          171,
          172,
          173,
          174,
          175,
          176,
          177,
          178,
          179,
          180,
          181,
          182,
          183,
          184,
          185,
          186,
          187,
          188,
          189,
          190,
          191
         ],
         "xaxis": "x",
         "y": [
          31.3,
          30.5,
          31.7,
          25.6,
          28.9,
          26.4,
          32.2,
          28.1,
          32.5,
          26.5,
          38.9,
          33.9,
          26.1,
          26.1,
          27,
          16.8,
          16,
          16.1,
          17.2,
          30,
          33.2,
          36.6,
          38.1,
          45.8
         ],
         "yaxis": "y"
        },
        {
         "marker": {
          "color": "#ff7f0e"
         },
         "mode": "markers",
         "name": "Predictions",
         "type": "scatter",
         "x": [
          168,
          169,
          170,
          171,
          172,
          173,
          174,
          175,
          176,
          177,
          178,
          179,
          180,
          181,
          182,
          183,
          184,
          185,
          186,
          187,
          188,
          189,
          190,
          191
         ],
         "xaxis": "x",
         "y": [
          31.750244140625,
          31.02063751220703,
          29.843109130859375,
          29.527359008789062,
          28.724573135375977,
          28.13117218017578,
          28.483436584472656,
          28.705184936523438,
          28.271564483642578,
          28.339569091796875,
          28.95061492919922,
          29.021530151367188,
          27.902681350708008,
          26.939258575439453,
          26.617557525634766,
          25.678937911987305,
          25.370529174804688,
          25.71808624267578,
          27.058853149414062,
          28.792827606201172,
          31.102642059326172,
          34.028038024902344,
          35.4813232421875,
          35.58315658569336
         ],
         "yaxis": "y"
        },
        {
         "marker": {
          "color": "blue"
         },
         "name": "Inputs",
         "type": "scatter",
         "x": [
          0,
          1,
          2,
          3,
          4,
          5,
          6,
          7,
          8,
          9,
          10,
          11,
          12,
          13,
          14,
          15,
          16,
          17,
          18,
          19,
          20,
          21,
          22,
          23,
          24,
          25,
          26,
          27,
          28,
          29,
          30,
          31,
          32,
          33,
          34,
          35,
          36,
          37,
          38,
          39,
          40,
          41,
          42,
          43,
          44,
          45,
          46,
          47,
          48,
          49,
          50,
          51,
          52,
          53,
          54,
          55,
          56,
          57,
          58,
          59,
          60,
          61,
          62,
          63,
          64,
          65,
          66,
          67,
          68,
          69,
          70,
          71,
          72,
          73,
          74,
          75,
          76,
          77,
          78,
          79,
          80,
          81,
          82,
          83,
          84,
          85,
          86,
          87,
          88,
          89,
          90,
          91,
          92,
          93,
          94,
          95,
          96,
          97,
          98,
          99,
          100,
          101,
          102,
          103,
          104,
          105,
          106,
          107,
          108,
          109,
          110,
          111,
          112,
          113,
          114,
          115,
          116,
          117,
          118,
          119,
          120,
          121,
          122,
          123,
          124,
          125,
          126,
          127,
          128,
          129,
          130,
          131,
          132,
          133,
          134,
          135,
          136,
          137,
          138,
          139,
          140,
          141,
          142,
          143,
          144,
          145,
          146,
          147,
          148,
          149,
          150,
          151,
          152,
          153,
          154,
          155,
          156,
          157,
          158,
          159,
          160,
          161,
          162,
          163,
          164,
          165,
          166,
          167
         ],
         "xaxis": "x2",
         "y": [
          19.5,
          25.3,
          22.9,
          20.2,
          21.3,
          20.4,
          23.4,
          20.4,
          21.7,
          23.8,
          22.2,
          18.7,
          23,
          19.9,
          16.5,
          17.6,
          17.7,
          16.5,
          17.4,
          16.9,
          16.1,
          17.9,
          20.7,
          25.5,
          25.6,
          32.3,
          26.5,
          25.4,
          24.8,
          25.2,
          26.2,
          27,
          25.3,
          25.3,
          21.8,
          18.9,
          18.3,
          21.2,
          18.7,
          19.4,
          18,
          15.4,
          17.6,
          17.4,
          19.1,
          19.8,
          20.7,
          26.6,
          25.6,
          26.4,
          23.6,
          22.6,
          24.1,
          23.7,
          22.5,
          24.6,
          27.1,
          32.7,
          29.7,
          23,
          19.5,
          19.1,
          19.9,
          21.4,
          21.1,
          21.5,
          23.3,
          22.3,
          20,
          19.8,
          26.5,
          28.1,
          26.3,
          28.6,
          27.5,
          23.8,
          26.8,
          24.5,
          24.6,
          27.9,
          32.5,
          30.1,
          29.9,
          28.4,
          22.9,
          22.1,
          26,
          25.5,
          30.9,
          27.6,
          37,
          41.9,
          24.6,
          21.9,
          23.2,
          21.9,
          24.3,
          27.7,
          25.1,
          19,
          18.5,
          20.9,
          22.4,
          24.6,
          26.6,
          31.8,
          34.3,
          40.1,
          36.9,
          42.13333333333333,
          47.36666666666667,
          52.6,
          26,
          22.7,
          18.9,
          19.7,
          19.2,
          18.4,
          19,
          18.1,
          17.1,
          16.5,
          17.3,
          25.2,
          22.4,
          22.7,
          18.9,
          20.1,
          21.3,
          25.8,
          30.5,
          27.6,
          27.1,
          26.1,
          26.8,
          25.7,
          25.3,
          25.3,
          26.1,
          25.5,
          26.4,
          29,
          18.9,
          14.7,
          11.3,
          30.2,
          19.7,
          21,
          22.5,
          29.3,
          32.4,
          29.7,
          29.4,
          30.1,
          29.8,
          33.9,
          26.5,
          23.8,
          43.099999999999994,
          62.4,
          32,
          36.8,
          32.1,
          30.4,
          26.8,
          25.3,
          27.2,
          56.3
         ],
         "yaxis": "y2"
        },
        {
         "marker": {
          "color": "#2ca02c"
         },
         "mode": "markers",
         "name": "Labels",
         "type": "scatter",
         "x": [
          168,
          169,
          170,
          171,
          172,
          173,
          174,
          175,
          176,
          177,
          178,
          179,
          180,
          181,
          182,
          183,
          184,
          185,
          186,
          187,
          188,
          189,
          190,
          191
         ],
         "xaxis": "x2",
         "y": [
          793.4,
          408.2,
          18.5,
          22.5,
          18.8,
          23.5,
          23,
          24.8,
          25.7,
          23.4,
          22.7,
          15.4,
          24.7,
          30.1,
          24.3,
          23.7,
          23.2,
          19.1,
          21.8,
          25.1,
          23.9,
          25.6,
          21.2,
          18.4
         ],
         "yaxis": "y2"
        },
        {
         "marker": {
          "color": "#ff7f0e"
         },
         "mode": "markers",
         "name": "Predictions",
         "type": "scatter",
         "x": [
          168,
          169,
          170,
          171,
          172,
          173,
          174,
          175,
          176,
          177,
          178,
          179,
          180,
          181,
          182,
          183,
          184,
          185,
          186,
          187,
          188,
          189,
          190,
          191
         ],
         "xaxis": "x2",
         "y": [
          462.1014709472656,
          413.3840637207031,
          161.99728393554688,
          6.211315155029297,
          -21.34868621826172,
          10.023122787475586,
          28.657249450683594,
          7.482026100158691,
          28.295692443847656,
          33.85416030883789,
          9.337858200073242,
          0.009679794311523438,
          28.89322280883789,
          30.69719123840332,
          17.013408660888672,
          7.41572380065918,
          0.4696063995361328,
          13.328957557678223,
          22.45263671875,
          37.69584274291992,
          44.172882080078125,
          34.12546920776367,
          29.31885528564453,
          36.63876724243164
         ],
         "yaxis": "y2"
        },
        {
         "marker": {
          "color": "blue"
         },
         "name": "Inputs",
         "type": "scatter",
         "x": [
          0,
          1,
          2,
          3,
          4,
          5,
          6,
          7,
          8,
          9,
          10,
          11,
          12,
          13,
          14,
          15,
          16,
          17,
          18,
          19,
          20,
          21,
          22,
          23,
          24,
          25,
          26,
          27,
          28,
          29,
          30,
          31,
          32,
          33,
          34,
          35,
          36,
          37,
          38,
          39,
          40,
          41,
          42,
          43,
          44,
          45,
          46,
          47,
          48,
          49,
          50,
          51,
          52,
          53,
          54,
          55,
          56,
          57,
          58,
          59,
          60,
          61,
          62,
          63,
          64,
          65,
          66,
          67,
          68,
          69,
          70,
          71,
          72,
          73,
          74,
          75,
          76,
          77,
          78,
          79,
          80,
          81,
          82,
          83,
          84,
          85,
          86,
          87,
          88,
          89,
          90,
          91,
          92,
          93,
          94,
          95,
          96,
          97,
          98,
          99,
          100,
          101,
          102,
          103,
          104,
          105,
          106,
          107,
          108,
          109,
          110,
          111,
          112,
          113,
          114,
          115,
          116,
          117,
          118,
          119,
          120,
          121,
          122,
          123,
          124,
          125,
          126,
          127,
          128,
          129,
          130,
          131,
          132,
          133,
          134,
          135,
          136,
          137,
          138,
          139,
          140,
          141,
          142,
          143,
          144,
          145,
          146,
          147,
          148,
          149,
          150,
          151,
          152,
          153,
          154,
          155,
          156,
          157,
          158,
          159,
          160,
          161,
          162,
          163,
          164,
          165,
          166,
          167
         ],
         "xaxis": "x3",
         "y": [
          11,
          11.2,
          13.9,
          17.3,
          19,
          25.1,
          24.9,
          23.2,
          32.3,
          28.5,
          29.5,
          27.5,
          25.5,
          28,
          32.4,
          28.6,
          30.3,
          37.4,
          41.5,
          28.6,
          32,
          23.5,
          20,
          19.4,
          22.1,
          22.7,
          32.3,
          35.5,
          33.3,
          46.2,
          33.6,
          31.8,
          25.8,
          25.8,
          25.2,
          22.9,
          23.7,
          29.6,
          25.2,
          29.6,
          30.8,
          45.9,
          34.7,
          21.9,
          29.5,
          17.7,
          20,
          19.8,
          18.4,
          19.2,
          28.2,
          36.5,
          28.6,
          35.4,
          26,
          25.3,
          25.5,
          28.8,
          25.1,
          30.2,
          25.3,
          29.6,
          25.1,
          25.7,
          27.1,
          25.8,
          33.1,
          44.3,
          45.2,
          43.3,
          43.5,
          22.8,
          26.2,
          31.9,
          34.8,
          40.7,
          46.5,
          56,
          50.5,
          36.7,
          34.7,
          32.4,
          30.9,
          32.5,
          19.7,
          11.5,
          9.7,
          12,
          11,
          11.6,
          9.3,
          7.1,
          6.7,
          7.1,
          8.2,
          9.5,
          9.4,
          13.7,
          14.1,
          15.3,
          17.6,
          16.2,
          21.6,
          30.8,
          18.6,
          20.8,
          21.4,
          17.3,
          20.8,
          15.1,
          20.1,
          28.1,
          20.6,
          20.6,
          19.7,
          20.2,
          19.2,
          16,
          12.4,
          11.8,
          11.4,
          12.6,
          21.9,
          27.8,
          36.3,
          48.4,
          38.1,
          23.8,
          22.5,
          23.4,
          21.6,
          27.5,
          26.8,
          28,
          32.1,
          40.4,
          25.5,
          27.7,
          26.8,
          26.3,
          34.2,
          22.3,
          16.8,
          16.3,
          16,
          17.7,
          26,
          44.3,
          57.5,
          77.6,
          83.8,
          57.9,
          42.2,
          39.6,
          35.2,
          35.4,
          37.4,
          38.1,
          44.5,
          34.6,
          33.5,
          43.6,
          59.3,
          43.1,
          31.5,
          30.7,
          24.4,
          21.3
         ],
         "yaxis": "y3"
        },
        {
         "marker": {
          "color": "#2ca02c"
         },
         "mode": "markers",
         "name": "Labels",
         "type": "scatter",
         "x": [
          168,
          169,
          170,
          171,
          172,
          173,
          174,
          175,
          176,
          177,
          178,
          179,
          180,
          181,
          182,
          183,
          184,
          185,
          186,
          187,
          188,
          189,
          190,
          191
         ],
         "xaxis": "x3",
         "y": [
          21.7,
          25.2,
          26.4,
          32.1,
          32.5,
          38.9,
          48.5,
          43.4,
          44.8,
          35.6,
          37,
          35.1,
          38.9,
          37,
          24.1,
          33.9,
          26,
          30.3,
          26.5,
          19.9,
          16.8,
          15.6,
          14.7,
          14.9
         ],
         "yaxis": "y3"
        },
        {
         "marker": {
          "color": "#ff7f0e"
         },
         "mode": "markers",
         "name": "Predictions",
         "type": "scatter",
         "x": [
          168,
          169,
          170,
          171,
          172,
          173,
          174,
          175,
          176,
          177,
          178,
          179,
          180,
          181,
          182,
          183,
          184,
          185,
          186,
          187,
          188,
          189,
          190,
          191
         ],
         "xaxis": "x3",
         "y": [
          28.06356430053711,
          29.371963500976562,
          31.546066284179688,
          34.68416213989258,
          36.245391845703125,
          36.81999969482422,
          36.53694534301758,
          35.527862548828125,
          32.81932067871094,
          30.56057357788086,
          29.455562591552734,
          28.5220890045166,
          28.22123908996582,
          28.041807174682617,
          27.81559181213379,
          27.460275650024414,
          28.1705322265625,
          28.672637939453125,
          29.531288146972656,
          29.78766632080078,
          29.242755889892578,
          28.343124389648438,
          26.799543380737305,
          25.95409393310547
         ],
         "yaxis": "y3"
        }
       ],
       "layout": {
        "height": 1200,
        "template": {
         "data": {
          "bar": [
           {
            "error_x": {
             "color": "#2a3f5f"
            },
            "error_y": {
             "color": "#2a3f5f"
            },
            "marker": {
             "line": {
              "color": "#E5ECF6",
              "width": 0.5
             },
             "pattern": {
              "fillmode": "overlay",
              "size": 10,
              "solidity": 0.2
             }
            },
            "type": "bar"
           }
          ],
          "barpolar": [
           {
            "marker": {
             "line": {
              "color": "#E5ECF6",
              "width": 0.5
             },
             "pattern": {
              "fillmode": "overlay",
              "size": 10,
              "solidity": 0.2
             }
            },
            "type": "barpolar"
           }
          ],
          "carpet": [
           {
            "aaxis": {
             "endlinecolor": "#2a3f5f",
             "gridcolor": "white",
             "linecolor": "white",
             "minorgridcolor": "white",
             "startlinecolor": "#2a3f5f"
            },
            "baxis": {
             "endlinecolor": "#2a3f5f",
             "gridcolor": "white",
             "linecolor": "white",
             "minorgridcolor": "white",
             "startlinecolor": "#2a3f5f"
            },
            "type": "carpet"
           }
          ],
          "choropleth": [
           {
            "colorbar": {
             "outlinewidth": 0,
             "ticks": ""
            },
            "type": "choropleth"
           }
          ],
          "contour": [
           {
            "colorbar": {
             "outlinewidth": 0,
             "ticks": ""
            },
            "colorscale": [
             [
              0,
              "#0d0887"
             ],
             [
              0.1111111111111111,
              "#46039f"
             ],
             [
              0.2222222222222222,
              "#7201a8"
             ],
             [
              0.3333333333333333,
              "#9c179e"
             ],
             [
              0.4444444444444444,
              "#bd3786"
             ],
             [
              0.5555555555555556,
              "#d8576b"
             ],
             [
              0.6666666666666666,
              "#ed7953"
             ],
             [
              0.7777777777777778,
              "#fb9f3a"
             ],
             [
              0.8888888888888888,
              "#fdca26"
             ],
             [
              1,
              "#f0f921"
             ]
            ],
            "type": "contour"
           }
          ],
          "contourcarpet": [
           {
            "colorbar": {
             "outlinewidth": 0,
             "ticks": ""
            },
            "type": "contourcarpet"
           }
          ],
          "heatmap": [
           {
            "colorbar": {
             "outlinewidth": 0,
             "ticks": ""
            },
            "colorscale": [
             [
              0,
              "#0d0887"
             ],
             [
              0.1111111111111111,
              "#46039f"
             ],
             [
              0.2222222222222222,
              "#7201a8"
             ],
             [
              0.3333333333333333,
              "#9c179e"
             ],
             [
              0.4444444444444444,
              "#bd3786"
             ],
             [
              0.5555555555555556,
              "#d8576b"
             ],
             [
              0.6666666666666666,
              "#ed7953"
             ],
             [
              0.7777777777777778,
              "#fb9f3a"
             ],
             [
              0.8888888888888888,
              "#fdca26"
             ],
             [
              1,
              "#f0f921"
             ]
            ],
            "type": "heatmap"
           }
          ],
          "heatmapgl": [
           {
            "colorbar": {
             "outlinewidth": 0,
             "ticks": ""
            },
            "colorscale": [
             [
              0,
              "#0d0887"
             ],
             [
              0.1111111111111111,
              "#46039f"
             ],
             [
              0.2222222222222222,
              "#7201a8"
             ],
             [
              0.3333333333333333,
              "#9c179e"
             ],
             [
              0.4444444444444444,
              "#bd3786"
             ],
             [
              0.5555555555555556,
              "#d8576b"
             ],
             [
              0.6666666666666666,
              "#ed7953"
             ],
             [
              0.7777777777777778,
              "#fb9f3a"
             ],
             [
              0.8888888888888888,
              "#fdca26"
             ],
             [
              1,
              "#f0f921"
             ]
            ],
            "type": "heatmapgl"
           }
          ],
          "histogram": [
           {
            "marker": {
             "pattern": {
              "fillmode": "overlay",
              "size": 10,
              "solidity": 0.2
             }
            },
            "type": "histogram"
           }
          ],
          "histogram2d": [
           {
            "colorbar": {
             "outlinewidth": 0,
             "ticks": ""
            },
            "colorscale": [
             [
              0,
              "#0d0887"
             ],
             [
              0.1111111111111111,
              "#46039f"
             ],
             [
              0.2222222222222222,
              "#7201a8"
             ],
             [
              0.3333333333333333,
              "#9c179e"
             ],
             [
              0.4444444444444444,
              "#bd3786"
             ],
             [
              0.5555555555555556,
              "#d8576b"
             ],
             [
              0.6666666666666666,
              "#ed7953"
             ],
             [
              0.7777777777777778,
              "#fb9f3a"
             ],
             [
              0.8888888888888888,
              "#fdca26"
             ],
             [
              1,
              "#f0f921"
             ]
            ],
            "type": "histogram2d"
           }
          ],
          "histogram2dcontour": [
           {
            "colorbar": {
             "outlinewidth": 0,
             "ticks": ""
            },
            "colorscale": [
             [
              0,
              "#0d0887"
             ],
             [
              0.1111111111111111,
              "#46039f"
             ],
             [
              0.2222222222222222,
              "#7201a8"
             ],
             [
              0.3333333333333333,
              "#9c179e"
             ],
             [
              0.4444444444444444,
              "#bd3786"
             ],
             [
              0.5555555555555556,
              "#d8576b"
             ],
             [
              0.6666666666666666,
              "#ed7953"
             ],
             [
              0.7777777777777778,
              "#fb9f3a"
             ],
             [
              0.8888888888888888,
              "#fdca26"
             ],
             [
              1,
              "#f0f921"
             ]
            ],
            "type": "histogram2dcontour"
           }
          ],
          "mesh3d": [
           {
            "colorbar": {
             "outlinewidth": 0,
             "ticks": ""
            },
            "type": "mesh3d"
           }
          ],
          "parcoords": [
           {
            "line": {
             "colorbar": {
              "outlinewidth": 0,
              "ticks": ""
             }
            },
            "type": "parcoords"
           }
          ],
          "pie": [
           {
            "automargin": true,
            "type": "pie"
           }
          ],
          "scatter": [
           {
            "fillpattern": {
             "fillmode": "overlay",
             "size": 10,
             "solidity": 0.2
            },
            "type": "scatter"
           }
          ],
          "scatter3d": [
           {
            "line": {
             "colorbar": {
              "outlinewidth": 0,
              "ticks": ""
             }
            },
            "marker": {
             "colorbar": {
              "outlinewidth": 0,
              "ticks": ""
             }
            },
            "type": "scatter3d"
           }
          ],
          "scattercarpet": [
           {
            "marker": {
             "colorbar": {
              "outlinewidth": 0,
              "ticks": ""
             }
            },
            "type": "scattercarpet"
           }
          ],
          "scattergeo": [
           {
            "marker": {
             "colorbar": {
              "outlinewidth": 0,
              "ticks": ""
             }
            },
            "type": "scattergeo"
           }
          ],
          "scattergl": [
           {
            "marker": {
             "colorbar": {
              "outlinewidth": 0,
              "ticks": ""
             }
            },
            "type": "scattergl"
           }
          ],
          "scattermapbox": [
           {
            "marker": {
             "colorbar": {
              "outlinewidth": 0,
              "ticks": ""
             }
            },
            "type": "scattermapbox"
           }
          ],
          "scatterpolar": [
           {
            "marker": {
             "colorbar": {
              "outlinewidth": 0,
              "ticks": ""
             }
            },
            "type": "scatterpolar"
           }
          ],
          "scatterpolargl": [
           {
            "marker": {
             "colorbar": {
              "outlinewidth": 0,
              "ticks": ""
             }
            },
            "type": "scatterpolargl"
           }
          ],
          "scatterternary": [
           {
            "marker": {
             "colorbar": {
              "outlinewidth": 0,
              "ticks": ""
             }
            },
            "type": "scatterternary"
           }
          ],
          "surface": [
           {
            "colorbar": {
             "outlinewidth": 0,
             "ticks": ""
            },
            "colorscale": [
             [
              0,
              "#0d0887"
             ],
             [
              0.1111111111111111,
              "#46039f"
             ],
             [
              0.2222222222222222,
              "#7201a8"
             ],
             [
              0.3333333333333333,
              "#9c179e"
             ],
             [
              0.4444444444444444,
              "#bd3786"
             ],
             [
              0.5555555555555556,
              "#d8576b"
             ],
             [
              0.6666666666666666,
              "#ed7953"
             ],
             [
              0.7777777777777778,
              "#fb9f3a"
             ],
             [
              0.8888888888888888,
              "#fdca26"
             ],
             [
              1,
              "#f0f921"
             ]
            ],
            "type": "surface"
           }
          ],
          "table": [
           {
            "cells": {
             "fill": {
              "color": "#EBF0F8"
             },
             "line": {
              "color": "white"
             }
            },
            "header": {
             "fill": {
              "color": "#C8D4E3"
             },
             "line": {
              "color": "white"
             }
            },
            "type": "table"
           }
          ]
         },
         "layout": {
          "annotationdefaults": {
           "arrowcolor": "#2a3f5f",
           "arrowhead": 0,
           "arrowwidth": 1
          },
          "autotypenumbers": "strict",
          "coloraxis": {
           "colorbar": {
            "outlinewidth": 0,
            "ticks": ""
           }
          },
          "colorscale": {
           "diverging": [
            [
             0,
             "#8e0152"
            ],
            [
             0.1,
             "#c51b7d"
            ],
            [
             0.2,
             "#de77ae"
            ],
            [
             0.3,
             "#f1b6da"
            ],
            [
             0.4,
             "#fde0ef"
            ],
            [
             0.5,
             "#f7f7f7"
            ],
            [
             0.6,
             "#e6f5d0"
            ],
            [
             0.7,
             "#b8e186"
            ],
            [
             0.8,
             "#7fbc41"
            ],
            [
             0.9,
             "#4d9221"
            ],
            [
             1,
             "#276419"
            ]
           ],
           "sequential": [
            [
             0,
             "#0d0887"
            ],
            [
             0.1111111111111111,
             "#46039f"
            ],
            [
             0.2222222222222222,
             "#7201a8"
            ],
            [
             0.3333333333333333,
             "#9c179e"
            ],
            [
             0.4444444444444444,
             "#bd3786"
            ],
            [
             0.5555555555555556,
             "#d8576b"
            ],
            [
             0.6666666666666666,
             "#ed7953"
            ],
            [
             0.7777777777777778,
             "#fb9f3a"
            ],
            [
             0.8888888888888888,
             "#fdca26"
            ],
            [
             1,
             "#f0f921"
            ]
           ],
           "sequentialminus": [
            [
             0,
             "#0d0887"
            ],
            [
             0.1111111111111111,
             "#46039f"
            ],
            [
             0.2222222222222222,
             "#7201a8"
            ],
            [
             0.3333333333333333,
             "#9c179e"
            ],
            [
             0.4444444444444444,
             "#bd3786"
            ],
            [
             0.5555555555555556,
             "#d8576b"
            ],
            [
             0.6666666666666666,
             "#ed7953"
            ],
            [
             0.7777777777777778,
             "#fb9f3a"
            ],
            [
             0.8888888888888888,
             "#fdca26"
            ],
            [
             1,
             "#f0f921"
            ]
           ]
          },
          "colorway": [
           "#636efa",
           "#EF553B",
           "#00cc96",
           "#ab63fa",
           "#FFA15A",
           "#19d3f3",
           "#FF6692",
           "#B6E880",
           "#FF97FF",
           "#FECB52"
          ],
          "font": {
           "color": "#2a3f5f"
          },
          "geo": {
           "bgcolor": "white",
           "lakecolor": "white",
           "landcolor": "#E5ECF6",
           "showlakes": true,
           "showland": true,
           "subunitcolor": "white"
          },
          "hoverlabel": {
           "align": "left"
          },
          "hovermode": "closest",
          "mapbox": {
           "style": "light"
          },
          "paper_bgcolor": "white",
          "plot_bgcolor": "#E5ECF6",
          "polar": {
           "angularaxis": {
            "gridcolor": "white",
            "linecolor": "white",
            "ticks": ""
           },
           "bgcolor": "#E5ECF6",
           "radialaxis": {
            "gridcolor": "white",
            "linecolor": "white",
            "ticks": ""
           }
          },
          "scene": {
           "xaxis": {
            "backgroundcolor": "#E5ECF6",
            "gridcolor": "white",
            "gridwidth": 2,
            "linecolor": "white",
            "showbackground": true,
            "ticks": "",
            "zerolinecolor": "white"
           },
           "yaxis": {
            "backgroundcolor": "#E5ECF6",
            "gridcolor": "white",
            "gridwidth": 2,
            "linecolor": "white",
            "showbackground": true,
            "ticks": "",
            "zerolinecolor": "white"
           },
           "zaxis": {
            "backgroundcolor": "#E5ECF6",
            "gridcolor": "white",
            "gridwidth": 2,
            "linecolor": "white",
            "showbackground": true,
            "ticks": "",
            "zerolinecolor": "white"
           }
          },
          "shapedefaults": {
           "line": {
            "color": "#2a3f5f"
           }
          },
          "ternary": {
           "aaxis": {
            "gridcolor": "white",
            "linecolor": "white",
            "ticks": ""
           },
           "baxis": {
            "gridcolor": "white",
            "linecolor": "white",
            "ticks": ""
           },
           "bgcolor": "#E5ECF6",
           "caxis": {
            "gridcolor": "white",
            "linecolor": "white",
            "ticks": ""
           }
          },
          "title": {
           "x": 0.05
          },
          "xaxis": {
           "automargin": true,
           "gridcolor": "white",
           "linecolor": "white",
           "ticks": "",
           "title": {
            "standoff": 15
           },
           "zerolinecolor": "white",
           "zerolinewidth": 2
          },
          "yaxis": {
           "automargin": true,
           "gridcolor": "white",
           "linecolor": "white",
           "ticks": "",
           "title": {
            "standoff": 15
           },
           "zerolinecolor": "white",
           "zerolinewidth": 2
          }
         }
        },
        "xaxis": {
         "anchor": "y",
         "domain": [
          0,
          1
         ]
        },
        "xaxis2": {
         "anchor": "y2",
         "domain": [
          0,
          1
         ]
        },
        "xaxis3": {
         "anchor": "y3",
         "domain": [
          0,
          1
         ]
        },
        "yaxis": {
         "anchor": "x",
         "domain": [
          0.7333333333333333,
          1
         ],
         "title": {
          "text": "pm10"
         }
        },
        "yaxis2": {
         "anchor": "x2",
         "domain": [
          0.36666666666666664,
          0.6333333333333333
         ],
         "title": {
          "text": "pm10"
         }
        },
        "yaxis3": {
         "anchor": "x3",
         "domain": [
          0,
          0.26666666666666666
         ],
         "title": {
          "text": "pm10"
         }
        }
       }
      }
     },
     "metadata": {},
     "output_type": "display_data"
    }
   ],
   "source": [
    "window_generator_530.plot(model_double, offset=100)\n"
   ]
  },
  {
   "cell_type": "code",
   "execution_count": 41,
   "metadata": {},
   "outputs": [
    {
     "data": {
      "application/vnd.plotly.v1+json": {
       "config": {
        "plotlyServerURL": "https://plot.ly"
       },
       "data": [
        {
         "marker": {
          "color": "blue"
         },
         "name": "Inputs",
         "type": "scatter",
         "x": [
          0,
          1,
          2,
          3,
          4,
          5,
          6,
          7,
          8,
          9,
          10,
          11,
          12,
          13,
          14,
          15,
          16,
          17,
          18,
          19,
          20,
          21,
          22,
          23,
          24,
          25,
          26,
          27,
          28,
          29,
          30,
          31,
          32,
          33,
          34,
          35,
          36,
          37,
          38,
          39,
          40,
          41,
          42,
          43,
          44,
          45,
          46,
          47,
          48,
          49,
          50,
          51,
          52,
          53,
          54,
          55,
          56,
          57,
          58,
          59,
          60,
          61,
          62,
          63,
          64,
          65,
          66,
          67,
          68,
          69,
          70,
          71,
          72,
          73,
          74,
          75,
          76,
          77,
          78,
          79,
          80,
          81,
          82,
          83,
          84,
          85,
          86,
          87,
          88,
          89,
          90,
          91,
          92,
          93,
          94,
          95,
          96,
          97,
          98,
          99,
          100,
          101,
          102,
          103,
          104,
          105,
          106,
          107,
          108,
          109,
          110,
          111,
          112,
          113,
          114,
          115,
          116,
          117,
          118,
          119,
          120,
          121,
          122,
          123,
          124,
          125,
          126,
          127,
          128,
          129,
          130,
          131,
          132,
          133,
          134,
          135,
          136,
          137,
          138,
          139,
          140,
          141,
          142,
          143,
          144,
          145,
          146,
          147,
          148,
          149,
          150,
          151,
          152,
          153,
          154,
          155,
          156,
          157,
          158,
          159,
          160,
          161,
          162,
          163,
          164,
          165,
          166,
          167
         ],
         "xaxis": "x",
         "y": [
          27.2,
          24,
          26.8,
          32.6,
          35,
          33.9,
          38,
          41.4,
          39.7,
          39.1,
          46,
          48.8,
          46.6,
          55.5,
          73,
          51.7,
          54.1,
          52.5,
          32.4,
          28.3,
          29.3,
          27.9,
          35.5,
          42.4,
          47.3,
          51,
          62.3,
          83.2,
          94.5,
          114.1,
          141,
          151.5,
          67.2,
          53.8,
          39.9,
          36.6,
          35.3,
          34.8,
          26.7,
          24.5,
          24.7,
          23.7,
          26.2,
          34.3,
          47.7,
          67.8,
          82.3,
          75.3,
          129.1,
          155,
          164.8,
          122.6,
          152.4,
          171.2,
          155.3,
          185,
          202.4,
          203.2,
          199.9,
          164.6,
          61.1,
          41.4,
          37.4,
          25.8,
          30.1,
          39,
          47,
          55.3,
          69.7,
          93.2,
          92.1,
          92.6,
          93.3,
          68.8,
          55.8,
          43.9,
          34.3,
          35.2,
          33,
          31.4,
          35.1,
          37.8,
          44.3,
          37.5,
          38,
          42.2,
          49.1,
          34.7,
          32.3,
          33.9,
          40.7,
          73.9,
          66.3,
          48.4,
          55.8,
          57.4,
          47.4,
          43.3,
          41.7,
          45.4,
          39.8,
          43.4,
          40.3,
          43.2,
          40.5,
          35.2,
          48.5,
          50.7,
          36.6,
          37,
          38.3,
          36.5,
          37.7,
          37.4,
          38.7,
          39.1,
          41.3,
          44.9,
          45.1,
          51,
          47,
          43.1,
          45.3,
          42.3,
          46.3,
          53.8,
          43.2,
          42.6,
          47.9,
          49.9,
          39.2,
          42.8,
          40.5,
          44.4,
          46.7,
          38.4,
          38.7,
          59.3,
          54,
          41.2,
          41.5,
          42.9,
          41.8,
          41.7,
          43.8,
          44.1,
          47.5,
          44.8,
          50.3,
          51.8,
          42.5,
          36.4,
          36.1,
          42.9,
          34.4,
          22.6,
          22.4,
          22.4,
          18.6,
          13.7,
          16.9,
          16,
          22.1,
          26.8,
          26.7,
          20.6,
          26.4,
          31.1
         ],
         "yaxis": "y"
        },
        {
         "marker": {
          "color": "#2ca02c"
         },
         "mode": "markers",
         "name": "Labels",
         "type": "scatter",
         "x": [
          168,
          169,
          170,
          171,
          172,
          173,
          174,
          175,
          176,
          177,
          178,
          179,
          180,
          181,
          182,
          183,
          184,
          185,
          186,
          187,
          188,
          189,
          190,
          191
         ],
         "xaxis": "x",
         "y": [
          31.3,
          30.5,
          31.7,
          25.6,
          28.9,
          26.4,
          32.2,
          28.1,
          32.5,
          26.5,
          38.9,
          33.9,
          26.1,
          26.1,
          27,
          16.8,
          16,
          16.1,
          17.2,
          30,
          33.2,
          36.6,
          38.1,
          45.8
         ],
         "yaxis": "y"
        },
        {
         "marker": {
          "color": "#ff7f0e"
         },
         "mode": "markers",
         "name": "Predictions",
         "type": "scatter",
         "x": [
          168,
          169,
          170,
          171,
          172,
          173,
          174,
          175,
          176,
          177,
          178,
          179,
          180,
          181,
          182,
          183,
          184,
          185,
          186,
          187,
          188,
          189,
          190,
          191
         ],
         "xaxis": "x",
         "y": [
          20.760456085205078,
          27.81785774230957,
          28.169504165649414,
          23.67790985107422,
          19.396657943725586,
          18.96039581298828,
          23.306713104248047,
          25.62158966064453,
          25.393550872802734,
          22.24028778076172,
          20.109521865844727,
          22.69451904296875,
          22.671518325805664,
          22.394739151000977,
          20.703454971313477,
          19.053707122802734,
          17.530681610107422,
          16.06740951538086,
          15.943853378295898,
          17.62632942199707,
          20.71124839782715,
          24.920015335083008,
          29.1765079498291,
          32.977264404296875
         ],
         "yaxis": "y"
        },
        {
         "marker": {
          "color": "blue"
         },
         "name": "Inputs",
         "type": "scatter",
         "x": [
          0,
          1,
          2,
          3,
          4,
          5,
          6,
          7,
          8,
          9,
          10,
          11,
          12,
          13,
          14,
          15,
          16,
          17,
          18,
          19,
          20,
          21,
          22,
          23,
          24,
          25,
          26,
          27,
          28,
          29,
          30,
          31,
          32,
          33,
          34,
          35,
          36,
          37,
          38,
          39,
          40,
          41,
          42,
          43,
          44,
          45,
          46,
          47,
          48,
          49,
          50,
          51,
          52,
          53,
          54,
          55,
          56,
          57,
          58,
          59,
          60,
          61,
          62,
          63,
          64,
          65,
          66,
          67,
          68,
          69,
          70,
          71,
          72,
          73,
          74,
          75,
          76,
          77,
          78,
          79,
          80,
          81,
          82,
          83,
          84,
          85,
          86,
          87,
          88,
          89,
          90,
          91,
          92,
          93,
          94,
          95,
          96,
          97,
          98,
          99,
          100,
          101,
          102,
          103,
          104,
          105,
          106,
          107,
          108,
          109,
          110,
          111,
          112,
          113,
          114,
          115,
          116,
          117,
          118,
          119,
          120,
          121,
          122,
          123,
          124,
          125,
          126,
          127,
          128,
          129,
          130,
          131,
          132,
          133,
          134,
          135,
          136,
          137,
          138,
          139,
          140,
          141,
          142,
          143,
          144,
          145,
          146,
          147,
          148,
          149,
          150,
          151,
          152,
          153,
          154,
          155,
          156,
          157,
          158,
          159,
          160,
          161,
          162,
          163,
          164,
          165,
          166,
          167
         ],
         "xaxis": "x2",
         "y": [
          19.5,
          25.3,
          22.9,
          20.2,
          21.3,
          20.4,
          23.4,
          20.4,
          21.7,
          23.8,
          22.2,
          18.7,
          23,
          19.9,
          16.5,
          17.6,
          17.7,
          16.5,
          17.4,
          16.9,
          16.1,
          17.9,
          20.7,
          25.5,
          25.6,
          32.3,
          26.5,
          25.4,
          24.8,
          25.2,
          26.2,
          27,
          25.3,
          25.3,
          21.8,
          18.9,
          18.3,
          21.2,
          18.7,
          19.4,
          18,
          15.4,
          17.6,
          17.4,
          19.1,
          19.8,
          20.7,
          26.6,
          25.6,
          26.4,
          23.6,
          22.6,
          24.1,
          23.7,
          22.5,
          24.6,
          27.1,
          32.7,
          29.7,
          23,
          19.5,
          19.1,
          19.9,
          21.4,
          21.1,
          21.5,
          23.3,
          22.3,
          20,
          19.8,
          26.5,
          28.1,
          26.3,
          28.6,
          27.5,
          23.8,
          26.8,
          24.5,
          24.6,
          27.9,
          32.5,
          30.1,
          29.9,
          28.4,
          22.9,
          22.1,
          26,
          25.5,
          30.9,
          27.6,
          37,
          41.9,
          24.6,
          21.9,
          23.2,
          21.9,
          24.3,
          27.7,
          25.1,
          19,
          18.5,
          20.9,
          22.4,
          24.6,
          26.6,
          31.8,
          34.3,
          40.1,
          36.9,
          42.13333333333333,
          47.36666666666667,
          52.6,
          26,
          22.7,
          18.9,
          19.7,
          19.2,
          18.4,
          19,
          18.1,
          17.1,
          16.5,
          17.3,
          25.2,
          22.4,
          22.7,
          18.9,
          20.1,
          21.3,
          25.8,
          30.5,
          27.6,
          27.1,
          26.1,
          26.8,
          25.7,
          25.3,
          25.3,
          26.1,
          25.5,
          26.4,
          29,
          18.9,
          14.7,
          11.3,
          30.2,
          19.7,
          21,
          22.5,
          29.3,
          32.4,
          29.7,
          29.4,
          30.1,
          29.8,
          33.9,
          26.5,
          23.8,
          43.099999999999994,
          62.4,
          32,
          36.8,
          32.1,
          30.4,
          26.8,
          25.3,
          27.2,
          56.3
         ],
         "yaxis": "y2"
        },
        {
         "marker": {
          "color": "#2ca02c"
         },
         "mode": "markers",
         "name": "Labels",
         "type": "scatter",
         "x": [
          168,
          169,
          170,
          171,
          172,
          173,
          174,
          175,
          176,
          177,
          178,
          179,
          180,
          181,
          182,
          183,
          184,
          185,
          186,
          187,
          188,
          189,
          190,
          191
         ],
         "xaxis": "x2",
         "y": [
          793.4,
          408.2,
          18.5,
          22.5,
          18.8,
          23.5,
          23,
          24.8,
          25.7,
          23.4,
          22.7,
          15.4,
          24.7,
          30.1,
          24.3,
          23.7,
          23.2,
          19.1,
          21.8,
          25.1,
          23.9,
          25.6,
          21.2,
          18.4
         ],
         "yaxis": "y2"
        },
        {
         "marker": {
          "color": "#ff7f0e"
         },
         "mode": "markers",
         "name": "Predictions",
         "type": "scatter",
         "x": [
          168,
          169,
          170,
          171,
          172,
          173,
          174,
          175,
          176,
          177,
          178,
          179,
          180,
          181,
          182,
          183,
          184,
          185,
          186,
          187,
          188,
          189,
          190,
          191
         ],
         "xaxis": "x2",
         "y": [
          39.33879089355469,
          36.903011322021484,
          35.57252502441406,
          34.365753173828125,
          33.42387771606445,
          32.70532989501953,
          31.90151596069336,
          32.350826263427734,
          33.623504638671875,
          35.52766036987305,
          37.77906799316406,
          40.312889099121094,
          41.250030517578125,
          41.33660125732422,
          39.368507385253906,
          37.36430358886719,
          35.34209060668945,
          33.50117492675781,
          32.17927932739258,
          31.800203323364258,
          31.915103912353516,
          31.683504104614258,
          32.134300231933594,
          32.04866027832031
         ],
         "yaxis": "y2"
        },
        {
         "marker": {
          "color": "blue"
         },
         "name": "Inputs",
         "type": "scatter",
         "x": [
          0,
          1,
          2,
          3,
          4,
          5,
          6,
          7,
          8,
          9,
          10,
          11,
          12,
          13,
          14,
          15,
          16,
          17,
          18,
          19,
          20,
          21,
          22,
          23,
          24,
          25,
          26,
          27,
          28,
          29,
          30,
          31,
          32,
          33,
          34,
          35,
          36,
          37,
          38,
          39,
          40,
          41,
          42,
          43,
          44,
          45,
          46,
          47,
          48,
          49,
          50,
          51,
          52,
          53,
          54,
          55,
          56,
          57,
          58,
          59,
          60,
          61,
          62,
          63,
          64,
          65,
          66,
          67,
          68,
          69,
          70,
          71,
          72,
          73,
          74,
          75,
          76,
          77,
          78,
          79,
          80,
          81,
          82,
          83,
          84,
          85,
          86,
          87,
          88,
          89,
          90,
          91,
          92,
          93,
          94,
          95,
          96,
          97,
          98,
          99,
          100,
          101,
          102,
          103,
          104,
          105,
          106,
          107,
          108,
          109,
          110,
          111,
          112,
          113,
          114,
          115,
          116,
          117,
          118,
          119,
          120,
          121,
          122,
          123,
          124,
          125,
          126,
          127,
          128,
          129,
          130,
          131,
          132,
          133,
          134,
          135,
          136,
          137,
          138,
          139,
          140,
          141,
          142,
          143,
          144,
          145,
          146,
          147,
          148,
          149,
          150,
          151,
          152,
          153,
          154,
          155,
          156,
          157,
          158,
          159,
          160,
          161,
          162,
          163,
          164,
          165,
          166,
          167
         ],
         "xaxis": "x3",
         "y": [
          11,
          11.2,
          13.9,
          17.3,
          19,
          25.1,
          24.9,
          23.2,
          32.3,
          28.5,
          29.5,
          27.5,
          25.5,
          28,
          32.4,
          28.6,
          30.3,
          37.4,
          41.5,
          28.6,
          32,
          23.5,
          20,
          19.4,
          22.1,
          22.7,
          32.3,
          35.5,
          33.3,
          46.2,
          33.6,
          31.8,
          25.8,
          25.8,
          25.2,
          22.9,
          23.7,
          29.6,
          25.2,
          29.6,
          30.8,
          45.9,
          34.7,
          21.9,
          29.5,
          17.7,
          20,
          19.8,
          18.4,
          19.2,
          28.2,
          36.5,
          28.6,
          35.4,
          26,
          25.3,
          25.5,
          28.8,
          25.1,
          30.2,
          25.3,
          29.6,
          25.1,
          25.7,
          27.1,
          25.8,
          33.1,
          44.3,
          45.2,
          43.3,
          43.5,
          22.8,
          26.2,
          31.9,
          34.8,
          40.7,
          46.5,
          56,
          50.5,
          36.7,
          34.7,
          32.4,
          30.9,
          32.5,
          19.7,
          11.5,
          9.7,
          12,
          11,
          11.6,
          9.3,
          7.1,
          6.7,
          7.1,
          8.2,
          9.5,
          9.4,
          13.7,
          14.1,
          15.3,
          17.6,
          16.2,
          21.6,
          30.8,
          18.6,
          20.8,
          21.4,
          17.3,
          20.8,
          15.1,
          20.1,
          28.1,
          20.6,
          20.6,
          19.7,
          20.2,
          19.2,
          16,
          12.4,
          11.8,
          11.4,
          12.6,
          21.9,
          27.8,
          36.3,
          48.4,
          38.1,
          23.8,
          22.5,
          23.4,
          21.6,
          27.5,
          26.8,
          28,
          32.1,
          40.4,
          25.5,
          27.7,
          26.8,
          26.3,
          34.2,
          22.3,
          16.8,
          16.3,
          16,
          17.7,
          26,
          44.3,
          57.5,
          77.6,
          83.8,
          57.9,
          42.2,
          39.6,
          35.2,
          35.4,
          37.4,
          38.1,
          44.5,
          34.6,
          33.5,
          43.6,
          59.3,
          43.1,
          31.5,
          30.7,
          24.4,
          21.3
         ],
         "yaxis": "y3"
        },
        {
         "marker": {
          "color": "#2ca02c"
         },
         "mode": "markers",
         "name": "Labels",
         "type": "scatter",
         "x": [
          168,
          169,
          170,
          171,
          172,
          173,
          174,
          175,
          176,
          177,
          178,
          179,
          180,
          181,
          182,
          183,
          184,
          185,
          186,
          187,
          188,
          189,
          190,
          191
         ],
         "xaxis": "x3",
         "y": [
          21.7,
          25.2,
          26.4,
          32.1,
          32.5,
          38.9,
          48.5,
          43.4,
          44.8,
          35.6,
          37,
          35.1,
          38.9,
          37,
          24.1,
          33.9,
          26,
          30.3,
          26.5,
          19.9,
          16.8,
          15.6,
          14.7,
          14.9
         ],
         "yaxis": "y3"
        },
        {
         "marker": {
          "color": "#ff7f0e"
         },
         "mode": "markers",
         "name": "Predictions",
         "type": "scatter",
         "x": [
          168,
          169,
          170,
          171,
          172,
          173,
          174,
          175,
          176,
          177,
          178,
          179,
          180,
          181,
          182,
          183,
          184,
          185,
          186,
          187,
          188,
          189,
          190,
          191
         ],
         "xaxis": "x3",
         "y": [
          24.524057388305664,
          29.75542449951172,
          33.827796936035156,
          38.610191345214844,
          44.80492401123047,
          49.616695404052734,
          51.1005973815918,
          50.489654541015625,
          47.37370681762695,
          42.978824615478516,
          38.66093063354492,
          36.23987579345703,
          34.469970703125,
          33.813419342041016,
          35.12335968017578,
          37.615238189697266,
          40.073020935058594,
          41.63865661621094,
          43.1038703918457,
          41.41228485107422,
          39.137351989746094,
          36.36589431762695,
          34.377960205078125,
          34.16741943359375
         ],
         "yaxis": "y3"
        }
       ],
       "layout": {
        "height": 1200,
        "template": {
         "data": {
          "bar": [
           {
            "error_x": {
             "color": "#2a3f5f"
            },
            "error_y": {
             "color": "#2a3f5f"
            },
            "marker": {
             "line": {
              "color": "#E5ECF6",
              "width": 0.5
             },
             "pattern": {
              "fillmode": "overlay",
              "size": 10,
              "solidity": 0.2
             }
            },
            "type": "bar"
           }
          ],
          "barpolar": [
           {
            "marker": {
             "line": {
              "color": "#E5ECF6",
              "width": 0.5
             },
             "pattern": {
              "fillmode": "overlay",
              "size": 10,
              "solidity": 0.2
             }
            },
            "type": "barpolar"
           }
          ],
          "carpet": [
           {
            "aaxis": {
             "endlinecolor": "#2a3f5f",
             "gridcolor": "white",
             "linecolor": "white",
             "minorgridcolor": "white",
             "startlinecolor": "#2a3f5f"
            },
            "baxis": {
             "endlinecolor": "#2a3f5f",
             "gridcolor": "white",
             "linecolor": "white",
             "minorgridcolor": "white",
             "startlinecolor": "#2a3f5f"
            },
            "type": "carpet"
           }
          ],
          "choropleth": [
           {
            "colorbar": {
             "outlinewidth": 0,
             "ticks": ""
            },
            "type": "choropleth"
           }
          ],
          "contour": [
           {
            "colorbar": {
             "outlinewidth": 0,
             "ticks": ""
            },
            "colorscale": [
             [
              0,
              "#0d0887"
             ],
             [
              0.1111111111111111,
              "#46039f"
             ],
             [
              0.2222222222222222,
              "#7201a8"
             ],
             [
              0.3333333333333333,
              "#9c179e"
             ],
             [
              0.4444444444444444,
              "#bd3786"
             ],
             [
              0.5555555555555556,
              "#d8576b"
             ],
             [
              0.6666666666666666,
              "#ed7953"
             ],
             [
              0.7777777777777778,
              "#fb9f3a"
             ],
             [
              0.8888888888888888,
              "#fdca26"
             ],
             [
              1,
              "#f0f921"
             ]
            ],
            "type": "contour"
           }
          ],
          "contourcarpet": [
           {
            "colorbar": {
             "outlinewidth": 0,
             "ticks": ""
            },
            "type": "contourcarpet"
           }
          ],
          "heatmap": [
           {
            "colorbar": {
             "outlinewidth": 0,
             "ticks": ""
            },
            "colorscale": [
             [
              0,
              "#0d0887"
             ],
             [
              0.1111111111111111,
              "#46039f"
             ],
             [
              0.2222222222222222,
              "#7201a8"
             ],
             [
              0.3333333333333333,
              "#9c179e"
             ],
             [
              0.4444444444444444,
              "#bd3786"
             ],
             [
              0.5555555555555556,
              "#d8576b"
             ],
             [
              0.6666666666666666,
              "#ed7953"
             ],
             [
              0.7777777777777778,
              "#fb9f3a"
             ],
             [
              0.8888888888888888,
              "#fdca26"
             ],
             [
              1,
              "#f0f921"
             ]
            ],
            "type": "heatmap"
           }
          ],
          "heatmapgl": [
           {
            "colorbar": {
             "outlinewidth": 0,
             "ticks": ""
            },
            "colorscale": [
             [
              0,
              "#0d0887"
             ],
             [
              0.1111111111111111,
              "#46039f"
             ],
             [
              0.2222222222222222,
              "#7201a8"
             ],
             [
              0.3333333333333333,
              "#9c179e"
             ],
             [
              0.4444444444444444,
              "#bd3786"
             ],
             [
              0.5555555555555556,
              "#d8576b"
             ],
             [
              0.6666666666666666,
              "#ed7953"
             ],
             [
              0.7777777777777778,
              "#fb9f3a"
             ],
             [
              0.8888888888888888,
              "#fdca26"
             ],
             [
              1,
              "#f0f921"
             ]
            ],
            "type": "heatmapgl"
           }
          ],
          "histogram": [
           {
            "marker": {
             "pattern": {
              "fillmode": "overlay",
              "size": 10,
              "solidity": 0.2
             }
            },
            "type": "histogram"
           }
          ],
          "histogram2d": [
           {
            "colorbar": {
             "outlinewidth": 0,
             "ticks": ""
            },
            "colorscale": [
             [
              0,
              "#0d0887"
             ],
             [
              0.1111111111111111,
              "#46039f"
             ],
             [
              0.2222222222222222,
              "#7201a8"
             ],
             [
              0.3333333333333333,
              "#9c179e"
             ],
             [
              0.4444444444444444,
              "#bd3786"
             ],
             [
              0.5555555555555556,
              "#d8576b"
             ],
             [
              0.6666666666666666,
              "#ed7953"
             ],
             [
              0.7777777777777778,
              "#fb9f3a"
             ],
             [
              0.8888888888888888,
              "#fdca26"
             ],
             [
              1,
              "#f0f921"
             ]
            ],
            "type": "histogram2d"
           }
          ],
          "histogram2dcontour": [
           {
            "colorbar": {
             "outlinewidth": 0,
             "ticks": ""
            },
            "colorscale": [
             [
              0,
              "#0d0887"
             ],
             [
              0.1111111111111111,
              "#46039f"
             ],
             [
              0.2222222222222222,
              "#7201a8"
             ],
             [
              0.3333333333333333,
              "#9c179e"
             ],
             [
              0.4444444444444444,
              "#bd3786"
             ],
             [
              0.5555555555555556,
              "#d8576b"
             ],
             [
              0.6666666666666666,
              "#ed7953"
             ],
             [
              0.7777777777777778,
              "#fb9f3a"
             ],
             [
              0.8888888888888888,
              "#fdca26"
             ],
             [
              1,
              "#f0f921"
             ]
            ],
            "type": "histogram2dcontour"
           }
          ],
          "mesh3d": [
           {
            "colorbar": {
             "outlinewidth": 0,
             "ticks": ""
            },
            "type": "mesh3d"
           }
          ],
          "parcoords": [
           {
            "line": {
             "colorbar": {
              "outlinewidth": 0,
              "ticks": ""
             }
            },
            "type": "parcoords"
           }
          ],
          "pie": [
           {
            "automargin": true,
            "type": "pie"
           }
          ],
          "scatter": [
           {
            "fillpattern": {
             "fillmode": "overlay",
             "size": 10,
             "solidity": 0.2
            },
            "type": "scatter"
           }
          ],
          "scatter3d": [
           {
            "line": {
             "colorbar": {
              "outlinewidth": 0,
              "ticks": ""
             }
            },
            "marker": {
             "colorbar": {
              "outlinewidth": 0,
              "ticks": ""
             }
            },
            "type": "scatter3d"
           }
          ],
          "scattercarpet": [
           {
            "marker": {
             "colorbar": {
              "outlinewidth": 0,
              "ticks": ""
             }
            },
            "type": "scattercarpet"
           }
          ],
          "scattergeo": [
           {
            "marker": {
             "colorbar": {
              "outlinewidth": 0,
              "ticks": ""
             }
            },
            "type": "scattergeo"
           }
          ],
          "scattergl": [
           {
            "marker": {
             "colorbar": {
              "outlinewidth": 0,
              "ticks": ""
             }
            },
            "type": "scattergl"
           }
          ],
          "scattermapbox": [
           {
            "marker": {
             "colorbar": {
              "outlinewidth": 0,
              "ticks": ""
             }
            },
            "type": "scattermapbox"
           }
          ],
          "scatterpolar": [
           {
            "marker": {
             "colorbar": {
              "outlinewidth": 0,
              "ticks": ""
             }
            },
            "type": "scatterpolar"
           }
          ],
          "scatterpolargl": [
           {
            "marker": {
             "colorbar": {
              "outlinewidth": 0,
              "ticks": ""
             }
            },
            "type": "scatterpolargl"
           }
          ],
          "scatterternary": [
           {
            "marker": {
             "colorbar": {
              "outlinewidth": 0,
              "ticks": ""
             }
            },
            "type": "scatterternary"
           }
          ],
          "surface": [
           {
            "colorbar": {
             "outlinewidth": 0,
             "ticks": ""
            },
            "colorscale": [
             [
              0,
              "#0d0887"
             ],
             [
              0.1111111111111111,
              "#46039f"
             ],
             [
              0.2222222222222222,
              "#7201a8"
             ],
             [
              0.3333333333333333,
              "#9c179e"
             ],
             [
              0.4444444444444444,
              "#bd3786"
             ],
             [
              0.5555555555555556,
              "#d8576b"
             ],
             [
              0.6666666666666666,
              "#ed7953"
             ],
             [
              0.7777777777777778,
              "#fb9f3a"
             ],
             [
              0.8888888888888888,
              "#fdca26"
             ],
             [
              1,
              "#f0f921"
             ]
            ],
            "type": "surface"
           }
          ],
          "table": [
           {
            "cells": {
             "fill": {
              "color": "#EBF0F8"
             },
             "line": {
              "color": "white"
             }
            },
            "header": {
             "fill": {
              "color": "#C8D4E3"
             },
             "line": {
              "color": "white"
             }
            },
            "type": "table"
           }
          ]
         },
         "layout": {
          "annotationdefaults": {
           "arrowcolor": "#2a3f5f",
           "arrowhead": 0,
           "arrowwidth": 1
          },
          "autotypenumbers": "strict",
          "coloraxis": {
           "colorbar": {
            "outlinewidth": 0,
            "ticks": ""
           }
          },
          "colorscale": {
           "diverging": [
            [
             0,
             "#8e0152"
            ],
            [
             0.1,
             "#c51b7d"
            ],
            [
             0.2,
             "#de77ae"
            ],
            [
             0.3,
             "#f1b6da"
            ],
            [
             0.4,
             "#fde0ef"
            ],
            [
             0.5,
             "#f7f7f7"
            ],
            [
             0.6,
             "#e6f5d0"
            ],
            [
             0.7,
             "#b8e186"
            ],
            [
             0.8,
             "#7fbc41"
            ],
            [
             0.9,
             "#4d9221"
            ],
            [
             1,
             "#276419"
            ]
           ],
           "sequential": [
            [
             0,
             "#0d0887"
            ],
            [
             0.1111111111111111,
             "#46039f"
            ],
            [
             0.2222222222222222,
             "#7201a8"
            ],
            [
             0.3333333333333333,
             "#9c179e"
            ],
            [
             0.4444444444444444,
             "#bd3786"
            ],
            [
             0.5555555555555556,
             "#d8576b"
            ],
            [
             0.6666666666666666,
             "#ed7953"
            ],
            [
             0.7777777777777778,
             "#fb9f3a"
            ],
            [
             0.8888888888888888,
             "#fdca26"
            ],
            [
             1,
             "#f0f921"
            ]
           ],
           "sequentialminus": [
            [
             0,
             "#0d0887"
            ],
            [
             0.1111111111111111,
             "#46039f"
            ],
            [
             0.2222222222222222,
             "#7201a8"
            ],
            [
             0.3333333333333333,
             "#9c179e"
            ],
            [
             0.4444444444444444,
             "#bd3786"
            ],
            [
             0.5555555555555556,
             "#d8576b"
            ],
            [
             0.6666666666666666,
             "#ed7953"
            ],
            [
             0.7777777777777778,
             "#fb9f3a"
            ],
            [
             0.8888888888888888,
             "#fdca26"
            ],
            [
             1,
             "#f0f921"
            ]
           ]
          },
          "colorway": [
           "#636efa",
           "#EF553B",
           "#00cc96",
           "#ab63fa",
           "#FFA15A",
           "#19d3f3",
           "#FF6692",
           "#B6E880",
           "#FF97FF",
           "#FECB52"
          ],
          "font": {
           "color": "#2a3f5f"
          },
          "geo": {
           "bgcolor": "white",
           "lakecolor": "white",
           "landcolor": "#E5ECF6",
           "showlakes": true,
           "showland": true,
           "subunitcolor": "white"
          },
          "hoverlabel": {
           "align": "left"
          },
          "hovermode": "closest",
          "mapbox": {
           "style": "light"
          },
          "paper_bgcolor": "white",
          "plot_bgcolor": "#E5ECF6",
          "polar": {
           "angularaxis": {
            "gridcolor": "white",
            "linecolor": "white",
            "ticks": ""
           },
           "bgcolor": "#E5ECF6",
           "radialaxis": {
            "gridcolor": "white",
            "linecolor": "white",
            "ticks": ""
           }
          },
          "scene": {
           "xaxis": {
            "backgroundcolor": "#E5ECF6",
            "gridcolor": "white",
            "gridwidth": 2,
            "linecolor": "white",
            "showbackground": true,
            "ticks": "",
            "zerolinecolor": "white"
           },
           "yaxis": {
            "backgroundcolor": "#E5ECF6",
            "gridcolor": "white",
            "gridwidth": 2,
            "linecolor": "white",
            "showbackground": true,
            "ticks": "",
            "zerolinecolor": "white"
           },
           "zaxis": {
            "backgroundcolor": "#E5ECF6",
            "gridcolor": "white",
            "gridwidth": 2,
            "linecolor": "white",
            "showbackground": true,
            "ticks": "",
            "zerolinecolor": "white"
           }
          },
          "shapedefaults": {
           "line": {
            "color": "#2a3f5f"
           }
          },
          "ternary": {
           "aaxis": {
            "gridcolor": "white",
            "linecolor": "white",
            "ticks": ""
           },
           "baxis": {
            "gridcolor": "white",
            "linecolor": "white",
            "ticks": ""
           },
           "bgcolor": "#E5ECF6",
           "caxis": {
            "gridcolor": "white",
            "linecolor": "white",
            "ticks": ""
           }
          },
          "title": {
           "x": 0.05
          },
          "xaxis": {
           "automargin": true,
           "gridcolor": "white",
           "linecolor": "white",
           "ticks": "",
           "title": {
            "standoff": 15
           },
           "zerolinecolor": "white",
           "zerolinewidth": 2
          },
          "yaxis": {
           "automargin": true,
           "gridcolor": "white",
           "linecolor": "white",
           "ticks": "",
           "title": {
            "standoff": 15
           },
           "zerolinecolor": "white",
           "zerolinewidth": 2
          }
         }
        },
        "xaxis": {
         "anchor": "y",
         "domain": [
          0,
          1
         ]
        },
        "xaxis2": {
         "anchor": "y2",
         "domain": [
          0,
          1
         ]
        },
        "xaxis3": {
         "anchor": "y3",
         "domain": [
          0,
          1
         ]
        },
        "yaxis": {
         "anchor": "x",
         "domain": [
          0.7333333333333333,
          1
         ],
         "title": {
          "text": "pm10"
         }
        },
        "yaxis2": {
         "anchor": "x2",
         "domain": [
          0.36666666666666664,
          0.6333333333333333
         ],
         "title": {
          "text": "pm10"
         }
        },
        "yaxis3": {
         "anchor": "x3",
         "domain": [
          0,
          0.26666666666666666
         ],
         "title": {
          "text": "pm10"
         }
        }
       }
      }
     },
     "metadata": {},
     "output_type": "display_data"
    }
   ],
   "source": [
    "window_generator_530.plot(model_530, offset=100)\n"
   ]
  },
  {
   "cell_type": "code",
   "execution_count": 42,
   "metadata": {},
   "outputs": [
    {
     "data": {
      "application/vnd.plotly.v1+json": {
       "config": {
        "plotlyServerURL": "https://plot.ly"
       },
       "data": [
        {
         "marker": {
          "color": "blue"
         },
         "name": "Inputs",
         "type": "scatter",
         "x": [
          0,
          1,
          2,
          3,
          4,
          5,
          6,
          7,
          8,
          9,
          10,
          11,
          12,
          13,
          14,
          15,
          16,
          17,
          18,
          19,
          20,
          21,
          22,
          23,
          24,
          25,
          26,
          27,
          28,
          29,
          30,
          31,
          32,
          33,
          34,
          35,
          36,
          37,
          38,
          39,
          40,
          41,
          42,
          43,
          44,
          45,
          46,
          47,
          48,
          49,
          50,
          51,
          52,
          53,
          54,
          55,
          56,
          57,
          58,
          59,
          60,
          61,
          62,
          63,
          64,
          65,
          66,
          67,
          68,
          69,
          70,
          71,
          72,
          73,
          74,
          75,
          76,
          77,
          78,
          79,
          80,
          81,
          82,
          83,
          84,
          85,
          86,
          87,
          88,
          89,
          90,
          91,
          92,
          93,
          94,
          95,
          96,
          97,
          98,
          99,
          100,
          101,
          102,
          103,
          104,
          105,
          106,
          107,
          108,
          109,
          110,
          111,
          112,
          113,
          114,
          115,
          116,
          117,
          118,
          119,
          120,
          121,
          122,
          123,
          124,
          125,
          126,
          127,
          128,
          129,
          130,
          131,
          132,
          133,
          134,
          135,
          136,
          137,
          138,
          139,
          140,
          141,
          142,
          143,
          144,
          145,
          146,
          147,
          148,
          149,
          150,
          151,
          152,
          153,
          154,
          155,
          156,
          157,
          158,
          159,
          160,
          161,
          162,
          163,
          164,
          165,
          166,
          167
         ],
         "xaxis": "x",
         "y": [
          27.2,
          24,
          26.8,
          32.6,
          35,
          33.9,
          38,
          41.4,
          39.7,
          39.1,
          46,
          48.8,
          46.6,
          55.5,
          73,
          51.7,
          54.1,
          52.5,
          32.4,
          28.3,
          29.3,
          27.9,
          35.5,
          42.4,
          47.3,
          51,
          62.3,
          83.2,
          94.5,
          114.1,
          141,
          151.5,
          67.2,
          53.8,
          39.9,
          36.6,
          35.3,
          34.8,
          26.7,
          24.5,
          24.7,
          23.7,
          26.2,
          34.3,
          47.7,
          67.8,
          82.3,
          75.3,
          129.1,
          155,
          164.8,
          122.6,
          152.4,
          171.2,
          155.3,
          185,
          202.4,
          203.2,
          199.9,
          164.6,
          61.1,
          41.4,
          37.4,
          25.8,
          30.1,
          39,
          47,
          55.3,
          69.7,
          93.2,
          92.1,
          92.6,
          93.3,
          68.8,
          55.8,
          43.9,
          34.3,
          35.2,
          33,
          31.4,
          35.1,
          37.8,
          44.3,
          37.5,
          38,
          42.2,
          49.1,
          34.7,
          32.3,
          33.9,
          40.7,
          73.9,
          66.3,
          48.4,
          55.8,
          57.4,
          47.4,
          43.3,
          41.7,
          45.4,
          39.8,
          43.4,
          40.3,
          43.2,
          40.5,
          35.2,
          48.5,
          50.7,
          36.6,
          37,
          38.3,
          36.5,
          37.7,
          37.4,
          38.7,
          39.1,
          41.3,
          44.9,
          45.1,
          51,
          47,
          43.1,
          45.3,
          42.3,
          46.3,
          53.8,
          43.2,
          42.6,
          47.9,
          49.9,
          39.2,
          42.8,
          40.5,
          44.4,
          46.7,
          38.4,
          38.7,
          59.3,
          54,
          41.2,
          41.5,
          42.9,
          41.8,
          41.7,
          43.8,
          44.1,
          47.5,
          44.8,
          50.3,
          51.8,
          42.5,
          36.4,
          36.1,
          42.9,
          34.4,
          22.6,
          22.4,
          22.4,
          18.6,
          13.7,
          16.9,
          16,
          22.1,
          26.8,
          26.7,
          20.6,
          26.4,
          31.1
         ],
         "yaxis": "y"
        },
        {
         "marker": {
          "color": "#2ca02c"
         },
         "mode": "markers",
         "name": "Labels",
         "type": "scatter",
         "x": [
          168,
          169,
          170,
          171,
          172,
          173,
          174,
          175,
          176,
          177,
          178,
          179,
          180,
          181,
          182,
          183,
          184,
          185,
          186,
          187,
          188,
          189,
          190,
          191
         ],
         "xaxis": "x",
         "y": [
          31.3,
          30.5,
          31.7,
          25.6,
          28.9,
          26.4,
          32.2,
          28.1,
          32.5,
          26.5,
          38.9,
          33.9,
          26.1,
          26.1,
          27,
          16.8,
          16,
          16.1,
          17.2,
          30,
          33.2,
          36.6,
          38.1,
          45.8
         ],
         "yaxis": "y"
        },
        {
         "marker": {
          "color": "#ff7f0e"
         },
         "mode": "markers",
         "name": "Predictions",
         "type": "scatter",
         "x": [
          168,
          169,
          170,
          171,
          172,
          173,
          174,
          175,
          176,
          177,
          178,
          179,
          180,
          181,
          182,
          183,
          184,
          185,
          186,
          187,
          188,
          189,
          190,
          191
         ],
         "xaxis": "x",
         "y": [
          21.47978973388672,
          20.305641174316406,
          19.080848693847656,
          17.502174377441406,
          15.924396514892578,
          14.461949348449707,
          13.180597305297852,
          12.462413787841797,
          12.593551635742188,
          13.368767738342285,
          14.862091064453125,
          16.86404037475586,
          19.03160858154297,
          20.791736602783203,
          21.91046714782715,
          22.058635711669922,
          20.864572525024414,
          18.925071716308594,
          17.121158599853516,
          15.810935974121094,
          15.636402130126953,
          16.347599029541016,
          17.314228057861328,
          18.19695281982422
         ],
         "yaxis": "y"
        },
        {
         "marker": {
          "color": "blue"
         },
         "name": "Inputs",
         "type": "scatter",
         "x": [
          0,
          1,
          2,
          3,
          4,
          5,
          6,
          7,
          8,
          9,
          10,
          11,
          12,
          13,
          14,
          15,
          16,
          17,
          18,
          19,
          20,
          21,
          22,
          23,
          24,
          25,
          26,
          27,
          28,
          29,
          30,
          31,
          32,
          33,
          34,
          35,
          36,
          37,
          38,
          39,
          40,
          41,
          42,
          43,
          44,
          45,
          46,
          47,
          48,
          49,
          50,
          51,
          52,
          53,
          54,
          55,
          56,
          57,
          58,
          59,
          60,
          61,
          62,
          63,
          64,
          65,
          66,
          67,
          68,
          69,
          70,
          71,
          72,
          73,
          74,
          75,
          76,
          77,
          78,
          79,
          80,
          81,
          82,
          83,
          84,
          85,
          86,
          87,
          88,
          89,
          90,
          91,
          92,
          93,
          94,
          95,
          96,
          97,
          98,
          99,
          100,
          101,
          102,
          103,
          104,
          105,
          106,
          107,
          108,
          109,
          110,
          111,
          112,
          113,
          114,
          115,
          116,
          117,
          118,
          119,
          120,
          121,
          122,
          123,
          124,
          125,
          126,
          127,
          128,
          129,
          130,
          131,
          132,
          133,
          134,
          135,
          136,
          137,
          138,
          139,
          140,
          141,
          142,
          143,
          144,
          145,
          146,
          147,
          148,
          149,
          150,
          151,
          152,
          153,
          154,
          155,
          156,
          157,
          158,
          159,
          160,
          161,
          162,
          163,
          164,
          165,
          166,
          167
         ],
         "xaxis": "x2",
         "y": [
          19.5,
          25.3,
          22.9,
          20.2,
          21.3,
          20.4,
          23.4,
          20.4,
          21.7,
          23.8,
          22.2,
          18.7,
          23,
          19.9,
          16.5,
          17.6,
          17.7,
          16.5,
          17.4,
          16.9,
          16.1,
          17.9,
          20.7,
          25.5,
          25.6,
          32.3,
          26.5,
          25.4,
          24.8,
          25.2,
          26.2,
          27,
          25.3,
          25.3,
          21.8,
          18.9,
          18.3,
          21.2,
          18.7,
          19.4,
          18,
          15.4,
          17.6,
          17.4,
          19.1,
          19.8,
          20.7,
          26.6,
          25.6,
          26.4,
          23.6,
          22.6,
          24.1,
          23.7,
          22.5,
          24.6,
          27.1,
          32.7,
          29.7,
          23,
          19.5,
          19.1,
          19.9,
          21.4,
          21.1,
          21.5,
          23.3,
          22.3,
          20,
          19.8,
          26.5,
          28.1,
          26.3,
          28.6,
          27.5,
          23.8,
          26.8,
          24.5,
          24.6,
          27.9,
          32.5,
          30.1,
          29.9,
          28.4,
          22.9,
          22.1,
          26,
          25.5,
          30.9,
          27.6,
          37,
          41.9,
          24.6,
          21.9,
          23.2,
          21.9,
          24.3,
          27.7,
          25.1,
          19,
          18.5,
          20.9,
          22.4,
          24.6,
          26.6,
          31.8,
          34.3,
          40.1,
          36.9,
          42.13333333333333,
          47.36666666666667,
          52.6,
          26,
          22.7,
          18.9,
          19.7,
          19.2,
          18.4,
          19,
          18.1,
          17.1,
          16.5,
          17.3,
          25.2,
          22.4,
          22.7,
          18.9,
          20.1,
          21.3,
          25.8,
          30.5,
          27.6,
          27.1,
          26.1,
          26.8,
          25.7,
          25.3,
          25.3,
          26.1,
          25.5,
          26.4,
          29,
          18.9,
          14.7,
          11.3,
          30.2,
          19.7,
          21,
          22.5,
          29.3,
          32.4,
          29.7,
          29.4,
          30.1,
          29.8,
          33.9,
          26.5,
          23.8,
          43.099999999999994,
          62.4,
          32,
          36.8,
          32.1,
          30.4,
          26.8,
          25.3,
          27.2,
          56.3
         ],
         "yaxis": "y2"
        },
        {
         "marker": {
          "color": "#2ca02c"
         },
         "mode": "markers",
         "name": "Labels",
         "type": "scatter",
         "x": [
          168,
          169,
          170,
          171,
          172,
          173,
          174,
          175,
          176,
          177,
          178,
          179,
          180,
          181,
          182,
          183,
          184,
          185,
          186,
          187,
          188,
          189,
          190,
          191
         ],
         "xaxis": "x2",
         "y": [
          793.4,
          408.2,
          18.5,
          22.5,
          18.8,
          23.5,
          23,
          24.8,
          25.7,
          23.4,
          22.7,
          15.4,
          24.7,
          30.1,
          24.3,
          23.7,
          23.2,
          19.1,
          21.8,
          25.1,
          23.9,
          25.6,
          21.2,
          18.4
         ],
         "yaxis": "y2"
        },
        {
         "marker": {
          "color": "#ff7f0e"
         },
         "mode": "markers",
         "name": "Predictions",
         "type": "scatter",
         "x": [
          168,
          169,
          170,
          171,
          172,
          173,
          174,
          175,
          176,
          177,
          178,
          179,
          180,
          181,
          182,
          183,
          184,
          185,
          186,
          187,
          188,
          189,
          190,
          191
         ],
         "xaxis": "x2",
         "y": [
          33.55375289916992,
          31.460529327392578,
          29.032318115234375,
          25.464855194091797,
          23.354719161987305,
          22.45647430419922,
          23.40276527404785,
          25.553173065185547,
          27.94260025024414,
          29.48755645751953,
          29.8115234375,
          29.27105712890625,
          27.661571502685547,
          25.80721092224121,
          24.54635238647461,
          23.163938522338867,
          22.130325317382812,
          21.912349700927734,
          22.784921646118164,
          23.954347610473633,
          25.70844841003418,
          27.62100601196289,
          29.48263931274414,
          30.91647720336914
         ],
         "yaxis": "y2"
        },
        {
         "marker": {
          "color": "blue"
         },
         "name": "Inputs",
         "type": "scatter",
         "x": [
          0,
          1,
          2,
          3,
          4,
          5,
          6,
          7,
          8,
          9,
          10,
          11,
          12,
          13,
          14,
          15,
          16,
          17,
          18,
          19,
          20,
          21,
          22,
          23,
          24,
          25,
          26,
          27,
          28,
          29,
          30,
          31,
          32,
          33,
          34,
          35,
          36,
          37,
          38,
          39,
          40,
          41,
          42,
          43,
          44,
          45,
          46,
          47,
          48,
          49,
          50,
          51,
          52,
          53,
          54,
          55,
          56,
          57,
          58,
          59,
          60,
          61,
          62,
          63,
          64,
          65,
          66,
          67,
          68,
          69,
          70,
          71,
          72,
          73,
          74,
          75,
          76,
          77,
          78,
          79,
          80,
          81,
          82,
          83,
          84,
          85,
          86,
          87,
          88,
          89,
          90,
          91,
          92,
          93,
          94,
          95,
          96,
          97,
          98,
          99,
          100,
          101,
          102,
          103,
          104,
          105,
          106,
          107,
          108,
          109,
          110,
          111,
          112,
          113,
          114,
          115,
          116,
          117,
          118,
          119,
          120,
          121,
          122,
          123,
          124,
          125,
          126,
          127,
          128,
          129,
          130,
          131,
          132,
          133,
          134,
          135,
          136,
          137,
          138,
          139,
          140,
          141,
          142,
          143,
          144,
          145,
          146,
          147,
          148,
          149,
          150,
          151,
          152,
          153,
          154,
          155,
          156,
          157,
          158,
          159,
          160,
          161,
          162,
          163,
          164,
          165,
          166,
          167
         ],
         "xaxis": "x3",
         "y": [
          11,
          11.2,
          13.9,
          17.3,
          19,
          25.1,
          24.9,
          23.2,
          32.3,
          28.5,
          29.5,
          27.5,
          25.5,
          28,
          32.4,
          28.6,
          30.3,
          37.4,
          41.5,
          28.6,
          32,
          23.5,
          20,
          19.4,
          22.1,
          22.7,
          32.3,
          35.5,
          33.3,
          46.2,
          33.6,
          31.8,
          25.8,
          25.8,
          25.2,
          22.9,
          23.7,
          29.6,
          25.2,
          29.6,
          30.8,
          45.9,
          34.7,
          21.9,
          29.5,
          17.7,
          20,
          19.8,
          18.4,
          19.2,
          28.2,
          36.5,
          28.6,
          35.4,
          26,
          25.3,
          25.5,
          28.8,
          25.1,
          30.2,
          25.3,
          29.6,
          25.1,
          25.7,
          27.1,
          25.8,
          33.1,
          44.3,
          45.2,
          43.3,
          43.5,
          22.8,
          26.2,
          31.9,
          34.8,
          40.7,
          46.5,
          56,
          50.5,
          36.7,
          34.7,
          32.4,
          30.9,
          32.5,
          19.7,
          11.5,
          9.7,
          12,
          11,
          11.6,
          9.3,
          7.1,
          6.7,
          7.1,
          8.2,
          9.5,
          9.4,
          13.7,
          14.1,
          15.3,
          17.6,
          16.2,
          21.6,
          30.8,
          18.6,
          20.8,
          21.4,
          17.3,
          20.8,
          15.1,
          20.1,
          28.1,
          20.6,
          20.6,
          19.7,
          20.2,
          19.2,
          16,
          12.4,
          11.8,
          11.4,
          12.6,
          21.9,
          27.8,
          36.3,
          48.4,
          38.1,
          23.8,
          22.5,
          23.4,
          21.6,
          27.5,
          26.8,
          28,
          32.1,
          40.4,
          25.5,
          27.7,
          26.8,
          26.3,
          34.2,
          22.3,
          16.8,
          16.3,
          16,
          17.7,
          26,
          44.3,
          57.5,
          77.6,
          83.8,
          57.9,
          42.2,
          39.6,
          35.2,
          35.4,
          37.4,
          38.1,
          44.5,
          34.6,
          33.5,
          43.6,
          59.3,
          43.1,
          31.5,
          30.7,
          24.4,
          21.3
         ],
         "yaxis": "y3"
        },
        {
         "marker": {
          "color": "#2ca02c"
         },
         "mode": "markers",
         "name": "Labels",
         "type": "scatter",
         "x": [
          168,
          169,
          170,
          171,
          172,
          173,
          174,
          175,
          176,
          177,
          178,
          179,
          180,
          181,
          182,
          183,
          184,
          185,
          186,
          187,
          188,
          189,
          190,
          191
         ],
         "xaxis": "x3",
         "y": [
          21.7,
          25.2,
          26.4,
          32.1,
          32.5,
          38.9,
          48.5,
          43.4,
          44.8,
          35.6,
          37,
          35.1,
          38.9,
          37,
          24.1,
          33.9,
          26,
          30.3,
          26.5,
          19.9,
          16.8,
          15.6,
          14.7,
          14.9
         ],
         "yaxis": "y3"
        },
        {
         "marker": {
          "color": "#ff7f0e"
         },
         "mode": "markers",
         "name": "Predictions",
         "type": "scatter",
         "x": [
          168,
          169,
          170,
          171,
          172,
          173,
          174,
          175,
          176,
          177,
          178,
          179,
          180,
          181,
          182,
          183,
          184,
          185,
          186,
          187,
          188,
          189,
          190,
          191
         ],
         "xaxis": "x3",
         "y": [
          27.36326789855957,
          27.754566192626953,
          28.922279357910156,
          29.37197494506836,
          29.474824905395508,
          29.354965209960938,
          28.159744262695312,
          26.02581787109375,
          23.546123504638672,
          21.017528533935547,
          18.6509952545166,
          16.999568939208984,
          16.683170318603516,
          17.85593605041504,
          19.942222595214844,
          22.18865203857422,
          24.69622039794922,
          27.170242309570312,
          29.61453628540039,
          31.07624626159668,
          31.54225730895996,
          31.634662628173828,
          31.876367568969727,
          31.73720932006836
         ],
         "yaxis": "y3"
        }
       ],
       "layout": {
        "height": 1200,
        "template": {
         "data": {
          "bar": [
           {
            "error_x": {
             "color": "#2a3f5f"
            },
            "error_y": {
             "color": "#2a3f5f"
            },
            "marker": {
             "line": {
              "color": "#E5ECF6",
              "width": 0.5
             },
             "pattern": {
              "fillmode": "overlay",
              "size": 10,
              "solidity": 0.2
             }
            },
            "type": "bar"
           }
          ],
          "barpolar": [
           {
            "marker": {
             "line": {
              "color": "#E5ECF6",
              "width": 0.5
             },
             "pattern": {
              "fillmode": "overlay",
              "size": 10,
              "solidity": 0.2
             }
            },
            "type": "barpolar"
           }
          ],
          "carpet": [
           {
            "aaxis": {
             "endlinecolor": "#2a3f5f",
             "gridcolor": "white",
             "linecolor": "white",
             "minorgridcolor": "white",
             "startlinecolor": "#2a3f5f"
            },
            "baxis": {
             "endlinecolor": "#2a3f5f",
             "gridcolor": "white",
             "linecolor": "white",
             "minorgridcolor": "white",
             "startlinecolor": "#2a3f5f"
            },
            "type": "carpet"
           }
          ],
          "choropleth": [
           {
            "colorbar": {
             "outlinewidth": 0,
             "ticks": ""
            },
            "type": "choropleth"
           }
          ],
          "contour": [
           {
            "colorbar": {
             "outlinewidth": 0,
             "ticks": ""
            },
            "colorscale": [
             [
              0,
              "#0d0887"
             ],
             [
              0.1111111111111111,
              "#46039f"
             ],
             [
              0.2222222222222222,
              "#7201a8"
             ],
             [
              0.3333333333333333,
              "#9c179e"
             ],
             [
              0.4444444444444444,
              "#bd3786"
             ],
             [
              0.5555555555555556,
              "#d8576b"
             ],
             [
              0.6666666666666666,
              "#ed7953"
             ],
             [
              0.7777777777777778,
              "#fb9f3a"
             ],
             [
              0.8888888888888888,
              "#fdca26"
             ],
             [
              1,
              "#f0f921"
             ]
            ],
            "type": "contour"
           }
          ],
          "contourcarpet": [
           {
            "colorbar": {
             "outlinewidth": 0,
             "ticks": ""
            },
            "type": "contourcarpet"
           }
          ],
          "heatmap": [
           {
            "colorbar": {
             "outlinewidth": 0,
             "ticks": ""
            },
            "colorscale": [
             [
              0,
              "#0d0887"
             ],
             [
              0.1111111111111111,
              "#46039f"
             ],
             [
              0.2222222222222222,
              "#7201a8"
             ],
             [
              0.3333333333333333,
              "#9c179e"
             ],
             [
              0.4444444444444444,
              "#bd3786"
             ],
             [
              0.5555555555555556,
              "#d8576b"
             ],
             [
              0.6666666666666666,
              "#ed7953"
             ],
             [
              0.7777777777777778,
              "#fb9f3a"
             ],
             [
              0.8888888888888888,
              "#fdca26"
             ],
             [
              1,
              "#f0f921"
             ]
            ],
            "type": "heatmap"
           }
          ],
          "heatmapgl": [
           {
            "colorbar": {
             "outlinewidth": 0,
             "ticks": ""
            },
            "colorscale": [
             [
              0,
              "#0d0887"
             ],
             [
              0.1111111111111111,
              "#46039f"
             ],
             [
              0.2222222222222222,
              "#7201a8"
             ],
             [
              0.3333333333333333,
              "#9c179e"
             ],
             [
              0.4444444444444444,
              "#bd3786"
             ],
             [
              0.5555555555555556,
              "#d8576b"
             ],
             [
              0.6666666666666666,
              "#ed7953"
             ],
             [
              0.7777777777777778,
              "#fb9f3a"
             ],
             [
              0.8888888888888888,
              "#fdca26"
             ],
             [
              1,
              "#f0f921"
             ]
            ],
            "type": "heatmapgl"
           }
          ],
          "histogram": [
           {
            "marker": {
             "pattern": {
              "fillmode": "overlay",
              "size": 10,
              "solidity": 0.2
             }
            },
            "type": "histogram"
           }
          ],
          "histogram2d": [
           {
            "colorbar": {
             "outlinewidth": 0,
             "ticks": ""
            },
            "colorscale": [
             [
              0,
              "#0d0887"
             ],
             [
              0.1111111111111111,
              "#46039f"
             ],
             [
              0.2222222222222222,
              "#7201a8"
             ],
             [
              0.3333333333333333,
              "#9c179e"
             ],
             [
              0.4444444444444444,
              "#bd3786"
             ],
             [
              0.5555555555555556,
              "#d8576b"
             ],
             [
              0.6666666666666666,
              "#ed7953"
             ],
             [
              0.7777777777777778,
              "#fb9f3a"
             ],
             [
              0.8888888888888888,
              "#fdca26"
             ],
             [
              1,
              "#f0f921"
             ]
            ],
            "type": "histogram2d"
           }
          ],
          "histogram2dcontour": [
           {
            "colorbar": {
             "outlinewidth": 0,
             "ticks": ""
            },
            "colorscale": [
             [
              0,
              "#0d0887"
             ],
             [
              0.1111111111111111,
              "#46039f"
             ],
             [
              0.2222222222222222,
              "#7201a8"
             ],
             [
              0.3333333333333333,
              "#9c179e"
             ],
             [
              0.4444444444444444,
              "#bd3786"
             ],
             [
              0.5555555555555556,
              "#d8576b"
             ],
             [
              0.6666666666666666,
              "#ed7953"
             ],
             [
              0.7777777777777778,
              "#fb9f3a"
             ],
             [
              0.8888888888888888,
              "#fdca26"
             ],
             [
              1,
              "#f0f921"
             ]
            ],
            "type": "histogram2dcontour"
           }
          ],
          "mesh3d": [
           {
            "colorbar": {
             "outlinewidth": 0,
             "ticks": ""
            },
            "type": "mesh3d"
           }
          ],
          "parcoords": [
           {
            "line": {
             "colorbar": {
              "outlinewidth": 0,
              "ticks": ""
             }
            },
            "type": "parcoords"
           }
          ],
          "pie": [
           {
            "automargin": true,
            "type": "pie"
           }
          ],
          "scatter": [
           {
            "fillpattern": {
             "fillmode": "overlay",
             "size": 10,
             "solidity": 0.2
            },
            "type": "scatter"
           }
          ],
          "scatter3d": [
           {
            "line": {
             "colorbar": {
              "outlinewidth": 0,
              "ticks": ""
             }
            },
            "marker": {
             "colorbar": {
              "outlinewidth": 0,
              "ticks": ""
             }
            },
            "type": "scatter3d"
           }
          ],
          "scattercarpet": [
           {
            "marker": {
             "colorbar": {
              "outlinewidth": 0,
              "ticks": ""
             }
            },
            "type": "scattercarpet"
           }
          ],
          "scattergeo": [
           {
            "marker": {
             "colorbar": {
              "outlinewidth": 0,
              "ticks": ""
             }
            },
            "type": "scattergeo"
           }
          ],
          "scattergl": [
           {
            "marker": {
             "colorbar": {
              "outlinewidth": 0,
              "ticks": ""
             }
            },
            "type": "scattergl"
           }
          ],
          "scattermapbox": [
           {
            "marker": {
             "colorbar": {
              "outlinewidth": 0,
              "ticks": ""
             }
            },
            "type": "scattermapbox"
           }
          ],
          "scatterpolar": [
           {
            "marker": {
             "colorbar": {
              "outlinewidth": 0,
              "ticks": ""
             }
            },
            "type": "scatterpolar"
           }
          ],
          "scatterpolargl": [
           {
            "marker": {
             "colorbar": {
              "outlinewidth": 0,
              "ticks": ""
             }
            },
            "type": "scatterpolargl"
           }
          ],
          "scatterternary": [
           {
            "marker": {
             "colorbar": {
              "outlinewidth": 0,
              "ticks": ""
             }
            },
            "type": "scatterternary"
           }
          ],
          "surface": [
           {
            "colorbar": {
             "outlinewidth": 0,
             "ticks": ""
            },
            "colorscale": [
             [
              0,
              "#0d0887"
             ],
             [
              0.1111111111111111,
              "#46039f"
             ],
             [
              0.2222222222222222,
              "#7201a8"
             ],
             [
              0.3333333333333333,
              "#9c179e"
             ],
             [
              0.4444444444444444,
              "#bd3786"
             ],
             [
              0.5555555555555556,
              "#d8576b"
             ],
             [
              0.6666666666666666,
              "#ed7953"
             ],
             [
              0.7777777777777778,
              "#fb9f3a"
             ],
             [
              0.8888888888888888,
              "#fdca26"
             ],
             [
              1,
              "#f0f921"
             ]
            ],
            "type": "surface"
           }
          ],
          "table": [
           {
            "cells": {
             "fill": {
              "color": "#EBF0F8"
             },
             "line": {
              "color": "white"
             }
            },
            "header": {
             "fill": {
              "color": "#C8D4E3"
             },
             "line": {
              "color": "white"
             }
            },
            "type": "table"
           }
          ]
         },
         "layout": {
          "annotationdefaults": {
           "arrowcolor": "#2a3f5f",
           "arrowhead": 0,
           "arrowwidth": 1
          },
          "autotypenumbers": "strict",
          "coloraxis": {
           "colorbar": {
            "outlinewidth": 0,
            "ticks": ""
           }
          },
          "colorscale": {
           "diverging": [
            [
             0,
             "#8e0152"
            ],
            [
             0.1,
             "#c51b7d"
            ],
            [
             0.2,
             "#de77ae"
            ],
            [
             0.3,
             "#f1b6da"
            ],
            [
             0.4,
             "#fde0ef"
            ],
            [
             0.5,
             "#f7f7f7"
            ],
            [
             0.6,
             "#e6f5d0"
            ],
            [
             0.7,
             "#b8e186"
            ],
            [
             0.8,
             "#7fbc41"
            ],
            [
             0.9,
             "#4d9221"
            ],
            [
             1,
             "#276419"
            ]
           ],
           "sequential": [
            [
             0,
             "#0d0887"
            ],
            [
             0.1111111111111111,
             "#46039f"
            ],
            [
             0.2222222222222222,
             "#7201a8"
            ],
            [
             0.3333333333333333,
             "#9c179e"
            ],
            [
             0.4444444444444444,
             "#bd3786"
            ],
            [
             0.5555555555555556,
             "#d8576b"
            ],
            [
             0.6666666666666666,
             "#ed7953"
            ],
            [
             0.7777777777777778,
             "#fb9f3a"
            ],
            [
             0.8888888888888888,
             "#fdca26"
            ],
            [
             1,
             "#f0f921"
            ]
           ],
           "sequentialminus": [
            [
             0,
             "#0d0887"
            ],
            [
             0.1111111111111111,
             "#46039f"
            ],
            [
             0.2222222222222222,
             "#7201a8"
            ],
            [
             0.3333333333333333,
             "#9c179e"
            ],
            [
             0.4444444444444444,
             "#bd3786"
            ],
            [
             0.5555555555555556,
             "#d8576b"
            ],
            [
             0.6666666666666666,
             "#ed7953"
            ],
            [
             0.7777777777777778,
             "#fb9f3a"
            ],
            [
             0.8888888888888888,
             "#fdca26"
            ],
            [
             1,
             "#f0f921"
            ]
           ]
          },
          "colorway": [
           "#636efa",
           "#EF553B",
           "#00cc96",
           "#ab63fa",
           "#FFA15A",
           "#19d3f3",
           "#FF6692",
           "#B6E880",
           "#FF97FF",
           "#FECB52"
          ],
          "font": {
           "color": "#2a3f5f"
          },
          "geo": {
           "bgcolor": "white",
           "lakecolor": "white",
           "landcolor": "#E5ECF6",
           "showlakes": true,
           "showland": true,
           "subunitcolor": "white"
          },
          "hoverlabel": {
           "align": "left"
          },
          "hovermode": "closest",
          "mapbox": {
           "style": "light"
          },
          "paper_bgcolor": "white",
          "plot_bgcolor": "#E5ECF6",
          "polar": {
           "angularaxis": {
            "gridcolor": "white",
            "linecolor": "white",
            "ticks": ""
           },
           "bgcolor": "#E5ECF6",
           "radialaxis": {
            "gridcolor": "white",
            "linecolor": "white",
            "ticks": ""
           }
          },
          "scene": {
           "xaxis": {
            "backgroundcolor": "#E5ECF6",
            "gridcolor": "white",
            "gridwidth": 2,
            "linecolor": "white",
            "showbackground": true,
            "ticks": "",
            "zerolinecolor": "white"
           },
           "yaxis": {
            "backgroundcolor": "#E5ECF6",
            "gridcolor": "white",
            "gridwidth": 2,
            "linecolor": "white",
            "showbackground": true,
            "ticks": "",
            "zerolinecolor": "white"
           },
           "zaxis": {
            "backgroundcolor": "#E5ECF6",
            "gridcolor": "white",
            "gridwidth": 2,
            "linecolor": "white",
            "showbackground": true,
            "ticks": "",
            "zerolinecolor": "white"
           }
          },
          "shapedefaults": {
           "line": {
            "color": "#2a3f5f"
           }
          },
          "ternary": {
           "aaxis": {
            "gridcolor": "white",
            "linecolor": "white",
            "ticks": ""
           },
           "baxis": {
            "gridcolor": "white",
            "linecolor": "white",
            "ticks": ""
           },
           "bgcolor": "#E5ECF6",
           "caxis": {
            "gridcolor": "white",
            "linecolor": "white",
            "ticks": ""
           }
          },
          "title": {
           "x": 0.05
          },
          "xaxis": {
           "automargin": true,
           "gridcolor": "white",
           "linecolor": "white",
           "ticks": "",
           "title": {
            "standoff": 15
           },
           "zerolinecolor": "white",
           "zerolinewidth": 2
          },
          "yaxis": {
           "automargin": true,
           "gridcolor": "white",
           "linecolor": "white",
           "ticks": "",
           "title": {
            "standoff": 15
           },
           "zerolinecolor": "white",
           "zerolinewidth": 2
          }
         }
        },
        "xaxis": {
         "anchor": "y",
         "domain": [
          0,
          1
         ]
        },
        "xaxis2": {
         "anchor": "y2",
         "domain": [
          0,
          1
         ]
        },
        "xaxis3": {
         "anchor": "y3",
         "domain": [
          0,
          1
         ]
        },
        "yaxis": {
         "anchor": "x",
         "domain": [
          0.7333333333333333,
          1
         ],
         "title": {
          "text": "pm10"
         }
        },
        "yaxis2": {
         "anchor": "x2",
         "domain": [
          0.36666666666666664,
          0.6333333333333333
         ],
         "title": {
          "text": "pm10"
         }
        },
        "yaxis3": {
         "anchor": "x3",
         "domain": [
          0,
          0.26666666666666666
         ],
         "title": {
          "text": "pm10"
         }
        }
       }
      }
     },
     "metadata": {},
     "output_type": "display_data"
    }
   ],
   "source": [
    "window_generator_530.plot(model_538, offset=100)\n"
   ]
  },
  {
   "cell_type": "code",
   "execution_count": 49,
   "metadata": {},
   "outputs": [
    {
     "data": {
      "application/vnd.plotly.v1+json": {
       "config": {
        "plotlyServerURL": "https://plot.ly"
       },
       "data": [
        {
         "marker": {
          "color": "blue"
         },
         "name": "Inputs",
         "type": "scatter",
         "x": [
          0,
          1,
          2,
          3,
          4,
          5,
          6,
          7,
          8,
          9,
          10,
          11,
          12,
          13,
          14,
          15,
          16,
          17,
          18,
          19,
          20,
          21,
          22,
          23,
          24,
          25,
          26,
          27,
          28,
          29,
          30,
          31,
          32,
          33,
          34,
          35,
          36,
          37,
          38,
          39,
          40,
          41,
          42,
          43,
          44,
          45,
          46,
          47,
          48,
          49,
          50,
          51,
          52,
          53,
          54,
          55,
          56,
          57,
          58,
          59,
          60,
          61,
          62,
          63,
          64,
          65,
          66,
          67,
          68,
          69,
          70,
          71,
          72,
          73,
          74,
          75,
          76,
          77,
          78,
          79,
          80,
          81,
          82,
          83,
          84,
          85,
          86,
          87,
          88,
          89,
          90,
          91,
          92,
          93,
          94,
          95,
          96,
          97,
          98,
          99,
          100,
          101,
          102,
          103,
          104,
          105,
          106,
          107,
          108,
          109,
          110,
          111,
          112,
          113,
          114,
          115,
          116,
          117,
          118,
          119,
          120,
          121,
          122,
          123,
          124,
          125,
          126,
          127,
          128,
          129,
          130,
          131,
          132,
          133,
          134,
          135,
          136,
          137,
          138,
          139,
          140,
          141,
          142,
          143,
          144,
          145,
          146,
          147,
          148,
          149,
          150,
          151,
          152,
          153,
          154,
          155,
          156,
          157,
          158,
          159,
          160,
          161,
          162,
          163,
          164,
          165,
          166,
          167
         ],
         "xaxis": "x",
         "y": [
          27.33,
          25.96,
          27.78,
          32.19,
          40.45,
          50.76,
          66.54,
          68.45,
          53.64,
          46.95,
          40.33,
          35.58,
          35.01,
          33.71,
          32.9,
          29.75,
          27.68,
          27.21,
          28.71,
          30.27,
          26.01,
          26.86,
          25.8,
          28.91,
          26.96,
          25.44,
          25.07,
          25.88,
          26.53,
          28.02,
          25.83,
          15.33,
          16.3,
          22.85,
          26.74,
          27.36,
          27.63,
          32.96,
          31.31,
          26.85,
          27.28,
          25.88,
          31.28,
          31.57,
          37.73,
          47.97,
          54.49,
          48.36,
          45.77,
          36.77,
          33.87,
          27.09,
          22.56,
          21.13,
          21.4,
          22.25,
          24.23,
          23.54,
          22.27,
          21.78,
          21.96,
          23.79,
          24.08,
          13.81,
          8.79,
          7.24,
          8.52,
          10.62,
          10.83,
          11.11,
          11.24,
          10.2,
          9.1,
          9.15,
          8.14,
          11.59,
          11.85,
          11.37,
          16.27,
          17.68,
          20.14,
          27.38,
          34.43,
          31.95,
          28.43,
          23.99,
          22.21,
          21.01,
          18.25,
          14.4,
          12.37,
          13.11,
          12.38,
          11.52,
          11.59,
          11.35,
          11.85,
          11.71,
          13.4,
          13.58,
          17.9,
          23.51,
          21.87,
          21.49,
          25.55,
          19.63,
          18.8,
          13.32,
          7.24,
          4.93,
          3.46,
          2.15,
          2.37,
          3.65,
          3.72,
          5.15,
          6.01,
          5.2,
          5.07,
          5.06,
          4.36,
          4.2,
          4.34,
          5.55,
          8.19,
          11.49,
          11.57,
          11.66,
          11.23,
          9.64,
          9.21,
          9.72,
          10.01,
          16.91,
          14.75,
          15.42,
          12.55,
          9.63,
          9.57,
          7.66,
          8.51,
          9.89,
          10.49,
          9.86,
          10.32,
          15.75,
          13.13,
          20.43,
          20.6,
          23.33,
          19.96,
          16.45,
          20.05,
          21.35,
          22.48,
          24.68,
          32.02,
          22.97,
          36.49,
          45.16,
          27.55,
          17.16,
          18.98,
          17.48,
          17.28,
          17.14,
          13.82,
          14.87
         ],
         "yaxis": "y"
        },
        {
         "marker": {
          "color": "#2ca02c"
         },
         "mode": "markers",
         "name": "Labels",
         "type": "scatter",
         "x": [
          168,
          169,
          170,
          171,
          172,
          173,
          174,
          175,
          176,
          177,
          178,
          179,
          180,
          181,
          182,
          183,
          184,
          185,
          186,
          187,
          188,
          189,
          190,
          191
         ],
         "xaxis": "x",
         "y": [
          14.32,
          15.19,
          11.57,
          12.82,
          14.55,
          27.79,
          40.28,
          34.26,
          32.29,
          26.68,
          25.98,
          27.12,
          27.94,
          31.24,
          39,
          29.57,
          25.75,
          27.57,
          20.08,
          19.02,
          19.3,
          20.07,
          20.6,
          22
         ],
         "yaxis": "y"
        },
        {
         "marker": {
          "color": "#ff7f0e"
         },
         "mode": "markers",
         "name": "Predictions",
         "type": "scatter",
         "x": [
          168,
          169,
          170,
          171,
          172,
          173,
          174,
          175,
          176,
          177,
          178,
          179,
          180,
          181,
          182,
          183,
          184,
          185,
          186,
          187,
          188,
          189,
          190,
          191
         ],
         "xaxis": "x",
         "y": [
          18.24203872680664,
          18.73231315612793,
          18.758506774902344,
          19.54810333251953,
          20.131568908691406,
          20.920026779174805,
          21.78451156616211,
          22.46289825439453,
          22.941410064697266,
          23.454360961914062,
          24.320056915283203,
          24.50910758972168,
          24.873056411743164,
          24.443445205688477,
          24.480504989624023,
          23.014741897583008,
          21.985454559326172,
          20.633100509643555,
          19.84415054321289,
          18.900638580322266,
          18.33926773071289,
          18.479888916015625,
          18.871679306030273,
          19.392101287841797
         ],
         "yaxis": "y"
        },
        {
         "marker": {
          "color": "blue"
         },
         "name": "Inputs",
         "type": "scatter",
         "x": [
          0,
          1,
          2,
          3,
          4,
          5,
          6,
          7,
          8,
          9,
          10,
          11,
          12,
          13,
          14,
          15,
          16,
          17,
          18,
          19,
          20,
          21,
          22,
          23,
          24,
          25,
          26,
          27,
          28,
          29,
          30,
          31,
          32,
          33,
          34,
          35,
          36,
          37,
          38,
          39,
          40,
          41,
          42,
          43,
          44,
          45,
          46,
          47,
          48,
          49,
          50,
          51,
          52,
          53,
          54,
          55,
          56,
          57,
          58,
          59,
          60,
          61,
          62,
          63,
          64,
          65,
          66,
          67,
          68,
          69,
          70,
          71,
          72,
          73,
          74,
          75,
          76,
          77,
          78,
          79,
          80,
          81,
          82,
          83,
          84,
          85,
          86,
          87,
          88,
          89,
          90,
          91,
          92,
          93,
          94,
          95,
          96,
          97,
          98,
          99,
          100,
          101,
          102,
          103,
          104,
          105,
          106,
          107,
          108,
          109,
          110,
          111,
          112,
          113,
          114,
          115,
          116,
          117,
          118,
          119,
          120,
          121,
          122,
          123,
          124,
          125,
          126,
          127,
          128,
          129,
          130,
          131,
          132,
          133,
          134,
          135,
          136,
          137,
          138,
          139,
          140,
          141,
          142,
          143,
          144,
          145,
          146,
          147,
          148,
          149,
          150,
          151,
          152,
          153,
          154,
          155,
          156,
          157,
          158,
          159,
          160,
          161,
          162,
          163,
          164,
          165,
          166,
          167
         ],
         "xaxis": "x2",
         "y": [
          10.69,
          21.76,
          28.53,
          30.77,
          28.41,
          22.36,
          23.63,
          24.25,
          19.87,
          17.57,
          20.76,
          26.12,
          23.14,
          25.09,
          25.49,
          37.31,
          23.27,
          26.25,
          28.05,
          27,
          32.41,
          29.7,
          25.61,
          25.15,
          23.29,
          22.16,
          21.21,
          21.49,
          22.24,
          22.45,
          22.34,
          24.61,
          25.42,
          25.03,
          25.13,
          27.57,
          33.42,
          44.82,
          41.25,
          38.54,
          44.32,
          44.37,
          51.51,
          49.61,
          55.09,
          47.34,
          45.9,
          44.53,
          43.27,
          38.61,
          38.64,
          35.57,
          34.03,
          33.77,
          34.92,
          34.88,
          34.26,
          34.04,
          33.34,
          35.73,
          39.19,
          44.23,
          45.19,
          55.03,
          51.2,
          52.92,
          54.33,
          53.23,
          56.61,
          55.96,
          55.23,
          55.95,
          53.53,
          48.72,
          44.61,
          44.43,
          43.37,
          42.52,
          40.16,
          39.57,
          39.81,
          39.85,
          39.44,
          43.71,
          43.85,
          49.8,
          55.09,
          57.77,
          55.89,
          51.27,
          48.95,
          43.76,
          41.28,
          44.27,
          43.1,
          50.98,
          50.6,
          51.87,
          53.3,
          49.3,
          44.05,
          43.58,
          37.78,
          37.5,
          37.82,
          37.73,
          37.45,
          38.9,
          43.32,
          43.85,
          44.41,
          44.75,
          40.25,
          37.45,
          38.12,
          43.03,
          38.43,
          36.92,
          39.39,
          40.43,
          43.51,
          47.25,
          51.46,
          52.85,
          61.24,
          50.9,
          53.06,
          56.03,
          52.03,
          49.02,
          50,
          50.56,
          58.47,
          64.2,
          55.5,
          36.7,
          31.35,
          30.83,
          31.44,
          30.84,
          30.04,
          31.81,
          31.08,
          32.75,
          40.95,
          62.73,
          62.37,
          59.52,
          64.44,
          66.13,
          64.64,
          63.28,
          64.8,
          64.48,
          68.3,
          79.93,
          78.54,
          90.19,
          66.69,
          48.63,
          36.63,
          36.57,
          33.09,
          34.18,
          33.06,
          40.89,
          43.95,
          48.15
         ],
         "yaxis": "y2"
        },
        {
         "marker": {
          "color": "#2ca02c"
         },
         "mode": "markers",
         "name": "Labels",
         "type": "scatter",
         "x": [
          168,
          169,
          170,
          171,
          172,
          173,
          174,
          175,
          176,
          177,
          178,
          179,
          180,
          181,
          182,
          183,
          184,
          185,
          186,
          187,
          188,
          189,
          190,
          191
         ],
         "xaxis": "x2",
         "y": [
          62.69,
          82.37,
          57.88,
          45.85,
          34.2,
          33.31,
          30.01,
          23.32,
          18.9,
          16.39,
          15.01,
          15.97,
          17.29,
          20.41,
          20.72,
          15.81,
          16.49,
          20.31,
          25.52,
          26.13,
          24.6,
          23.21,
          21.38,
          22.41
         ],
         "yaxis": "y2"
        },
        {
         "marker": {
          "color": "#ff7f0e"
         },
         "mode": "markers",
         "name": "Predictions",
         "type": "scatter",
         "x": [
          168,
          169,
          170,
          171,
          172,
          173,
          174,
          175,
          176,
          177,
          178,
          179,
          180,
          181,
          182,
          183,
          184,
          185,
          186,
          187,
          188,
          189,
          190,
          191
         ],
         "xaxis": "x2",
         "y": [
          53.408756256103516,
          46.848384857177734,
          39.0633659362793,
          36.28144073486328,
          32.969505310058594,
          29.69831657409668,
          25.220256805419922,
          23.772485733032227,
          23.214075088500977,
          22.431873321533203,
          20.29653549194336,
          17.76451301574707,
          14.0836181640625,
          11.557096481323242,
          11.523738861083984,
          12.820902824401855,
          15.772281646728516,
          19.970130920410156,
          20.585460662841797,
          20.011306762695312,
          20.69579315185547,
          23.672428131103516,
          25.282106399536133,
          25.269012451171875
         ],
         "yaxis": "y2"
        },
        {
         "marker": {
          "color": "blue"
         },
         "name": "Inputs",
         "type": "scatter",
         "x": [
          0,
          1,
          2,
          3,
          4,
          5,
          6,
          7,
          8,
          9,
          10,
          11,
          12,
          13,
          14,
          15,
          16,
          17,
          18,
          19,
          20,
          21,
          22,
          23,
          24,
          25,
          26,
          27,
          28,
          29,
          30,
          31,
          32,
          33,
          34,
          35,
          36,
          37,
          38,
          39,
          40,
          41,
          42,
          43,
          44,
          45,
          46,
          47,
          48,
          49,
          50,
          51,
          52,
          53,
          54,
          55,
          56,
          57,
          58,
          59,
          60,
          61,
          62,
          63,
          64,
          65,
          66,
          67,
          68,
          69,
          70,
          71,
          72,
          73,
          74,
          75,
          76,
          77,
          78,
          79,
          80,
          81,
          82,
          83,
          84,
          85,
          86,
          87,
          88,
          89,
          90,
          91,
          92,
          93,
          94,
          95,
          96,
          97,
          98,
          99,
          100,
          101,
          102,
          103,
          104,
          105,
          106,
          107,
          108,
          109,
          110,
          111,
          112,
          113,
          114,
          115,
          116,
          117,
          118,
          119,
          120,
          121,
          122,
          123,
          124,
          125,
          126,
          127,
          128,
          129,
          130,
          131,
          132,
          133,
          134,
          135,
          136,
          137,
          138,
          139,
          140,
          141,
          142,
          143,
          144,
          145,
          146,
          147,
          148,
          149,
          150,
          151,
          152,
          153,
          154,
          155,
          156,
          157,
          158,
          159,
          160,
          161,
          162,
          163,
          164,
          165,
          166,
          167
         ],
         "xaxis": "x3",
         "y": [
          29.74,
          31.03,
          31.62,
          35.96,
          39.52,
          37.05,
          37.25,
          37.55,
          40.01,
          36.36,
          36.06,
          33.99,
          30.14,
          28.46,
          28.65,
          24.31,
          21.84,
          19.86,
          23.12,
          19.47,
          15.91,
          15.71,
          13.54,
          13.15,
          14.73,
          19.37,
          18.18,
          10.97,
          11.17,
          12.75,
          12.65,
          13.44,
          13.94,
          14.43,
          13.84,
          15.32,
          16.6,
          14.63,
          19.86,
          25.39,
          22.43,
          24.8,
          26.88,
          26.18,
          19.57,
          18.08,
          15.61,
          13.44,
          25.49,
          34.19,
          38.24,
          39.72,
          43.27,
          43.77,
          50.58,
          39.82,
          36.85,
          37.74,
          34.48,
          26.48,
          34.29,
          30.43,
          33.99,
          27.07,
          30.24,
          15.12,
          17,
          17.89,
          16.01,
          17.99,
          15.91,
          17.39,
          24.01,
          26.48,
          29.54,
          30.04,
          29.15,
          27.67,
          24.41,
          24.41,
          26.98,
          26.38,
          26.78,
          26.58,
          29.64,
          31.03,
          32.9,
          34.09,
          36.95,
          45.45,
          48.31,
          50.98,
          60.46,
          62.44,
          65.3,
          77.65,
          88.91,
          105.9,
          108.37,
          114,
          100.77,
          98,
          131.39,
          141.47,
          135.94,
          131.29,
          133.47,
          134.95,
          138.01,
          135.44,
          124.57,
          114.2,
          85.46,
          81.6,
          86.25,
          94.25,
          97.61,
          102.35,
          108.87,
          109.26,
          100.47,
          93.56,
          79.43,
          76.27,
          74.1,
          88.62,
          88.91,
          90.59,
          92.27,
          99.58,
          98.79,
          90.59,
          87.14,
          86.25,
          94.54,
          99.09,
          100.57,
          97.21,
          97.41,
          92.96,
          90.1,
          93.95,
          90.49,
          90.99,
          83.97,
          83.88,
          82.89,
          76.86,
          73.21,
          65.7,
          51.87,
          43.57,
          41.79,
          40.21,
          39.32,
          37.05,
          35.77,
          35.57,
          33.99,
          34.29,
          35.08,
          35.87,
          32.61,
          31.42,
          34.58,
          36.85,
          35.27,
          32.7
         ],
         "yaxis": "y3"
        },
        {
         "marker": {
          "color": "#2ca02c"
         },
         "mode": "markers",
         "name": "Labels",
         "type": "scatter",
         "x": [
          168,
          169,
          170,
          171,
          172,
          173,
          174,
          175,
          176,
          177,
          178,
          179,
          180,
          181,
          182,
          183,
          184,
          185,
          186,
          187,
          188,
          189,
          190,
          191
         ],
         "xaxis": "x3",
         "y": [
          35.17,
          35.17,
          29.25,
          24.01,
          23.42,
          26.68,
          29.05,
          31.42,
          34.29,
          33.99,
          32.21,
          31.62,
          31.22,
          31.52,
          30.93,
          26.28,
          28.36,
          28.95,
          27.07,
          29.64,
          32.8,
          36.56,
          36.75,
          39.03
         ],
         "yaxis": "y3"
        },
        {
         "marker": {
          "color": "#ff7f0e"
         },
         "mode": "markers",
         "name": "Predictions",
         "type": "scatter",
         "x": [
          168,
          169,
          170,
          171,
          172,
          173,
          174,
          175,
          176,
          177,
          178,
          179,
          180,
          181,
          182,
          183,
          184,
          185,
          186,
          187,
          188,
          189,
          190,
          191
         ],
         "xaxis": "x3",
         "y": [
          32.419029235839844,
          34.7164421081543,
          36.160362243652344,
          35.294761657714844,
          32.34258270263672,
          29.619705200195312,
          29.52066421508789,
          29.169448852539062,
          27.62405776977539,
          27.181682586669922,
          26.464122772216797,
          25.355491638183594,
          23.91830825805664,
          23.829391479492188,
          23.04029083251953,
          22.468198776245117,
          23.38639259338379,
          24.10498046875,
          24.125350952148438,
          24.65654754638672,
          25.80294418334961,
          28.9409236907959,
          31.67234992980957,
          32.96689987182617
         ],
         "yaxis": "y3"
        }
       ],
       "layout": {
        "height": 1200,
        "template": {
         "data": {
          "bar": [
           {
            "error_x": {
             "color": "#2a3f5f"
            },
            "error_y": {
             "color": "#2a3f5f"
            },
            "marker": {
             "line": {
              "color": "#E5ECF6",
              "width": 0.5
             },
             "pattern": {
              "fillmode": "overlay",
              "size": 10,
              "solidity": 0.2
             }
            },
            "type": "bar"
           }
          ],
          "barpolar": [
           {
            "marker": {
             "line": {
              "color": "#E5ECF6",
              "width": 0.5
             },
             "pattern": {
              "fillmode": "overlay",
              "size": 10,
              "solidity": 0.2
             }
            },
            "type": "barpolar"
           }
          ],
          "carpet": [
           {
            "aaxis": {
             "endlinecolor": "#2a3f5f",
             "gridcolor": "white",
             "linecolor": "white",
             "minorgridcolor": "white",
             "startlinecolor": "#2a3f5f"
            },
            "baxis": {
             "endlinecolor": "#2a3f5f",
             "gridcolor": "white",
             "linecolor": "white",
             "minorgridcolor": "white",
             "startlinecolor": "#2a3f5f"
            },
            "type": "carpet"
           }
          ],
          "choropleth": [
           {
            "colorbar": {
             "outlinewidth": 0,
             "ticks": ""
            },
            "type": "choropleth"
           }
          ],
          "contour": [
           {
            "colorbar": {
             "outlinewidth": 0,
             "ticks": ""
            },
            "colorscale": [
             [
              0,
              "#0d0887"
             ],
             [
              0.1111111111111111,
              "#46039f"
             ],
             [
              0.2222222222222222,
              "#7201a8"
             ],
             [
              0.3333333333333333,
              "#9c179e"
             ],
             [
              0.4444444444444444,
              "#bd3786"
             ],
             [
              0.5555555555555556,
              "#d8576b"
             ],
             [
              0.6666666666666666,
              "#ed7953"
             ],
             [
              0.7777777777777778,
              "#fb9f3a"
             ],
             [
              0.8888888888888888,
              "#fdca26"
             ],
             [
              1,
              "#f0f921"
             ]
            ],
            "type": "contour"
           }
          ],
          "contourcarpet": [
           {
            "colorbar": {
             "outlinewidth": 0,
             "ticks": ""
            },
            "type": "contourcarpet"
           }
          ],
          "heatmap": [
           {
            "colorbar": {
             "outlinewidth": 0,
             "ticks": ""
            },
            "colorscale": [
             [
              0,
              "#0d0887"
             ],
             [
              0.1111111111111111,
              "#46039f"
             ],
             [
              0.2222222222222222,
              "#7201a8"
             ],
             [
              0.3333333333333333,
              "#9c179e"
             ],
             [
              0.4444444444444444,
              "#bd3786"
             ],
             [
              0.5555555555555556,
              "#d8576b"
             ],
             [
              0.6666666666666666,
              "#ed7953"
             ],
             [
              0.7777777777777778,
              "#fb9f3a"
             ],
             [
              0.8888888888888888,
              "#fdca26"
             ],
             [
              1,
              "#f0f921"
             ]
            ],
            "type": "heatmap"
           }
          ],
          "heatmapgl": [
           {
            "colorbar": {
             "outlinewidth": 0,
             "ticks": ""
            },
            "colorscale": [
             [
              0,
              "#0d0887"
             ],
             [
              0.1111111111111111,
              "#46039f"
             ],
             [
              0.2222222222222222,
              "#7201a8"
             ],
             [
              0.3333333333333333,
              "#9c179e"
             ],
             [
              0.4444444444444444,
              "#bd3786"
             ],
             [
              0.5555555555555556,
              "#d8576b"
             ],
             [
              0.6666666666666666,
              "#ed7953"
             ],
             [
              0.7777777777777778,
              "#fb9f3a"
             ],
             [
              0.8888888888888888,
              "#fdca26"
             ],
             [
              1,
              "#f0f921"
             ]
            ],
            "type": "heatmapgl"
           }
          ],
          "histogram": [
           {
            "marker": {
             "pattern": {
              "fillmode": "overlay",
              "size": 10,
              "solidity": 0.2
             }
            },
            "type": "histogram"
           }
          ],
          "histogram2d": [
           {
            "colorbar": {
             "outlinewidth": 0,
             "ticks": ""
            },
            "colorscale": [
             [
              0,
              "#0d0887"
             ],
             [
              0.1111111111111111,
              "#46039f"
             ],
             [
              0.2222222222222222,
              "#7201a8"
             ],
             [
              0.3333333333333333,
              "#9c179e"
             ],
             [
              0.4444444444444444,
              "#bd3786"
             ],
             [
              0.5555555555555556,
              "#d8576b"
             ],
             [
              0.6666666666666666,
              "#ed7953"
             ],
             [
              0.7777777777777778,
              "#fb9f3a"
             ],
             [
              0.8888888888888888,
              "#fdca26"
             ],
             [
              1,
              "#f0f921"
             ]
            ],
            "type": "histogram2d"
           }
          ],
          "histogram2dcontour": [
           {
            "colorbar": {
             "outlinewidth": 0,
             "ticks": ""
            },
            "colorscale": [
             [
              0,
              "#0d0887"
             ],
             [
              0.1111111111111111,
              "#46039f"
             ],
             [
              0.2222222222222222,
              "#7201a8"
             ],
             [
              0.3333333333333333,
              "#9c179e"
             ],
             [
              0.4444444444444444,
              "#bd3786"
             ],
             [
              0.5555555555555556,
              "#d8576b"
             ],
             [
              0.6666666666666666,
              "#ed7953"
             ],
             [
              0.7777777777777778,
              "#fb9f3a"
             ],
             [
              0.8888888888888888,
              "#fdca26"
             ],
             [
              1,
              "#f0f921"
             ]
            ],
            "type": "histogram2dcontour"
           }
          ],
          "mesh3d": [
           {
            "colorbar": {
             "outlinewidth": 0,
             "ticks": ""
            },
            "type": "mesh3d"
           }
          ],
          "parcoords": [
           {
            "line": {
             "colorbar": {
              "outlinewidth": 0,
              "ticks": ""
             }
            },
            "type": "parcoords"
           }
          ],
          "pie": [
           {
            "automargin": true,
            "type": "pie"
           }
          ],
          "scatter": [
           {
            "fillpattern": {
             "fillmode": "overlay",
             "size": 10,
             "solidity": 0.2
            },
            "type": "scatter"
           }
          ],
          "scatter3d": [
           {
            "line": {
             "colorbar": {
              "outlinewidth": 0,
              "ticks": ""
             }
            },
            "marker": {
             "colorbar": {
              "outlinewidth": 0,
              "ticks": ""
             }
            },
            "type": "scatter3d"
           }
          ],
          "scattercarpet": [
           {
            "marker": {
             "colorbar": {
              "outlinewidth": 0,
              "ticks": ""
             }
            },
            "type": "scattercarpet"
           }
          ],
          "scattergeo": [
           {
            "marker": {
             "colorbar": {
              "outlinewidth": 0,
              "ticks": ""
             }
            },
            "type": "scattergeo"
           }
          ],
          "scattergl": [
           {
            "marker": {
             "colorbar": {
              "outlinewidth": 0,
              "ticks": ""
             }
            },
            "type": "scattergl"
           }
          ],
          "scattermapbox": [
           {
            "marker": {
             "colorbar": {
              "outlinewidth": 0,
              "ticks": ""
             }
            },
            "type": "scattermapbox"
           }
          ],
          "scatterpolar": [
           {
            "marker": {
             "colorbar": {
              "outlinewidth": 0,
              "ticks": ""
             }
            },
            "type": "scatterpolar"
           }
          ],
          "scatterpolargl": [
           {
            "marker": {
             "colorbar": {
              "outlinewidth": 0,
              "ticks": ""
             }
            },
            "type": "scatterpolargl"
           }
          ],
          "scatterternary": [
           {
            "marker": {
             "colorbar": {
              "outlinewidth": 0,
              "ticks": ""
             }
            },
            "type": "scatterternary"
           }
          ],
          "surface": [
           {
            "colorbar": {
             "outlinewidth": 0,
             "ticks": ""
            },
            "colorscale": [
             [
              0,
              "#0d0887"
             ],
             [
              0.1111111111111111,
              "#46039f"
             ],
             [
              0.2222222222222222,
              "#7201a8"
             ],
             [
              0.3333333333333333,
              "#9c179e"
             ],
             [
              0.4444444444444444,
              "#bd3786"
             ],
             [
              0.5555555555555556,
              "#d8576b"
             ],
             [
              0.6666666666666666,
              "#ed7953"
             ],
             [
              0.7777777777777778,
              "#fb9f3a"
             ],
             [
              0.8888888888888888,
              "#fdca26"
             ],
             [
              1,
              "#f0f921"
             ]
            ],
            "type": "surface"
           }
          ],
          "table": [
           {
            "cells": {
             "fill": {
              "color": "#EBF0F8"
             },
             "line": {
              "color": "white"
             }
            },
            "header": {
             "fill": {
              "color": "#C8D4E3"
             },
             "line": {
              "color": "white"
             }
            },
            "type": "table"
           }
          ]
         },
         "layout": {
          "annotationdefaults": {
           "arrowcolor": "#2a3f5f",
           "arrowhead": 0,
           "arrowwidth": 1
          },
          "autotypenumbers": "strict",
          "coloraxis": {
           "colorbar": {
            "outlinewidth": 0,
            "ticks": ""
           }
          },
          "colorscale": {
           "diverging": [
            [
             0,
             "#8e0152"
            ],
            [
             0.1,
             "#c51b7d"
            ],
            [
             0.2,
             "#de77ae"
            ],
            [
             0.3,
             "#f1b6da"
            ],
            [
             0.4,
             "#fde0ef"
            ],
            [
             0.5,
             "#f7f7f7"
            ],
            [
             0.6,
             "#e6f5d0"
            ],
            [
             0.7,
             "#b8e186"
            ],
            [
             0.8,
             "#7fbc41"
            ],
            [
             0.9,
             "#4d9221"
            ],
            [
             1,
             "#276419"
            ]
           ],
           "sequential": [
            [
             0,
             "#0d0887"
            ],
            [
             0.1111111111111111,
             "#46039f"
            ],
            [
             0.2222222222222222,
             "#7201a8"
            ],
            [
             0.3333333333333333,
             "#9c179e"
            ],
            [
             0.4444444444444444,
             "#bd3786"
            ],
            [
             0.5555555555555556,
             "#d8576b"
            ],
            [
             0.6666666666666666,
             "#ed7953"
            ],
            [
             0.7777777777777778,
             "#fb9f3a"
            ],
            [
             0.8888888888888888,
             "#fdca26"
            ],
            [
             1,
             "#f0f921"
            ]
           ],
           "sequentialminus": [
            [
             0,
             "#0d0887"
            ],
            [
             0.1111111111111111,
             "#46039f"
            ],
            [
             0.2222222222222222,
             "#7201a8"
            ],
            [
             0.3333333333333333,
             "#9c179e"
            ],
            [
             0.4444444444444444,
             "#bd3786"
            ],
            [
             0.5555555555555556,
             "#d8576b"
            ],
            [
             0.6666666666666666,
             "#ed7953"
            ],
            [
             0.7777777777777778,
             "#fb9f3a"
            ],
            [
             0.8888888888888888,
             "#fdca26"
            ],
            [
             1,
             "#f0f921"
            ]
           ]
          },
          "colorway": [
           "#636efa",
           "#EF553B",
           "#00cc96",
           "#ab63fa",
           "#FFA15A",
           "#19d3f3",
           "#FF6692",
           "#B6E880",
           "#FF97FF",
           "#FECB52"
          ],
          "font": {
           "color": "#2a3f5f"
          },
          "geo": {
           "bgcolor": "white",
           "lakecolor": "white",
           "landcolor": "#E5ECF6",
           "showlakes": true,
           "showland": true,
           "subunitcolor": "white"
          },
          "hoverlabel": {
           "align": "left"
          },
          "hovermode": "closest",
          "mapbox": {
           "style": "light"
          },
          "paper_bgcolor": "white",
          "plot_bgcolor": "#E5ECF6",
          "polar": {
           "angularaxis": {
            "gridcolor": "white",
            "linecolor": "white",
            "ticks": ""
           },
           "bgcolor": "#E5ECF6",
           "radialaxis": {
            "gridcolor": "white",
            "linecolor": "white",
            "ticks": ""
           }
          },
          "scene": {
           "xaxis": {
            "backgroundcolor": "#E5ECF6",
            "gridcolor": "white",
            "gridwidth": 2,
            "linecolor": "white",
            "showbackground": true,
            "ticks": "",
            "zerolinecolor": "white"
           },
           "yaxis": {
            "backgroundcolor": "#E5ECF6",
            "gridcolor": "white",
            "gridwidth": 2,
            "linecolor": "white",
            "showbackground": true,
            "ticks": "",
            "zerolinecolor": "white"
           },
           "zaxis": {
            "backgroundcolor": "#E5ECF6",
            "gridcolor": "white",
            "gridwidth": 2,
            "linecolor": "white",
            "showbackground": true,
            "ticks": "",
            "zerolinecolor": "white"
           }
          },
          "shapedefaults": {
           "line": {
            "color": "#2a3f5f"
           }
          },
          "ternary": {
           "aaxis": {
            "gridcolor": "white",
            "linecolor": "white",
            "ticks": ""
           },
           "baxis": {
            "gridcolor": "white",
            "linecolor": "white",
            "ticks": ""
           },
           "bgcolor": "#E5ECF6",
           "caxis": {
            "gridcolor": "white",
            "linecolor": "white",
            "ticks": ""
           }
          },
          "title": {
           "x": 0.05
          },
          "xaxis": {
           "automargin": true,
           "gridcolor": "white",
           "linecolor": "white",
           "ticks": "",
           "title": {
            "standoff": 15
           },
           "zerolinecolor": "white",
           "zerolinewidth": 2
          },
          "yaxis": {
           "automargin": true,
           "gridcolor": "white",
           "linecolor": "white",
           "ticks": "",
           "title": {
            "standoff": 15
           },
           "zerolinecolor": "white",
           "zerolinewidth": 2
          }
         }
        },
        "xaxis": {
         "anchor": "y",
         "domain": [
          0,
          1
         ]
        },
        "xaxis2": {
         "anchor": "y2",
         "domain": [
          0,
          1
         ]
        },
        "xaxis3": {
         "anchor": "y3",
         "domain": [
          0,
          1
         ]
        },
        "yaxis": {
         "anchor": "x",
         "domain": [
          0.7333333333333333,
          1
         ],
         "title": {
          "text": "pm10"
         }
        },
        "yaxis2": {
         "anchor": "x2",
         "domain": [
          0.36666666666666664,
          0.6333333333333333
         ],
         "title": {
          "text": "pm10"
         }
        },
        "yaxis3": {
         "anchor": "x3",
         "domain": [
          0,
          0.26666666666666666
         ],
         "title": {
          "text": "pm10"
         }
        }
       }
      }
     },
     "metadata": {},
     "output_type": "display_data"
    }
   ],
   "source": [
    "window_generator_538.plot(model_double, offset=10)\n"
   ]
  },
  {
   "cell_type": "code",
   "execution_count": 48,
   "metadata": {},
   "outputs": [
    {
     "data": {
      "application/vnd.plotly.v1+json": {
       "config": {
        "plotlyServerURL": "https://plot.ly"
       },
       "data": [
        {
         "marker": {
          "color": "blue"
         },
         "name": "Inputs",
         "type": "scatter",
         "x": [
          0,
          1,
          2,
          3,
          4,
          5,
          6,
          7,
          8,
          9,
          10,
          11,
          12,
          13,
          14,
          15,
          16,
          17,
          18,
          19,
          20,
          21,
          22,
          23,
          24,
          25,
          26,
          27,
          28,
          29,
          30,
          31,
          32,
          33,
          34,
          35,
          36,
          37,
          38,
          39,
          40,
          41,
          42,
          43,
          44,
          45,
          46,
          47,
          48,
          49,
          50,
          51,
          52,
          53,
          54,
          55,
          56,
          57,
          58,
          59,
          60,
          61,
          62,
          63,
          64,
          65,
          66,
          67,
          68,
          69,
          70,
          71,
          72,
          73,
          74,
          75,
          76,
          77,
          78,
          79,
          80,
          81,
          82,
          83,
          84,
          85,
          86,
          87,
          88,
          89,
          90,
          91,
          92,
          93,
          94,
          95,
          96,
          97,
          98,
          99,
          100,
          101,
          102,
          103,
          104,
          105,
          106,
          107,
          108,
          109,
          110,
          111,
          112,
          113,
          114,
          115,
          116,
          117,
          118,
          119,
          120,
          121,
          122,
          123,
          124,
          125,
          126,
          127,
          128,
          129,
          130,
          131,
          132,
          133,
          134,
          135,
          136,
          137,
          138,
          139,
          140,
          141,
          142,
          143,
          144,
          145,
          146,
          147,
          148,
          149,
          150,
          151,
          152,
          153,
          154,
          155,
          156,
          157,
          158,
          159,
          160,
          161,
          162,
          163,
          164,
          165,
          166,
          167
         ],
         "xaxis": "x",
         "y": [
          27.33,
          25.96,
          27.78,
          32.19,
          40.45,
          50.76,
          66.54,
          68.45,
          53.64,
          46.95,
          40.33,
          35.58,
          35.01,
          33.71,
          32.9,
          29.75,
          27.68,
          27.21,
          28.71,
          30.27,
          26.01,
          26.86,
          25.8,
          28.91,
          26.96,
          25.44,
          25.07,
          25.88,
          26.53,
          28.02,
          25.83,
          15.33,
          16.3,
          22.85,
          26.74,
          27.36,
          27.63,
          32.96,
          31.31,
          26.85,
          27.28,
          25.88,
          31.28,
          31.57,
          37.73,
          47.97,
          54.49,
          48.36,
          45.77,
          36.77,
          33.87,
          27.09,
          22.56,
          21.13,
          21.4,
          22.25,
          24.23,
          23.54,
          22.27,
          21.78,
          21.96,
          23.79,
          24.08,
          13.81,
          8.79,
          7.24,
          8.52,
          10.62,
          10.83,
          11.11,
          11.24,
          10.2,
          9.1,
          9.15,
          8.14,
          11.59,
          11.85,
          11.37,
          16.27,
          17.68,
          20.14,
          27.38,
          34.43,
          31.95,
          28.43,
          23.99,
          22.21,
          21.01,
          18.25,
          14.4,
          12.37,
          13.11,
          12.38,
          11.52,
          11.59,
          11.35,
          11.85,
          11.71,
          13.4,
          13.58,
          17.9,
          23.51,
          21.87,
          21.49,
          25.55,
          19.63,
          18.8,
          13.32,
          7.24,
          4.93,
          3.46,
          2.15,
          2.37,
          3.65,
          3.72,
          5.15,
          6.01,
          5.2,
          5.07,
          5.06,
          4.36,
          4.2,
          4.34,
          5.55,
          8.19,
          11.49,
          11.57,
          11.66,
          11.23,
          9.64,
          9.21,
          9.72,
          10.01,
          16.91,
          14.75,
          15.42,
          12.55,
          9.63,
          9.57,
          7.66,
          8.51,
          9.89,
          10.49,
          9.86,
          10.32,
          15.75,
          13.13,
          20.43,
          20.6,
          23.33,
          19.96,
          16.45,
          20.05,
          21.35,
          22.48,
          24.68,
          32.02,
          22.97,
          36.49,
          45.16,
          27.55,
          17.16,
          18.98,
          17.48,
          17.28,
          17.14,
          13.82,
          14.87
         ],
         "yaxis": "y"
        },
        {
         "marker": {
          "color": "#2ca02c"
         },
         "mode": "markers",
         "name": "Labels",
         "type": "scatter",
         "x": [
          168,
          169,
          170,
          171,
          172,
          173,
          174,
          175,
          176,
          177,
          178,
          179,
          180,
          181,
          182,
          183,
          184,
          185,
          186,
          187,
          188,
          189,
          190,
          191
         ],
         "xaxis": "x",
         "y": [
          14.32,
          15.19,
          11.57,
          12.82,
          14.55,
          27.79,
          40.28,
          34.26,
          32.29,
          26.68,
          25.98,
          27.12,
          27.94,
          31.24,
          39,
          29.57,
          25.75,
          27.57,
          20.08,
          19.02,
          19.3,
          20.07,
          20.6,
          22
         ],
         "yaxis": "y"
        },
        {
         "marker": {
          "color": "#ff7f0e"
         },
         "mode": "markers",
         "name": "Predictions",
         "type": "scatter",
         "x": [
          168,
          169,
          170,
          171,
          172,
          173,
          174,
          175,
          176,
          177,
          178,
          179,
          180,
          181,
          182,
          183,
          184,
          185,
          186,
          187,
          188,
          189,
          190,
          191
         ],
         "xaxis": "x",
         "y": [
          24.838010787963867,
          22.360410690307617,
          20.9783935546875,
          22.83645248413086,
          25.930614471435547,
          26.95321273803711,
          26.140777587890625,
          24.410377502441406,
          22.71521759033203,
          20.203344345092773,
          17.914020538330078,
          17.53156280517578,
          25.23442840576172,
          38.35456085205078,
          47.78470230102539,
          55.620697021484375,
          50.877044677734375,
          44.63406753540039,
          39.143306732177734,
          34.5445556640625,
          32.34841537475586,
          30.337739944458008,
          28.706829071044922,
          26.4030818939209
         ],
         "yaxis": "y"
        },
        {
         "marker": {
          "color": "blue"
         },
         "name": "Inputs",
         "type": "scatter",
         "x": [
          0,
          1,
          2,
          3,
          4,
          5,
          6,
          7,
          8,
          9,
          10,
          11,
          12,
          13,
          14,
          15,
          16,
          17,
          18,
          19,
          20,
          21,
          22,
          23,
          24,
          25,
          26,
          27,
          28,
          29,
          30,
          31,
          32,
          33,
          34,
          35,
          36,
          37,
          38,
          39,
          40,
          41,
          42,
          43,
          44,
          45,
          46,
          47,
          48,
          49,
          50,
          51,
          52,
          53,
          54,
          55,
          56,
          57,
          58,
          59,
          60,
          61,
          62,
          63,
          64,
          65,
          66,
          67,
          68,
          69,
          70,
          71,
          72,
          73,
          74,
          75,
          76,
          77,
          78,
          79,
          80,
          81,
          82,
          83,
          84,
          85,
          86,
          87,
          88,
          89,
          90,
          91,
          92,
          93,
          94,
          95,
          96,
          97,
          98,
          99,
          100,
          101,
          102,
          103,
          104,
          105,
          106,
          107,
          108,
          109,
          110,
          111,
          112,
          113,
          114,
          115,
          116,
          117,
          118,
          119,
          120,
          121,
          122,
          123,
          124,
          125,
          126,
          127,
          128,
          129,
          130,
          131,
          132,
          133,
          134,
          135,
          136,
          137,
          138,
          139,
          140,
          141,
          142,
          143,
          144,
          145,
          146,
          147,
          148,
          149,
          150,
          151,
          152,
          153,
          154,
          155,
          156,
          157,
          158,
          159,
          160,
          161,
          162,
          163,
          164,
          165,
          166,
          167
         ],
         "xaxis": "x2",
         "y": [
          10.69,
          21.76,
          28.53,
          30.77,
          28.41,
          22.36,
          23.63,
          24.25,
          19.87,
          17.57,
          20.76,
          26.12,
          23.14,
          25.09,
          25.49,
          37.31,
          23.27,
          26.25,
          28.05,
          27,
          32.41,
          29.7,
          25.61,
          25.15,
          23.29,
          22.16,
          21.21,
          21.49,
          22.24,
          22.45,
          22.34,
          24.61,
          25.42,
          25.03,
          25.13,
          27.57,
          33.42,
          44.82,
          41.25,
          38.54,
          44.32,
          44.37,
          51.51,
          49.61,
          55.09,
          47.34,
          45.9,
          44.53,
          43.27,
          38.61,
          38.64,
          35.57,
          34.03,
          33.77,
          34.92,
          34.88,
          34.26,
          34.04,
          33.34,
          35.73,
          39.19,
          44.23,
          45.19,
          55.03,
          51.2,
          52.92,
          54.33,
          53.23,
          56.61,
          55.96,
          55.23,
          55.95,
          53.53,
          48.72,
          44.61,
          44.43,
          43.37,
          42.52,
          40.16,
          39.57,
          39.81,
          39.85,
          39.44,
          43.71,
          43.85,
          49.8,
          55.09,
          57.77,
          55.89,
          51.27,
          48.95,
          43.76,
          41.28,
          44.27,
          43.1,
          50.98,
          50.6,
          51.87,
          53.3,
          49.3,
          44.05,
          43.58,
          37.78,
          37.5,
          37.82,
          37.73,
          37.45,
          38.9,
          43.32,
          43.85,
          44.41,
          44.75,
          40.25,
          37.45,
          38.12,
          43.03,
          38.43,
          36.92,
          39.39,
          40.43,
          43.51,
          47.25,
          51.46,
          52.85,
          61.24,
          50.9,
          53.06,
          56.03,
          52.03,
          49.02,
          50,
          50.56,
          58.47,
          64.2,
          55.5,
          36.7,
          31.35,
          30.83,
          31.44,
          30.84,
          30.04,
          31.81,
          31.08,
          32.75,
          40.95,
          62.73,
          62.37,
          59.52,
          64.44,
          66.13,
          64.64,
          63.28,
          64.8,
          64.48,
          68.3,
          79.93,
          78.54,
          90.19,
          66.69,
          48.63,
          36.63,
          36.57,
          33.09,
          34.18,
          33.06,
          40.89,
          43.95,
          48.15
         ],
         "yaxis": "y2"
        },
        {
         "marker": {
          "color": "#2ca02c"
         },
         "mode": "markers",
         "name": "Labels",
         "type": "scatter",
         "x": [
          168,
          169,
          170,
          171,
          172,
          173,
          174,
          175,
          176,
          177,
          178,
          179,
          180,
          181,
          182,
          183,
          184,
          185,
          186,
          187,
          188,
          189,
          190,
          191
         ],
         "xaxis": "x2",
         "y": [
          62.69,
          82.37,
          57.88,
          45.85,
          34.2,
          33.31,
          30.01,
          23.32,
          18.9,
          16.39,
          15.01,
          15.97,
          17.29,
          20.41,
          20.72,
          15.81,
          16.49,
          20.31,
          25.52,
          26.13,
          24.6,
          23.21,
          21.38,
          22.41
         ],
         "yaxis": "y2"
        },
        {
         "marker": {
          "color": "#ff7f0e"
         },
         "mode": "markers",
         "name": "Predictions",
         "type": "scatter",
         "x": [
          168,
          169,
          170,
          171,
          172,
          173,
          174,
          175,
          176,
          177,
          178,
          179,
          180,
          181,
          182,
          183,
          184,
          185,
          186,
          187,
          188,
          189,
          190,
          191
         ],
         "xaxis": "x2",
         "y": [
          64.46588897705078,
          64.67875671386719,
          65.61070251464844,
          65.22881317138672,
          64.499267578125,
          63.394676208496094,
          63.942501068115234,
          67.75228118896484,
          73.40708923339844,
          81.37244415283203,
          87.66800689697266,
          89.88355255126953,
          87.17736053466797,
          84.65206146240234,
          76.29434204101562,
          66.03219604492188,
          53.74882507324219,
          42.132022857666016,
          36.16047286987305,
          37.83695983886719,
          42.673126220703125,
          46.09187316894531,
          48.28260803222656,
          46.881500244140625
         ],
         "yaxis": "y2"
        },
        {
         "marker": {
          "color": "blue"
         },
         "name": "Inputs",
         "type": "scatter",
         "x": [
          0,
          1,
          2,
          3,
          4,
          5,
          6,
          7,
          8,
          9,
          10,
          11,
          12,
          13,
          14,
          15,
          16,
          17,
          18,
          19,
          20,
          21,
          22,
          23,
          24,
          25,
          26,
          27,
          28,
          29,
          30,
          31,
          32,
          33,
          34,
          35,
          36,
          37,
          38,
          39,
          40,
          41,
          42,
          43,
          44,
          45,
          46,
          47,
          48,
          49,
          50,
          51,
          52,
          53,
          54,
          55,
          56,
          57,
          58,
          59,
          60,
          61,
          62,
          63,
          64,
          65,
          66,
          67,
          68,
          69,
          70,
          71,
          72,
          73,
          74,
          75,
          76,
          77,
          78,
          79,
          80,
          81,
          82,
          83,
          84,
          85,
          86,
          87,
          88,
          89,
          90,
          91,
          92,
          93,
          94,
          95,
          96,
          97,
          98,
          99,
          100,
          101,
          102,
          103,
          104,
          105,
          106,
          107,
          108,
          109,
          110,
          111,
          112,
          113,
          114,
          115,
          116,
          117,
          118,
          119,
          120,
          121,
          122,
          123,
          124,
          125,
          126,
          127,
          128,
          129,
          130,
          131,
          132,
          133,
          134,
          135,
          136,
          137,
          138,
          139,
          140,
          141,
          142,
          143,
          144,
          145,
          146,
          147,
          148,
          149,
          150,
          151,
          152,
          153,
          154,
          155,
          156,
          157,
          158,
          159,
          160,
          161,
          162,
          163,
          164,
          165,
          166,
          167
         ],
         "xaxis": "x3",
         "y": [
          29.74,
          31.03,
          31.62,
          35.96,
          39.52,
          37.05,
          37.25,
          37.55,
          40.01,
          36.36,
          36.06,
          33.99,
          30.14,
          28.46,
          28.65,
          24.31,
          21.84,
          19.86,
          23.12,
          19.47,
          15.91,
          15.71,
          13.54,
          13.15,
          14.73,
          19.37,
          18.18,
          10.97,
          11.17,
          12.75,
          12.65,
          13.44,
          13.94,
          14.43,
          13.84,
          15.32,
          16.6,
          14.63,
          19.86,
          25.39,
          22.43,
          24.8,
          26.88,
          26.18,
          19.57,
          18.08,
          15.61,
          13.44,
          25.49,
          34.19,
          38.24,
          39.72,
          43.27,
          43.77,
          50.58,
          39.82,
          36.85,
          37.74,
          34.48,
          26.48,
          34.29,
          30.43,
          33.99,
          27.07,
          30.24,
          15.12,
          17,
          17.89,
          16.01,
          17.99,
          15.91,
          17.39,
          24.01,
          26.48,
          29.54,
          30.04,
          29.15,
          27.67,
          24.41,
          24.41,
          26.98,
          26.38,
          26.78,
          26.58,
          29.64,
          31.03,
          32.9,
          34.09,
          36.95,
          45.45,
          48.31,
          50.98,
          60.46,
          62.44,
          65.3,
          77.65,
          88.91,
          105.9,
          108.37,
          114,
          100.77,
          98,
          131.39,
          141.47,
          135.94,
          131.29,
          133.47,
          134.95,
          138.01,
          135.44,
          124.57,
          114.2,
          85.46,
          81.6,
          86.25,
          94.25,
          97.61,
          102.35,
          108.87,
          109.26,
          100.47,
          93.56,
          79.43,
          76.27,
          74.1,
          88.62,
          88.91,
          90.59,
          92.27,
          99.58,
          98.79,
          90.59,
          87.14,
          86.25,
          94.54,
          99.09,
          100.57,
          97.21,
          97.41,
          92.96,
          90.1,
          93.95,
          90.49,
          90.99,
          83.97,
          83.88,
          82.89,
          76.86,
          73.21,
          65.7,
          51.87,
          43.57,
          41.79,
          40.21,
          39.32,
          37.05,
          35.77,
          35.57,
          33.99,
          34.29,
          35.08,
          35.87,
          32.61,
          31.42,
          34.58,
          36.85,
          35.27,
          32.7
         ],
         "yaxis": "y3"
        },
        {
         "marker": {
          "color": "#2ca02c"
         },
         "mode": "markers",
         "name": "Labels",
         "type": "scatter",
         "x": [
          168,
          169,
          170,
          171,
          172,
          173,
          174,
          175,
          176,
          177,
          178,
          179,
          180,
          181,
          182,
          183,
          184,
          185,
          186,
          187,
          188,
          189,
          190,
          191
         ],
         "xaxis": "x3",
         "y": [
          35.17,
          35.17,
          29.25,
          24.01,
          23.42,
          26.68,
          29.05,
          31.42,
          34.29,
          33.99,
          32.21,
          31.62,
          31.22,
          31.52,
          30.93,
          26.28,
          28.36,
          28.95,
          27.07,
          29.64,
          32.8,
          36.56,
          36.75,
          39.03
         ],
         "yaxis": "y3"
        },
        {
         "marker": {
          "color": "#ff7f0e"
         },
         "mode": "markers",
         "name": "Predictions",
         "type": "scatter",
         "x": [
          168,
          169,
          170,
          171,
          172,
          173,
          174,
          175,
          176,
          177,
          178,
          179,
          180,
          181,
          182,
          183,
          184,
          185,
          186,
          187,
          188,
          189,
          190,
          191
         ],
         "xaxis": "x3",
         "y": [
          26.908964157104492,
          24.780912399291992,
          24.148990631103516,
          24.42314910888672,
          24.238204956054688,
          22.937946319580078,
          20.518695831298828,
          18.441024780273438,
          16.772918701171875,
          16.306411743164062,
          16.870826721191406,
          16.714920043945312,
          16.918655395507812,
          17.203636169433594,
          17.955120086669922,
          18.859683990478516,
          19.07731056213379,
          18.896194458007812,
          18.287874221801758,
          17.27562141418457,
          16.30560302734375,
          15.664834976196289,
          15.96822738647461,
          16.684602737426758
         ],
         "yaxis": "y3"
        }
       ],
       "layout": {
        "height": 1200,
        "template": {
         "data": {
          "bar": [
           {
            "error_x": {
             "color": "#2a3f5f"
            },
            "error_y": {
             "color": "#2a3f5f"
            },
            "marker": {
             "line": {
              "color": "#E5ECF6",
              "width": 0.5
             },
             "pattern": {
              "fillmode": "overlay",
              "size": 10,
              "solidity": 0.2
             }
            },
            "type": "bar"
           }
          ],
          "barpolar": [
           {
            "marker": {
             "line": {
              "color": "#E5ECF6",
              "width": 0.5
             },
             "pattern": {
              "fillmode": "overlay",
              "size": 10,
              "solidity": 0.2
             }
            },
            "type": "barpolar"
           }
          ],
          "carpet": [
           {
            "aaxis": {
             "endlinecolor": "#2a3f5f",
             "gridcolor": "white",
             "linecolor": "white",
             "minorgridcolor": "white",
             "startlinecolor": "#2a3f5f"
            },
            "baxis": {
             "endlinecolor": "#2a3f5f",
             "gridcolor": "white",
             "linecolor": "white",
             "minorgridcolor": "white",
             "startlinecolor": "#2a3f5f"
            },
            "type": "carpet"
           }
          ],
          "choropleth": [
           {
            "colorbar": {
             "outlinewidth": 0,
             "ticks": ""
            },
            "type": "choropleth"
           }
          ],
          "contour": [
           {
            "colorbar": {
             "outlinewidth": 0,
             "ticks": ""
            },
            "colorscale": [
             [
              0,
              "#0d0887"
             ],
             [
              0.1111111111111111,
              "#46039f"
             ],
             [
              0.2222222222222222,
              "#7201a8"
             ],
             [
              0.3333333333333333,
              "#9c179e"
             ],
             [
              0.4444444444444444,
              "#bd3786"
             ],
             [
              0.5555555555555556,
              "#d8576b"
             ],
             [
              0.6666666666666666,
              "#ed7953"
             ],
             [
              0.7777777777777778,
              "#fb9f3a"
             ],
             [
              0.8888888888888888,
              "#fdca26"
             ],
             [
              1,
              "#f0f921"
             ]
            ],
            "type": "contour"
           }
          ],
          "contourcarpet": [
           {
            "colorbar": {
             "outlinewidth": 0,
             "ticks": ""
            },
            "type": "contourcarpet"
           }
          ],
          "heatmap": [
           {
            "colorbar": {
             "outlinewidth": 0,
             "ticks": ""
            },
            "colorscale": [
             [
              0,
              "#0d0887"
             ],
             [
              0.1111111111111111,
              "#46039f"
             ],
             [
              0.2222222222222222,
              "#7201a8"
             ],
             [
              0.3333333333333333,
              "#9c179e"
             ],
             [
              0.4444444444444444,
              "#bd3786"
             ],
             [
              0.5555555555555556,
              "#d8576b"
             ],
             [
              0.6666666666666666,
              "#ed7953"
             ],
             [
              0.7777777777777778,
              "#fb9f3a"
             ],
             [
              0.8888888888888888,
              "#fdca26"
             ],
             [
              1,
              "#f0f921"
             ]
            ],
            "type": "heatmap"
           }
          ],
          "heatmapgl": [
           {
            "colorbar": {
             "outlinewidth": 0,
             "ticks": ""
            },
            "colorscale": [
             [
              0,
              "#0d0887"
             ],
             [
              0.1111111111111111,
              "#46039f"
             ],
             [
              0.2222222222222222,
              "#7201a8"
             ],
             [
              0.3333333333333333,
              "#9c179e"
             ],
             [
              0.4444444444444444,
              "#bd3786"
             ],
             [
              0.5555555555555556,
              "#d8576b"
             ],
             [
              0.6666666666666666,
              "#ed7953"
             ],
             [
              0.7777777777777778,
              "#fb9f3a"
             ],
             [
              0.8888888888888888,
              "#fdca26"
             ],
             [
              1,
              "#f0f921"
             ]
            ],
            "type": "heatmapgl"
           }
          ],
          "histogram": [
           {
            "marker": {
             "pattern": {
              "fillmode": "overlay",
              "size": 10,
              "solidity": 0.2
             }
            },
            "type": "histogram"
           }
          ],
          "histogram2d": [
           {
            "colorbar": {
             "outlinewidth": 0,
             "ticks": ""
            },
            "colorscale": [
             [
              0,
              "#0d0887"
             ],
             [
              0.1111111111111111,
              "#46039f"
             ],
             [
              0.2222222222222222,
              "#7201a8"
             ],
             [
              0.3333333333333333,
              "#9c179e"
             ],
             [
              0.4444444444444444,
              "#bd3786"
             ],
             [
              0.5555555555555556,
              "#d8576b"
             ],
             [
              0.6666666666666666,
              "#ed7953"
             ],
             [
              0.7777777777777778,
              "#fb9f3a"
             ],
             [
              0.8888888888888888,
              "#fdca26"
             ],
             [
              1,
              "#f0f921"
             ]
            ],
            "type": "histogram2d"
           }
          ],
          "histogram2dcontour": [
           {
            "colorbar": {
             "outlinewidth": 0,
             "ticks": ""
            },
            "colorscale": [
             [
              0,
              "#0d0887"
             ],
             [
              0.1111111111111111,
              "#46039f"
             ],
             [
              0.2222222222222222,
              "#7201a8"
             ],
             [
              0.3333333333333333,
              "#9c179e"
             ],
             [
              0.4444444444444444,
              "#bd3786"
             ],
             [
              0.5555555555555556,
              "#d8576b"
             ],
             [
              0.6666666666666666,
              "#ed7953"
             ],
             [
              0.7777777777777778,
              "#fb9f3a"
             ],
             [
              0.8888888888888888,
              "#fdca26"
             ],
             [
              1,
              "#f0f921"
             ]
            ],
            "type": "histogram2dcontour"
           }
          ],
          "mesh3d": [
           {
            "colorbar": {
             "outlinewidth": 0,
             "ticks": ""
            },
            "type": "mesh3d"
           }
          ],
          "parcoords": [
           {
            "line": {
             "colorbar": {
              "outlinewidth": 0,
              "ticks": ""
             }
            },
            "type": "parcoords"
           }
          ],
          "pie": [
           {
            "automargin": true,
            "type": "pie"
           }
          ],
          "scatter": [
           {
            "fillpattern": {
             "fillmode": "overlay",
             "size": 10,
             "solidity": 0.2
            },
            "type": "scatter"
           }
          ],
          "scatter3d": [
           {
            "line": {
             "colorbar": {
              "outlinewidth": 0,
              "ticks": ""
             }
            },
            "marker": {
             "colorbar": {
              "outlinewidth": 0,
              "ticks": ""
             }
            },
            "type": "scatter3d"
           }
          ],
          "scattercarpet": [
           {
            "marker": {
             "colorbar": {
              "outlinewidth": 0,
              "ticks": ""
             }
            },
            "type": "scattercarpet"
           }
          ],
          "scattergeo": [
           {
            "marker": {
             "colorbar": {
              "outlinewidth": 0,
              "ticks": ""
             }
            },
            "type": "scattergeo"
           }
          ],
          "scattergl": [
           {
            "marker": {
             "colorbar": {
              "outlinewidth": 0,
              "ticks": ""
             }
            },
            "type": "scattergl"
           }
          ],
          "scattermapbox": [
           {
            "marker": {
             "colorbar": {
              "outlinewidth": 0,
              "ticks": ""
             }
            },
            "type": "scattermapbox"
           }
          ],
          "scatterpolar": [
           {
            "marker": {
             "colorbar": {
              "outlinewidth": 0,
              "ticks": ""
             }
            },
            "type": "scatterpolar"
           }
          ],
          "scatterpolargl": [
           {
            "marker": {
             "colorbar": {
              "outlinewidth": 0,
              "ticks": ""
             }
            },
            "type": "scatterpolargl"
           }
          ],
          "scatterternary": [
           {
            "marker": {
             "colorbar": {
              "outlinewidth": 0,
              "ticks": ""
             }
            },
            "type": "scatterternary"
           }
          ],
          "surface": [
           {
            "colorbar": {
             "outlinewidth": 0,
             "ticks": ""
            },
            "colorscale": [
             [
              0,
              "#0d0887"
             ],
             [
              0.1111111111111111,
              "#46039f"
             ],
             [
              0.2222222222222222,
              "#7201a8"
             ],
             [
              0.3333333333333333,
              "#9c179e"
             ],
             [
              0.4444444444444444,
              "#bd3786"
             ],
             [
              0.5555555555555556,
              "#d8576b"
             ],
             [
              0.6666666666666666,
              "#ed7953"
             ],
             [
              0.7777777777777778,
              "#fb9f3a"
             ],
             [
              0.8888888888888888,
              "#fdca26"
             ],
             [
              1,
              "#f0f921"
             ]
            ],
            "type": "surface"
           }
          ],
          "table": [
           {
            "cells": {
             "fill": {
              "color": "#EBF0F8"
             },
             "line": {
              "color": "white"
             }
            },
            "header": {
             "fill": {
              "color": "#C8D4E3"
             },
             "line": {
              "color": "white"
             }
            },
            "type": "table"
           }
          ]
         },
         "layout": {
          "annotationdefaults": {
           "arrowcolor": "#2a3f5f",
           "arrowhead": 0,
           "arrowwidth": 1
          },
          "autotypenumbers": "strict",
          "coloraxis": {
           "colorbar": {
            "outlinewidth": 0,
            "ticks": ""
           }
          },
          "colorscale": {
           "diverging": [
            [
             0,
             "#8e0152"
            ],
            [
             0.1,
             "#c51b7d"
            ],
            [
             0.2,
             "#de77ae"
            ],
            [
             0.3,
             "#f1b6da"
            ],
            [
             0.4,
             "#fde0ef"
            ],
            [
             0.5,
             "#f7f7f7"
            ],
            [
             0.6,
             "#e6f5d0"
            ],
            [
             0.7,
             "#b8e186"
            ],
            [
             0.8,
             "#7fbc41"
            ],
            [
             0.9,
             "#4d9221"
            ],
            [
             1,
             "#276419"
            ]
           ],
           "sequential": [
            [
             0,
             "#0d0887"
            ],
            [
             0.1111111111111111,
             "#46039f"
            ],
            [
             0.2222222222222222,
             "#7201a8"
            ],
            [
             0.3333333333333333,
             "#9c179e"
            ],
            [
             0.4444444444444444,
             "#bd3786"
            ],
            [
             0.5555555555555556,
             "#d8576b"
            ],
            [
             0.6666666666666666,
             "#ed7953"
            ],
            [
             0.7777777777777778,
             "#fb9f3a"
            ],
            [
             0.8888888888888888,
             "#fdca26"
            ],
            [
             1,
             "#f0f921"
            ]
           ],
           "sequentialminus": [
            [
             0,
             "#0d0887"
            ],
            [
             0.1111111111111111,
             "#46039f"
            ],
            [
             0.2222222222222222,
             "#7201a8"
            ],
            [
             0.3333333333333333,
             "#9c179e"
            ],
            [
             0.4444444444444444,
             "#bd3786"
            ],
            [
             0.5555555555555556,
             "#d8576b"
            ],
            [
             0.6666666666666666,
             "#ed7953"
            ],
            [
             0.7777777777777778,
             "#fb9f3a"
            ],
            [
             0.8888888888888888,
             "#fdca26"
            ],
            [
             1,
             "#f0f921"
            ]
           ]
          },
          "colorway": [
           "#636efa",
           "#EF553B",
           "#00cc96",
           "#ab63fa",
           "#FFA15A",
           "#19d3f3",
           "#FF6692",
           "#B6E880",
           "#FF97FF",
           "#FECB52"
          ],
          "font": {
           "color": "#2a3f5f"
          },
          "geo": {
           "bgcolor": "white",
           "lakecolor": "white",
           "landcolor": "#E5ECF6",
           "showlakes": true,
           "showland": true,
           "subunitcolor": "white"
          },
          "hoverlabel": {
           "align": "left"
          },
          "hovermode": "closest",
          "mapbox": {
           "style": "light"
          },
          "paper_bgcolor": "white",
          "plot_bgcolor": "#E5ECF6",
          "polar": {
           "angularaxis": {
            "gridcolor": "white",
            "linecolor": "white",
            "ticks": ""
           },
           "bgcolor": "#E5ECF6",
           "radialaxis": {
            "gridcolor": "white",
            "linecolor": "white",
            "ticks": ""
           }
          },
          "scene": {
           "xaxis": {
            "backgroundcolor": "#E5ECF6",
            "gridcolor": "white",
            "gridwidth": 2,
            "linecolor": "white",
            "showbackground": true,
            "ticks": "",
            "zerolinecolor": "white"
           },
           "yaxis": {
            "backgroundcolor": "#E5ECF6",
            "gridcolor": "white",
            "gridwidth": 2,
            "linecolor": "white",
            "showbackground": true,
            "ticks": "",
            "zerolinecolor": "white"
           },
           "zaxis": {
            "backgroundcolor": "#E5ECF6",
            "gridcolor": "white",
            "gridwidth": 2,
            "linecolor": "white",
            "showbackground": true,
            "ticks": "",
            "zerolinecolor": "white"
           }
          },
          "shapedefaults": {
           "line": {
            "color": "#2a3f5f"
           }
          },
          "ternary": {
           "aaxis": {
            "gridcolor": "white",
            "linecolor": "white",
            "ticks": ""
           },
           "baxis": {
            "gridcolor": "white",
            "linecolor": "white",
            "ticks": ""
           },
           "bgcolor": "#E5ECF6",
           "caxis": {
            "gridcolor": "white",
            "linecolor": "white",
            "ticks": ""
           }
          },
          "title": {
           "x": 0.05
          },
          "xaxis": {
           "automargin": true,
           "gridcolor": "white",
           "linecolor": "white",
           "ticks": "",
           "title": {
            "standoff": 15
           },
           "zerolinecolor": "white",
           "zerolinewidth": 2
          },
          "yaxis": {
           "automargin": true,
           "gridcolor": "white",
           "linecolor": "white",
           "ticks": "",
           "title": {
            "standoff": 15
           },
           "zerolinecolor": "white",
           "zerolinewidth": 2
          }
         }
        },
        "xaxis": {
         "anchor": "y",
         "domain": [
          0,
          1
         ]
        },
        "xaxis2": {
         "anchor": "y2",
         "domain": [
          0,
          1
         ]
        },
        "xaxis3": {
         "anchor": "y3",
         "domain": [
          0,
          1
         ]
        },
        "yaxis": {
         "anchor": "x",
         "domain": [
          0.7333333333333333,
          1
         ],
         "title": {
          "text": "pm10"
         }
        },
        "yaxis2": {
         "anchor": "x2",
         "domain": [
          0.36666666666666664,
          0.6333333333333333
         ],
         "title": {
          "text": "pm10"
         }
        },
        "yaxis3": {
         "anchor": "x3",
         "domain": [
          0,
          0.26666666666666666
         ],
         "title": {
          "text": "pm10"
         }
        }
       }
      }
     },
     "metadata": {},
     "output_type": "display_data"
    }
   ],
   "source": [
    "window_generator_538.plot(model_530, offset=10)\n"
   ]
  },
  {
   "cell_type": "code",
   "execution_count": 47,
   "metadata": {},
   "outputs": [
    {
     "data": {
      "application/vnd.plotly.v1+json": {
       "config": {
        "plotlyServerURL": "https://plot.ly"
       },
       "data": [
        {
         "marker": {
          "color": "blue"
         },
         "name": "Inputs",
         "type": "scatter",
         "x": [
          0,
          1,
          2,
          3,
          4,
          5,
          6,
          7,
          8,
          9,
          10,
          11,
          12,
          13,
          14,
          15,
          16,
          17,
          18,
          19,
          20,
          21,
          22,
          23,
          24,
          25,
          26,
          27,
          28,
          29,
          30,
          31,
          32,
          33,
          34,
          35,
          36,
          37,
          38,
          39,
          40,
          41,
          42,
          43,
          44,
          45,
          46,
          47,
          48,
          49,
          50,
          51,
          52,
          53,
          54,
          55,
          56,
          57,
          58,
          59,
          60,
          61,
          62,
          63,
          64,
          65,
          66,
          67,
          68,
          69,
          70,
          71,
          72,
          73,
          74,
          75,
          76,
          77,
          78,
          79,
          80,
          81,
          82,
          83,
          84,
          85,
          86,
          87,
          88,
          89,
          90,
          91,
          92,
          93,
          94,
          95,
          96,
          97,
          98,
          99,
          100,
          101,
          102,
          103,
          104,
          105,
          106,
          107,
          108,
          109,
          110,
          111,
          112,
          113,
          114,
          115,
          116,
          117,
          118,
          119,
          120,
          121,
          122,
          123,
          124,
          125,
          126,
          127,
          128,
          129,
          130,
          131,
          132,
          133,
          134,
          135,
          136,
          137,
          138,
          139,
          140,
          141,
          142,
          143,
          144,
          145,
          146,
          147,
          148,
          149,
          150,
          151,
          152,
          153,
          154,
          155,
          156,
          157,
          158,
          159,
          160,
          161,
          162,
          163,
          164,
          165,
          166,
          167
         ],
         "xaxis": "x",
         "y": [
          27.33,
          25.96,
          27.78,
          32.19,
          40.45,
          50.76,
          66.54,
          68.45,
          53.64,
          46.95,
          40.33,
          35.58,
          35.01,
          33.71,
          32.9,
          29.75,
          27.68,
          27.21,
          28.71,
          30.27,
          26.01,
          26.86,
          25.8,
          28.91,
          26.96,
          25.44,
          25.07,
          25.88,
          26.53,
          28.02,
          25.83,
          15.33,
          16.3,
          22.85,
          26.74,
          27.36,
          27.63,
          32.96,
          31.31,
          26.85,
          27.28,
          25.88,
          31.28,
          31.57,
          37.73,
          47.97,
          54.49,
          48.36,
          45.77,
          36.77,
          33.87,
          27.09,
          22.56,
          21.13,
          21.4,
          22.25,
          24.23,
          23.54,
          22.27,
          21.78,
          21.96,
          23.79,
          24.08,
          13.81,
          8.79,
          7.24,
          8.52,
          10.62,
          10.83,
          11.11,
          11.24,
          10.2,
          9.1,
          9.15,
          8.14,
          11.59,
          11.85,
          11.37,
          16.27,
          17.68,
          20.14,
          27.38,
          34.43,
          31.95,
          28.43,
          23.99,
          22.21,
          21.01,
          18.25,
          14.4,
          12.37,
          13.11,
          12.38,
          11.52,
          11.59,
          11.35,
          11.85,
          11.71,
          13.4,
          13.58,
          17.9,
          23.51,
          21.87,
          21.49,
          25.55,
          19.63,
          18.8,
          13.32,
          7.24,
          4.93,
          3.46,
          2.15,
          2.37,
          3.65,
          3.72,
          5.15,
          6.01,
          5.2,
          5.07,
          5.06,
          4.36,
          4.2,
          4.34,
          5.55,
          8.19,
          11.49,
          11.57,
          11.66,
          11.23,
          9.64,
          9.21,
          9.72,
          10.01,
          16.91,
          14.75,
          15.42,
          12.55,
          9.63,
          9.57,
          7.66,
          8.51,
          9.89,
          10.49,
          9.86,
          10.32,
          15.75,
          13.13,
          20.43,
          20.6,
          23.33,
          19.96,
          16.45,
          20.05,
          21.35,
          22.48,
          24.68,
          32.02,
          22.97,
          36.49,
          45.16,
          27.55,
          17.16,
          18.98,
          17.48,
          17.28,
          17.14,
          13.82,
          14.87
         ],
         "yaxis": "y"
        },
        {
         "marker": {
          "color": "#2ca02c"
         },
         "mode": "markers",
         "name": "Labels",
         "type": "scatter",
         "x": [
          168,
          169,
          170,
          171,
          172,
          173,
          174,
          175,
          176,
          177,
          178,
          179,
          180,
          181,
          182,
          183,
          184,
          185,
          186,
          187,
          188,
          189,
          190,
          191
         ],
         "xaxis": "x",
         "y": [
          14.32,
          15.19,
          11.57,
          12.82,
          14.55,
          27.79,
          40.28,
          34.26,
          32.29,
          26.68,
          25.98,
          27.12,
          27.94,
          31.24,
          39,
          29.57,
          25.75,
          27.57,
          20.08,
          19.02,
          19.3,
          20.07,
          20.6,
          22
         ],
         "yaxis": "y"
        },
        {
         "marker": {
          "color": "#ff7f0e"
         },
         "mode": "markers",
         "name": "Predictions",
         "type": "scatter",
         "x": [
          168,
          169,
          170,
          171,
          172,
          173,
          174,
          175,
          176,
          177,
          178,
          179,
          180,
          181,
          182,
          183,
          184,
          185,
          186,
          187,
          188,
          189,
          190,
          191
         ],
         "xaxis": "x",
         "y": [
          16.64472007751465,
          17.384300231933594,
          19.331058502197266,
          21.094711303710938,
          22.898168563842773,
          24.604934692382812,
          26.19019317626953,
          27.420127868652344,
          28.603042602539062,
          29.089698791503906,
          29.20514488220215,
          29.04488754272461,
          28.292036056518555,
          27.146175384521484,
          25.875627517700195,
          24.41176986694336,
          22.463510513305664,
          20.53489875793457,
          19.087078094482422,
          17.81527328491211,
          17.601064682006836,
          17.73043441772461,
          18.28966522216797,
          18.649580001831055
         ],
         "yaxis": "y"
        },
        {
         "marker": {
          "color": "blue"
         },
         "name": "Inputs",
         "type": "scatter",
         "x": [
          0,
          1,
          2,
          3,
          4,
          5,
          6,
          7,
          8,
          9,
          10,
          11,
          12,
          13,
          14,
          15,
          16,
          17,
          18,
          19,
          20,
          21,
          22,
          23,
          24,
          25,
          26,
          27,
          28,
          29,
          30,
          31,
          32,
          33,
          34,
          35,
          36,
          37,
          38,
          39,
          40,
          41,
          42,
          43,
          44,
          45,
          46,
          47,
          48,
          49,
          50,
          51,
          52,
          53,
          54,
          55,
          56,
          57,
          58,
          59,
          60,
          61,
          62,
          63,
          64,
          65,
          66,
          67,
          68,
          69,
          70,
          71,
          72,
          73,
          74,
          75,
          76,
          77,
          78,
          79,
          80,
          81,
          82,
          83,
          84,
          85,
          86,
          87,
          88,
          89,
          90,
          91,
          92,
          93,
          94,
          95,
          96,
          97,
          98,
          99,
          100,
          101,
          102,
          103,
          104,
          105,
          106,
          107,
          108,
          109,
          110,
          111,
          112,
          113,
          114,
          115,
          116,
          117,
          118,
          119,
          120,
          121,
          122,
          123,
          124,
          125,
          126,
          127,
          128,
          129,
          130,
          131,
          132,
          133,
          134,
          135,
          136,
          137,
          138,
          139,
          140,
          141,
          142,
          143,
          144,
          145,
          146,
          147,
          148,
          149,
          150,
          151,
          152,
          153,
          154,
          155,
          156,
          157,
          158,
          159,
          160,
          161,
          162,
          163,
          164,
          165,
          166,
          167
         ],
         "xaxis": "x2",
         "y": [
          10.69,
          21.76,
          28.53,
          30.77,
          28.41,
          22.36,
          23.63,
          24.25,
          19.87,
          17.57,
          20.76,
          26.12,
          23.14,
          25.09,
          25.49,
          37.31,
          23.27,
          26.25,
          28.05,
          27,
          32.41,
          29.7,
          25.61,
          25.15,
          23.29,
          22.16,
          21.21,
          21.49,
          22.24,
          22.45,
          22.34,
          24.61,
          25.42,
          25.03,
          25.13,
          27.57,
          33.42,
          44.82,
          41.25,
          38.54,
          44.32,
          44.37,
          51.51,
          49.61,
          55.09,
          47.34,
          45.9,
          44.53,
          43.27,
          38.61,
          38.64,
          35.57,
          34.03,
          33.77,
          34.92,
          34.88,
          34.26,
          34.04,
          33.34,
          35.73,
          39.19,
          44.23,
          45.19,
          55.03,
          51.2,
          52.92,
          54.33,
          53.23,
          56.61,
          55.96,
          55.23,
          55.95,
          53.53,
          48.72,
          44.61,
          44.43,
          43.37,
          42.52,
          40.16,
          39.57,
          39.81,
          39.85,
          39.44,
          43.71,
          43.85,
          49.8,
          55.09,
          57.77,
          55.89,
          51.27,
          48.95,
          43.76,
          41.28,
          44.27,
          43.1,
          50.98,
          50.6,
          51.87,
          53.3,
          49.3,
          44.05,
          43.58,
          37.78,
          37.5,
          37.82,
          37.73,
          37.45,
          38.9,
          43.32,
          43.85,
          44.41,
          44.75,
          40.25,
          37.45,
          38.12,
          43.03,
          38.43,
          36.92,
          39.39,
          40.43,
          43.51,
          47.25,
          51.46,
          52.85,
          61.24,
          50.9,
          53.06,
          56.03,
          52.03,
          49.02,
          50,
          50.56,
          58.47,
          64.2,
          55.5,
          36.7,
          31.35,
          30.83,
          31.44,
          30.84,
          30.04,
          31.81,
          31.08,
          32.75,
          40.95,
          62.73,
          62.37,
          59.52,
          64.44,
          66.13,
          64.64,
          63.28,
          64.8,
          64.48,
          68.3,
          79.93,
          78.54,
          90.19,
          66.69,
          48.63,
          36.63,
          36.57,
          33.09,
          34.18,
          33.06,
          40.89,
          43.95,
          48.15
         ],
         "yaxis": "y2"
        },
        {
         "marker": {
          "color": "#2ca02c"
         },
         "mode": "markers",
         "name": "Labels",
         "type": "scatter",
         "x": [
          168,
          169,
          170,
          171,
          172,
          173,
          174,
          175,
          176,
          177,
          178,
          179,
          180,
          181,
          182,
          183,
          184,
          185,
          186,
          187,
          188,
          189,
          190,
          191
         ],
         "xaxis": "x2",
         "y": [
          62.69,
          82.37,
          57.88,
          45.85,
          34.2,
          33.31,
          30.01,
          23.32,
          18.9,
          16.39,
          15.01,
          15.97,
          17.29,
          20.41,
          20.72,
          15.81,
          16.49,
          20.31,
          25.52,
          26.13,
          24.6,
          23.21,
          21.38,
          22.41
         ],
         "yaxis": "y2"
        },
        {
         "marker": {
          "color": "#ff7f0e"
         },
         "mode": "markers",
         "name": "Predictions",
         "type": "scatter",
         "x": [
          168,
          169,
          170,
          171,
          172,
          173,
          174,
          175,
          176,
          177,
          178,
          179,
          180,
          181,
          182,
          183,
          184,
          185,
          186,
          187,
          188,
          189,
          190,
          191
         ],
         "xaxis": "x2",
         "y": [
          66.56748962402344,
          64.84893035888672,
          58.671993255615234,
          47.81673812866211,
          37.77927017211914,
          29.805675506591797,
          25.021942138671875,
          22.930816650390625,
          22.47153663635254,
          22.595787048339844,
          21.916284561157227,
          20.938356399536133,
          19.47928810119629,
          18.866846084594727,
          19.425233840942383,
          19.861698150634766,
          20.277339935302734,
          20.736495971679688,
          20.79410743713379,
          19.32369041442871,
          18.19207763671875,
          17.794416427612305,
          18.63299560546875,
          20.186304092407227
         ],
         "yaxis": "y2"
        },
        {
         "marker": {
          "color": "blue"
         },
         "name": "Inputs",
         "type": "scatter",
         "x": [
          0,
          1,
          2,
          3,
          4,
          5,
          6,
          7,
          8,
          9,
          10,
          11,
          12,
          13,
          14,
          15,
          16,
          17,
          18,
          19,
          20,
          21,
          22,
          23,
          24,
          25,
          26,
          27,
          28,
          29,
          30,
          31,
          32,
          33,
          34,
          35,
          36,
          37,
          38,
          39,
          40,
          41,
          42,
          43,
          44,
          45,
          46,
          47,
          48,
          49,
          50,
          51,
          52,
          53,
          54,
          55,
          56,
          57,
          58,
          59,
          60,
          61,
          62,
          63,
          64,
          65,
          66,
          67,
          68,
          69,
          70,
          71,
          72,
          73,
          74,
          75,
          76,
          77,
          78,
          79,
          80,
          81,
          82,
          83,
          84,
          85,
          86,
          87,
          88,
          89,
          90,
          91,
          92,
          93,
          94,
          95,
          96,
          97,
          98,
          99,
          100,
          101,
          102,
          103,
          104,
          105,
          106,
          107,
          108,
          109,
          110,
          111,
          112,
          113,
          114,
          115,
          116,
          117,
          118,
          119,
          120,
          121,
          122,
          123,
          124,
          125,
          126,
          127,
          128,
          129,
          130,
          131,
          132,
          133,
          134,
          135,
          136,
          137,
          138,
          139,
          140,
          141,
          142,
          143,
          144,
          145,
          146,
          147,
          148,
          149,
          150,
          151,
          152,
          153,
          154,
          155,
          156,
          157,
          158,
          159,
          160,
          161,
          162,
          163,
          164,
          165,
          166,
          167
         ],
         "xaxis": "x3",
         "y": [
          29.74,
          31.03,
          31.62,
          35.96,
          39.52,
          37.05,
          37.25,
          37.55,
          40.01,
          36.36,
          36.06,
          33.99,
          30.14,
          28.46,
          28.65,
          24.31,
          21.84,
          19.86,
          23.12,
          19.47,
          15.91,
          15.71,
          13.54,
          13.15,
          14.73,
          19.37,
          18.18,
          10.97,
          11.17,
          12.75,
          12.65,
          13.44,
          13.94,
          14.43,
          13.84,
          15.32,
          16.6,
          14.63,
          19.86,
          25.39,
          22.43,
          24.8,
          26.88,
          26.18,
          19.57,
          18.08,
          15.61,
          13.44,
          25.49,
          34.19,
          38.24,
          39.72,
          43.27,
          43.77,
          50.58,
          39.82,
          36.85,
          37.74,
          34.48,
          26.48,
          34.29,
          30.43,
          33.99,
          27.07,
          30.24,
          15.12,
          17,
          17.89,
          16.01,
          17.99,
          15.91,
          17.39,
          24.01,
          26.48,
          29.54,
          30.04,
          29.15,
          27.67,
          24.41,
          24.41,
          26.98,
          26.38,
          26.78,
          26.58,
          29.64,
          31.03,
          32.9,
          34.09,
          36.95,
          45.45,
          48.31,
          50.98,
          60.46,
          62.44,
          65.3,
          77.65,
          88.91,
          105.9,
          108.37,
          114,
          100.77,
          98,
          131.39,
          141.47,
          135.94,
          131.29,
          133.47,
          134.95,
          138.01,
          135.44,
          124.57,
          114.2,
          85.46,
          81.6,
          86.25,
          94.25,
          97.61,
          102.35,
          108.87,
          109.26,
          100.47,
          93.56,
          79.43,
          76.27,
          74.1,
          88.62,
          88.91,
          90.59,
          92.27,
          99.58,
          98.79,
          90.59,
          87.14,
          86.25,
          94.54,
          99.09,
          100.57,
          97.21,
          97.41,
          92.96,
          90.1,
          93.95,
          90.49,
          90.99,
          83.97,
          83.88,
          82.89,
          76.86,
          73.21,
          65.7,
          51.87,
          43.57,
          41.79,
          40.21,
          39.32,
          37.05,
          35.77,
          35.57,
          33.99,
          34.29,
          35.08,
          35.87,
          32.61,
          31.42,
          34.58,
          36.85,
          35.27,
          32.7
         ],
         "yaxis": "y3"
        },
        {
         "marker": {
          "color": "#2ca02c"
         },
         "mode": "markers",
         "name": "Labels",
         "type": "scatter",
         "x": [
          168,
          169,
          170,
          171,
          172,
          173,
          174,
          175,
          176,
          177,
          178,
          179,
          180,
          181,
          182,
          183,
          184,
          185,
          186,
          187,
          188,
          189,
          190,
          191
         ],
         "xaxis": "x3",
         "y": [
          35.17,
          35.17,
          29.25,
          24.01,
          23.42,
          26.68,
          29.05,
          31.42,
          34.29,
          33.99,
          32.21,
          31.62,
          31.22,
          31.52,
          30.93,
          26.28,
          28.36,
          28.95,
          27.07,
          29.64,
          32.8,
          36.56,
          36.75,
          39.03
         ],
         "yaxis": "y3"
        },
        {
         "marker": {
          "color": "#ff7f0e"
         },
         "mode": "markers",
         "name": "Predictions",
         "type": "scatter",
         "x": [
          168,
          169,
          170,
          171,
          172,
          173,
          174,
          175,
          176,
          177,
          178,
          179,
          180,
          181,
          182,
          183,
          184,
          185,
          186,
          187,
          188,
          189,
          190,
          191
         ],
         "xaxis": "x3",
         "y": [
          29.162195205688477,
          29.01272964477539,
          28.599609375,
          27.07784652709961,
          25.58116340637207,
          24.505325317382812,
          23.564620971679688,
          22.39563751220703,
          21.23818016052246,
          20.000160217285156,
          18.69283676147461,
          17.56199073791504,
          17.09712028503418,
          17.609113693237305,
          18.800525665283203,
          19.947481155395508,
          20.769371032714844,
          21.454364776611328,
          22.217815399169922,
          22.42154884338379,
          22.602554321289062,
          22.935504913330078,
          23.602699279785156,
          24.19621467590332
         ],
         "yaxis": "y3"
        }
       ],
       "layout": {
        "height": 1200,
        "template": {
         "data": {
          "bar": [
           {
            "error_x": {
             "color": "#2a3f5f"
            },
            "error_y": {
             "color": "#2a3f5f"
            },
            "marker": {
             "line": {
              "color": "#E5ECF6",
              "width": 0.5
             },
             "pattern": {
              "fillmode": "overlay",
              "size": 10,
              "solidity": 0.2
             }
            },
            "type": "bar"
           }
          ],
          "barpolar": [
           {
            "marker": {
             "line": {
              "color": "#E5ECF6",
              "width": 0.5
             },
             "pattern": {
              "fillmode": "overlay",
              "size": 10,
              "solidity": 0.2
             }
            },
            "type": "barpolar"
           }
          ],
          "carpet": [
           {
            "aaxis": {
             "endlinecolor": "#2a3f5f",
             "gridcolor": "white",
             "linecolor": "white",
             "minorgridcolor": "white",
             "startlinecolor": "#2a3f5f"
            },
            "baxis": {
             "endlinecolor": "#2a3f5f",
             "gridcolor": "white",
             "linecolor": "white",
             "minorgridcolor": "white",
             "startlinecolor": "#2a3f5f"
            },
            "type": "carpet"
           }
          ],
          "choropleth": [
           {
            "colorbar": {
             "outlinewidth": 0,
             "ticks": ""
            },
            "type": "choropleth"
           }
          ],
          "contour": [
           {
            "colorbar": {
             "outlinewidth": 0,
             "ticks": ""
            },
            "colorscale": [
             [
              0,
              "#0d0887"
             ],
             [
              0.1111111111111111,
              "#46039f"
             ],
             [
              0.2222222222222222,
              "#7201a8"
             ],
             [
              0.3333333333333333,
              "#9c179e"
             ],
             [
              0.4444444444444444,
              "#bd3786"
             ],
             [
              0.5555555555555556,
              "#d8576b"
             ],
             [
              0.6666666666666666,
              "#ed7953"
             ],
             [
              0.7777777777777778,
              "#fb9f3a"
             ],
             [
              0.8888888888888888,
              "#fdca26"
             ],
             [
              1,
              "#f0f921"
             ]
            ],
            "type": "contour"
           }
          ],
          "contourcarpet": [
           {
            "colorbar": {
             "outlinewidth": 0,
             "ticks": ""
            },
            "type": "contourcarpet"
           }
          ],
          "heatmap": [
           {
            "colorbar": {
             "outlinewidth": 0,
             "ticks": ""
            },
            "colorscale": [
             [
              0,
              "#0d0887"
             ],
             [
              0.1111111111111111,
              "#46039f"
             ],
             [
              0.2222222222222222,
              "#7201a8"
             ],
             [
              0.3333333333333333,
              "#9c179e"
             ],
             [
              0.4444444444444444,
              "#bd3786"
             ],
             [
              0.5555555555555556,
              "#d8576b"
             ],
             [
              0.6666666666666666,
              "#ed7953"
             ],
             [
              0.7777777777777778,
              "#fb9f3a"
             ],
             [
              0.8888888888888888,
              "#fdca26"
             ],
             [
              1,
              "#f0f921"
             ]
            ],
            "type": "heatmap"
           }
          ],
          "heatmapgl": [
           {
            "colorbar": {
             "outlinewidth": 0,
             "ticks": ""
            },
            "colorscale": [
             [
              0,
              "#0d0887"
             ],
             [
              0.1111111111111111,
              "#46039f"
             ],
             [
              0.2222222222222222,
              "#7201a8"
             ],
             [
              0.3333333333333333,
              "#9c179e"
             ],
             [
              0.4444444444444444,
              "#bd3786"
             ],
             [
              0.5555555555555556,
              "#d8576b"
             ],
             [
              0.6666666666666666,
              "#ed7953"
             ],
             [
              0.7777777777777778,
              "#fb9f3a"
             ],
             [
              0.8888888888888888,
              "#fdca26"
             ],
             [
              1,
              "#f0f921"
             ]
            ],
            "type": "heatmapgl"
           }
          ],
          "histogram": [
           {
            "marker": {
             "pattern": {
              "fillmode": "overlay",
              "size": 10,
              "solidity": 0.2
             }
            },
            "type": "histogram"
           }
          ],
          "histogram2d": [
           {
            "colorbar": {
             "outlinewidth": 0,
             "ticks": ""
            },
            "colorscale": [
             [
              0,
              "#0d0887"
             ],
             [
              0.1111111111111111,
              "#46039f"
             ],
             [
              0.2222222222222222,
              "#7201a8"
             ],
             [
              0.3333333333333333,
              "#9c179e"
             ],
             [
              0.4444444444444444,
              "#bd3786"
             ],
             [
              0.5555555555555556,
              "#d8576b"
             ],
             [
              0.6666666666666666,
              "#ed7953"
             ],
             [
              0.7777777777777778,
              "#fb9f3a"
             ],
             [
              0.8888888888888888,
              "#fdca26"
             ],
             [
              1,
              "#f0f921"
             ]
            ],
            "type": "histogram2d"
           }
          ],
          "histogram2dcontour": [
           {
            "colorbar": {
             "outlinewidth": 0,
             "ticks": ""
            },
            "colorscale": [
             [
              0,
              "#0d0887"
             ],
             [
              0.1111111111111111,
              "#46039f"
             ],
             [
              0.2222222222222222,
              "#7201a8"
             ],
             [
              0.3333333333333333,
              "#9c179e"
             ],
             [
              0.4444444444444444,
              "#bd3786"
             ],
             [
              0.5555555555555556,
              "#d8576b"
             ],
             [
              0.6666666666666666,
              "#ed7953"
             ],
             [
              0.7777777777777778,
              "#fb9f3a"
             ],
             [
              0.8888888888888888,
              "#fdca26"
             ],
             [
              1,
              "#f0f921"
             ]
            ],
            "type": "histogram2dcontour"
           }
          ],
          "mesh3d": [
           {
            "colorbar": {
             "outlinewidth": 0,
             "ticks": ""
            },
            "type": "mesh3d"
           }
          ],
          "parcoords": [
           {
            "line": {
             "colorbar": {
              "outlinewidth": 0,
              "ticks": ""
             }
            },
            "type": "parcoords"
           }
          ],
          "pie": [
           {
            "automargin": true,
            "type": "pie"
           }
          ],
          "scatter": [
           {
            "fillpattern": {
             "fillmode": "overlay",
             "size": 10,
             "solidity": 0.2
            },
            "type": "scatter"
           }
          ],
          "scatter3d": [
           {
            "line": {
             "colorbar": {
              "outlinewidth": 0,
              "ticks": ""
             }
            },
            "marker": {
             "colorbar": {
              "outlinewidth": 0,
              "ticks": ""
             }
            },
            "type": "scatter3d"
           }
          ],
          "scattercarpet": [
           {
            "marker": {
             "colorbar": {
              "outlinewidth": 0,
              "ticks": ""
             }
            },
            "type": "scattercarpet"
           }
          ],
          "scattergeo": [
           {
            "marker": {
             "colorbar": {
              "outlinewidth": 0,
              "ticks": ""
             }
            },
            "type": "scattergeo"
           }
          ],
          "scattergl": [
           {
            "marker": {
             "colorbar": {
              "outlinewidth": 0,
              "ticks": ""
             }
            },
            "type": "scattergl"
           }
          ],
          "scattermapbox": [
           {
            "marker": {
             "colorbar": {
              "outlinewidth": 0,
              "ticks": ""
             }
            },
            "type": "scattermapbox"
           }
          ],
          "scatterpolar": [
           {
            "marker": {
             "colorbar": {
              "outlinewidth": 0,
              "ticks": ""
             }
            },
            "type": "scatterpolar"
           }
          ],
          "scatterpolargl": [
           {
            "marker": {
             "colorbar": {
              "outlinewidth": 0,
              "ticks": ""
             }
            },
            "type": "scatterpolargl"
           }
          ],
          "scatterternary": [
           {
            "marker": {
             "colorbar": {
              "outlinewidth": 0,
              "ticks": ""
             }
            },
            "type": "scatterternary"
           }
          ],
          "surface": [
           {
            "colorbar": {
             "outlinewidth": 0,
             "ticks": ""
            },
            "colorscale": [
             [
              0,
              "#0d0887"
             ],
             [
              0.1111111111111111,
              "#46039f"
             ],
             [
              0.2222222222222222,
              "#7201a8"
             ],
             [
              0.3333333333333333,
              "#9c179e"
             ],
             [
              0.4444444444444444,
              "#bd3786"
             ],
             [
              0.5555555555555556,
              "#d8576b"
             ],
             [
              0.6666666666666666,
              "#ed7953"
             ],
             [
              0.7777777777777778,
              "#fb9f3a"
             ],
             [
              0.8888888888888888,
              "#fdca26"
             ],
             [
              1,
              "#f0f921"
             ]
            ],
            "type": "surface"
           }
          ],
          "table": [
           {
            "cells": {
             "fill": {
              "color": "#EBF0F8"
             },
             "line": {
              "color": "white"
             }
            },
            "header": {
             "fill": {
              "color": "#C8D4E3"
             },
             "line": {
              "color": "white"
             }
            },
            "type": "table"
           }
          ]
         },
         "layout": {
          "annotationdefaults": {
           "arrowcolor": "#2a3f5f",
           "arrowhead": 0,
           "arrowwidth": 1
          },
          "autotypenumbers": "strict",
          "coloraxis": {
           "colorbar": {
            "outlinewidth": 0,
            "ticks": ""
           }
          },
          "colorscale": {
           "diverging": [
            [
             0,
             "#8e0152"
            ],
            [
             0.1,
             "#c51b7d"
            ],
            [
             0.2,
             "#de77ae"
            ],
            [
             0.3,
             "#f1b6da"
            ],
            [
             0.4,
             "#fde0ef"
            ],
            [
             0.5,
             "#f7f7f7"
            ],
            [
             0.6,
             "#e6f5d0"
            ],
            [
             0.7,
             "#b8e186"
            ],
            [
             0.8,
             "#7fbc41"
            ],
            [
             0.9,
             "#4d9221"
            ],
            [
             1,
             "#276419"
            ]
           ],
           "sequential": [
            [
             0,
             "#0d0887"
            ],
            [
             0.1111111111111111,
             "#46039f"
            ],
            [
             0.2222222222222222,
             "#7201a8"
            ],
            [
             0.3333333333333333,
             "#9c179e"
            ],
            [
             0.4444444444444444,
             "#bd3786"
            ],
            [
             0.5555555555555556,
             "#d8576b"
            ],
            [
             0.6666666666666666,
             "#ed7953"
            ],
            [
             0.7777777777777778,
             "#fb9f3a"
            ],
            [
             0.8888888888888888,
             "#fdca26"
            ],
            [
             1,
             "#f0f921"
            ]
           ],
           "sequentialminus": [
            [
             0,
             "#0d0887"
            ],
            [
             0.1111111111111111,
             "#46039f"
            ],
            [
             0.2222222222222222,
             "#7201a8"
            ],
            [
             0.3333333333333333,
             "#9c179e"
            ],
            [
             0.4444444444444444,
             "#bd3786"
            ],
            [
             0.5555555555555556,
             "#d8576b"
            ],
            [
             0.6666666666666666,
             "#ed7953"
            ],
            [
             0.7777777777777778,
             "#fb9f3a"
            ],
            [
             0.8888888888888888,
             "#fdca26"
            ],
            [
             1,
             "#f0f921"
            ]
           ]
          },
          "colorway": [
           "#636efa",
           "#EF553B",
           "#00cc96",
           "#ab63fa",
           "#FFA15A",
           "#19d3f3",
           "#FF6692",
           "#B6E880",
           "#FF97FF",
           "#FECB52"
          ],
          "font": {
           "color": "#2a3f5f"
          },
          "geo": {
           "bgcolor": "white",
           "lakecolor": "white",
           "landcolor": "#E5ECF6",
           "showlakes": true,
           "showland": true,
           "subunitcolor": "white"
          },
          "hoverlabel": {
           "align": "left"
          },
          "hovermode": "closest",
          "mapbox": {
           "style": "light"
          },
          "paper_bgcolor": "white",
          "plot_bgcolor": "#E5ECF6",
          "polar": {
           "angularaxis": {
            "gridcolor": "white",
            "linecolor": "white",
            "ticks": ""
           },
           "bgcolor": "#E5ECF6",
           "radialaxis": {
            "gridcolor": "white",
            "linecolor": "white",
            "ticks": ""
           }
          },
          "scene": {
           "xaxis": {
            "backgroundcolor": "#E5ECF6",
            "gridcolor": "white",
            "gridwidth": 2,
            "linecolor": "white",
            "showbackground": true,
            "ticks": "",
            "zerolinecolor": "white"
           },
           "yaxis": {
            "backgroundcolor": "#E5ECF6",
            "gridcolor": "white",
            "gridwidth": 2,
            "linecolor": "white",
            "showbackground": true,
            "ticks": "",
            "zerolinecolor": "white"
           },
           "zaxis": {
            "backgroundcolor": "#E5ECF6",
            "gridcolor": "white",
            "gridwidth": 2,
            "linecolor": "white",
            "showbackground": true,
            "ticks": "",
            "zerolinecolor": "white"
           }
          },
          "shapedefaults": {
           "line": {
            "color": "#2a3f5f"
           }
          },
          "ternary": {
           "aaxis": {
            "gridcolor": "white",
            "linecolor": "white",
            "ticks": ""
           },
           "baxis": {
            "gridcolor": "white",
            "linecolor": "white",
            "ticks": ""
           },
           "bgcolor": "#E5ECF6",
           "caxis": {
            "gridcolor": "white",
            "linecolor": "white",
            "ticks": ""
           }
          },
          "title": {
           "x": 0.05
          },
          "xaxis": {
           "automargin": true,
           "gridcolor": "white",
           "linecolor": "white",
           "ticks": "",
           "title": {
            "standoff": 15
           },
           "zerolinecolor": "white",
           "zerolinewidth": 2
          },
          "yaxis": {
           "automargin": true,
           "gridcolor": "white",
           "linecolor": "white",
           "ticks": "",
           "title": {
            "standoff": 15
           },
           "zerolinecolor": "white",
           "zerolinewidth": 2
          }
         }
        },
        "xaxis": {
         "anchor": "y",
         "domain": [
          0,
          1
         ]
        },
        "xaxis2": {
         "anchor": "y2",
         "domain": [
          0,
          1
         ]
        },
        "xaxis3": {
         "anchor": "y3",
         "domain": [
          0,
          1
         ]
        },
        "yaxis": {
         "anchor": "x",
         "domain": [
          0.7333333333333333,
          1
         ],
         "title": {
          "text": "pm10"
         }
        },
        "yaxis2": {
         "anchor": "x2",
         "domain": [
          0.36666666666666664,
          0.6333333333333333
         ],
         "title": {
          "text": "pm10"
         }
        },
        "yaxis3": {
         "anchor": "x3",
         "domain": [
          0,
          0.26666666666666666
         ],
         "title": {
          "text": "pm10"
         }
        }
       }
      }
     },
     "metadata": {},
     "output_type": "display_data"
    }
   ],
   "source": [
    "window_generator_538.plot(model_538, offset=10)\n"
   ]
  },
  {
   "cell_type": "code",
   "execution_count": 50,
   "metadata": {},
   "outputs": [
    {
     "name": "stdout",
     "output_type": "stream",
     "text": [
      "Model: \"sequential\"\n",
      "_________________________________________________________________\n",
      " Layer (type)                Output Shape              Param #   \n",
      "=================================================================\n",
      " normalization (Normalizatio  (None, 168, 11)          23        \n",
      " n)                                                              \n",
      "                                                                 \n",
      " lambda (Lambda)             (None, 5, 11)             0         \n",
      "                                                                 \n",
      " conv1d (Conv1D)             (None, 5, 128)            7168      \n",
      "                                                                 \n",
      " max_pooling1d (MaxPooling1D  (None, 2, 128)           0         \n",
      " )                                                               \n",
      "                                                                 \n",
      " batch_normalization (BatchN  (None, 2, 128)           512       \n",
      " ormalization)                                                   \n",
      "                                                                 \n",
      " conv1d_1 (Conv1D)           (None, 2, 256)            164096    \n",
      "                                                                 \n",
      " max_pooling1d_1 (MaxPooling  (None, 1, 256)           0         \n",
      " 1D)                                                             \n",
      "                                                                 \n",
      " batch_normalization_1 (Batc  (None, 1, 256)           1024      \n",
      " hNormalization)                                                 \n",
      "                                                                 \n",
      " conv1d_2 (Conv1D)           (None, 1, 256)            327936    \n",
      "                                                                 \n",
      " reshape (Reshape)           (None, 1, 256)            0         \n",
      "                                                                 \n",
      " lstm (LSTM)                 (None, 1, 64)             82176     \n",
      "                                                                 \n",
      " lstm_1 (LSTM)               (None, 1, 64)             33024     \n",
      "                                                                 \n",
      " dense (Dense)               (None, 1, 512)            33280     \n",
      "                                                                 \n",
      " dropout (Dropout)           (None, 1, 512)            0         \n",
      "                                                                 \n",
      " dense_1 (Dense)             (None, 1, 24)             12312     \n",
      "                                                                 \n",
      " reshape_1 (Reshape)         (None, 24, 1)             0         \n",
      "                                                                 \n",
      "=================================================================\n",
      "Total params: 661,551\n",
      "Trainable params: 660,760\n",
      "Non-trainable params: 791\n",
      "_________________________________________________________________\n"
     ]
    }
   ],
   "source": [
    "model_530.summary()\n"
   ]
  },
  {
   "cell_type": "code",
   "execution_count": 61,
   "metadata": {},
   "outputs": [],
   "source": [
    "test = np.array([[[1, 1], [1, 2], [1, 3]], [[2, 1], [2, 2], [2, 3]], [[3, 1], [3, 2], [3, 3]]])\n"
   ]
  },
  {
   "cell_type": "code",
   "execution_count": 58,
   "metadata": {},
   "outputs": [
    {
     "data": {
      "text/plain": [
       "(3, 3, 2)"
      ]
     },
     "execution_count": 58,
     "metadata": {},
     "output_type": "execute_result"
    }
   ],
   "source": [
    "test.shape\n"
   ]
  }
 ],
 "metadata": {
  "kernelspec": {
   "display_name": ".env",
   "language": "python",
   "name": "python3"
  },
  "language_info": {
   "codemirror_mode": {
    "name": "ipython",
    "version": 3
   },
   "file_extension": ".py",
   "mimetype": "text/x-python",
   "name": "python",
   "nbconvert_exporter": "python",
   "pygments_lexer": "ipython3",
   "version": "3.9.5"
  },
  "orig_nbformat": 4
 },
 "nbformat": 4,
 "nbformat_minor": 2
}
