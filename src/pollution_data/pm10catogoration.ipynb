{
 "cells": [
  {
   "attachments": {},
   "cell_type": "markdown",
   "metadata": {},
   "source": [
    "### Categorize the pm10 values into the categories used by the prediction of the polish environment agency\n"
   ]
  },
  {
   "cell_type": "code",
   "execution_count": 1,
   "metadata": {},
   "outputs": [],
   "source": [
    "import pandas as pd\n",
    "import os\n",
    "\n",
    "def get_filenames_without_extension(folder_path):\n",
    "    filenames = []\n",
    "    for file_name in os.listdir(folder_path):\n",
    "        if os.path.isfile(os.path.join(folder_path, file_name)):\n",
    "            file_name_without_extension = os.path.splitext(file_name)[0]\n",
    "            filenames.append(file_name_without_extension)\n",
    "    return filenames"
   ]
  },
  {
   "cell_type": "code",
   "execution_count": 2,
   "metadata": {},
   "outputs": [],
   "source": [
    "def categorize_pm10(df):\n",
    "    df['kategorie'] = pd.cut(df['pm10'], bins=[0, 20, 50, 80, 110, 150, float('inf')], labels=[0, 1, 2, 3, 4, 5])\n",
    "    return df"
   ]
  },
  {
   "cell_type": "code",
   "execution_count": 3,
   "metadata": {},
   "outputs": [],
   "source": [
    "def check_for_missing_values(df):\n",
    "    missing_values = df[\"kategorie\"].isnull().sum()\n",
    "    if missing_values > 0:\n",
    "        print(f\"Die Spalte kategorie enthält {missing_values} leere Werte.\")\n",
    "    print(\"CLEAN\")"
   ]
  },
  {
   "cell_type": "code",
   "execution_count": 4,
   "metadata": {},
   "outputs": [],
   "source": [
    "files = get_filenames_without_extension(\"../../data/pollution/processed/interpolated/pm10\")"
   ]
  },
  {
   "cell_type": "code",
   "execution_count": 5,
   "metadata": {},
   "outputs": [],
   "source": [
    "if not os.path.exists(\"../../data/pollution/processed/interpolated/kategorisiert\"):\n",
    "    os.makedirs(\"../../data/pollution/processed/interpolated/kategorisiert\")\n",
    "    \n",
    "for fileName in files:\n",
    "    df = pd.read_feather(\"../../data/pollution/processed/interpolated/pm10/\" + fileName + \".feather\")\n",
    "    dfWithCategories = categorize_pm10(df)\n",
    "    df.to_feather(\"../../data/pollution/processed/interpolated/kategorisiert/\" + fileName + \".feather\")\n",
    "    "
   ]
  },
  {
   "cell_type": "code",
   "execution_count": 6,
   "metadata": {},
   "outputs": [
    {
     "name": "stdout",
     "output_type": "stream",
     "text": [
      "CLEAN\n",
      "CLEAN\n",
      "CLEAN\n",
      "CLEAN\n",
      "CLEAN\n",
      "CLEAN\n",
      "CLEAN\n",
      "CLEAN\n",
      "CLEAN\n",
      "CLEAN\n",
      "CLEAN\n",
      "CLEAN\n",
      "CLEAN\n",
      "CLEAN\n",
      "CLEAN\n",
      "CLEAN\n",
      "CLEAN\n",
      "CLEAN\n",
      "CLEAN\n",
      "CLEAN\n",
      "CLEAN\n",
      "CLEAN\n",
      "CLEAN\n",
      "CLEAN\n",
      "CLEAN\n",
      "CLEAN\n",
      "CLEAN\n",
      "CLEAN\n",
      "CLEAN\n",
      "CLEAN\n",
      "CLEAN\n",
      "CLEAN\n",
      "CLEAN\n",
      "CLEAN\n",
      "CLEAN\n",
      "CLEAN\n",
      "CLEAN\n",
      "CLEAN\n",
      "CLEAN\n",
      "CLEAN\n",
      "CLEAN\n",
      "CLEAN\n",
      "CLEAN\n",
      "CLEAN\n",
      "CLEAN\n",
      "CLEAN\n",
      "CLEAN\n",
      "CLEAN\n",
      "CLEAN\n",
      "CLEAN\n",
      "CLEAN\n",
      "CLEAN\n",
      "CLEAN\n",
      "CLEAN\n",
      "CLEAN\n",
      "CLEAN\n",
      "CLEAN\n",
      "CLEAN\n",
      "CLEAN\n",
      "CLEAN\n",
      "CLEAN\n",
      "CLEAN\n",
      "CLEAN\n",
      "CLEAN\n",
      "CLEAN\n",
      "CLEAN\n",
      "CLEAN\n",
      "CLEAN\n",
      "CLEAN\n",
      "CLEAN\n",
      "CLEAN\n",
      "CLEAN\n",
      "CLEAN\n",
      "CLEAN\n",
      "CLEAN\n",
      "CLEAN\n",
      "CLEAN\n",
      "CLEAN\n",
      "CLEAN\n",
      "CLEAN\n",
      "CLEAN\n",
      "CLEAN\n",
      "CLEAN\n",
      "CLEAN\n",
      "CLEAN\n",
      "CLEAN\n",
      "CLEAN\n",
      "CLEAN\n",
      "CLEAN\n",
      "CLEAN\n",
      "CLEAN\n",
      "CLEAN\n",
      "CLEAN\n",
      "CLEAN\n",
      "CLEAN\n",
      "CLEAN\n",
      "CLEAN\n",
      "CLEAN\n",
      "CLEAN\n"
     ]
    }
   ],
   "source": [
    "for fileName in files:\n",
    "    df = pd.read_feather(\"../../data/pollution/processed/interpolated/kategorisiert/\" + fileName + \".feather\")\n",
    "    check_for_missing_values(df)"
   ]
  }
 ],
 "metadata": {
  "kernelspec": {
   "display_name": "Python 3",
   "language": "python",
   "name": "python3"
  },
  "language_info": {
   "codemirror_mode": {
    "name": "ipython",
    "version": 3
   },
   "file_extension": ".py",
   "mimetype": "text/x-python",
   "name": "python",
   "nbconvert_exporter": "python",
   "pygments_lexer": "ipython3",
   "version": "3.9.5"
  },
  "orig_nbformat": 4
 },
 "nbformat": 4,
 "nbformat_minor": 2
}
