{
 "cells": [
  {
   "cell_type": "code",
   "execution_count": null,
   "metadata": {},
   "outputs": [],
   "source": [
    "column_indices = {name: i for i, name in enumerate(df.columns)}\n",
    "\n",
    "n = len(df)\n",
    "train_df = df[0 : int(n * 0.7)]\n",
    "val_df = df[int(n * 0.7) : int(n * 0.9)]\n",
    "test_df = df[int(n * 0.9) :]\n",
    "\n",
    "num_features = df.shape[1]\n"
   ]
  },
  {
   "attachments": {},
   "cell_type": "markdown",
   "metadata": {},
   "source": [
    "Normalization of data\n"
   ]
  },
  {
   "cell_type": "code",
   "execution_count": null,
   "metadata": {},
   "outputs": [],
   "source": []
  },
  {
   "cell_type": "code",
   "execution_count": null,
   "metadata": {},
   "outputs": [],
   "source": []
  },
  {
   "cell_type": "code",
   "execution_count": null,
   "metadata": {},
   "outputs": [],
   "source": [
    "# train_mean = train_df.mean()\n",
    "# train_std = train_df.std()\n",
    "\n",
    "# train_df = (train_df - train_mean) / train_std\n",
    "# val_df = (val_df - train_mean) / train_std\n",
    "# test_df = (test_df - train_mean) / train_std\n"
   ]
  },
  {
   "cell_type": "code",
   "execution_count": null,
   "metadata": {},
   "outputs": [],
   "source": [
    "import sys\n",
    "\n",
    "sys.path.append(\"../\")\n",
    "\n",
    "import os\n",
    "import datetime\n",
    "\n",
    "import IPython\n",
    "import IPython.display\n",
    "import matplotlib as mpl\n",
    "import matplotlib.pyplot as plt\n",
    "import numpy as np\n",
    "import pandas as pd\n",
    "import tensorflow as tf\n",
    "\n",
    "from machine_learning.dataset_gen.station_dataframe_generator import StationDataframeGenerator\n",
    "\n",
    "mpl.rcParams[\"figure.figsize\"] = (8, 6)\n",
    "mpl.rcParams[\"axes.grid\"] = False\n"
   ]
  },
  {
   "attachments": {},
   "cell_type": "markdown",
   "metadata": {},
   "source": [
    "Download example weather data\n"
   ]
  },
  {
   "cell_type": "code",
   "execution_count": null,
   "metadata": {},
   "outputs": [],
   "source": [
    "pm10_data_station_814 = StationDataframeGenerator.generate_station_dataframe(814, range(2019, 2022))\n",
    "# Beispiel DataFrame\n",
    "df = pm10_data_station_814.copy()\n",
    "\n",
    "# Lücken mit bis zu 5 aufeinanderfolgenden NaN-Werten interpolieren\n",
    "max_gap_size = pd.Timedelta(hours=5)\n",
    "\n",
    "# Finde die Indizes der NaN-Werte\n",
    "nan_indices = df[df[\"pm10\"].isnull()].index\n",
    "\n",
    "# Finde die Lücken mit bis zu 5 aufeinanderfolgenden NaN-Werten\n",
    "gap_start_indices = []\n",
    "current_gap_start = None\n",
    "last_index = None\n",
    "\n",
    "for index in nan_indices:\n",
    "    if current_gap_start is None:\n",
    "        current_gap_start = index\n",
    "        last_index = index\n",
    "    elif index - last_index > pd.Timedelta(hours=1):\n",
    "        if last_index - current_gap_start < max_gap_size:\n",
    "            gap_start_indices.append([current_gap_start, last_index])\n",
    "            current_gap_start = index\n",
    "        else:\n",
    "            current_gap_start = index\n",
    "\n",
    "    last_index = index\n",
    "\n",
    "\n",
    "for start_index, end_index in gap_start_indices:\n",
    "    length = end_index - start_index\n",
    "    if length < pd.Timedelta(hours=2):\n",
    "        length = pd.Timedelta(hours=2)\n",
    "    real_start = start_index - length\n",
    "    real_end = end_index + length\n",
    "    df.loc[real_start:real_end, \"pm10\"] = df.loc[real_start:real_end, \"pm10\"].interpolate(method=\"time\")\n",
    "\n",
    "\n",
    "# Interpoliere die Lücken mit bis zu 5 aufeinanderfolgenden NaN-Werten\n",
    "for start_index, end_index in gap_start_indices:\n",
    "    length = end_index - start_index\n",
    "    if length < pd.Timedelta(hours=2):\n",
    "        length = pd.Timedelta(hours=2)\n",
    "    real_start = start_index - length\n",
    "    real_end = end_index + length\n",
    "    df.loc[real_start:real_end, \"pm10\"] = df.loc[real_start:real_end, \"pm10\"].interpolate(method=\"time\")\n",
    "\n",
    "df_dropped = df.dropna()\n",
    "df_dropped\n"
   ]
  },
  {
   "attachments": {},
   "cell_type": "markdown",
   "metadata": {},
   "source": [
    "Feature Engineering\n",
    "\n",
    "- Time to Sinus/Cosinus\n"
   ]
  },
  {
   "cell_type": "code",
   "execution_count": null,
   "metadata": {},
   "outputs": [],
   "source": [
    "df = pd.read_feather(\"../../data/pollution/processed/interpolated/pm10/814.feather\")\n",
    "df.set_index(\"timestamp\")"
   ]
  },
  {
   "cell_type": "code",
   "execution_count": null,
   "metadata": {},
   "outputs": [],
   "source": [
    "df.describe().transpose()\n"
   ]
  },
  {
   "cell_type": "code",
   "execution_count": null,
   "metadata": {},
   "outputs": [],
   "source": [
    "timestamp_s = df_dropped.index.map(pd.Timestamp.timestamp)\n",
    "\n",
    "day = 24 * 60 * 60\n",
    "year = (365.2425) * day\n",
    "\n",
    "df_dropped[\"Day sin\"] = np.sin(timestamp_s * (2 * np.pi / day))\n",
    "df_dropped[\"Day cos\"] = np.cos(timestamp_s * (2 * np.pi / day))\n",
    "df_dropped[\"Year sin\"] = np.sin(timestamp_s * (2 * np.pi / year))\n",
    "df_dropped[\"Year cos\"] = np.cos(timestamp_s * (2 * np.pi / year))\n",
    "df_dropped.reset_index(inplace=True)\n",
    "# df_dropped = df_dropped.drop('time', axis=1)\n",
    "\n",
    "df_dropped\n"
   ]
  },
  {
   "cell_type": "code",
   "execution_count": null,
   "metadata": {},
   "outputs": [],
   "source": [
    "df = df_dropped.copy()\n",
    "df\n"
   ]
  },
  {
   "attachments": {},
   "cell_type": "markdown",
   "metadata": {},
   "source": [
    "- convert wind to vector\n"
   ]
  },
  {
   "cell_type": "code",
   "execution_count": null,
   "metadata": {},
   "outputs": [],
   "source": [
    "# Convert to radians.\n",
    "wd_rad = df.pop(\"winddirection_10m\") * np.pi / 180\n",
    "df[\"winddirection_10m\"] = wd_rad\n",
    "df\n"
   ]
  },
  {
   "attachments": {},
   "cell_type": "markdown",
   "metadata": {},
   "source": [
    "Split data into train, validation and test\n"
   ]
  },
  {
   "cell_type": "code",
   "execution_count": null,
   "metadata": {},
   "outputs": [],
   "source": [
    "# df_std = (df - train_mean) / train_std\n",
    "# df_std = df_std.melt(var_name='Column', value_name='Normalized')\n",
    "# plt.figure(figsize=(12, 6))\n",
    "# ax = sns.violinplot(x='Column', y='Normalized', data=df_std)\n",
    "# _ = ax.set_xticklabels(df.keys(), rotation=90)\n"
   ]
  },
  {
   "attachments": {},
   "cell_type": "markdown",
   "metadata": {},
   "source": [
    "Data windowing\n"
   ]
  },
  {
   "cell_type": "code",
   "execution_count": null,
   "metadata": {},
   "outputs": [],
   "source": [
    "class WindowGenerator:\n",
    "    def __init__(self, input_width, label_width, shift, df, label_columns=None):\n",
    "        # Work out the label column indices.\n",
    "        self.label_columns = label_columns\n",
    "        if label_columns is not None:\n",
    "            self.label_columns_indices = {name: i for i, name in enumerate(label_columns)}\n",
    "        self.column_indices = {name: i for i, name in enumerate(df.columns)}\n",
    "\n",
    "        # Work out the window parameters.\n",
    "        self.input_width = input_width\n",
    "        self.label_width = label_width\n",
    "        self.shift = shift\n",
    "\n",
    "        self.total_window_size = input_width + shift\n",
    "\n",
    "        self.input_slice = slice(0, input_width)\n",
    "        self.input_indices = np.arange(self.total_window_size)[self.input_slice]\n",
    "\n",
    "        self.label_start = self.total_window_size - self.label_width\n",
    "        self.labels_slice = slice(self.label_start, None)\n",
    "        self.label_indices = np.arange(self.total_window_size)[self.labels_slice]\n",
    "\n",
    "    def __repr__(self):\n",
    "        return \"\\n\".join(\n",
    "            [\n",
    "                f\"Total window size: {self.total_window_size}\",\n",
    "                f\"Input indices: {self.input_indices}\",\n",
    "                f\"Label indices: {self.label_indices}\",\n",
    "                f\"Label column name(s): {self.label_columns}\",\n",
    "            ]\n",
    "        )\n"
   ]
  },
  {
   "cell_type": "code",
   "execution_count": null,
   "metadata": {},
   "outputs": [],
   "source": [
    "windowGenerator = WindowGenerator(input_width=24 * 7, label_width=24 * 7, shift=24 * 7, df=pd.DataFrame(windows[1]), label_columns=[\"pm10\"])\n"
   ]
  },
  {
   "cell_type": "code",
   "execution_count": null,
   "metadata": {},
   "outputs": [],
   "source": [
    "def split_window(self, features):\n",
    "    inputs = features[:, self.input_slice, :]\n",
    "    labels = features[:, self.labels_slice, :]\n",
    "    # if self.label_columns is not None:\n",
    "    #     labels = tf.stack([labels[:, :, self.column_indices[name]] for name in self.label_columns], axis=-1)\n",
    "\n",
    "    # Slicing doesn't preserve static shape information, so set the shapes\n",
    "    # manually. This way the `tf.data.Datasets` are easier to inspect.\n",
    "    inputs.set_shape([None, self.input_width, None])\n",
    "    labels.set_shape([None, self.label_width, None])\n",
    "\n",
    "    return inputs, labels\n",
    "\n",
    "\n",
    "WindowGenerator.split_window = split_window\n"
   ]
  },
  {
   "attachments": {},
   "cell_type": "markdown",
   "metadata": {},
   "source": [
    "Define plot function\n"
   ]
  },
  {
   "cell_type": "code",
   "execution_count": null,
   "metadata": {},
   "outputs": [],
   "source": [
    "from plotly.subplots import make_subplots\n",
    "import plotly.graph_objects as go\n",
    "\n",
    "\n",
    "def plot(self: WindowGenerator, model=None, plot_col=\"pm10\", max_subplots=3):\n",
    "    inputs, labels = self.example\n",
    "    fig = make_subplots(rows=3, cols=1, row_heights=[400,400,400])\n",
    "    #plt.figure(figsize=(12, 8))\n",
    "    plot_col_index = self.column_indices[plot_col]\n",
    "    #plot_col_index = 4\n",
    "    max_n = min(max_subplots, len(inputs))\n",
    "    for n in range(max_n):\n",
    "        #plt.subplot(max_n, 1, n + 1)\n",
    "        #plt.ylabel(f\"{plot_col} [normed]\")\n",
    "        fig.add_trace(\n",
    "            go.Scatter(x=self.input_indices, y=inputs[n, :, plot_col_index].numpy(), name=\"Inputs\", marker=dict(color=\"blue\")),\n",
    "            row=n+1, col=1\n",
    "        )\n",
    "        #plt.plot(self.input_indices, inputs[n, :, plot_col_index], label=\"Inputs\", marker=\".\", zorder=-10)\n",
    "\n",
    "        if self.label_columns:\n",
    "            label_col_index = self.column_indices.get(plot_col, None)\n",
    "        else:\n",
    "            label_col_index = plot_col_index\n",
    "\n",
    "        #label_col_index = 4\n",
    "\n",
    "        if label_col_index is None:\n",
    "            continue\n",
    "\n",
    "        #plt.scatter(\n",
    "        #    self.label_indices, labels[n, :, label_col_index], edgecolors=\"k\", label=\"Labels\", c=\"#2ca02c\", s=64\n",
    "        #)\n",
    "        fig.add_trace(\n",
    "            go.Scatter(x=self.label_indices, y=labels[n, :, label_col_index].numpy(), name=\"Labels\", marker=dict(color=\"#2ca02c\"),  mode=\"markers\"),\n",
    "            row=n+1, col=1\n",
    "        )\n",
    "        if model is not None:\n",
    "            predictions = model(inputs)\n",
    "            plt.scatter(\n",
    "                self.label_indices,\n",
    "                predictions[n, :, label_col_index],\n",
    "                marker=\"X\",\n",
    "                edgecolors=\"k\",\n",
    "                label=\"Predictions\",\n",
    "                c=\"#ff7f0e\",\n",
    "                s=64,\n",
    "            )\n",
    "    fig.update_layout(height=1200)\n",
    "    fig.show()\n",
    "    #plt.xlabel(\"Time [h]\")\n",
    "\n",
    "\n",
    "WindowGenerator.plot = plot\n"
   ]
  },
  {
   "attachments": {},
   "cell_type": "markdown",
   "metadata": {},
   "source": [
    "Create Windows\n"
   ]
  },
  {
   "cell_type": "code",
   "execution_count": 18,
   "metadata": {},
   "outputs": [],
   "source": [
    "window_size = 14 * 24  # in hours\n",
    "\n",
    "# find consecutive data (24*14 hours)\n",
    "windows = []\n",
    "\n",
    "for index in range(df[\"pm10\"].size - window_size):\n",
    "    window_begin = df.iloc[index]\n",
    "    window_end = df.iloc[index + window_size]\n",
    "    if window_end[\"timestamp\"] - window_begin[\"timestamp\"] == pd.Timedelta(hours=window_size):\n",
    "        df_copy = df[index : index + (window_size)].copy().drop(\"timestamp\", axis=1)\n",
    "        windows.append(df_copy)\n"
   ]
  },
  {
   "cell_type": "code",
   "execution_count": 21,
   "metadata": {},
   "outputs": [
    {
     "data": {
      "text/html": [
       "<div>\n",
       "<style scoped>\n",
       "    .dataframe tbody tr th:only-of-type {\n",
       "        vertical-align: middle;\n",
       "    }\n",
       "\n",
       "    .dataframe tbody tr th {\n",
       "        vertical-align: top;\n",
       "    }\n",
       "\n",
       "    .dataframe thead th {\n",
       "        text-align: right;\n",
       "    }\n",
       "</style>\n",
       "<table border=\"1\" class=\"dataframe\">\n",
       "  <thead>\n",
       "    <tr style=\"text-align: right;\">\n",
       "      <th></th>\n",
       "      <th>temperature_2m</th>\n",
       "      <th>relativehumidity_2m</th>\n",
       "      <th>windspeed_10m</th>\n",
       "      <th>precipitation</th>\n",
       "      <th>pm10</th>\n",
       "      <th>Day sin</th>\n",
       "      <th>Day cos</th>\n",
       "      <th>Year sin</th>\n",
       "      <th>Year cos</th>\n",
       "      <th>winddirection_10m</th>\n",
       "    </tr>\n",
       "  </thead>\n",
       "  <tbody>\n",
       "    <tr>\n",
       "      <th>1</th>\n",
       "      <td>0.6</td>\n",
       "      <td>82</td>\n",
       "      <td>14.8</td>\n",
       "      <td>0.0</td>\n",
       "      <td>59.5450</td>\n",
       "      <td>5.000000e-01</td>\n",
       "      <td>8.660254e-01</td>\n",
       "      <td>0.003455</td>\n",
       "      <td>0.999994</td>\n",
       "      <td>4.485496</td>\n",
       "    </tr>\n",
       "    <tr>\n",
       "      <th>2</th>\n",
       "      <td>0.3</td>\n",
       "      <td>83</td>\n",
       "      <td>15.6</td>\n",
       "      <td>0.0</td>\n",
       "      <td>55.2941</td>\n",
       "      <td>7.071068e-01</td>\n",
       "      <td>7.071068e-01</td>\n",
       "      <td>0.004172</td>\n",
       "      <td>0.999991</td>\n",
       "      <td>4.380776</td>\n",
       "    </tr>\n",
       "    <tr>\n",
       "      <th>3</th>\n",
       "      <td>0.3</td>\n",
       "      <td>85</td>\n",
       "      <td>15.2</td>\n",
       "      <td>0.0</td>\n",
       "      <td>39.3113</td>\n",
       "      <td>8.660254e-01</td>\n",
       "      <td>5.000000e-01</td>\n",
       "      <td>0.004888</td>\n",
       "      <td>0.999988</td>\n",
       "      <td>4.328417</td>\n",
       "    </tr>\n",
       "    <tr>\n",
       "      <th>4</th>\n",
       "      <td>0.0</td>\n",
       "      <td>87</td>\n",
       "      <td>15.9</td>\n",
       "      <td>0.0</td>\n",
       "      <td>35.3945</td>\n",
       "      <td>9.659258e-01</td>\n",
       "      <td>2.588190e-01</td>\n",
       "      <td>0.005605</td>\n",
       "      <td>0.999984</td>\n",
       "      <td>4.136430</td>\n",
       "    </tr>\n",
       "    <tr>\n",
       "      <th>5</th>\n",
       "      <td>-0.1</td>\n",
       "      <td>86</td>\n",
       "      <td>17.2</td>\n",
       "      <td>0.0</td>\n",
       "      <td>32.4548</td>\n",
       "      <td>1.000000e+00</td>\n",
       "      <td>7.593439e-12</td>\n",
       "      <td>0.006322</td>\n",
       "      <td>0.999980</td>\n",
       "      <td>4.066617</td>\n",
       "    </tr>\n",
       "    <tr>\n",
       "      <th>...</th>\n",
       "      <td>...</td>\n",
       "      <td>...</td>\n",
       "      <td>...</td>\n",
       "      <td>...</td>\n",
       "      <td>...</td>\n",
       "      <td>...</td>\n",
       "      <td>...</td>\n",
       "      <td>...</td>\n",
       "      <td>...</td>\n",
       "      <td>...</td>\n",
       "    </tr>\n",
       "    <tr>\n",
       "      <th>332</th>\n",
       "      <td>-2.8</td>\n",
       "      <td>72</td>\n",
       "      <td>25.8</td>\n",
       "      <td>0.0</td>\n",
       "      <td>22.1061</td>\n",
       "      <td>-7.071068e-01</td>\n",
       "      <td>7.071068e-01</td>\n",
       "      <td>0.238392</td>\n",
       "      <td>0.971169</td>\n",
       "      <td>5.288348</td>\n",
       "    </tr>\n",
       "    <tr>\n",
       "      <th>333</th>\n",
       "      <td>-3.2</td>\n",
       "      <td>72</td>\n",
       "      <td>24.7</td>\n",
       "      <td>0.0</td>\n",
       "      <td>26.7922</td>\n",
       "      <td>-5.000000e-01</td>\n",
       "      <td>8.660254e-01</td>\n",
       "      <td>0.239088</td>\n",
       "      <td>0.970998</td>\n",
       "      <td>5.218534</td>\n",
       "    </tr>\n",
       "    <tr>\n",
       "      <th>334</th>\n",
       "      <td>-3.6</td>\n",
       "      <td>72</td>\n",
       "      <td>23.9</td>\n",
       "      <td>0.0</td>\n",
       "      <td>23.7584</td>\n",
       "      <td>-2.588190e-01</td>\n",
       "      <td>9.659258e-01</td>\n",
       "      <td>0.239784</td>\n",
       "      <td>0.970826</td>\n",
       "      <td>5.113815</td>\n",
       "    </tr>\n",
       "    <tr>\n",
       "      <th>335</th>\n",
       "      <td>-3.9</td>\n",
       "      <td>72</td>\n",
       "      <td>21.7</td>\n",
       "      <td>0.0</td>\n",
       "      <td>21.9070</td>\n",
       "      <td>-3.058215e-12</td>\n",
       "      <td>1.000000e+00</td>\n",
       "      <td>0.240480</td>\n",
       "      <td>0.970654</td>\n",
       "      <td>4.974188</td>\n",
       "    </tr>\n",
       "    <tr>\n",
       "      <th>336</th>\n",
       "      <td>-3.7</td>\n",
       "      <td>70</td>\n",
       "      <td>24.0</td>\n",
       "      <td>0.0</td>\n",
       "      <td>16.5352</td>\n",
       "      <td>2.588190e-01</td>\n",
       "      <td>9.659258e-01</td>\n",
       "      <td>0.241176</td>\n",
       "      <td>0.970482</td>\n",
       "      <td>4.869469</td>\n",
       "    </tr>\n",
       "  </tbody>\n",
       "</table>\n",
       "<p>336 rows × 10 columns</p>\n",
       "</div>"
      ],
      "text/plain": [
       "     temperature_2m  relativehumidity_2m  windspeed_10m  precipitation  \\\n",
       "1               0.6                   82           14.8            0.0   \n",
       "2               0.3                   83           15.6            0.0   \n",
       "3               0.3                   85           15.2            0.0   \n",
       "4               0.0                   87           15.9            0.0   \n",
       "5              -0.1                   86           17.2            0.0   \n",
       "..              ...                  ...            ...            ...   \n",
       "332            -2.8                   72           25.8            0.0   \n",
       "333            -3.2                   72           24.7            0.0   \n",
       "334            -3.6                   72           23.9            0.0   \n",
       "335            -3.9                   72           21.7            0.0   \n",
       "336            -3.7                   70           24.0            0.0   \n",
       "\n",
       "        pm10       Day sin       Day cos  Year sin  Year cos  \\\n",
       "1    59.5450  5.000000e-01  8.660254e-01  0.003455  0.999994   \n",
       "2    55.2941  7.071068e-01  7.071068e-01  0.004172  0.999991   \n",
       "3    39.3113  8.660254e-01  5.000000e-01  0.004888  0.999988   \n",
       "4    35.3945  9.659258e-01  2.588190e-01  0.005605  0.999984   \n",
       "5    32.4548  1.000000e+00  7.593439e-12  0.006322  0.999980   \n",
       "..       ...           ...           ...       ...       ...   \n",
       "332  22.1061 -7.071068e-01  7.071068e-01  0.238392  0.971169   \n",
       "333  26.7922 -5.000000e-01  8.660254e-01  0.239088  0.970998   \n",
       "334  23.7584 -2.588190e-01  9.659258e-01  0.239784  0.970826   \n",
       "335  21.9070 -3.058215e-12  1.000000e+00  0.240480  0.970654   \n",
       "336  16.5352  2.588190e-01  9.659258e-01  0.241176  0.970482   \n",
       "\n",
       "     winddirection_10m  \n",
       "1             4.485496  \n",
       "2             4.380776  \n",
       "3             4.328417  \n",
       "4             4.136430  \n",
       "5             4.066617  \n",
       "..                 ...  \n",
       "332           5.288348  \n",
       "333           5.218534  \n",
       "334           5.113815  \n",
       "335           4.974188  \n",
       "336           4.869469  \n",
       "\n",
       "[336 rows x 10 columns]"
      ]
     },
     "execution_count": 21,
     "metadata": {},
     "output_type": "execute_result"
    }
   ],
   "source": [
    "pd.DataFrame(windows[1])\n",
    "# len(windows)\n",
    "# w1.split_window(df)\n"
   ]
  },
  {
   "cell_type": "code",
   "execution_count": 19,
   "metadata": {},
   "outputs": [
    {
     "name": "stdout",
     "output_type": "stream",
     "text": [
      "Metal device set to: Apple M1\n",
      "\n",
      "systemMemory: 8.00 GB\n",
      "maxCacheSize: 2.67 GB\n",
      "\n"
     ]
    },
    {
     "name": "stderr",
     "output_type": "stream",
     "text": [
      "2023-05-30 12:37:52.803908: I tensorflow/core/common_runtime/pluggable_device/pluggable_device_factory.cc:306] Could not identify NUMA node of platform GPU ID 0, defaulting to 0. Your kernel may not have been built with NUMA support.\n",
      "2023-05-30 12:37:52.804997: I tensorflow/core/common_runtime/pluggable_device/pluggable_device_factory.cc:272] Created TensorFlow device (/job:localhost/replica:0/task:0/device:GPU:0 with 0 MB memory) -> physical PluggableDevice (device: 0, name: METAL, pci bus id: <undefined>)\n"
     ]
    }
   ],
   "source": [
    "window_stack = tf.stack(windows)\n",
    "\n",
    "windows_shuffled = tf.random.shuffle(window_stack, seed=42)\n"
   ]
  },
  {
   "cell_type": "code",
   "execution_count": 23,
   "metadata": {},
   "outputs": [
    {
     "data": {
      "text/plain": [
       "TensorShape([24661, 336, 10])"
      ]
     },
     "execution_count": 23,
     "metadata": {},
     "output_type": "execute_result"
    }
   ],
   "source": [
    "type(windows_shuffled)\n",
    "stack = tf.stack(windows_shuffled)\n",
    "\n",
    "stack.shape\n"
   ]
  },
  {
   "cell_type": "code",
   "execution_count": 24,
   "metadata": {},
   "outputs": [
    {
     "data": {
      "text/plain": [
       "tensorflow.python.framework.ops.EagerTensor"
      ]
     },
     "execution_count": 24,
     "metadata": {},
     "output_type": "execute_result"
    }
   ],
   "source": [
    "type(windows_shuffled)\n"
   ]
  },
  {
   "attachments": {},
   "cell_type": "markdown",
   "metadata": {},
   "source": [
    "Split windows into train, validation and test\n"
   ]
  },
  {
   "cell_type": "code",
   "execution_count": 20,
   "metadata": {},
   "outputs": [],
   "source": [
    "windows_train = windows_shuffled[: int(len(windows_shuffled) * 0.7)]\n",
    "windows_val = windows_shuffled[int(len(windows_shuffled) * 0.7) : int(len(windows_shuffled) * 0.9)]\n",
    "widows_test = windows_shuffled[int(len(windows_shuffled) * 0.9) : int(len(windows_shuffled))]\n"
   ]
  },
  {
   "cell_type": "code",
   "execution_count": 72,
   "metadata": {},
   "outputs": [],
   "source": [
    "data = np.array(widows_test, dtype=np.float32)"
   ]
  },
  {
   "cell_type": "code",
   "execution_count": 74,
   "metadata": {},
   "outputs": [
    {
     "data": {
      "text/plain": [
       "(2467, 336, 10)"
      ]
     },
     "execution_count": 74,
     "metadata": {},
     "output_type": "execute_result"
    }
   ],
   "source": [
    "data.shape"
   ]
  },
  {
   "cell_type": "code",
   "execution_count": 32,
   "metadata": {},
   "outputs": [
    {
     "data": {
      "text/plain": [
       "TensorShape([336, 10])"
      ]
     },
     "execution_count": 32,
     "metadata": {},
     "output_type": "execute_result"
    }
   ],
   "source": [
    "windows_train[0].shape\n"
   ]
  },
  {
   "cell_type": "code",
   "execution_count": 65,
   "metadata": {},
   "outputs": [
    {
     "data": {
      "text/plain": [
       "{'pm10': 0}"
      ]
     },
     "execution_count": 65,
     "metadata": {},
     "output_type": "execute_result"
    }
   ],
   "source": [
    "windowGenerator.label_columns_indices"
   ]
  },
  {
   "cell_type": "code",
   "execution_count": 26,
   "metadata": {},
   "outputs": [
    {
     "ename": "ValueError",
     "evalue": "Tensor's shape (17262, 0, 10) is not compatible with supplied shape [None, 1, None].",
     "output_type": "error",
     "traceback": [
      "\u001b[0;31m---------------------------------------------------------------------------\u001b[0m",
      "\u001b[0;31mValueError\u001b[0m                                Traceback (most recent call last)",
      "\u001b[1;32m/Users/tobias/Documents/Studium/Master/Data Mining/feinstaubprojekt-polen/src/model/tensorflowTesting.ipynb Cell 31\u001b[0m in \u001b[0;36m1\n\u001b[0;32m----> <a href='vscode-notebook-cell:/Users/tobias/Documents/Studium/Master/Data%20Mining/feinstaubprojekt-polen/src/model/tensorflowTesting.ipynb#X40sZmlsZQ%3D%3D?line=0'>1</a>\u001b[0m windowGenerator\u001b[39m.\u001b[39;49msplit_window(windows_train)\n",
      "\u001b[1;32m/Users/tobias/Documents/Studium/Master/Data Mining/feinstaubprojekt-polen/src/model/tensorflowTesting.ipynb Cell 31\u001b[0m in \u001b[0;36m1\n\u001b[1;32m      <a href='vscode-notebook-cell:/Users/tobias/Documents/Studium/Master/Data%20Mining/feinstaubprojekt-polen/src/model/tensorflowTesting.ipynb#X40sZmlsZQ%3D%3D?line=3'>4</a>\u001b[0m \u001b[39m# if self.label_columns is not None:\u001b[39;00m\n\u001b[1;32m      <a href='vscode-notebook-cell:/Users/tobias/Documents/Studium/Master/Data%20Mining/feinstaubprojekt-polen/src/model/tensorflowTesting.ipynb#X40sZmlsZQ%3D%3D?line=4'>5</a>\u001b[0m \u001b[39m#     labels = tf.stack([labels[:, :, self.column_indices[name]] for name in self.label_columns], axis=-1)\u001b[39;00m\n\u001b[1;32m      <a href='vscode-notebook-cell:/Users/tobias/Documents/Studium/Master/Data%20Mining/feinstaubprojekt-polen/src/model/tensorflowTesting.ipynb#X40sZmlsZQ%3D%3D?line=5'>6</a>\u001b[0m \n\u001b[1;32m      <a href='vscode-notebook-cell:/Users/tobias/Documents/Studium/Master/Data%20Mining/feinstaubprojekt-polen/src/model/tensorflowTesting.ipynb#X40sZmlsZQ%3D%3D?line=6'>7</a>\u001b[0m \u001b[39m# Slicing doesn't preserve static shape information, so set the shapes\u001b[39;00m\n\u001b[1;32m      <a href='vscode-notebook-cell:/Users/tobias/Documents/Studium/Master/Data%20Mining/feinstaubprojekt-polen/src/model/tensorflowTesting.ipynb#X40sZmlsZQ%3D%3D?line=7'>8</a>\u001b[0m \u001b[39m# manually. This way the `tf.data.Datasets` are easier to inspect.\u001b[39;00m\n\u001b[1;32m      <a href='vscode-notebook-cell:/Users/tobias/Documents/Studium/Master/Data%20Mining/feinstaubprojekt-polen/src/model/tensorflowTesting.ipynb#X40sZmlsZQ%3D%3D?line=8'>9</a>\u001b[0m inputs\u001b[39m.\u001b[39mset_shape([\u001b[39mNone\u001b[39;00m, \u001b[39mself\u001b[39m\u001b[39m.\u001b[39minput_width, \u001b[39mNone\u001b[39;00m])\n\u001b[0;32m---> <a href='vscode-notebook-cell:/Users/tobias/Documents/Studium/Master/Data%20Mining/feinstaubprojekt-polen/src/model/tensorflowTesting.ipynb#X40sZmlsZQ%3D%3D?line=9'>10</a>\u001b[0m labels\u001b[39m.\u001b[39;49mset_shape([\u001b[39mNone\u001b[39;49;00m, \u001b[39mself\u001b[39;49m\u001b[39m.\u001b[39;49mlabel_width, \u001b[39mNone\u001b[39;49;00m])\n\u001b[1;32m     <a href='vscode-notebook-cell:/Users/tobias/Documents/Studium/Master/Data%20Mining/feinstaubprojekt-polen/src/model/tensorflowTesting.ipynb#X40sZmlsZQ%3D%3D?line=11'>12</a>\u001b[0m \u001b[39mreturn\u001b[39;00m inputs, labels\n",
      "File \u001b[0;32m~/miniconda/lib/python3.9/site-packages/tensorflow/python/framework/ops.py:1301\u001b[0m, in \u001b[0;36m_EagerTensorBase.set_shape\u001b[0;34m(self, shape)\u001b[0m\n\u001b[1;32m   1299\u001b[0m \u001b[39mdef\u001b[39;00m \u001b[39mset_shape\u001b[39m(\u001b[39mself\u001b[39m, shape):\n\u001b[1;32m   1300\u001b[0m   \u001b[39mif\u001b[39;00m \u001b[39mnot\u001b[39;00m \u001b[39mself\u001b[39m\u001b[39m.\u001b[39mshape\u001b[39m.\u001b[39mis_compatible_with(shape):\n\u001b[0;32m-> 1301\u001b[0m     \u001b[39mraise\u001b[39;00m \u001b[39mValueError\u001b[39;00m(\u001b[39mf\u001b[39m\u001b[39m\"\u001b[39m\u001b[39mTensor\u001b[39m\u001b[39m'\u001b[39m\u001b[39ms shape \u001b[39m\u001b[39m{\u001b[39;00m\u001b[39mself\u001b[39m\u001b[39m.\u001b[39mshape\u001b[39m}\u001b[39;00m\u001b[39m is not compatible \u001b[39m\u001b[39m\"\u001b[39m\n\u001b[1;32m   1302\u001b[0m                      \u001b[39mf\u001b[39m\u001b[39m\"\u001b[39m\u001b[39mwith supplied shape \u001b[39m\u001b[39m{\u001b[39;00mshape\u001b[39m}\u001b[39;00m\u001b[39m.\u001b[39m\u001b[39m\"\u001b[39m)\n",
      "\u001b[0;31mValueError\u001b[0m: Tensor's shape (17262, 0, 10) is not compatible with supplied shape [None, 1, None]."
     ]
    }
   ],
   "source": [
    "windowGenerator.split_window(windows_train)\n"
   ]
  },
  {
   "cell_type": "code",
   "execution_count": 48,
   "metadata": {},
   "outputs": [
    {
     "data": {
      "text/plain": [
       "TensorShape([17262, 168, 10])"
      ]
     },
     "execution_count": 48,
     "metadata": {},
     "output_type": "execute_result"
    }
   ],
   "source": [
    "windows_train[:, :168, :].shape\n"
   ]
  },
  {
   "cell_type": "code",
   "execution_count": 28,
   "metadata": {},
   "outputs": [
    {
     "data": {
      "text/plain": [
       "array([22.0742 , 20.804  , 15.4557 , 15.5559 , 14.777  , 17.9649 ,\n",
       "       24.1646 , 25.3648 , 26.4219 , 24.1962 , 20.7458 , 15.7968 ,\n",
       "       11.9078 , 12.2286 , 15.2906 , 15.0409 , 12.2815 , 12.9051 ,\n",
       "       18.1371 , 21.4819 , 32.395  , 31.6812 , 27.6536 , 26.6803 ,\n",
       "       24.273  , 25.9561 , 30.9413 , 29.2395 , 27.1053 , 26.7161 ,\n",
       "       27.1632 , 31.5473 , 34.1147 , 34.8991 , 34.6654 , 36.1592 ,\n",
       "       39.5747 , 36.0774 , 35.9749 , 39.1947 , 42.2104 , 49.467  ,\n",
       "       52.0407 , 46.711  , 44.0832 , 28.5537 , 19.3784 , 18.9884 ,\n",
       "       15.4813 , 11.2417 ,  9.39835,  8.98347, 14.4874 , 18.651  ,\n",
       "       21.261  , 18.3737 , 18.4427 , 17.7367 , 18.21   , 20.4558 ,\n",
       "       23.042  , 20.2191 , 18.334  , 16.8455 , 15.9349 , 16.4163 ,\n",
       "       16.2365 , 16.6897 , 17.5128 , 21.9781 , 29.801  , 29.332  ,\n",
       "       23.9799 , 22.8958 , 20.5399 , 16.8016 , 19.4504 , 24.014  ,\n",
       "       29.3041 , 31.2251 , 31.8042 , 30.9156 , 28.9869 , 25.7359 ,\n",
       "       24.6705 , 21.5431 , 20.1255 , 21.5482 , 22.9127 , 21.5706 ,\n",
       "       18.1759 , 19.9774 , 19.0119 , 19.2615 , 20.6863 , 19.0022 ,\n",
       "       19.79   , 20.1645 , 22.0313 , 20.63   , 19.8654 , 21.8183 ,\n",
       "       25.835  , 28.6363 , 30.8827 , 30.9204 , 27.3427 , 24.8345 ,\n",
       "       24.8058 , 24.5853 , 24.5724 , 25.5159 , 27.2368 , 28.4012 ,\n",
       "       27.8185 , 30.212  , 29.7179 , 28.4441 , 30.1272 , 29.1435 ,\n",
       "       29.0773 , 28.3717 , 30.0749 , 30.821  , 32.1879 , 35.9408 ,\n",
       "       41.1411 , 39.5487 , 39.9409 , 42.8115 , 39.1844 , 38.2928 ,\n",
       "       36.4835 , 34.4216 , 31.9153 , 27.8825 , 27.8283 , 31.5097 ,\n",
       "       31.9189 , 34.0754 , 34.2518 , 36.2628 , 38.4061 , 35.7425 ,\n",
       "       32.2593 , 30.7007 , 30.3421 , 26.17   , 28.982  , 33.3217 ,\n",
       "       34.5463 , 38.0701 , 41.678  , 47.3778 , 76.4504 , 83.6815 ,\n",
       "       81.7679 , 67.0189 , 58.4643 , 44.7252 , 36.1208 , 31.1813 ,\n",
       "       33.1404 , 38.9542 , 37.7048 , 27.578  , 26.5296 , 29.3674 ])"
      ]
     },
     "execution_count": 28,
     "metadata": {},
     "output_type": "execute_result"
    }
   ],
   "source": [
    "windowGenerator.example[0][0, :, 4].numpy()"
   ]
  },
  {
   "cell_type": "code",
   "execution_count": 67,
   "metadata": {},
   "outputs": [
    {
     "data": {
      "application/vnd.plotly.v1+json": {
       "config": {
        "plotlyServerURL": "https://plot.ly"
       },
       "data": [
        {
         "marker": {
          "color": "blue"
         },
         "name": "Inputs",
         "type": "scatter",
         "x": [
          0,
          1,
          2,
          3,
          4,
          5,
          6,
          7,
          8,
          9,
          10,
          11,
          12,
          13,
          14,
          15,
          16,
          17,
          18,
          19,
          20,
          21,
          22,
          23,
          24,
          25,
          26,
          27,
          28,
          29,
          30,
          31,
          32,
          33,
          34,
          35,
          36,
          37,
          38,
          39,
          40,
          41,
          42,
          43,
          44,
          45,
          46,
          47,
          48,
          49,
          50,
          51,
          52,
          53,
          54,
          55,
          56,
          57,
          58,
          59,
          60,
          61,
          62,
          63,
          64,
          65,
          66,
          67,
          68,
          69,
          70,
          71,
          72,
          73,
          74,
          75,
          76,
          77,
          78,
          79,
          80,
          81,
          82,
          83,
          84,
          85,
          86,
          87,
          88,
          89,
          90,
          91,
          92,
          93,
          94,
          95,
          96,
          97,
          98,
          99,
          100,
          101,
          102,
          103,
          104,
          105,
          106,
          107,
          108,
          109,
          110,
          111,
          112,
          113,
          114,
          115,
          116,
          117,
          118,
          119,
          120,
          121,
          122,
          123,
          124,
          125,
          126,
          127,
          128,
          129,
          130,
          131,
          132,
          133,
          134,
          135,
          136,
          137,
          138,
          139,
          140,
          141,
          142,
          143,
          144,
          145,
          146,
          147,
          148,
          149,
          150,
          151,
          152,
          153,
          154,
          155,
          156,
          157,
          158,
          159,
          160,
          161,
          162,
          163,
          164,
          165,
          166,
          167
         ],
         "xaxis": "x",
         "y": [
          22.0742,
          20.804,
          15.4557,
          15.5559,
          14.777,
          17.9649,
          24.1646,
          25.3648,
          26.4219,
          24.1962,
          20.7458,
          15.7968,
          11.9078,
          12.2286,
          15.2906,
          15.0409,
          12.2815,
          12.9051,
          18.1371,
          21.4819,
          32.395,
          31.6812,
          27.6536,
          26.6803,
          24.273,
          25.9561,
          30.9413,
          29.2395,
          27.1053,
          26.7161,
          27.1632,
          31.5473,
          34.1147,
          34.8991,
          34.6654,
          36.1592,
          39.5747,
          36.0774,
          35.9749,
          39.1947,
          42.2104,
          49.467,
          52.0407,
          46.711,
          44.0832,
          28.5537,
          19.3784,
          18.9884,
          15.4813,
          11.2417,
          9.39835,
          8.98347,
          14.4874,
          18.651,
          21.261,
          18.3737,
          18.4427,
          17.7367,
          18.21,
          20.4558,
          23.042,
          20.2191,
          18.334,
          16.8455,
          15.9349,
          16.4163,
          16.2365,
          16.6897,
          17.5128,
          21.9781,
          29.801,
          29.332,
          23.9799,
          22.8958,
          20.5399,
          16.8016,
          19.4504,
          24.014,
          29.3041,
          31.2251,
          31.8042,
          30.9156,
          28.9869,
          25.7359,
          24.6705,
          21.5431,
          20.1255,
          21.5482,
          22.9127,
          21.5706,
          18.1759,
          19.9774,
          19.0119,
          19.2615,
          20.6863,
          19.0022,
          19.79,
          20.1645,
          22.0313,
          20.63,
          19.8654,
          21.8183,
          25.835,
          28.6363,
          30.8827,
          30.9204,
          27.3427,
          24.8345,
          24.8058,
          24.5853,
          24.5724,
          25.5159,
          27.2368,
          28.4012,
          27.8185,
          30.212,
          29.7179,
          28.4441,
          30.1272,
          29.1435,
          29.0773,
          28.3717,
          30.0749,
          30.821,
          32.1879,
          35.9408,
          41.1411,
          39.5487,
          39.9409,
          42.8115,
          39.1844,
          38.2928,
          36.4835,
          34.4216,
          31.9153,
          27.8825,
          27.8283,
          31.5097,
          31.9189,
          34.0754,
          34.2518,
          36.2628,
          38.4061,
          35.7425,
          32.2593,
          30.7007,
          30.3421,
          26.17,
          28.982,
          33.3217,
          34.5463,
          38.0701,
          41.678,
          47.3778,
          76.4504,
          83.6815,
          81.7679,
          67.0189,
          58.4643,
          44.7252,
          36.1208,
          31.1813,
          33.1404,
          38.9542,
          37.7048,
          27.578,
          26.5296,
          29.3674
         ],
         "yaxis": "y"
        },
        {
         "marker": {
          "color": "#2ca02c"
         },
         "mode": "markers",
         "name": "Labels",
         "type": "scatter",
         "x": [
          168,
          169,
          170,
          171,
          172,
          173,
          174,
          175,
          176,
          177,
          178,
          179,
          180,
          181,
          182,
          183,
          184,
          185,
          186,
          187,
          188,
          189,
          190,
          191,
          192,
          193,
          194,
          195,
          196,
          197,
          198,
          199,
          200,
          201,
          202,
          203,
          204,
          205,
          206,
          207,
          208,
          209,
          210,
          211,
          212,
          213,
          214,
          215,
          216,
          217,
          218,
          219,
          220,
          221,
          222,
          223,
          224,
          225,
          226,
          227,
          228,
          229,
          230,
          231,
          232,
          233,
          234,
          235,
          236,
          237,
          238,
          239,
          240,
          241,
          242,
          243,
          244,
          245,
          246,
          247,
          248,
          249,
          250,
          251,
          252,
          253,
          254,
          255,
          256,
          257,
          258,
          259,
          260,
          261,
          262,
          263,
          264,
          265,
          266,
          267,
          268,
          269,
          270,
          271,
          272,
          273,
          274,
          275,
          276,
          277,
          278,
          279,
          280,
          281,
          282,
          283,
          284,
          285,
          286,
          287,
          288,
          289,
          290,
          291,
          292,
          293,
          294,
          295,
          296,
          297,
          298,
          299,
          300,
          301,
          302,
          303,
          304,
          305,
          306,
          307,
          308,
          309,
          310,
          311,
          312,
          313,
          314,
          315,
          316,
          317,
          318,
          319,
          320,
          321,
          322,
          323,
          324,
          325,
          326,
          327,
          328,
          329,
          330,
          331,
          332,
          333,
          334,
          335
         ],
         "xaxis": "x",
         "y": [
          30.9131,
          26.5476,
          32.6512,
          33.7517,
          35.1371,
          40.3701,
          33.5648,
          32.5565,
          32.86,
          32.4247,
          31.9925,
          31.1844,
          33.2179,
          34.6121,
          36.0823,
          30.8137,
          28.5737,
          26.6448,
          25.1609,
          23.1358,
          23.5195,
          27.3854,
          28.2297,
          18.8848,
          13.245,
          11.1713,
          14.558,
          18.7993,
          18.096,
          14.071,
          15.3151,
          22.3655,
          22.7862,
          23.6942,
          21.6301,
          18.1379,
          20.098,
          22.337,
          18.9803,
          19.4973,
          23.09,
          23.3784,
          24.2976,
          27.8561,
          32.7422,
          28.3452,
          30.3151,
          25.1934,
          19.9189,
          21.5987,
          26.2691,
          35.9288,
          39.6517,
          41.1252,
          44.7308,
          52.2217,
          56.5198,
          51.8537,
          41.6566,
          41.5426,
          39.8473,
          42.3195,
          38.629,
          30.4705,
          24.3604,
          22.6279,
          22.259,
          23.775,
          20.7543,
          30.4783,
          43.8915,
          48.2091,
          40.4894,
          36.7805,
          31.116,
          28.2894,
          26.4692,
          24.9139,
          25.2518,
          28.4108,
          30.1962,
          24.256,
          23.4708,
          24.806,
          23.27,
          21.8191,
          22.6076,
          22.0588,
          20.6112,
          21.2457,
          19.6244,
          21.3996,
          17.8168,
          14.1487,
          14.3156,
          12.9997,
          13.719,
          10.7976,
          10.3998,
          10.9908,
          14.4287,
          15.9356,
          13.2058,
          18.8453,
          30.1813,
          27.5815,
          29.6364,
          30.7844,
          24.1943,
          30.677,
          35.3868,
          33.8316,
          26.3332,
          23.7505,
          24.9702,
          21.8422,
          21.0561,
          21.2173,
          19.4432,
          19.9124,
          15.7059,
          12.4323,
          9.77862,
          12.653,
          15.0177,
          14.9576,
          14.6124,
          13.862,
          17.6623,
          17.7014,
          13.3193,
          13.623,
          9.57228,
          6.25478,
          4.6355,
          3.63402,
          4.82844,
          7.12472,
          9.93063,
          13.7,
          18.1791,
          17.4916,
          11.5217,
          9.41175,
          9.63001,
          11.1621,
          9.94501,
          12.3718,
          15.8083,
          18.9401,
          35.4986,
          28.335,
          36.0562,
          44.397,
          62.7672,
          83.0229,
          76.0099,
          45.0574,
          33.1918,
          25.5707,
          21.5696,
          20.4705,
          21.3679,
          22.3774,
          22.9321,
          23.0269,
          28.7791,
          30.9326
         ],
         "yaxis": "y"
        },
        {
         "marker": {
          "color": "blue"
         },
         "name": "Inputs",
         "type": "scatter",
         "x": [
          0,
          1,
          2,
          3,
          4,
          5,
          6,
          7,
          8,
          9,
          10,
          11,
          12,
          13,
          14,
          15,
          16,
          17,
          18,
          19,
          20,
          21,
          22,
          23,
          24,
          25,
          26,
          27,
          28,
          29,
          30,
          31,
          32,
          33,
          34,
          35,
          36,
          37,
          38,
          39,
          40,
          41,
          42,
          43,
          44,
          45,
          46,
          47,
          48,
          49,
          50,
          51,
          52,
          53,
          54,
          55,
          56,
          57,
          58,
          59,
          60,
          61,
          62,
          63,
          64,
          65,
          66,
          67,
          68,
          69,
          70,
          71,
          72,
          73,
          74,
          75,
          76,
          77,
          78,
          79,
          80,
          81,
          82,
          83,
          84,
          85,
          86,
          87,
          88,
          89,
          90,
          91,
          92,
          93,
          94,
          95,
          96,
          97,
          98,
          99,
          100,
          101,
          102,
          103,
          104,
          105,
          106,
          107,
          108,
          109,
          110,
          111,
          112,
          113,
          114,
          115,
          116,
          117,
          118,
          119,
          120,
          121,
          122,
          123,
          124,
          125,
          126,
          127,
          128,
          129,
          130,
          131,
          132,
          133,
          134,
          135,
          136,
          137,
          138,
          139,
          140,
          141,
          142,
          143,
          144,
          145,
          146,
          147,
          148,
          149,
          150,
          151,
          152,
          153,
          154,
          155,
          156,
          157,
          158,
          159,
          160,
          161,
          162,
          163,
          164,
          165,
          166,
          167
         ],
         "xaxis": "x2",
         "y": [
          18.9157,
          22.8844,
          25.2822,
          15.8667,
          15.3912,
          12.6951,
          9.08311,
          9.19956,
          8.41708,
          10.2719,
          11.6169,
          13.348,
          12.9672,
          12.8508,
          11.8586,
          8.64022,
          8.97226,
          8.48188,
          7.43679,
          8.39199,
          8.38882,
          7.90428,
          10.5409,
          19.9952,
          24.0674,
          33.6062,
          40.687,
          56.9746,
          63.7909,
          68.856,
          53.754,
          54.2657,
          50.4753,
          49.5698,
          40.485,
          32.7202,
          24.7271,
          15.9474,
          12.7896,
          12.0016,
          9.22538,
          8.08309,
          12.442,
          11.1217,
          9.03317,
          9.9757,
          13.6196,
          18.8415,
          22.4135,
          23.8652,
          30.1562,
          33.7921,
          39.4597,
          48.152,
          55.0331,
          48.9019,
          52.6042,
          46.5249,
          46.274,
          35.4202,
          21.9299,
          19.4999,
          17.0804,
          20.6456,
          16.8148,
          20.0117,
          17.3585,
          19.23,
          21.2858,
          19.5168,
          21.0566,
          24.0284,
          29.7798,
          34.5412,
          31.8537,
          32.9321,
          37.3474,
          35.607,
          38.2618,
          35.953,
          31.6471,
          37.8846,
          55.5948,
          62.9823,
          50.3308,
          43.8946,
          40.1638,
          44.7205,
          42.1195,
          35.7325,
          27.0373,
          26.3912,
          27.9131,
          28.3594,
          39.8931,
          75.108,
          100.757,
          98.796,
          100.248,
          100.813,
          88.2764,
          77.3712,
          89.1323,
          109.328,
          133.135,
          135.451,
          122.471,
          128.375,
          89.1428,
          71.833,
          65.0487,
          46.0667,
          42.3138,
          43.5409,
          42.3399,
          27.3503,
          26.6131,
          34.5266,
          39.3993,
          43.8888,
          52.5504,
          62.5073,
          75.9446,
          77.2804,
          71.448,
          69.3817,
          69.1598,
          74.8637,
          71.5703,
          71.9689,
          76.5948,
          92.8341,
          80.6772,
          54.3146,
          44.5697,
          38.5262,
          32.1131,
          34.3022,
          34.3537,
          35.3787,
          32.0943,
          28.1871,
          31.5414,
          36.3132,
          43.7051,
          52.3407,
          46.8942,
          47.3064,
          53.0261,
          55.0353,
          59.419,
          58.8198,
          63.1087,
          61.2666,
          62.6261,
          67.9329,
          81.6958,
          94.2671,
          104.657,
          93.3875,
          53.2064,
          37.8255,
          33.2421,
          36.7052,
          42.9102,
          46.6728,
          53.5823,
          52.6576
         ],
         "yaxis": "y2"
        },
        {
         "marker": {
          "color": "#2ca02c"
         },
         "mode": "markers",
         "name": "Labels",
         "type": "scatter",
         "x": [
          168,
          169,
          170,
          171,
          172,
          173,
          174,
          175,
          176,
          177,
          178,
          179,
          180,
          181,
          182,
          183,
          184,
          185,
          186,
          187,
          188,
          189,
          190,
          191,
          192,
          193,
          194,
          195,
          196,
          197,
          198,
          199,
          200,
          201,
          202,
          203,
          204,
          205,
          206,
          207,
          208,
          209,
          210,
          211,
          212,
          213,
          214,
          215,
          216,
          217,
          218,
          219,
          220,
          221,
          222,
          223,
          224,
          225,
          226,
          227,
          228,
          229,
          230,
          231,
          232,
          233,
          234,
          235,
          236,
          237,
          238,
          239,
          240,
          241,
          242,
          243,
          244,
          245,
          246,
          247,
          248,
          249,
          250,
          251,
          252,
          253,
          254,
          255,
          256,
          257,
          258,
          259,
          260,
          261,
          262,
          263,
          264,
          265,
          266,
          267,
          268,
          269,
          270,
          271,
          272,
          273,
          274,
          275,
          276,
          277,
          278,
          279,
          280,
          281,
          282,
          283,
          284,
          285,
          286,
          287,
          288,
          289,
          290,
          291,
          292,
          293,
          294,
          295,
          296,
          297,
          298,
          299,
          300,
          301,
          302,
          303,
          304,
          305,
          306,
          307,
          308,
          309,
          310,
          311,
          312,
          313,
          314,
          315,
          316,
          317,
          318,
          319,
          320,
          321,
          322,
          323,
          324,
          325,
          326,
          327,
          328,
          329,
          330,
          331,
          332,
          333,
          334,
          335
         ],
         "xaxis": "x2",
         "y": [
          53.7672,
          53.4739,
          44.2462,
          41.071,
          31.3216,
          23.2301,
          13.4997,
          10.3894,
          13.4072,
          16.7695,
          17.1079,
          17.0317,
          17.6197,
          19.6802,
          26.762,
          25.8153,
          22.1327,
          17.2763,
          17.0353,
          17.1727,
          16.5922,
          14.2426,
          13.3709,
          18.5211,
          23.7151,
          20.3431,
          20.9504,
          18.7642,
          11.4147,
          12.5193,
          18.5435,
          21.507,
          18.515,
          18.5108,
          18.2061,
          17.3776,
          19.0049,
          20.1363,
          17.0536,
          17.0497,
          30.4006,
          53.4688,
          13.2459,
          14.1868,
          11.9916,
          11.6335,
          16.2513,
          46.1025,
          23.2676,
          28.0672,
          30.8994,
          34.4935,
          27.8665,
          30.1811,
          26.152,
          25.1045,
          22.5412,
          20.5365,
          23.4298,
          25.3544,
          28.0645,
          27.5242,
          25.9973,
          20.563,
          18.1167,
          24.1402,
          25.3909,
          24.6267,
          24.4647,
          26.0087,
          34.3522,
          48.4697,
          75.1278,
          81.297,
          77.2572,
          64.6218,
          55.3685,
          47.8872,
          35.1166,
          32.3022,
          35.2956,
          38.5072,
          41.1526,
          45.8691,
          47.4258,
          37.152,
          28.9216,
          26.8475,
          28.1969,
          27.3011,
          24.236,
          22.8047,
          26.416,
          29.6856,
          30.6551,
          38.7109,
          55.3792,
          39.7191,
          37.3947,
          39.3189,
          34.6046,
          33.7332,
          36.4711,
          33.3548,
          31.4629,
          31.3565,
          33.2077,
          35.7819,
          44.0257,
          56.1817,
          47.8684,
          49.222,
          34.2177,
          35.5256,
          41.4895,
          41.7265,
          42.6705,
          41.5355,
          41.8057,
          51.4537,
          50.6936,
          44.2871,
          50.155,
          57.7303,
          59.9114,
          70.9694,
          64.6683,
          57.3759,
          47.6249,
          46.6326,
          49.066,
          49.4782,
          54.8947,
          50.5796,
          45.3943,
          35.4072,
          30.8057,
          33.2839,
          37.4462,
          41.0973,
          43.4703,
          51.2115,
          52.2994,
          55.2107,
          55.6889,
          52.9621,
          55.6452,
          64.3283,
          74.2968,
          72.5718,
          67.5717,
          59.3589,
          60.9421,
          67.7849,
          62.8371,
          74.6038,
          75.5113,
          76.4209,
          80.544,
          65.4491,
          43.2942,
          38.7757,
          38.9289,
          37.5074,
          49.1026,
          42.8783,
          44.5631,
          52.1813
         ],
         "yaxis": "y2"
        },
        {
         "marker": {
          "color": "blue"
         },
         "name": "Inputs",
         "type": "scatter",
         "x": [
          0,
          1,
          2,
          3,
          4,
          5,
          6,
          7,
          8,
          9,
          10,
          11,
          12,
          13,
          14,
          15,
          16,
          17,
          18,
          19,
          20,
          21,
          22,
          23,
          24,
          25,
          26,
          27,
          28,
          29,
          30,
          31,
          32,
          33,
          34,
          35,
          36,
          37,
          38,
          39,
          40,
          41,
          42,
          43,
          44,
          45,
          46,
          47,
          48,
          49,
          50,
          51,
          52,
          53,
          54,
          55,
          56,
          57,
          58,
          59,
          60,
          61,
          62,
          63,
          64,
          65,
          66,
          67,
          68,
          69,
          70,
          71,
          72,
          73,
          74,
          75,
          76,
          77,
          78,
          79,
          80,
          81,
          82,
          83,
          84,
          85,
          86,
          87,
          88,
          89,
          90,
          91,
          92,
          93,
          94,
          95,
          96,
          97,
          98,
          99,
          100,
          101,
          102,
          103,
          104,
          105,
          106,
          107,
          108,
          109,
          110,
          111,
          112,
          113,
          114,
          115,
          116,
          117,
          118,
          119,
          120,
          121,
          122,
          123,
          124,
          125,
          126,
          127,
          128,
          129,
          130,
          131,
          132,
          133,
          134,
          135,
          136,
          137,
          138,
          139,
          140,
          141,
          142,
          143,
          144,
          145,
          146,
          147,
          148,
          149,
          150,
          151,
          152,
          153,
          154,
          155,
          156,
          157,
          158,
          159,
          160,
          161,
          162,
          163,
          164,
          165,
          166,
          167
         ],
         "xaxis": "x3",
         "y": [
          22.7457,
          27.0136,
          48.9772,
          46.1784,
          31.1206,
          26.9617,
          24.4074,
          23.9217,
          22.5606,
          26.5745,
          29.1985,
          29.915,
          22.3588,
          21.0176,
          17.7344,
          19.5863,
          21.9593,
          18.9198,
          21.7605,
          27.0819,
          29.8437,
          31.4028,
          29.3001,
          28.118,
          28.5901,
          27.4436,
          26.7996,
          25.4657,
          23.9839,
          23.6535,
          24.4704,
          24.892,
          26.3879,
          28.4185,
          31.0684,
          31.2446,
          31.5891,
          33.6923,
          39.5135,
          42.1879,
          40.1137,
          48.4951,
          48.4181,
          49.7343,
          42.5098,
          37.7963,
          38.4848,
          41.5403,
          50.4289,
          46.6077,
          50.8281,
          35.0012,
          18.9807,
          20.1367,
          17.6979,
          14.6845,
          10.1645,
          14.7299,
          15.472,
          14.8635,
          14.56,
          16.1832,
          21.1404,
          23.2575,
          20.5001,
          23.5817,
          24.2523,
          23.6804,
          40.178,
          32.8,
          27.6296,
          24.0589,
          19.8392,
          20.2327,
          21.7752,
          19.1768,
          19.6635,
          22.0235,
          22.7547,
          25.6847,
          26.3811,
          26.1404,
          23.9644,
          30.1321,
          30.8116,
          28.9426,
          30.9813,
          37.8477,
          36.548,
          30.3607,
          27.1469,
          33.2164,
          20.9281,
          14.4585,
          13.5625,
          12.8448,
          11.3689,
          12.6283,
          19.9531,
          23.4299,
          18.966,
          19.2605,
          23.8678,
          34.9033,
          45.544,
          38.4225,
          34.8143,
          32.5526,
          30.3612,
          30.6468,
          34.6947,
          38.1079,
          32.8145,
          29.1789,
          22.2075,
          19.7179,
          14.456,
          10.8346,
          11.4619,
          12.736,
          14.0971,
          13.9035,
          11.9819,
          13.6378,
          15.517,
          21.8097,
          22.1401,
          23.0117,
          26.5725,
          27.5722,
          29.7994,
          28.6594,
          33.3628,
          39.3665,
          45.4702,
          42.4737,
          33.6956,
          24.3749,
          23.3736,
          21.7599,
          20.5946,
          20.8707,
          18.8566,
          20.9425,
          21.2117,
          18.9559,
          16.8595,
          18.7479,
          24.5229,
          32.0843,
          29.6072,
          30.1543,
          29.119,
          32.2426,
          32.6848,
          36.2851,
          36.4208,
          38.9444,
          39.0026,
          36.7074,
          31.0917,
          25.4081,
          21.9952,
          29.2153,
          23.6869,
          17.3226,
          19.3687,
          15.8376
         ],
         "yaxis": "y3"
        },
        {
         "marker": {
          "color": "#2ca02c"
         },
         "mode": "markers",
         "name": "Labels",
         "type": "scatter",
         "x": [
          168,
          169,
          170,
          171,
          172,
          173,
          174,
          175,
          176,
          177,
          178,
          179,
          180,
          181,
          182,
          183,
          184,
          185,
          186,
          187,
          188,
          189,
          190,
          191,
          192,
          193,
          194,
          195,
          196,
          197,
          198,
          199,
          200,
          201,
          202,
          203,
          204,
          205,
          206,
          207,
          208,
          209,
          210,
          211,
          212,
          213,
          214,
          215,
          216,
          217,
          218,
          219,
          220,
          221,
          222,
          223,
          224,
          225,
          226,
          227,
          228,
          229,
          230,
          231,
          232,
          233,
          234,
          235,
          236,
          237,
          238,
          239,
          240,
          241,
          242,
          243,
          244,
          245,
          246,
          247,
          248,
          249,
          250,
          251,
          252,
          253,
          254,
          255,
          256,
          257,
          258,
          259,
          260,
          261,
          262,
          263,
          264,
          265,
          266,
          267,
          268,
          269,
          270,
          271,
          272,
          273,
          274,
          275,
          276,
          277,
          278,
          279,
          280,
          281,
          282,
          283,
          284,
          285,
          286,
          287,
          288,
          289,
          290,
          291,
          292,
          293,
          294,
          295,
          296,
          297,
          298,
          299,
          300,
          301,
          302,
          303,
          304,
          305,
          306,
          307,
          308,
          309,
          310,
          311,
          312,
          313,
          314,
          315,
          316,
          317,
          318,
          319,
          320,
          321,
          322,
          323,
          324,
          325,
          326,
          327,
          328,
          329,
          330,
          331,
          332,
          333,
          334,
          335
         ],
         "xaxis": "x3",
         "y": [
          16.655,
          17.7009,
          19.7176,
          22.005,
          21.5443,
          26.2906,
          23.7413,
          25.5343,
          25.128,
          30.7765,
          38.6347,
          10.9828,
          11.7415,
          9.26271,
          8.2394,
          7.3507,
          9.12731,
          9.70904,
          9.30295,
          22.2913,
          16.803,
          10.6847,
          11.143,
          10.936,
          11.0342,
          11.026,
          10.6921,
          13.9796,
          14.2856,
          15.0581,
          18.2712,
          17.8201,
          13.4172,
          15.2545,
          15.6246,
          18.1512,
          19.8001,
          21.599,
          20.4715,
          18.6828,
          19.1601,
          17.272,
          15.2167,
          17.1845,
          19.8925,
          11.202,
          7.8992,
          9.38352,
          10.9668,
          7.84291,
          5.21076,
          8.4091,
          12.8598,
          8.22092,
          13.3737,
          14.0014,
          13.2971,
          12.695,
          12.4137,
          14.855,
          15.871,
          15.4195,
          12.8926,
          11.6178,
          14.0104,
          18.5733,
          13.9549,
          14.1139,
          11.4293,
          15.0801,
          13.8311,
          12.1965,
          11.7252,
          11.5503,
          12.9345,
          12.8627,
          13.2888,
          15.7734,
          12.2125,
          9.13873,
          8.72945,
          7.84482,
          10.4626,
          13.6671,
          24.7304,
          30.3961,
          29.9737,
          27.4381,
          28.8933,
          30.1244,
          31.3772,
          30.9289,
          28.6342,
          26.1687,
          24.5099,
          21.0967,
          19.7035,
          18.3949,
          17.798,
          16.6759,
          19.7239,
          26.226,
          24.772,
          26.1186,
          26.8344,
          26.6759,
          25.0064,
          25.4578,
          25.8147,
          26.2897,
          26.3822,
          29.5098,
          19.2613,
          18.3677,
          14.7734,
          13.7765,
          13.0838,
          11.0777,
          9.51187,
          7.62618,
          7.19459,
          8.38517,
          10.1239,
          11.4823,
          18.9135,
          24.7222,
          21.2136,
          23.0008,
          22.405,
          19.7005,
          20.5392,
          21.4889,
          26.0091,
          32.4786,
          39.1497,
          33.4933,
          26.6498,
          25.2264,
          18.1197,
          21.0841,
          17.175,
          20.5987,
          20.7606,
          20.3852,
          20.5466,
          17.4939,
          22.2978,
          14.9724,
          16.3219,
          19.4082,
          19.459,
          22.0501,
          23.9572,
          23.8311,
          23.2499,
          22.9315,
          22.7966,
          24.2991,
          23.6777,
          26.1059,
          24.7731,
          13.5853,
          12.3161,
          11.4486,
          10.8765,
          9.53791,
          9.07346,
          7.02544
         ],
         "yaxis": "y3"
        }
       ],
       "layout": {
        "height": 1200,
        "template": {
         "data": {
          "bar": [
           {
            "error_x": {
             "color": "#2a3f5f"
            },
            "error_y": {
             "color": "#2a3f5f"
            },
            "marker": {
             "line": {
              "color": "#E5ECF6",
              "width": 0.5
             },
             "pattern": {
              "fillmode": "overlay",
              "size": 10,
              "solidity": 0.2
             }
            },
            "type": "bar"
           }
          ],
          "barpolar": [
           {
            "marker": {
             "line": {
              "color": "#E5ECF6",
              "width": 0.5
             },
             "pattern": {
              "fillmode": "overlay",
              "size": 10,
              "solidity": 0.2
             }
            },
            "type": "barpolar"
           }
          ],
          "carpet": [
           {
            "aaxis": {
             "endlinecolor": "#2a3f5f",
             "gridcolor": "white",
             "linecolor": "white",
             "minorgridcolor": "white",
             "startlinecolor": "#2a3f5f"
            },
            "baxis": {
             "endlinecolor": "#2a3f5f",
             "gridcolor": "white",
             "linecolor": "white",
             "minorgridcolor": "white",
             "startlinecolor": "#2a3f5f"
            },
            "type": "carpet"
           }
          ],
          "choropleth": [
           {
            "colorbar": {
             "outlinewidth": 0,
             "ticks": ""
            },
            "type": "choropleth"
           }
          ],
          "contour": [
           {
            "colorbar": {
             "outlinewidth": 0,
             "ticks": ""
            },
            "colorscale": [
             [
              0,
              "#0d0887"
             ],
             [
              0.1111111111111111,
              "#46039f"
             ],
             [
              0.2222222222222222,
              "#7201a8"
             ],
             [
              0.3333333333333333,
              "#9c179e"
             ],
             [
              0.4444444444444444,
              "#bd3786"
             ],
             [
              0.5555555555555556,
              "#d8576b"
             ],
             [
              0.6666666666666666,
              "#ed7953"
             ],
             [
              0.7777777777777778,
              "#fb9f3a"
             ],
             [
              0.8888888888888888,
              "#fdca26"
             ],
             [
              1,
              "#f0f921"
             ]
            ],
            "type": "contour"
           }
          ],
          "contourcarpet": [
           {
            "colorbar": {
             "outlinewidth": 0,
             "ticks": ""
            },
            "type": "contourcarpet"
           }
          ],
          "heatmap": [
           {
            "colorbar": {
             "outlinewidth": 0,
             "ticks": ""
            },
            "colorscale": [
             [
              0,
              "#0d0887"
             ],
             [
              0.1111111111111111,
              "#46039f"
             ],
             [
              0.2222222222222222,
              "#7201a8"
             ],
             [
              0.3333333333333333,
              "#9c179e"
             ],
             [
              0.4444444444444444,
              "#bd3786"
             ],
             [
              0.5555555555555556,
              "#d8576b"
             ],
             [
              0.6666666666666666,
              "#ed7953"
             ],
             [
              0.7777777777777778,
              "#fb9f3a"
             ],
             [
              0.8888888888888888,
              "#fdca26"
             ],
             [
              1,
              "#f0f921"
             ]
            ],
            "type": "heatmap"
           }
          ],
          "heatmapgl": [
           {
            "colorbar": {
             "outlinewidth": 0,
             "ticks": ""
            },
            "colorscale": [
             [
              0,
              "#0d0887"
             ],
             [
              0.1111111111111111,
              "#46039f"
             ],
             [
              0.2222222222222222,
              "#7201a8"
             ],
             [
              0.3333333333333333,
              "#9c179e"
             ],
             [
              0.4444444444444444,
              "#bd3786"
             ],
             [
              0.5555555555555556,
              "#d8576b"
             ],
             [
              0.6666666666666666,
              "#ed7953"
             ],
             [
              0.7777777777777778,
              "#fb9f3a"
             ],
             [
              0.8888888888888888,
              "#fdca26"
             ],
             [
              1,
              "#f0f921"
             ]
            ],
            "type": "heatmapgl"
           }
          ],
          "histogram": [
           {
            "marker": {
             "pattern": {
              "fillmode": "overlay",
              "size": 10,
              "solidity": 0.2
             }
            },
            "type": "histogram"
           }
          ],
          "histogram2d": [
           {
            "colorbar": {
             "outlinewidth": 0,
             "ticks": ""
            },
            "colorscale": [
             [
              0,
              "#0d0887"
             ],
             [
              0.1111111111111111,
              "#46039f"
             ],
             [
              0.2222222222222222,
              "#7201a8"
             ],
             [
              0.3333333333333333,
              "#9c179e"
             ],
             [
              0.4444444444444444,
              "#bd3786"
             ],
             [
              0.5555555555555556,
              "#d8576b"
             ],
             [
              0.6666666666666666,
              "#ed7953"
             ],
             [
              0.7777777777777778,
              "#fb9f3a"
             ],
             [
              0.8888888888888888,
              "#fdca26"
             ],
             [
              1,
              "#f0f921"
             ]
            ],
            "type": "histogram2d"
           }
          ],
          "histogram2dcontour": [
           {
            "colorbar": {
             "outlinewidth": 0,
             "ticks": ""
            },
            "colorscale": [
             [
              0,
              "#0d0887"
             ],
             [
              0.1111111111111111,
              "#46039f"
             ],
             [
              0.2222222222222222,
              "#7201a8"
             ],
             [
              0.3333333333333333,
              "#9c179e"
             ],
             [
              0.4444444444444444,
              "#bd3786"
             ],
             [
              0.5555555555555556,
              "#d8576b"
             ],
             [
              0.6666666666666666,
              "#ed7953"
             ],
             [
              0.7777777777777778,
              "#fb9f3a"
             ],
             [
              0.8888888888888888,
              "#fdca26"
             ],
             [
              1,
              "#f0f921"
             ]
            ],
            "type": "histogram2dcontour"
           }
          ],
          "mesh3d": [
           {
            "colorbar": {
             "outlinewidth": 0,
             "ticks": ""
            },
            "type": "mesh3d"
           }
          ],
          "parcoords": [
           {
            "line": {
             "colorbar": {
              "outlinewidth": 0,
              "ticks": ""
             }
            },
            "type": "parcoords"
           }
          ],
          "pie": [
           {
            "automargin": true,
            "type": "pie"
           }
          ],
          "scatter": [
           {
            "fillpattern": {
             "fillmode": "overlay",
             "size": 10,
             "solidity": 0.2
            },
            "type": "scatter"
           }
          ],
          "scatter3d": [
           {
            "line": {
             "colorbar": {
              "outlinewidth": 0,
              "ticks": ""
             }
            },
            "marker": {
             "colorbar": {
              "outlinewidth": 0,
              "ticks": ""
             }
            },
            "type": "scatter3d"
           }
          ],
          "scattercarpet": [
           {
            "marker": {
             "colorbar": {
              "outlinewidth": 0,
              "ticks": ""
             }
            },
            "type": "scattercarpet"
           }
          ],
          "scattergeo": [
           {
            "marker": {
             "colorbar": {
              "outlinewidth": 0,
              "ticks": ""
             }
            },
            "type": "scattergeo"
           }
          ],
          "scattergl": [
           {
            "marker": {
             "colorbar": {
              "outlinewidth": 0,
              "ticks": ""
             }
            },
            "type": "scattergl"
           }
          ],
          "scattermapbox": [
           {
            "marker": {
             "colorbar": {
              "outlinewidth": 0,
              "ticks": ""
             }
            },
            "type": "scattermapbox"
           }
          ],
          "scatterpolar": [
           {
            "marker": {
             "colorbar": {
              "outlinewidth": 0,
              "ticks": ""
             }
            },
            "type": "scatterpolar"
           }
          ],
          "scatterpolargl": [
           {
            "marker": {
             "colorbar": {
              "outlinewidth": 0,
              "ticks": ""
             }
            },
            "type": "scatterpolargl"
           }
          ],
          "scatterternary": [
           {
            "marker": {
             "colorbar": {
              "outlinewidth": 0,
              "ticks": ""
             }
            },
            "type": "scatterternary"
           }
          ],
          "surface": [
           {
            "colorbar": {
             "outlinewidth": 0,
             "ticks": ""
            },
            "colorscale": [
             [
              0,
              "#0d0887"
             ],
             [
              0.1111111111111111,
              "#46039f"
             ],
             [
              0.2222222222222222,
              "#7201a8"
             ],
             [
              0.3333333333333333,
              "#9c179e"
             ],
             [
              0.4444444444444444,
              "#bd3786"
             ],
             [
              0.5555555555555556,
              "#d8576b"
             ],
             [
              0.6666666666666666,
              "#ed7953"
             ],
             [
              0.7777777777777778,
              "#fb9f3a"
             ],
             [
              0.8888888888888888,
              "#fdca26"
             ],
             [
              1,
              "#f0f921"
             ]
            ],
            "type": "surface"
           }
          ],
          "table": [
           {
            "cells": {
             "fill": {
              "color": "#EBF0F8"
             },
             "line": {
              "color": "white"
             }
            },
            "header": {
             "fill": {
              "color": "#C8D4E3"
             },
             "line": {
              "color": "white"
             }
            },
            "type": "table"
           }
          ]
         },
         "layout": {
          "annotationdefaults": {
           "arrowcolor": "#2a3f5f",
           "arrowhead": 0,
           "arrowwidth": 1
          },
          "autotypenumbers": "strict",
          "coloraxis": {
           "colorbar": {
            "outlinewidth": 0,
            "ticks": ""
           }
          },
          "colorscale": {
           "diverging": [
            [
             0,
             "#8e0152"
            ],
            [
             0.1,
             "#c51b7d"
            ],
            [
             0.2,
             "#de77ae"
            ],
            [
             0.3,
             "#f1b6da"
            ],
            [
             0.4,
             "#fde0ef"
            ],
            [
             0.5,
             "#f7f7f7"
            ],
            [
             0.6,
             "#e6f5d0"
            ],
            [
             0.7,
             "#b8e186"
            ],
            [
             0.8,
             "#7fbc41"
            ],
            [
             0.9,
             "#4d9221"
            ],
            [
             1,
             "#276419"
            ]
           ],
           "sequential": [
            [
             0,
             "#0d0887"
            ],
            [
             0.1111111111111111,
             "#46039f"
            ],
            [
             0.2222222222222222,
             "#7201a8"
            ],
            [
             0.3333333333333333,
             "#9c179e"
            ],
            [
             0.4444444444444444,
             "#bd3786"
            ],
            [
             0.5555555555555556,
             "#d8576b"
            ],
            [
             0.6666666666666666,
             "#ed7953"
            ],
            [
             0.7777777777777778,
             "#fb9f3a"
            ],
            [
             0.8888888888888888,
             "#fdca26"
            ],
            [
             1,
             "#f0f921"
            ]
           ],
           "sequentialminus": [
            [
             0,
             "#0d0887"
            ],
            [
             0.1111111111111111,
             "#46039f"
            ],
            [
             0.2222222222222222,
             "#7201a8"
            ],
            [
             0.3333333333333333,
             "#9c179e"
            ],
            [
             0.4444444444444444,
             "#bd3786"
            ],
            [
             0.5555555555555556,
             "#d8576b"
            ],
            [
             0.6666666666666666,
             "#ed7953"
            ],
            [
             0.7777777777777778,
             "#fb9f3a"
            ],
            [
             0.8888888888888888,
             "#fdca26"
            ],
            [
             1,
             "#f0f921"
            ]
           ]
          },
          "colorway": [
           "#636efa",
           "#EF553B",
           "#00cc96",
           "#ab63fa",
           "#FFA15A",
           "#19d3f3",
           "#FF6692",
           "#B6E880",
           "#FF97FF",
           "#FECB52"
          ],
          "font": {
           "color": "#2a3f5f"
          },
          "geo": {
           "bgcolor": "white",
           "lakecolor": "white",
           "landcolor": "#E5ECF6",
           "showlakes": true,
           "showland": true,
           "subunitcolor": "white"
          },
          "hoverlabel": {
           "align": "left"
          },
          "hovermode": "closest",
          "mapbox": {
           "style": "light"
          },
          "paper_bgcolor": "white",
          "plot_bgcolor": "#E5ECF6",
          "polar": {
           "angularaxis": {
            "gridcolor": "white",
            "linecolor": "white",
            "ticks": ""
           },
           "bgcolor": "#E5ECF6",
           "radialaxis": {
            "gridcolor": "white",
            "linecolor": "white",
            "ticks": ""
           }
          },
          "scene": {
           "xaxis": {
            "backgroundcolor": "#E5ECF6",
            "gridcolor": "white",
            "gridwidth": 2,
            "linecolor": "white",
            "showbackground": true,
            "ticks": "",
            "zerolinecolor": "white"
           },
           "yaxis": {
            "backgroundcolor": "#E5ECF6",
            "gridcolor": "white",
            "gridwidth": 2,
            "linecolor": "white",
            "showbackground": true,
            "ticks": "",
            "zerolinecolor": "white"
           },
           "zaxis": {
            "backgroundcolor": "#E5ECF6",
            "gridcolor": "white",
            "gridwidth": 2,
            "linecolor": "white",
            "showbackground": true,
            "ticks": "",
            "zerolinecolor": "white"
           }
          },
          "shapedefaults": {
           "line": {
            "color": "#2a3f5f"
           }
          },
          "ternary": {
           "aaxis": {
            "gridcolor": "white",
            "linecolor": "white",
            "ticks": ""
           },
           "baxis": {
            "gridcolor": "white",
            "linecolor": "white",
            "ticks": ""
           },
           "bgcolor": "#E5ECF6",
           "caxis": {
            "gridcolor": "white",
            "linecolor": "white",
            "ticks": ""
           }
          },
          "title": {
           "x": 0.05
          },
          "xaxis": {
           "automargin": true,
           "gridcolor": "white",
           "linecolor": "white",
           "ticks": "",
           "title": {
            "standoff": 15
           },
           "zerolinecolor": "white",
           "zerolinewidth": 2
          },
          "yaxis": {
           "automargin": true,
           "gridcolor": "white",
           "linecolor": "white",
           "ticks": "",
           "title": {
            "standoff": 15
           },
           "zerolinecolor": "white",
           "zerolinewidth": 2
          }
         }
        },
        "xaxis": {
         "anchor": "y",
         "domain": [
          0,
          1
         ]
        },
        "xaxis2": {
         "anchor": "y2",
         "domain": [
          0,
          1
         ]
        },
        "xaxis3": {
         "anchor": "y3",
         "domain": [
          0,
          1
         ]
        },
        "yaxis": {
         "anchor": "x",
         "domain": [
          0.7333333333333333,
          1
         ]
        },
        "yaxis2": {
         "anchor": "x2",
         "domain": [
          0.36666666666666664,
          0.6333333333333333
         ]
        },
        "yaxis3": {
         "anchor": "x3",
         "domain": [
          0,
          0.26666666666666666
         ]
        }
       }
      }
     },
     "metadata": {},
     "output_type": "display_data"
    }
   ],
   "source": [
    "windowGenerator.example = windows_train[:, :168, :], windows_train[:, 168:, :]\n",
    "windowGenerator.plot()\n"
   ]
  },
  {
   "cell_type": "code",
   "execution_count": 79,
   "metadata": {},
   "outputs": [
    {
     "data": {
      "text/plain": [
       "<tf.Tensor: shape=(168,), dtype=float64, numpy=\n",
       "array([18.6355, 20.2639, 19.4751, 26.1629, 24.5132, 20.1915, 25.3533,\n",
       "       23.8761, 19.4648, 18.556 , 28.0799, 16.2431, 16.8292, 15.2089,\n",
       "       14.7892, 16.213 , 16.563 , 14.9455, 14.3712, 16.2615, 17.7509,\n",
       "       24.4752, 27.2149, 24.5478, 19.9224, 18.5587, 18.2432, 21.8649,\n",
       "       22.4028, 31.5848, 29.3799, 23.772 , 24.8555, 26.6705, 25.9236,\n",
       "       27.0877, 25.3442, 23.3367, 24.2145, 18.4307, 24.9058, 19.2805,\n",
       "       18.0813, 19.8272, 19.6014, 19.4558, 21.0851, 22.9488, 22.6784,\n",
       "       28.3437, 27.5771, 24.1263, 23.1071, 20.5864, 19.4405, 16.3553,\n",
       "       15.7336, 17.528 , 19.0267, 17.523 , 17.0036, 17.7436, 17.1348,\n",
       "       16.381 , 16.3455, 15.091 , 14.372 , 15.8322, 35.143 , 36.463 ,\n",
       "       30.6534, 27.613 , 24.5119, 23.0897, 19.7559, 17.954 , 17.6168,\n",
       "       18.1835, 20.0944, 18.4225, 15.3539, 13.9831, 20.1817, 18.835 ,\n",
       "       18.7097, 16.2817, 17.2944, 20.4355, 16.5748, 16.7156, 16.0445,\n",
       "       16.5648, 15.1894, 13.61  , 13.7222, 13.1932, 15.6036, 15.0754,\n",
       "       14.9113, 15.303 , 14.1694, 17.2408, 14.9303, 16.2476, 17.7829,\n",
       "       15.1478, 16.0488, 16.8656, 16.2017, 13.4889, 14.8581, 16.6729,\n",
       "       16.7488, 18.2139, 18.2546, 18.0521, 17.7002, 19.263 , 19.0787,\n",
       "       18.8454, 18.266 , 18.8842, 17.4596, 17.8833, 19.1412, 20.5335,\n",
       "       20.2315, 22.7359, 18.3475, 16.4643, 14.9683, 14.2548, 14.9183,\n",
       "       15.877 , 15.2051, 15.0202, 18.3014, 15.6305, 13.6584, 17.5373,\n",
       "       14.852 , 16.5716, 15.5175, 16.1903, 17.3676, 17.4091, 14.7738,\n",
       "       13.7295, 13.8104, 14.0673, 17.0665, 21.1803, 21.0004, 21.7179,\n",
       "       19.7991, 18.7205, 23.8443, 31.5744, 25.5157, 19.1596, 17.4339,\n",
       "       14.4857, 16.6977, 14.1026, 13.3762, 14.8677, 14.001 , 14.62  ])>"
      ]
     },
     "execution_count": 79,
     "metadata": {},
     "output_type": "execute_result"
    }
   ],
   "source": [
    "windowGenerator.example[1][0, :, 4]\n"
   ]
  },
  {
   "attachments": {},
   "cell_type": "markdown",
   "metadata": {},
   "source": [
    "Database erstellen\n"
   ]
  },
  {
   "attachments": {},
   "cell_type": "markdown",
   "metadata": {},
   "source": [
    "Multi-step model\n"
   ]
  },
  {
   "cell_type": "code",
   "execution_count": 29,
   "metadata": {},
   "outputs": [
    {
     "ename": "NameError",
     "evalue": "name 'example_inputs' is not defined",
     "output_type": "error",
     "traceback": [
      "\u001b[0;31m---------------------------------------------------------------------------\u001b[0m",
      "\u001b[0;31mNameError\u001b[0m                                 Traceback (most recent call last)",
      "\u001b[1;32m/Users/tobias/Documents/Studium/Master/Data Mining/feinstaubprojekt-polen/src/model/tensorflowTesting.ipynb Cell 32\u001b[0m in \u001b[0;36m4\n\u001b[1;32m      <a href='vscode-notebook-cell:/Users/tobias/Documents/Studium/Master/Data%20Mining/feinstaubprojekt-polen/src/model/tensorflowTesting.ipynb#X42sZmlsZQ%3D%3D?line=1'>2</a>\u001b[0m OUT_STEPS \u001b[39m=\u001b[39m \u001b[39m24\u001b[39m\n\u001b[1;32m      <a href='vscode-notebook-cell:/Users/tobias/Documents/Studium/Master/Data%20Mining/feinstaubprojekt-polen/src/model/tensorflowTesting.ipynb#X42sZmlsZQ%3D%3D?line=2'>3</a>\u001b[0m multi_window \u001b[39m=\u001b[39m WindowGenerator(input_width\u001b[39m=\u001b[39m\u001b[39m24\u001b[39m, label_width\u001b[39m=\u001b[39mOUT_STEPS, shift\u001b[39m=\u001b[39mOUT_STEPS)\n\u001b[0;32m----> <a href='vscode-notebook-cell:/Users/tobias/Documents/Studium/Master/Data%20Mining/feinstaubprojekt-polen/src/model/tensorflowTesting.ipynb#X42sZmlsZQ%3D%3D?line=3'>4</a>\u001b[0m multi_window\u001b[39m.\u001b[39mexample \u001b[39m=\u001b[39m example_inputs, example_labels\n\u001b[1;32m      <a href='vscode-notebook-cell:/Users/tobias/Documents/Studium/Master/Data%20Mining/feinstaubprojekt-polen/src/model/tensorflowTesting.ipynb#X42sZmlsZQ%3D%3D?line=4'>5</a>\u001b[0m multi_window\u001b[39m.\u001b[39mplot()\n\u001b[1;32m      <a href='vscode-notebook-cell:/Users/tobias/Documents/Studium/Master/Data%20Mining/feinstaubprojekt-polen/src/model/tensorflowTesting.ipynb#X42sZmlsZQ%3D%3D?line=5'>6</a>\u001b[0m multi_window\n",
      "\u001b[0;31mNameError\u001b[0m: name 'example_inputs' is not defined"
     ]
    }
   ],
   "source": [
    "## 24 Stunden Vorhersage mit 24 Stunden Historie\n",
    "OUT_STEPS = 24\n",
    "multi_window = WindowGenerator(input_width=24, label_width=OUT_STEPS, shift=OUT_STEPS)\n",
    "multi_window.example = example_inputs, example_labels\n",
    "multi_window.plot()\n",
    "multi_window\n"
   ]
  },
  {
   "attachments": {},
   "cell_type": "markdown",
   "metadata": {},
   "source": [
    "Definition of the model (Simple single shot network)\n"
   ]
  },
  {
   "cell_type": "code",
   "execution_count": null,
   "metadata": {},
   "outputs": [],
   "source": [
    "model = tf.keras.models.Sequential()\n",
    "model.add(tf.keras.layers.LSTM(32, return_sequences=False))\n",
    "model.add(tf.keras.layers.Dense(OUT_STEPS * num_features, kernel_initializer=tf.initializers.zeros()))\n",
    "model.add(tf.keras.layers.Reshape([OUT_STEPS, num_features]))\n"
   ]
  },
  {
   "cell_type": "code",
   "execution_count": null,
   "metadata": {},
   "outputs": [],
   "source": [
    "CONV_WIDTH = 3\n",
    "OUT_STEPS = 24 * 14  # 14 days prediction\n",
    "num_features = 1  # TODO: ??? num_features is 11 but must be one for our prediction\n",
    "\n",
    "cnn_lstm_model = tf.keras.models.Sequential()\n",
    "# Shape [batch, time, features] => [batch, CONV_WIDTH, features]\n",
    "cnn_lstm_model.add(tf.keras.layers.Lambda(lambda x: x[:, -CONV_WIDTH:, :]))\n",
    "# Shape => [batch, 1, conv_units]\n",
    "cnn_lstm_model.add(tf.keras.layers.Conv1D(256, activation=\"relu\", kernel_size=(CONV_WIDTH)))\n",
    "cnn_lstm_model.add(tf.keras.layers.MaxPooling1D())\n",
    "cnn_lstm_model.add(tf.keras.layers.BatchNormalization())  # TODO: useful to put it here?\n",
    "cnn_lstm_model.add(tf.keras.layers.Conv1D(512, activation=\"relu\", kernel_size=(CONV_WIDTH)))\n",
    "cnn_lstm_model.add(tf.keras.layers.MaxPooling1D())\n",
    "cnn_lstm_model.add(tf.keras.layers.BatchNormalization())  # TODO: useful to put it here?\n",
    "cnn_lstm_model.add(tf.keras.layers.Conv1D(512, activation=\"relu\", kernel_size=(CONV_WIDTH)))\n",
    "\n",
    "cnn_lstm_model.add(tf.keras.layers.Flatten())\n",
    "# LSTM\n",
    "model.add(tf.keras.layers.LSTM(32, return_sequences=False))\n",
    "model.add(tf.keras.layers.LSTM(32, return_sequences=False))\n",
    "\n",
    "cnn_lstm_model.add(tf.keras.layers.Dense(512))\n",
    "cnn_lstm_model.add(tf.keras.layers.Dropout(0.2))\n",
    "cnn_lstm_model.add(tf.keras.layers.Dense(OUT_STEPS * num_features, kernel_initializer=tf.initializers.zeros()))\n",
    "# Shape => [batch, out_steps, features] -> for each prediction step one neuron\n",
    "cnn_lstm_model.add(tf.keras.layers.Reshape([OUT_STEPS, num_features]))\n"
   ]
  },
  {
   "attachments": {},
   "cell_type": "markdown",
   "metadata": {},
   "source": [
    "Compile Method\n"
   ]
  },
  {
   "cell_type": "code",
   "execution_count": 31,
   "metadata": {},
   "outputs": [],
   "source": [
    "MAX_EPOCHS = 50\n",
    "PATIENCE = 10  # for early-stopping; number of epochs where the val_loss must decrease -> otherwise training is stopped\n",
    "\n",
    "log_dir = \"logs/fit/\" + datetime.datetime.now().strftime(\"%Y%m%d-%H%M%S\")  # for tensorboard\n",
    "\n",
    "\n",
    "def compile_fit(model, window, patience=PATIENCE):\n",
    "    early_stopping = tf.keras.callbacks.EarlyStopping(monitor=\"val_loss\", patience=patience, mode=\"min\")\n",
    "    tensorboard_callback = tf.keras.callbacks.TensorBoard(log_dir=log_dir, histogram_freq=1)\n",
    "\n",
    "    model.compile(\n",
    "        loss=tf.keras.losses.MeanSquaredError(), optimizer=\"Adam\", metrics=[tf.keras.metrics.MeanAbsoluteError()]\n",
    "    )\n",
    "\n",
    "    return model.fit(\n",
    "        window.train, epochs=MAX_EPOCHS, validation_data=window.val, callbacks=[early_stopping, tensorboard_callback]\n",
    "    )\n"
   ]
  }
 ],
 "metadata": {
  "kernelspec": {
   "display_name": "base",
   "language": "python",
   "name": "python3"
  },
  "language_info": {
   "codemirror_mode": {
    "name": "ipython",
    "version": 3
   },
   "file_extension": ".py",
   "mimetype": "text/x-python",
   "name": "python",
   "nbconvert_exporter": "python",
   "pygments_lexer": "ipython3",
   "version": "3.9.12"
  },
  "orig_nbformat": 4
 },
 "nbformat": 4,
 "nbformat_minor": 2
}
